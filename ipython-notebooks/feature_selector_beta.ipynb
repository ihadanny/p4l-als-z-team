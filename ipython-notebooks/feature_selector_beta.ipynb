{
 "cells": [
  {
   "cell_type": "code",
   "execution_count": 1,
   "metadata": {
    "collapsed": true
   },
   "outputs": [],
   "source": [
    "# Used for selecting the 6 best features per cluster. \n",
    "# Assumes data is vectorized + clustered.\n",
    "# We're using simple f_regression score of each variable vs. the ALSFRS_score, and take the best 6. "
   ]
  },
  {
   "cell_type": "code",
   "execution_count": 2,
   "metadata": {
    "collapsed": false
   },
   "outputs": [],
   "source": [
    "%matplotlib inline\n",
    "\n",
    "import pandas as pd\n",
    "import numpy as np\n",
    "import vectorizer_beta\n",
    "from sklearn.feature_selection import SelectKBest\n",
    "from sklearn.feature_selection import f_regression\n",
    "from sklearn import linear_model\n"
   ]
  },
  {
   "cell_type": "code",
   "execution_count": 33,
   "metadata": {
    "collapsed": false
   },
   "outputs": [
    {
     "name": "stdout",
     "output_type": "stream",
     "text": [
      "(1138647, 6) (1777, 2) (213, 2)\n"
     ]
    },
    {
     "data": {
      "text/html": [
       "<div>\n",
       "<table border=\"1\" class=\"dataframe\">\n",
       "  <thead>\n",
       "    <tr style=\"text-align: right;\">\n",
       "      <th></th>\n",
       "      <th>SubjectID</th>\n",
       "      <th>cluster</th>\n",
       "      <th>form_name</th>\n",
       "      <th>feature_name</th>\n",
       "      <th>feature_value</th>\n",
       "      <th>feature_unit</th>\n",
       "      <th>feature_delta</th>\n",
       "    </tr>\n",
       "  </thead>\n",
       "  <tbody>\n",
       "    <tr>\n",
       "      <th>0</th>\n",
       "      <td>103126</td>\n",
       "      <td>0</td>\n",
       "      <td>Demographic</td>\n",
       "      <td>Gender</td>\n",
       "      <td>M</td>\n",
       "      <td>NaN</td>\n",
       "      <td>0.0</td>\n",
       "    </tr>\n",
       "    <tr>\n",
       "      <th>1</th>\n",
       "      <td>103126</td>\n",
       "      <td>0</td>\n",
       "      <td>Demographic</td>\n",
       "      <td>Age</td>\n",
       "      <td>26</td>\n",
       "      <td>NaN</td>\n",
       "      <td>0.0</td>\n",
       "    </tr>\n",
       "    <tr>\n",
       "      <th>2</th>\n",
       "      <td>103126</td>\n",
       "      <td>0</td>\n",
       "      <td>Demographic</td>\n",
       "      <td>Race</td>\n",
       "      <td>Unknown</td>\n",
       "      <td>NaN</td>\n",
       "      <td>0.0</td>\n",
       "    </tr>\n",
       "    <tr>\n",
       "      <th>3</th>\n",
       "      <td>103126</td>\n",
       "      <td>0</td>\n",
       "      <td>ALSHX</td>\n",
       "      <td>onset_delta</td>\n",
       "      <td>-770</td>\n",
       "      <td>NaN</td>\n",
       "      <td>0.0</td>\n",
       "    </tr>\n",
       "    <tr>\n",
       "      <th>4</th>\n",
       "      <td>103126</td>\n",
       "      <td>0</td>\n",
       "      <td>ALSHX</td>\n",
       "      <td>diag_delta</td>\n",
       "      <td>-527</td>\n",
       "      <td>NaN</td>\n",
       "      <td>0.0</td>\n",
       "    </tr>\n",
       "  </tbody>\n",
       "</table>\n",
       "</div>"
      ],
      "text/plain": [
       "   SubjectID  cluster    form_name feature_name feature_value feature_unit  \\\n",
       "0     103126        0  Demographic       Gender             M          NaN   \n",
       "1     103126        0  Demographic          Age            26          NaN   \n",
       "2     103126        0  Demographic         Race       Unknown          NaN   \n",
       "3     103126        0        ALSHX  onset_delta          -770          NaN   \n",
       "4     103126        0        ALSHX   diag_delta          -527          NaN   \n",
       "\n",
       "  feature_delta  \n",
       "0           0.0  \n",
       "1           0.0  \n",
       "2           0.0  \n",
       "3           0.0  \n",
       "4           0.0  "
      ]
     },
     "execution_count": 33,
     "metadata": {},
     "output_type": "execute_result"
    }
   ],
   "source": [
    "proact_data = pd.read_csv('../train_data.csv', sep = '|', index_col=False)\n",
    "slope = pd.read_csv('../train_slope.csv', sep = '|', index_col=False)\n",
    "clusters = pd.read_csv('../train_kmeans_clusters.csv', sep = '|', index_col=False)\n",
    "print proact_data.shape, slope.shape, clusters.shape\n",
    "X = pd.merge(clusters, proact_data, on = \"SubjectID\")\n",
    "Y = pd.merge(X, slope, on = \"SubjectID\")\n",
    "\n",
    "X.head()"
   ]
  },
  {
   "cell_type": "code",
   "execution_count": 28,
   "metadata": {
    "collapsed": false
   },
   "outputs": [
    {
     "name": "stdout",
     "output_type": "stream",
     "text": [
      "{'weight': <function timeseries_feature_slope_reduced at 0x000000000C4579E8>, 'temperature': <function timeseries_feature_slope_reduced at 0x000000000C4579E8>, 'bp_systolic': <function timeseries_feature_slope_reduced at 0x000000000C4579E8>, 'Gender': <function scalar_feature_to_dummies at 0x000000000C419BA8>, 'BMI': <function timeseries_feature_last_value at 0x000000000C457198>, 'respiratory_rate': <function timeseries_feature_slope_reduced at 0x000000000C4579E8>, 'pulse': <function timeseries_feature_slope_reduced at 0x000000000C4579E8>, 'bp_diastolic': <function timeseries_feature_slope_reduced at 0x000000000C4579E8>, 'Race': <function scalar_feature_to_dummies at 0x000000000C419BA8>, 'height': <function timeseries_feature_last_value at 0x000000000C457198>}\n"
     ]
    }
   ],
   "source": [
    "from vectorizer_beta import * \n",
    "print func_per_feature"
   ]
  },
  {
   "cell_type": "code",
   "execution_count": 32,
   "metadata": {
    "collapsed": false
   },
   "outputs": [
    {
     "ename": "ValueError",
     "evalue": "Found arrays with inconsistent numbers of samples: [  200 60053]",
     "output_type": "error",
     "traceback": [
      "\u001b[1;31m---------------------------------------------------------------------------\u001b[0m",
      "\u001b[1;31mValueError\u001b[0m                                Traceback (most recent call last)",
      "\u001b[1;32m<ipython-input-32-69325ded30a4>\u001b[0m in \u001b[0;36m<module>\u001b[1;34m()\u001b[0m\n\u001b[0;32m      9\u001b[0m         \u001b[0mseg_X_fam\u001b[0m \u001b[1;33m=\u001b[0m \u001b[0mseg_X_fam\u001b[0m\u001b[1;33m.\u001b[0m\u001b[0mfillna\u001b[0m\u001b[1;33m(\u001b[0m\u001b[0mseg_X_fam\u001b[0m\u001b[1;33m.\u001b[0m\u001b[0mmean\u001b[0m\u001b[1;33m(\u001b[0m\u001b[1;33m)\u001b[0m\u001b[1;33m)\u001b[0m\u001b[1;33m\u001b[0m\u001b[0m\n\u001b[0;32m     10\u001b[0m         \u001b[0mregr\u001b[0m \u001b[1;33m=\u001b[0m \u001b[0mlinear_model\u001b[0m\u001b[1;33m.\u001b[0m\u001b[0mLinearRegression\u001b[0m\u001b[1;33m(\u001b[0m\u001b[1;33m)\u001b[0m\u001b[1;33m\u001b[0m\u001b[0m\n\u001b[1;32m---> 11\u001b[1;33m         \u001b[0mregr\u001b[0m\u001b[1;33m.\u001b[0m\u001b[0mfit\u001b[0m\u001b[1;33m(\u001b[0m\u001b[0mseg_X_fam\u001b[0m\u001b[1;33m,\u001b[0m \u001b[0mseg_Y\u001b[0m\u001b[1;33m[\u001b[0m\u001b[1;34m'ALSFRS_slope'\u001b[0m\u001b[1;33m]\u001b[0m\u001b[1;33m)\u001b[0m\u001b[1;33m\u001b[0m\u001b[0m\n\u001b[0m\u001b[0;32m     12\u001b[0m         \u001b[0mscore_per_family\u001b[0m\u001b[1;33m[\u001b[0m\u001b[0mfamily\u001b[0m\u001b[1;33m]\u001b[0m \u001b[1;33m=\u001b[0m \u001b[0mnp\u001b[0m\u001b[1;33m.\u001b[0m\u001b[0mmean\u001b[0m\u001b[1;33m(\u001b[0m\u001b[1;33m(\u001b[0m\u001b[0mregr\u001b[0m\u001b[1;33m.\u001b[0m\u001b[0mpredict\u001b[0m\u001b[1;33m(\u001b[0m\u001b[0mseg_X_fam\u001b[0m\u001b[1;33m)\u001b[0m \u001b[1;33m-\u001b[0m \u001b[0mseg_Y\u001b[0m\u001b[1;33m[\u001b[0m\u001b[1;34m'ALSFRS_slope'\u001b[0m\u001b[1;33m]\u001b[0m\u001b[1;33m)\u001b[0m \u001b[1;33m**\u001b[0m \u001b[1;36m2\u001b[0m\u001b[1;33m)\u001b[0m\u001b[1;33m\u001b[0m\u001b[0m\n\u001b[0;32m     13\u001b[0m     \u001b[1;32mprint\u001b[0m \u001b[0mc\u001b[0m\u001b[1;33m,\u001b[0m \u001b[0mscore_per_family\u001b[0m\u001b[1;33m\u001b[0m\u001b[0m\n",
      "\u001b[1;32mC:\\Anaconda\\lib\\site-packages\\sklearn\\linear_model\\base.pyc\u001b[0m in \u001b[0;36mfit\u001b[1;34m(self, X, y, n_jobs)\u001b[0m\n\u001b[0;32m    374\u001b[0m             \u001b[0mn_jobs_\u001b[0m \u001b[1;33m=\u001b[0m \u001b[0mself\u001b[0m\u001b[1;33m.\u001b[0m\u001b[0mn_jobs\u001b[0m\u001b[1;33m\u001b[0m\u001b[0m\n\u001b[0;32m    375\u001b[0m         X, y = check_X_y(X, y, accept_sparse=['csr', 'csc', 'coo'],\n\u001b[1;32m--> 376\u001b[1;33m                          y_numeric=True, multi_output=True)\n\u001b[0m\u001b[0;32m    377\u001b[0m \u001b[1;33m\u001b[0m\u001b[0m\n\u001b[0;32m    378\u001b[0m         X, y, X_mean, y_mean, X_std = self._center_data(\n",
      "\u001b[1;32mC:\\Anaconda\\lib\\site-packages\\sklearn\\utils\\validation.pyc\u001b[0m in \u001b[0;36mcheck_X_y\u001b[1;34m(X, y, accept_sparse, dtype, order, copy, force_all_finite, ensure_2d, allow_nd, multi_output, ensure_min_samples, ensure_min_features, y_numeric)\u001b[0m\n\u001b[0;32m    452\u001b[0m         \u001b[0my\u001b[0m \u001b[1;33m=\u001b[0m \u001b[0my\u001b[0m\u001b[1;33m.\u001b[0m\u001b[0mastype\u001b[0m\u001b[1;33m(\u001b[0m\u001b[0mnp\u001b[0m\u001b[1;33m.\u001b[0m\u001b[0mfloat64\u001b[0m\u001b[1;33m)\u001b[0m\u001b[1;33m\u001b[0m\u001b[0m\n\u001b[0;32m    453\u001b[0m \u001b[1;33m\u001b[0m\u001b[0m\n\u001b[1;32m--> 454\u001b[1;33m     \u001b[0mcheck_consistent_length\u001b[0m\u001b[1;33m(\u001b[0m\u001b[0mX\u001b[0m\u001b[1;33m,\u001b[0m \u001b[0my\u001b[0m\u001b[1;33m)\u001b[0m\u001b[1;33m\u001b[0m\u001b[0m\n\u001b[0m\u001b[0;32m    455\u001b[0m \u001b[1;33m\u001b[0m\u001b[0m\n\u001b[0;32m    456\u001b[0m     \u001b[1;32mreturn\u001b[0m \u001b[0mX\u001b[0m\u001b[1;33m,\u001b[0m \u001b[0my\u001b[0m\u001b[1;33m\u001b[0m\u001b[0m\n",
      "\u001b[1;32mC:\\Anaconda\\lib\\site-packages\\sklearn\\utils\\validation.pyc\u001b[0m in \u001b[0;36mcheck_consistent_length\u001b[1;34m(*arrays)\u001b[0m\n\u001b[0;32m    172\u001b[0m     \u001b[1;32mif\u001b[0m \u001b[0mlen\u001b[0m\u001b[1;33m(\u001b[0m\u001b[0muniques\u001b[0m\u001b[1;33m)\u001b[0m \u001b[1;33m>\u001b[0m \u001b[1;36m1\u001b[0m\u001b[1;33m:\u001b[0m\u001b[1;33m\u001b[0m\u001b[0m\n\u001b[0;32m    173\u001b[0m         raise ValueError(\"Found arrays with inconsistent numbers of samples: \"\n\u001b[1;32m--> 174\u001b[1;33m                          \"%s\" % str(uniques))\n\u001b[0m\u001b[0;32m    175\u001b[0m \u001b[1;33m\u001b[0m\u001b[0m\n\u001b[0;32m    176\u001b[0m \u001b[1;33m\u001b[0m\u001b[0m\n",
      "\u001b[1;31mValueError\u001b[0m: Found arrays with inconsistent numbers of samples: [  200 60053]"
     ]
    }
   ],
   "source": [
    "import vectorizer_beta\n",
    "selector_per_cluster = {}\n",
    "\n",
    "for c in clusters['cluster'].unique():\n",
    "    seg_X, seg_Y = X[X['cluster'] == c], Y[Y['cluster'] == c]\n",
    "    score_per_feature = {}\n",
    "    for feature_name, func in func_per_feature.iteritems():\n",
    "        seg_X_fam = func_per_feature[feature_name](seg_X, feature_name)\n",
    "        seg_X_fam = seg_X_fam.fillna(seg_X_fam.mean())\n",
    "        regr = linear_model.LinearRegression()\n",
    "        regr.fit(seg_X_fam, seg_Y['ALSFRS_slope'])\n",
    "        score_per_family[family] = np.mean((regr.predict(seg_X_fam) - seg_Y['ALSFRS_slope']) ** 2)\n",
    "    print c, score_per_family"
   ]
  },
  {
   "cell_type": "code",
   "execution_count": 5,
   "metadata": {
    "collapsed": false
   },
   "outputs": [],
   "source": [
    "def calc(x):\n",
    "    selector = selector_per_cluster[x['cluster']]\n",
    "    d = {\"feature_ \" + str(i): v for i, v in enumerate(selector.transform(x)[0])}\n",
    "    d['features_list'] = ';'.join(cur_X.columns[selector.get_support()])\n",
    "    d['cluster'] = int(x['cluster'])\n",
    "    return pd.Series(d)\n",
    "\n",
    "for t in ['train', 'test']:\n",
    "    cur_data = pd.read_csv('../' + t + '_data_vectorized.csv', sep = '|', index_col='SubjectID')\n",
    "    cur_clusters = pd.read_csv('../' + t + '_kmeans_clusters.csv', sep = '|', index_col='SubjectID')\n",
    "    cur_X = pd.merge(cur_data, cur_clusters, left_index = True, right_index = True)\n",
    "    res = cur_X.apply(calc, axis = 1)\n",
    "    res.to_csv('../' + t + '_selected_features.csv',sep='|')\n",
    "    "
   ]
  },
  {
   "cell_type": "code",
   "execution_count": null,
   "metadata": {
    "collapsed": true
   },
   "outputs": [],
   "source": []
  }
 ],
 "metadata": {
  "kernelspec": {
   "display_name": "Python 2",
   "language": "python",
   "name": "python2"
  },
  "language_info": {
   "codemirror_mode": {
    "name": "ipython",
    "version": 2
   },
   "file_extension": ".py",
   "mimetype": "text/x-python",
   "name": "python",
   "nbconvert_exporter": "python",
   "pygments_lexer": "ipython2",
   "version": "2.7.10"
  }
 },
 "nbformat": 4,
 "nbformat_minor": 0
}
