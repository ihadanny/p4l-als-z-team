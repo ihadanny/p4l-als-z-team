{
 "cells": [
  {
   "cell_type": "code",
   "execution_count": 7,
   "metadata": {
    "collapsed": true
   },
   "outputs": [],
   "source": [
    "# Used for selecting the 6 best features per cluster. \n",
    "# We're using mean squared error of each variable vs. the ALSFRS_score, and take the best 6. "
   ]
  },
  {
   "cell_type": "code",
   "execution_count": 8,
   "metadata": {
    "collapsed": false
   },
   "outputs": [],
   "source": [
    "%matplotlib inline\n",
    "\n",
    "import pandas as pd\n",
    "import numpy as np\n",
    "import vectorizer_beta\n",
    "from sklearn import linear_model"
   ]
  },
  {
   "cell_type": "code",
   "execution_count": 9,
   "metadata": {
    "collapsed": false
   },
   "outputs": [
    {
     "name": "stdout",
     "output_type": "stream",
     "text": [
      "(1777, 3) (1138647, 7) (1777, 2)\n"
     ]
    },
    {
     "data": {
      "text/html": [
       "<div>\n",
       "<table border=\"1\" class=\"dataframe\">\n",
       "  <thead>\n",
       "    <tr style=\"text-align: right;\">\n",
       "      <th></th>\n",
       "      <th>SubjectID</th>\n",
       "      <th>cluster</th>\n",
       "      <th>form_name</th>\n",
       "      <th>feature_name</th>\n",
       "      <th>feature_value</th>\n",
       "      <th>feature_unit</th>\n",
       "      <th>feature_delta</th>\n",
       "    </tr>\n",
       "  </thead>\n",
       "  <tbody>\n",
       "    <tr>\n",
       "      <th>0</th>\n",
       "      <td>533</td>\n",
       "      <td>1</td>\n",
       "      <td>Demographic</td>\n",
       "      <td>Gender</td>\n",
       "      <td>F</td>\n",
       "      <td>NaN</td>\n",
       "      <td>0.0</td>\n",
       "    </tr>\n",
       "    <tr>\n",
       "      <th>1</th>\n",
       "      <td>533</td>\n",
       "      <td>1</td>\n",
       "      <td>Demographic</td>\n",
       "      <td>Age</td>\n",
       "      <td>65</td>\n",
       "      <td>NaN</td>\n",
       "      <td>0.0</td>\n",
       "    </tr>\n",
       "    <tr>\n",
       "      <th>2</th>\n",
       "      <td>533</td>\n",
       "      <td>1</td>\n",
       "      <td>Demographic</td>\n",
       "      <td>Race</td>\n",
       "      <td>White</td>\n",
       "      <td>NaN</td>\n",
       "      <td>0.0</td>\n",
       "    </tr>\n",
       "    <tr>\n",
       "      <th>3</th>\n",
       "      <td>533</td>\n",
       "      <td>1</td>\n",
       "      <td>ALSHX</td>\n",
       "      <td>onset_delta</td>\n",
       "      <td>-1023</td>\n",
       "      <td>NaN</td>\n",
       "      <td>0.0</td>\n",
       "    </tr>\n",
       "    <tr>\n",
       "      <th>4</th>\n",
       "      <td>533</td>\n",
       "      <td>1</td>\n",
       "      <td>ALSHX</td>\n",
       "      <td>diag_delta</td>\n",
       "      <td>-44</td>\n",
       "      <td>NaN</td>\n",
       "      <td>0.0</td>\n",
       "    </tr>\n",
       "  </tbody>\n",
       "</table>\n",
       "</div>"
      ],
      "text/plain": [
       "   SubjectID  cluster    form_name feature_name feature_value feature_unit  \\\n",
       "0        533        1  Demographic       Gender             F          NaN   \n",
       "1        533        1  Demographic          Age            65          NaN   \n",
       "2        533        1  Demographic         Race         White          NaN   \n",
       "3        533        1        ALSHX  onset_delta         -1023          NaN   \n",
       "4        533        1        ALSHX   diag_delta           -44          NaN   \n",
       "\n",
       "  feature_delta  \n",
       "0           0.0  \n",
       "1           0.0  \n",
       "2           0.0  \n",
       "3           0.0  \n",
       "4           0.0  "
      ]
     },
     "execution_count": 9,
     "metadata": {},
     "output_type": "execute_result"
    }
   ],
   "source": [
    "proact_data = pd.read_csv('../train_data.csv', sep = '|', index_col=False)\n",
    "slope = pd.read_csv('../train_slope.csv', sep = '|', index_col=False)\n",
    "clusters = pd.read_csv('../train_kmeans_clusters.csv', sep = '|', index_col=False)\n",
    "X = pd.merge(clusters, proact_data, on = \"SubjectID\")\n",
    "Y = pd.merge(clusters, slope, on = \"SubjectID\")\n",
    "print Y.shape, X.shape, clusters.shape\n",
    "X.head()"
   ]
  },
  {
   "cell_type": "code",
   "execution_count": 11,
   "metadata": {
    "collapsed": false
   },
   "outputs": [
    {
     "name": "stdout",
     "output_type": "stream",
     "text": [
      "1 {'temperature': 0.3845418955600234, 'bp_systolic': 0.38509927855070814, 'Gender': 0.3850766884486517, 'BMI': 0.3851839536533719, 'respiratory_rate': 0.3838858018882788, 'weight': 0.38225320629934706, 'bp_diastolic': 0.38433298606781463, 'Race': 0.3845406072167956, 'pulse': 0.38341813333131586, 'height': 0.385095625022134}\n",
      "0 {'temperature': 0.4927732103602252, 'bp_systolic': 0.4734700221636955, 'Gender': 0.5018484286161546, 'BMI': 0.4979560772498027, 'respiratory_rate': 0.4989394493864685, 'weight': 0.4847309042983656, 'bp_diastolic': 0.4964759339194421, 'Race': 0.5028043041938676, 'pulse': 0.4788657280383959, 'height': 0.49402871258917425}\n",
      "2 {'temperature': 0.09498297073102396, 'bp_systolic': 0.05005047157357084, 'Gender': 0.0676956102366475, 'BMI': 0.03177325441433329, 'respiratory_rate': 0.06799568367792125, 'weight': 0.06434255332019974, 'bp_diastolic': 0.04698032867012381, 'Race': 0.08727686060330674, 'pulse': 0.0564198763696585, 'height': 0.008560059758735887}\n"
     ]
    },
    {
     "data": {
      "text/plain": [
       "{0: ['bp_systolic',\n",
       "  'pulse',\n",
       "  'weight',\n",
       "  'temperature',\n",
       "  'height',\n",
       "  'bp_diastolic'],\n",
       " 1: ['weight',\n",
       "  'pulse',\n",
       "  'respiratory_rate',\n",
       "  'bp_diastolic',\n",
       "  'Race',\n",
       "  'temperature'],\n",
       " 2: ['height', 'BMI', 'bp_diastolic', 'bp_systolic', 'pulse', 'weight']}"
      ]
     },
     "execution_count": 11,
     "metadata": {},
     "output_type": "execute_result"
    }
   ],
   "source": [
    "from vectorizer_beta import * \n",
    "best_features_per_cluster = {}\n",
    "\n",
    "for c in clusters['cluster'].unique():\n",
    "    seg_X, seg_Y = X[X['cluster'] == c], Y[Y['cluster'] == c]\n",
    "    score_per_feature = {}\n",
    "    for feature_name, func in func_per_feature.iteritems():\n",
    "        seg_X_fam = func_per_feature[feature_name](seg_X, feature_name)\n",
    "        seg_Y_fam = pd.merge(seg_Y, seg_X_fam, left_on = 'SubjectID', right_index = True, how='left')\n",
    "        seg_Y_fam = seg_Y_fam.fillna(seg_Y_fam.mean())\n",
    "        regr = linear_model.LinearRegression()\n",
    "        seg_X_fam = seg_Y_fam.drop('ALSFRS_slope', 1)\n",
    "        regr.fit(seg_X_fam, seg_Y_fam['ALSFRS_slope'])\n",
    "        score_per_feature[feature_name] = np.mean((regr.predict(seg_X_fam) - seg_Y_fam['ALSFRS_slope']) ** 2)\n",
    "    print c, score_per_feature\n",
    "    best_features_per_cluster[c] = sorted(score_per_feature, key=score_per_feature.get)[:6]\n",
    "best_features_per_cluster"
   ]
  },
  {
   "cell_type": "code",
   "execution_count": 12,
   "metadata": {
    "collapsed": false
   },
   "outputs": [],
   "source": [
    "import pickle \n",
    "with open(\"best_features_per_cluster.pickle\", \"wb\") as output_file:\n",
    "    pickle.dump(best_features_per_cluster, output_file)\n"
   ]
  },
  {
   "cell_type": "code",
   "execution_count": null,
   "metadata": {
    "collapsed": true
   },
   "outputs": [],
   "source": []
  }
 ],
 "metadata": {
  "kernelspec": {
   "display_name": "Python 2",
   "language": "python",
   "name": "python2"
  },
  "language_info": {
   "codemirror_mode": {
    "name": "ipython",
    "version": 2
   },
   "file_extension": ".py",
   "mimetype": "text/x-python",
   "name": "python",
   "nbconvert_exporter": "python",
   "pygments_lexer": "ipython2",
   "version": "2.7.10"
  }
 },
 "nbformat": 4,
 "nbformat_minor": 0
}
