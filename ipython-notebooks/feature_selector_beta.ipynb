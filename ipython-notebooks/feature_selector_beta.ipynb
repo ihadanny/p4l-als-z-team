{
 "cells": [
  {
   "cell_type": "markdown",
   "metadata": {
    "collapsed": true
   },
   "source": [
    "## Used for selecting the 6 best features per cluster\n",
    "* We're using mean squared error of each variable vs. the ALSFRS_score, and take the best 6. "
   ]
  },
  {
   "cell_type": "code",
   "execution_count": 1,
   "metadata": {
    "collapsed": false
   },
   "outputs": [],
   "source": [
    "%matplotlib inline\n",
    "\n",
    "import pandas as pd\n",
    "import numpy as np\n",
    "import pickle\n",
    "from sklearn import linear_model\n",
    "from IPython.display import display\n",
    "\n",
    "from modeling_funcs import *\n"
   ]
  },
  {
   "cell_type": "code",
   "execution_count": 7,
   "metadata": {
    "collapsed": false
   },
   "outputs": [],
   "source": [
    "vectorized_data = pd.read_csv('../train_data_vectorized.csv', sep='|', index_col=0)\n",
    "slope = pd.read_csv('../train_slope.csv', sep = '|', index_col=0)\n",
    "clusters = pd.read_csv('../train_kmeans_clusters.csv', sep = '|', index_col=0)\n",
    "all_feature_metadata = pickle.load( open('../all_feature_metadata.pickle', 'rb') )\n",
    "\n",
    "everybody = vectorized_data.join(clusters).join(slope)\n",
    "Y = everybody[['cluster', 'ALSFRS_slope']]\n",
    "X = everybody.drop('ALSFRS_slope', 1)"
   ]
  },
  {
   "cell_type": "code",
   "execution_count": 23,
   "metadata": {
    "collapsed": false,
    "scrolled": false
   },
   "outputs": [
    {
     "data": {
      "text/plain": [
       "{0: ['onset_delta',\n",
       "  'mouth',\n",
       "  'ALSFRS_Total',\n",
       "  'fvc_percent',\n",
       "  'Absolute Eosinophil Count',\n",
       "  'Urine Specific Gravity'],\n",
       " 1: ['onset_delta',\n",
       "  'ALSFRS_Total',\n",
       "  'hands',\n",
       "  'mouth',\n",
       "  'Red Blood Cells (RBC)',\n",
       "  'fvc_percent'],\n",
       " 2: ['onset_delta',\n",
       "  'mouth',\n",
       "  'fvc_percent',\n",
       "  'ALSFRS_Total',\n",
       "  'hands',\n",
       "  'Creatinine']}"
      ]
     },
     "execution_count": 23,
     "metadata": {},
     "output_type": "execute_result"
    }
   ],
   "source": [
    "best_features_per_cluster = get_best_features_per_cluster(X, Y, all_feature_metadata)\n",
    "best_features_per_cluster"
   ]
  },
  {
   "cell_type": "code",
   "execution_count": 10,
   "metadata": {
    "collapsed": false
   },
   "outputs": [
    {
     "ename": "NameError",
     "evalue": "name 'score_per_feature' is not defined",
     "output_type": "error",
     "traceback": [
      "\u001b[1;31m---------------------------------------------------------------------------\u001b[0m",
      "\u001b[1;31mNameError\u001b[0m                                 Traceback (most recent call last)",
      "\u001b[1;32m<ipython-input-10-cb36f18f3474>\u001b[0m in \u001b[0;36m<module>\u001b[1;34m()\u001b[0m\n\u001b[1;32m----> 1\u001b[1;33m \u001b[0mscore_per_feature\u001b[0m\u001b[1;33m\u001b[0m\u001b[0m\n\u001b[0m",
      "\u001b[1;31mNameError\u001b[0m: name 'score_per_feature' is not defined"
     ]
    }
   ],
   "source": [
    "score_per_feature"
   ]
  },
  {
   "cell_type": "code",
   "execution_count": 11,
   "metadata": {
    "collapsed": false
   },
   "outputs": [],
   "source": [
    "with open(\"../best_features_per_cluster.pickle\", \"wb\") as output_file:\n",
    "    pickle.dump(best_features_per_cluster, output_file)\n"
   ]
  },
  {
   "cell_type": "markdown",
   "metadata": {},
   "source": [
    "#Apply the selector \n",
    "leave only the best features per cluster"
   ]
  },
  {
   "cell_type": "code",
   "execution_count": 12,
   "metadata": {
    "collapsed": false
   },
   "outputs": [
    {
     "name": "stdout",
     "output_type": "stream",
     "text": [
      "train\n",
      "df (1138647, 5)\n",
      "clusters (1777, 1)\n",
      "test\n",
      "df (126664, 5)\n",
      "clusters (600, 1)\n"
     ]
    }
   ],
   "source": [
    "for t in [\"train\", \"test\"]:\n",
    "    print t\n",
    "    df = pd.read_csv('../' + t + '_data.csv', sep = '|', index_col=\"SubjectID\", dtype='unicode')\n",
    "    print \"df\", df.shape\n",
    "    clusters = pd.read_csv('../' + t + '_kmeans_clusters.csv', sep = '|', index_col=\"SubjectID\")\n",
    "    print \"clusters\", clusters.shape\n",
    "    buf = filter_only_selected_features(df, clusters, best_features_per_cluster)\n",
    "    with open('../' + t + '_data_selected.csv','w') as f:\n",
    "        f.write(buf)\n"
   ]
  },
  {
   "cell_type": "code",
   "execution_count": null,
   "metadata": {
    "collapsed": true
   },
   "outputs": [],
   "source": []
  }
 ],
 "metadata": {
  "kernelspec": {
   "display_name": "Python 2",
   "language": "python",
   "name": "python2"
  },
  "language_info": {
   "codemirror_mode": {
    "name": "ipython",
    "version": 2
   },
   "file_extension": ".py",
   "mimetype": "text/x-python",
   "name": "python",
   "nbconvert_exporter": "python",
   "pygments_lexer": "ipython2",
   "version": "2.7.10"
  }
 },
 "nbformat": 4,
 "nbformat_minor": 0
}
