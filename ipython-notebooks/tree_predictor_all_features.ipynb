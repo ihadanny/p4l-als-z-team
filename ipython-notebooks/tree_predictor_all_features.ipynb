{
 "cells": [
  {
   "cell_type": "markdown",
   "metadata": {
    "collapsed": true
   },
   "source": [
    "## The best we can do with trees\n",
    "This is the upper boundary of what we can achieve with trees, using all features\n"
   ]
  },
  {
   "cell_type": "code",
   "execution_count": 48,
   "metadata": {
    "collapsed": false
   },
   "outputs": [],
   "source": [
    "%matplotlib inline\n",
    "\n",
    "import pandas as pd\n",
    "import numpy as np\n",
    "from time import time\n",
    "import numpy as np\n",
    "import matplotlib.pyplot as plt\n",
    "import pickle\n",
    "from sklearn import metrics\n",
    "from sklearn import cross_validation, grid_search\n",
    "from sklearn.cross_validation import cross_val_score \n",
    "from modeling_funcs import *\n",
    "from IPython.display import display\n",
    "import seaborn as sns\n",
    "\n",
    "sns.set(color_codes=True)\n",
    "plt.rcParams['figure.figsize'] = (10.0, 10.0)\n"
   ]
  },
  {
   "cell_type": "code",
   "execution_count": 49,
   "metadata": {
    "collapsed": false
   },
   "outputs": [],
   "source": [
    "vectorized_data = pd.read_csv('../all_data_vectorized.csv', sep='|', index_col=0)\n",
    "slope = pd.read_csv('../all_slope.csv', sep = '|', index_col=0)\n",
    "all_feature_metadata = pickle.load( open('../all_feature_metadata.pickle', 'rb') )\n",
    "\n",
    "everybody = vectorized_data.join(slope)\n"
   ]
  },
  {
   "cell_type": "code",
   "execution_count": 50,
   "metadata": {
    "collapsed": false
   },
   "outputs": [
    {
     "data": {
      "text/html": [
       "<div>\n",
       "<table border=\"1\" class=\"dataframe\">\n",
       "  <thead>\n",
       "    <tr style=\"text-align: right;\">\n",
       "      <th></th>\n",
       "      <th>ALSFRS_slope</th>\n",
       "      <th>ALSFRS_bin</th>\n",
       "    </tr>\n",
       "  </thead>\n",
       "  <tbody>\n",
       "    <tr>\n",
       "      <th>count</th>\n",
       "      <td>2424.000000</td>\n",
       "      <td>2424.000000</td>\n",
       "    </tr>\n",
       "    <tr>\n",
       "      <th>mean</th>\n",
       "      <td>-0.730786</td>\n",
       "      <td>5.503713</td>\n",
       "    </tr>\n",
       "    <tr>\n",
       "      <th>std</th>\n",
       "      <td>0.627481</td>\n",
       "      <td>2.876174</td>\n",
       "    </tr>\n",
       "    <tr>\n",
       "      <th>min</th>\n",
       "      <td>-4.345238</td>\n",
       "      <td>1.000000</td>\n",
       "    </tr>\n",
       "    <tr>\n",
       "      <th>25%</th>\n",
       "      <td>-1.086310</td>\n",
       "      <td>3.000000</td>\n",
       "    </tr>\n",
       "    <tr>\n",
       "      <th>50%</th>\n",
       "      <td>-0.620748</td>\n",
       "      <td>6.000000</td>\n",
       "    </tr>\n",
       "    <tr>\n",
       "      <th>75%</th>\n",
       "      <td>-0.274234</td>\n",
       "      <td>8.000000</td>\n",
       "    </tr>\n",
       "    <tr>\n",
       "      <th>max</th>\n",
       "      <td>1.207011</td>\n",
       "      <td>10.000000</td>\n",
       "    </tr>\n",
       "  </tbody>\n",
       "</table>\n",
       "</div>"
      ],
      "text/plain": [
       "       ALSFRS_slope   ALSFRS_bin\n",
       "count   2424.000000  2424.000000\n",
       "mean      -0.730786     5.503713\n",
       "std        0.627481     2.876174\n",
       "min       -4.345238     1.000000\n",
       "25%       -1.086310     3.000000\n",
       "50%       -0.620748     6.000000\n",
       "75%       -0.274234     8.000000\n",
       "max        1.207011    10.000000"
      ]
     },
     "metadata": {},
     "output_type": "display_data"
    }
   ],
   "source": [
    "q = np.percentile(everybody.ALSFRS_slope, range(0,100,10))\n",
    "everybody.loc[:, 'ALSFRS_bin'] = np.digitize(everybody.ALSFRS_slope, q)\n",
    "display(everybody[['ALSFRS_slope','ALSFRS_bin']].describe())"
   ]
  },
  {
   "cell_type": "code",
   "execution_count": 51,
   "metadata": {
    "collapsed": false
   },
   "outputs": [
    {
     "data": {
      "image/png": "[encoded data removed]",
      "text/plain": [
       "<matplotlib.figure.Figure at 0x2093deb8>"
      ]
     },
     "metadata": {},
     "output_type": "display_data"
    }
   ],
   "source": [
    "sns.distplot(everybody.ALSFRS_slope, rug=True, kde=False);"
   ]
  },
  {
   "cell_type": "code",
   "execution_count": 52,
   "metadata": {
    "collapsed": false
   },
   "outputs": [
    {
     "name": "stdout",
     "output_type": "stream",
     "text": [
      "0.595149952765\n"
     ]
    }
   ],
   "source": [
    "from sklearn import tree\n",
    "\n",
    "X = everybody.drop(['ALSFRS_slope','ALSFRS_bin'], 1)\n",
    "y = everybody.ALSFRS_slope\n",
    "\n",
    "clf = grid_search.GridSearchCV(tree.DecisionTreeRegressor(), \n",
    "                               {'min_samples_split':range(250,270,5), 'min_samples_leaf': range(50,70,5)})\n",
    "print np.sqrt(-1.0 * cross_val_score(clf, X, y, scoring=\"mean_squared_error\").mean())"
   ]
  },
  {
   "cell_type": "code",
   "execution_count": 53,
   "metadata": {
    "collapsed": false
   },
   "outputs": [
    {
     "name": "stdout",
     "output_type": "stream",
     "text": [
      "DecisionTreeRegressor(criterion='mse', max_depth=None, max_features=None,\n",
      "           max_leaf_nodes=None, min_samples_leaf=65, min_samples_split=250,\n",
      "           min_weight_fraction_leaf=0.0, random_state=None,\n",
      "           splitter='best')\n",
      "train mse 0.569172343882\n",
      "test mse 0.597130591092\n"
     ]
    },
    {
     "data": {
      "text/html": [
       "<div>\n",
       "<table border=\"1\" class=\"dataframe\">\n",
       "  <thead>\n",
       "    <tr style=\"text-align: right;\">\n",
       "      <th></th>\n",
       "      <th>prediction</th>\n",
       "      <th>actual</th>\n",
       "      <th>SE</th>\n",
       "    </tr>\n",
       "    <tr>\n",
       "      <th>SubjectID</th>\n",
       "      <th></th>\n",
       "      <th></th>\n",
       "      <th></th>\n",
       "    </tr>\n",
       "  </thead>\n",
       "  <tbody>\n",
       "    <tr>\n",
       "      <th>468194</th>\n",
       "      <td>-0.618905</td>\n",
       "      <td>-0.618644</td>\n",
       "      <td>6.834310e-08</td>\n",
       "    </tr>\n",
       "    <tr>\n",
       "      <th>409379</th>\n",
       "      <td>-0.771234</td>\n",
       "      <td>-0.774242</td>\n",
       "      <td>9.052567e-06</td>\n",
       "    </tr>\n",
       "    <tr>\n",
       "      <th>630294</th>\n",
       "      <td>-0.824607</td>\n",
       "      <td>-0.827664</td>\n",
       "      <td>9.348323e-06</td>\n",
       "    </tr>\n",
       "  </tbody>\n",
       "</table>\n",
       "</div>"
      ],
      "text/plain": [
       "           prediction    actual            SE\n",
       "SubjectID                                    \n",
       "468194      -0.618905 -0.618644  6.834310e-08\n",
       "409379      -0.771234 -0.774242  9.052567e-06\n",
       "630294      -0.824607 -0.827664  9.348323e-06"
      ]
     },
     "metadata": {},
     "output_type": "display_data"
    },
    {
     "data": {
      "text/html": [
       "<div>\n",
       "<table border=\"1\" class=\"dataframe\">\n",
       "  <thead>\n",
       "    <tr style=\"text-align: right;\">\n",
       "      <th></th>\n",
       "      <th>prediction</th>\n",
       "      <th>actual</th>\n",
       "      <th>SE</th>\n",
       "    </tr>\n",
       "    <tr>\n",
       "      <th>SubjectID</th>\n",
       "      <th></th>\n",
       "      <th></th>\n",
       "      <th></th>\n",
       "    </tr>\n",
       "  </thead>\n",
       "  <tbody>\n",
       "    <tr>\n",
       "      <th>880451</th>\n",
       "      <td>-0.771234</td>\n",
       "      <td>-2.516487</td>\n",
       "      <td>3.045909</td>\n",
       "    </tr>\n",
       "    <tr>\n",
       "      <th>364548</th>\n",
       "      <td>-1.046493</td>\n",
       "      <td>-2.804374</td>\n",
       "      <td>3.090144</td>\n",
       "    </tr>\n",
       "    <tr>\n",
       "      <th>491548</th>\n",
       "      <td>-0.771234</td>\n",
       "      <td>-2.607143</td>\n",
       "      <td>3.370563</td>\n",
       "    </tr>\n",
       "    <tr>\n",
       "      <th>15154</th>\n",
       "      <td>-0.618905</td>\n",
       "      <td>-2.628601</td>\n",
       "      <td>4.038875</td>\n",
       "    </tr>\n",
       "    <tr>\n",
       "      <th>596259</th>\n",
       "      <td>-0.824607</td>\n",
       "      <td>1.207011</td>\n",
       "      <td>4.127470</td>\n",
       "    </tr>\n",
       "    <tr>\n",
       "      <th>414305</th>\n",
       "      <td>-0.903134</td>\n",
       "      <td>-3.030013</td>\n",
       "      <td>4.523611</td>\n",
       "    </tr>\n",
       "    <tr>\n",
       "      <th>809464</th>\n",
       "      <td>-1.168859</td>\n",
       "      <td>1.086310</td>\n",
       "      <td>5.085787</td>\n",
       "    </tr>\n",
       "    <tr>\n",
       "      <th>549126</th>\n",
       "      <td>-1.168859</td>\n",
       "      <td>-3.621032</td>\n",
       "      <td>6.013149</td>\n",
       "    </tr>\n",
       "    <tr>\n",
       "      <th>505515</th>\n",
       "      <td>-0.903134</td>\n",
       "      <td>-3.553349</td>\n",
       "      <td>7.023637</td>\n",
       "    </tr>\n",
       "    <tr>\n",
       "      <th>605404</th>\n",
       "      <td>-0.505393</td>\n",
       "      <td>-3.517574</td>\n",
       "      <td>9.073232</td>\n",
       "    </tr>\n",
       "  </tbody>\n",
       "</table>\n",
       "</div>"
      ],
      "text/plain": [
       "           prediction    actual        SE\n",
       "SubjectID                                \n",
       "880451      -0.771234 -2.516487  3.045909\n",
       "364548      -1.046493 -2.804374  3.090144\n",
       "491548      -0.771234 -2.607143  3.370563\n",
       "15154       -0.618905 -2.628601  4.038875\n",
       "596259      -0.824607  1.207011  4.127470\n",
       "414305      -0.903134 -3.030013  4.523611\n",
       "809464      -1.168859  1.086310  5.085787\n",
       "549126      -1.168859 -3.621032  6.013149\n",
       "505515      -0.903134 -3.553349  7.023637\n",
       "605404      -0.505393 -3.517574  9.073232"
      ]
     },
     "metadata": {},
     "output_type": "display_data"
    },
    {
     "name": "stdout",
     "output_type": "stream",
     "text": [
      "\n"
     ]
    },
    {
     "data": {
      "image/png": "[encoded data removed]",
      "text/plain": [
       "<matplotlib.figure.Figure at 0x1bf7407f0>"
      ]
     },
     "metadata": {},
     "output_type": "display_data"
    }
   ],
   "source": [
    "from sklearn.metrics import mean_squared_error\n",
    "from sklearn.cross_validation import train_test_split\n",
    "\n",
    "def pred_vs_actual(clf, X, y):\n",
    "    X_train, X_test, y_train, y_test = train_test_split(\n",
    "        X, y, test_size=0.33, random_state=0)\n",
    "\n",
    "    clf.fit(X_train, y_train)\n",
    "    print clf.best_estimator_\n",
    "    print \"train mse\", np.sqrt(mean_squared_error(y_train, clf.predict(X_train)))    \n",
    "    res = X_test.apply(lambda s: pd.Series({'prediction': clf.predict(s)[0]}) , axis=1)\n",
    "    res.loc[:, 'actual'] = y_test\n",
    "    res.loc[:, 'SE'] = res.apply(lambda s: (s['prediction'] - s['actual'])**2 , axis=1)\n",
    "    print \"test mse\", np.sqrt(mean_squared_error(res.actual, res.prediction))\n",
    "    display(res.sort(['SE']).head(3))\n",
    "    display(res.sort(['SE']).tail(10))\n",
    "    sns.distplot(res.prediction);\n",
    "    sns.distplot(res.actual, rug=True);\n",
    "    return res\n",
    "    \n",
    "res = pred_vs_actual(clf, X, y)\n",
    "print"
   ]
  },
  {
   "cell_type": "code",
   "execution_count": 54,
   "metadata": {
    "collapsed": false
   },
   "outputs": [],
   "source": [
    "from sklearn.externals.six import StringIO\n",
    "with open(\"../tree.dot\", 'w') as f:\n",
    "    f = tree.export_graphviz(clf.best_estimator_, feature_names = X.columns, out_file=f)"
   ]
  },
  {
   "cell_type": "code",
   "execution_count": 55,
   "metadata": {
    "collapsed": false
   },
   "outputs": [
    {
     "name": "stdout",
     "output_type": "stream",
     "text": [
      "0.57555654065\n"
     ]
    }
   ],
   "source": [
    "from sklearn.ensemble import RandomForestRegressor\n",
    "clf = grid_search.GridSearchCV(RandomForestRegressor(min_samples_leaf=60, min_samples_split=260, random_state=0), \n",
    "                               {'min_samples_leaf': range(60,61,10), 'n_estimators': [1000]})\n",
    "print np.sqrt(-1.0 * cross_val_score(clf, X, y, scoring=\"mean_squared_error\").mean())"
   ]
  },
  {
   "cell_type": "code",
   "execution_count": 56,
   "metadata": {
    "collapsed": false
   },
   "outputs": [
    {
     "name": "stdout",
     "output_type": "stream",
     "text": [
      "RandomForestRegressor(bootstrap=True, criterion='mse', max_depth=None,\n",
      "           max_features='auto', max_leaf_nodes=None, min_samples_leaf=60,\n",
      "           min_samples_split=260, min_weight_fraction_leaf=0.0,\n",
      "           n_estimators=1000, n_jobs=1, oob_score=False, random_state=0,\n",
      "           verbose=0, warm_start=False)\n",
      "train mse 0.559184083798\n",
      "test mse 0.564466157217\n"
     ]
    },
    {
     "data": {
      "text/html": [
       "<div>\n",
       "<table border=\"1\" class=\"dataframe\">\n",
       "  <thead>\n",
       "    <tr style=\"text-align: right;\">\n",
       "      <th></th>\n",
       "      <th>prediction</th>\n",
       "      <th>actual</th>\n",
       "      <th>SE</th>\n",
       "    </tr>\n",
       "    <tr>\n",
       "      <th>SubjectID</th>\n",
       "      <th></th>\n",
       "      <th></th>\n",
       "      <th></th>\n",
       "    </tr>\n",
       "  </thead>\n",
       "  <tbody>\n",
       "    <tr>\n",
       "      <th>95131</th>\n",
       "      <td>-0.660002</td>\n",
       "      <td>-0.661232</td>\n",
       "      <td>0.000002</td>\n",
       "    </tr>\n",
       "    <tr>\n",
       "      <th>727983</th>\n",
       "      <td>-0.423205</td>\n",
       "      <td>-0.425408</td>\n",
       "      <td>0.000005</td>\n",
       "    </tr>\n",
       "    <tr>\n",
       "      <th>940788</th>\n",
       "      <td>-0.540922</td>\n",
       "      <td>-0.545102</td>\n",
       "      <td>0.000017</td>\n",
       "    </tr>\n",
       "  </tbody>\n",
       "</table>\n",
       "</div>"
      ],
      "text/plain": [
       "           prediction    actual        SE\n",
       "SubjectID                                \n",
       "95131       -0.660002 -0.661232  0.000002\n",
       "727983      -0.423205 -0.425408  0.000005\n",
       "940788      -0.540922 -0.545102  0.000017"
      ]
     },
     "metadata": {},
     "output_type": "display_data"
    },
    {
     "data": {
      "text/html": [
       "<div>\n",
       "<table border=\"1\" class=\"dataframe\">\n",
       "  <thead>\n",
       "    <tr style=\"text-align: right;\">\n",
       "      <th></th>\n",
       "      <th>prediction</th>\n",
       "      <th>actual</th>\n",
       "      <th>SE</th>\n",
       "    </tr>\n",
       "    <tr>\n",
       "      <th>SubjectID</th>\n",
       "      <th></th>\n",
       "      <th></th>\n",
       "      <th></th>\n",
       "    </tr>\n",
       "  </thead>\n",
       "  <tbody>\n",
       "    <tr>\n",
       "      <th>126060</th>\n",
       "      <td>-0.928084</td>\n",
       "      <td>-2.581488</td>\n",
       "      <td>2.733746</td>\n",
       "    </tr>\n",
       "    <tr>\n",
       "      <th>221689</th>\n",
       "      <td>-0.868055</td>\n",
       "      <td>-2.547209</td>\n",
       "      <td>2.819558</td>\n",
       "    </tr>\n",
       "    <tr>\n",
       "      <th>364548</th>\n",
       "      <td>-0.928088</td>\n",
       "      <td>-2.804374</td>\n",
       "      <td>3.520446</td>\n",
       "    </tr>\n",
       "    <tr>\n",
       "      <th>596259</th>\n",
       "      <td>-0.748068</td>\n",
       "      <td>1.207011</td>\n",
       "      <td>3.822333</td>\n",
       "    </tr>\n",
       "    <tr>\n",
       "      <th>15154</th>\n",
       "      <td>-0.634975</td>\n",
       "      <td>-2.628601</td>\n",
       "      <td>3.974544</td>\n",
       "    </tr>\n",
       "    <tr>\n",
       "      <th>809464</th>\n",
       "      <td>-1.015518</td>\n",
       "      <td>1.086310</td>\n",
       "      <td>4.417680</td>\n",
       "    </tr>\n",
       "    <tr>\n",
       "      <th>414305</th>\n",
       "      <td>-0.913000</td>\n",
       "      <td>-3.030013</td>\n",
       "      <td>4.481743</td>\n",
       "    </tr>\n",
       "    <tr>\n",
       "      <th>505515</th>\n",
       "      <td>-1.116270</td>\n",
       "      <td>-3.553349</td>\n",
       "      <td>5.939352</td>\n",
       "    </tr>\n",
       "    <tr>\n",
       "      <th>549126</th>\n",
       "      <td>-1.052073</td>\n",
       "      <td>-3.621032</td>\n",
       "      <td>6.599551</td>\n",
       "    </tr>\n",
       "    <tr>\n",
       "      <th>605404</th>\n",
       "      <td>-0.752582</td>\n",
       "      <td>-3.517574</td>\n",
       "      <td>7.645180</td>\n",
       "    </tr>\n",
       "  </tbody>\n",
       "</table>\n",
       "</div>"
      ],
      "text/plain": [
       "           prediction    actual        SE\n",
       "SubjectID                                \n",
       "126060      -0.928084 -2.581488  2.733746\n",
       "221689      -0.868055 -2.547209  2.819558\n",
       "364548      -0.928088 -2.804374  3.520446\n",
       "596259      -0.748068  1.207011  3.822333\n",
       "15154       -0.634975 -2.628601  3.974544\n",
       "809464      -1.015518  1.086310  4.417680\n",
       "414305      -0.913000 -3.030013  4.481743\n",
       "505515      -1.116270 -3.553349  5.939352\n",
       "549126      -1.052073 -3.621032  6.599551\n",
       "605404      -0.752582 -3.517574  7.645180"
      ]
     },
     "metadata": {},
     "output_type": "display_data"
    },
    {
     "name": "stdout",
     "output_type": "stream",
     "text": [
      "\n"
     ]
    },
    {
     "data": {
      "image/png": "[encoded data removed]",
      "text/plain": [
       "<matplotlib.figure.Figure at 0x227ad9b0>"
      ]
     },
     "metadata": {},
     "output_type": "display_data"
    }
   ],
   "source": [
    "res = pred_vs_actual(clf, X, y)\n",
    "print"
   ]
  },
  {
   "cell_type": "code",
   "execution_count": 75,
   "metadata": {
    "collapsed": false
   },
   "outputs": [
    {
     "name": "stdout",
     "output_type": "stream",
     "text": [
      "family_ALS_hist_last       0.000000\n",
      "ALSFRS_Total_mean          0.763436\n",
      "ALSFRS_Total_pct_diff     -0.011771\n",
      "ALSFRS_Total_last          0.563677\n",
      "ALSFRS_Total_mean_slope    0.132226\n",
      "Name: 15154, dtype: float64\n"
     ]
    }
   ],
   "source": [
    "cols = [col for col in X.columns if 'ALS' in col]\n",
    "print X.loc[15154, cols]"
   ]
  },
  {
   "cell_type": "code",
   "execution_count": 57,
   "metadata": {
    "collapsed": false
   },
   "outputs": [
    {
     "name": "stdout",
     "output_type": "stream",
     "text": [
      "Feature ranking:\n",
      "1. feature onset_delta_last (0.570407)\n",
      "2. feature fvc_percent_pct_diff (0.153219)\n",
      "3. feature ALSFRS_Total_last (0.060527)\n",
      "4. feature ALSFRS_Total_pct_diff (0.052920)\n",
      "5. feature fvc_percent_last (0.032151)\n",
      "6. feature weight_pct_diff (0.019011)\n",
      "7. feature ALSFRS_Total_mean (0.017401)\n",
      "8. feature mouth_mean (0.014232)\n",
      "9. feature Red Blood Cells (RBC)_pct_diff (0.005374)\n",
      "10. feature hands_mean (0.005191)\n"
     ]
    },
    {
     "data": {
      "image/png": "[encoded data removed]",
      "text/plain": [
       "<matplotlib.figure.Figure at 0x21a23f28>"
      ]
     },
     "metadata": {},
     "output_type": "display_data"
    }
   ],
   "source": [
    "forest = clf.best_estimator_\n",
    "importances = forest.feature_importances_\n",
    "std = np.std([tree.feature_importances_ for tree in forest.estimators_],\n",
    "             axis=0)\n",
    "indices = np.argsort(importances)[::-1][:10]\n",
    "\n",
    "# Print the feature ranking\n",
    "print(\"Feature ranking:\")\n",
    "\n",
    "for f in range(10):\n",
    "    print(\"%d. feature %s (%f)\" % (f + 1, X.columns[indices[f]], importances[indices[f]]))\n",
    "\n",
    "# Plot the feature importances of the forest\n",
    "plt.figure()\n",
    "plt.title(\"Feature importances\")\n",
    "plt.bar(range(10), importances[indices],\n",
    "       color=\"r\", yerr=std[indices], align=\"center\")\n",
    "plt.xticks(range(10), X.columns[indices], rotation='vertical')\n",
    "plt.xlim([-1, 10])\n",
    "plt.show()"
   ]
  },
  {
   "cell_type": "code",
   "execution_count": 83,
   "metadata": {
    "collapsed": false
   },
   "outputs": [
    {
     "name": "stdout",
     "output_type": "stream",
     "text": [
      "[-0.95216928 -0.82328976 -0.66183843 -0.50351755]\n"
     ]
    }
   ],
   "source": [
    "q = np.percentile(forest.predict(X), range(20,100,20))\n",
    "print q"
   ]
  },
  {
   "cell_type": "code",
   "execution_count": 84,
   "metadata": {
    "collapsed": true
   },
   "outputs": [],
   "source": [
    "clustering_model = {\"model\": forest, \"bins\": q}\n",
    "pickle.dump( clustering_model, open('../forest_clustering_model.pickle', 'wb') )\n"
   ]
  },
  {
   "cell_type": "code",
   "execution_count": 85,
   "metadata": {
    "collapsed": false
   },
   "outputs": [
    {
     "name": "stdout",
     "output_type": "stream",
     "text": [
      "[485 485 484 485 485]\n",
      "all (2424, 1)\n",
      "[109 128 122 119 122]\n",
      "test (600, 1)\n"
     ]
    }
   ],
   "source": [
    "\n",
    "for t in ['all', 'test']:\n",
    "    cur_data = pd.read_csv('../' + t + '_data_vectorized.csv', sep = '|', error_bad_lines=False, index_col=\"SubjectID\")\n",
    "    res = pd.DataFrame(index = cur_data.index.astype(str)) # SubjectID is always str for later joins\n",
    "    res['cluster'] = np.digitize(forest.predict(cur_data), q)\n",
    "    print np.bincount(res.cluster)\n",
    "    print t, res.shape\n",
    "    res.to_csv('../' + t + '_forest_clusters.csv',sep='|')"
   ]
  },
  {
   "cell_type": "code",
   "execution_count": null,
   "metadata": {
    "collapsed": true
   },
   "outputs": [],
   "source": []
  }
 ],
 "metadata": {
  "kernelspec": {
   "display_name": "Python 2",
   "language": "python",
   "name": "python2"
  },
  "language_info": {
   "codemirror_mode": {
    "name": "ipython",
    "version": 2
   },
   "file_extension": ".py",
   "mimetype": "text/x-python",
   "name": "python",
   "nbconvert_exporter": "python",
   "pygments_lexer": "ipython2",
   "version": "2.7.10"
  }
 },
 "nbformat": 4,
 "nbformat_minor": 0
}
