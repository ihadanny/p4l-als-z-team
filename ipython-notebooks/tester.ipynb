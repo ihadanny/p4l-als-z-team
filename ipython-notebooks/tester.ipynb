{
 "cells": [
  {
   "cell_type": "code",
   "execution_count": 1,
   "metadata": {
    "collapsed": true
   },
   "outputs": [],
   "source": [
    "import pandas as pd\n",
    "import numpy as np\n",
    "import pickle, cPickle\n",
    "from datetime import datetime\n",
    "\n",
    "from vectorizing_funcs import *\n",
    "from modeling_funcs import *\n"
   ]
  },
  {
   "cell_type": "code",
   "execution_count": 2,
   "metadata": {
    "collapsed": false
   },
   "outputs": [
    {
     "name": "stdout",
     "output_type": "stream",
     "text": [
      "applying on:  (400, 130)\n",
      "applied cluster cnt:  [120  66  82  97  35]\n",
      "good_res:  (177, 3)\n",
      "RMS Error on test:  0.549843844368\n",
      "pearson correlation r = 0.42 \n"
     ]
    }
   ],
   "source": [
    "test_data = pd.read_csv('../all_forms_validate_leader.txt', sep = '|', error_bad_lines=False, index_col=False, dtype='unicode')\n",
    "slope = pd.read_csv('../ALSFRS_slope_validate_leader2.txt', sep = '|', index_col=\"SubjectID\")\n",
    "slope.index = slope.index.astype(str)\n",
    "\n",
    "models_folder = \"../\"\n",
    "\n",
    "all_feature_metadata = pickle.load( open(models_folder + '/all_feature_metadata.pickle', 'rb') )\n",
    "train_data_means = pickle.load( open(models_folder + '/all_data_means.pickle', 'rb') )\n",
    "train_data_std = pickle.load( open(models_folder + '/all_data_std.pickle', 'rb') )\n",
    "train_data_medians = pickle.load( open(models_folder + '/all_data_medians.pickle', 'rb') )\n",
    "train_data_mads = pickle.load( open(models_folder + '/all_data_mads.pickle', 'rb') )\n",
    "clustering_model = cPickle.load( open(models_folder + '/forest_clustering_model.pickle', 'rb') )\n",
    "best_features_per_cluster = pickle.load( open(models_folder + '/best_features_per_cluster.pickle', 'rb') )\n",
    "model_per_cluster = pickle.load( open(models_folder + '/model_per_cluster.pickle', 'rb') )\n",
    "\n",
    "bins = clustering_model[\"bins\"]\n",
    "forest = clustering_model[\"model\"]\n",
    "\n",
    "input_for_model, pred = apply_on_test(test_data, all_feature_metadata, \n",
    "            train_data_means, train_data_std, train_data_medians, train_data_mads, \n",
    "            clustering_columns, bins, forest, best_features_per_cluster, model_per_cluster)\n",
    "\n",
    "res = pred.join(slope)\n",
    "good_res = res[~np.isnan(res.ALSFRS_slope)]\n",
    "print \"good_res: \", good_res.shape\n",
    "test_rmse = np.sqrt(np.mean((good_res.prediction - good_res.ALSFRS_slope) ** 2))\n",
    "print \"RMS Error on test: \", test_rmse\n",
    "print 'pearson correlation r = %.2f ' % scipy.stats.pearsonr(good_res.prediction, good_res.ALSFRS_slope)[0]\n",
    "\n",
    "\n",
    "input_for_model.to_csv('../x_results/test_input_for_model.csv',sep='|')\n",
    "res.to_csv('../x_results/test_prediction.csv',sep='|')\n",
    "\n",
    "\n"
   ]
  },
  {
   "cell_type": "code",
   "execution_count": null,
   "metadata": {
    "collapsed": true
   },
   "outputs": [],
   "source": []
  }
 ],
 "metadata": {
  "kernelspec": {
   "display_name": "Python 2",
   "language": "python",
   "name": "python2"
  },
  "language_info": {
   "codemirror_mode": {
    "name": "ipython",
    "version": 2
   },
   "file_extension": ".py",
   "mimetype": "text/x-python",
   "name": "python",
   "nbconvert_exporter": "python",
   "pygments_lexer": "ipython2",
   "version": "2.7.10"
  }
 },
 "nbformat": 4,
 "nbformat_minor": 0
}
