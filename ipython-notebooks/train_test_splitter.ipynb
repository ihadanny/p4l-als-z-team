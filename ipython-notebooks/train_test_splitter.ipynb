{
 "cells": [
  {
   "cell_type": "code",
   "execution_count": null,
   "metadata": {
    "collapsed": true
   },
   "outputs": [],
   "source": [
    "# Used by the datathon organizers to split the PROACT database into train/test.\n",
    "# Before running please 'cat all_forms_PROACT_*.txt > all_forms_PROACT.txt' "
   ]
  },
  {
   "cell_type": "code",
   "execution_count": 2,
   "metadata": {
    "collapsed": true
   },
   "outputs": [],
   "source": [
    "import pandas as pd\n",
    "import numpy as np"
   ]
  },
  {
   "cell_type": "code",
   "execution_count": 12,
   "metadata": {
    "collapsed": false
   },
   "outputs": [],
   "source": [
    "df = pd.read_csv('../all_forms_PROACT.txt', sep = '|', error_bad_lines=False, index_col='SubjectID', dtype={'SubjectID': 'int'})\n",
    "slope = pd.read_csv('../ALSFRS_slope_PROACT.txt', sep = '|', index_col='SubjectID', \n",
    "                    dtype={'SubjectID': 'int', 'ALSFRS_slope': float})\n",
    "slope = slope.dropna()\n",
    "data_with_slope = pd.merge(df, slope, left_index=True, right_index=True)\n"
   ]
  },
  {
   "cell_type": "code",
   "execution_count": 14,
   "metadata": {
    "collapsed": false
   },
   "outputs": [],
   "source": [
    "data = data_with_slope.drop('ALSFRS_slope', 1)\n",
    "test_data = data.loc[(data.index >= 750000) & (data.feature_delta < 92)]\n",
    "train_data = data.loc[data.index < 750000]\n",
    "\n",
    "train_data.to_csv('../train_data.csv',sep='|')\n",
    "test_data.to_csv('../test_data.csv',sep='|')"
   ]
  },
  {
   "cell_type": "code",
   "execution_count": 15,
   "metadata": {
    "collapsed": false
   },
   "outputs": [],
   "source": [
    "train_slope = slope.loc[slope.index < 750000]\n",
    "train_slope.to_csv('../train_slope.csv',sep='|')\n",
    "test_slope = slope.loc[slope.index >= 750000]\n",
    "test_slope.to_csv('../test_slope.csv',sep='|')\n"
   ]
  },
  {
   "cell_type": "code",
   "execution_count": null,
   "metadata": {
    "collapsed": true
   },
   "outputs": [],
   "source": []
  }
 ],
 "metadata": {
  "kernelspec": {
   "display_name": "Python 2",
   "language": "python",
   "name": "python2"
  },
  "language_info": {
   "codemirror_mode": {
    "name": "ipython",
    "version": 2
   },
   "file_extension": ".py",
   "mimetype": "text/x-python",
   "name": "python",
   "nbconvert_exporter": "python",
   "pygments_lexer": "ipython2",
   "version": "2.7.8"
  }
 },
 "nbformat": 4,
 "nbformat_minor": 0
}
