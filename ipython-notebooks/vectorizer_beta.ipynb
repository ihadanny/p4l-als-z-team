{
 "cells": [
  {
   "cell_type": "code",
   "execution_count": 1,
   "metadata": {
    "collapsed": true
   },
   "outputs": [],
   "source": [
    "## Used for vectorizing the raw data (run it once on train and once on test) :\n",
    "## Pivoting it from the initial feature_name:feature_value form to a vector\n",
    "## scalar_feature_to_dummies - Translating categoric variables into N-1 dummy variables\n",
    "## timeseries_feature_slope_reduced - mean, std for time series variables (have multiple measurements in different times)\n",
    "## timeseries_feature_last_value - take last value in time series\n",
    "## Filling empty values with means - NOTE that these have to be the train data means"
   ]
  },
  {
   "cell_type": "code",
   "execution_count": 2,
   "metadata": {
    "collapsed": false
   },
   "outputs": [],
   "source": [
    "import pandas as pd\n",
    "import numpy as np\n",
    "import pickle\n",
    "from collections import defaultdict"
   ]
  },
  {
   "cell_type": "code",
   "execution_count": 3,
   "metadata": {
    "collapsed": true
   },
   "outputs": [],
   "source": [
    "def parse_feature_delta(fd):\n",
    "    if type(fd) is float: return fd\n",
    "    first_value = fd.split(';')[0]\n",
    "    try:\n",
    "        return float(first_value)\n",
    "    except:\n",
    "        return None"
   ]
  },
  {
   "cell_type": "code",
   "execution_count": 4,
   "metadata": {
    "collapsed": false
   },
   "outputs": [
    {
     "data": {
      "text/html": [
       "<div>\n",
       "<table border=\"1\" class=\"dataframe\">\n",
       "  <thead>\n",
       "    <tr style=\"text-align: right;\">\n",
       "      <th></th>\n",
       "      <th>SubjectID</th>\n",
       "      <th>form_name</th>\n",
       "      <th>feature_name</th>\n",
       "      <th>feature_value</th>\n",
       "      <th>feature_unit</th>\n",
       "      <th>feature_delta</th>\n",
       "    </tr>\n",
       "  </thead>\n",
       "  <tbody>\n",
       "    <tr>\n",
       "      <th>0</th>\n",
       "      <td>533</td>\n",
       "      <td>Demographic</td>\n",
       "      <td>Gender</td>\n",
       "      <td>F</td>\n",
       "      <td>NaN</td>\n",
       "      <td>0</td>\n",
       "    </tr>\n",
       "    <tr>\n",
       "      <th>1</th>\n",
       "      <td>533</td>\n",
       "      <td>Demographic</td>\n",
       "      <td>Age</td>\n",
       "      <td>65</td>\n",
       "      <td>NaN</td>\n",
       "      <td>0</td>\n",
       "    </tr>\n",
       "    <tr>\n",
       "      <th>2</th>\n",
       "      <td>533</td>\n",
       "      <td>Demographic</td>\n",
       "      <td>Race</td>\n",
       "      <td>White</td>\n",
       "      <td>NaN</td>\n",
       "      <td>0</td>\n",
       "    </tr>\n",
       "    <tr>\n",
       "      <th>3</th>\n",
       "      <td>533</td>\n",
       "      <td>ALSHX</td>\n",
       "      <td>onset_delta</td>\n",
       "      <td>-1023</td>\n",
       "      <td>NaN</td>\n",
       "      <td>0</td>\n",
       "    </tr>\n",
       "    <tr>\n",
       "      <th>4</th>\n",
       "      <td>533</td>\n",
       "      <td>ALSHX</td>\n",
       "      <td>diag_delta</td>\n",
       "      <td>-44</td>\n",
       "      <td>NaN</td>\n",
       "      <td>0</td>\n",
       "    </tr>\n",
       "  </tbody>\n",
       "</table>\n",
       "</div>"
      ],
      "text/plain": [
       "  SubjectID    form_name feature_name feature_value feature_unit  \\\n",
       "0       533  Demographic       Gender             F          NaN   \n",
       "1       533  Demographic          Age            65          NaN   \n",
       "2       533  Demographic         Race         White          NaN   \n",
       "3       533        ALSHX  onset_delta         -1023          NaN   \n",
       "4       533        ALSHX   diag_delta           -44          NaN   \n",
       "\n",
       "   feature_delta  \n",
       "0              0  \n",
       "1              0  \n",
       "2              0  \n",
       "3              0  \n",
       "4              0  "
      ]
     },
     "execution_count": 4,
     "metadata": {},
     "output_type": "execute_result"
    }
   ],
   "source": [
    "df = pd.read_csv('../train_data.csv', sep = '|', error_bad_lines=False, index_col=False, dtype='unicode')\n",
    "df.loc[:,'feature_delta'] = df.feature_delta.apply(parse_feature_delta)\n",
    "df = df[df.feature_delta < 92]\n",
    "\n",
    "df.head()"
   ]
  },
  {
   "cell_type": "code",
   "execution_count": null,
   "metadata": {
    "collapsed": false
   },
   "outputs": [],
   "source": []
  },
  {
   "cell_type": "markdown",
   "metadata": {
    "collapsed": false
   },
   "source": [
    "# Define all kind of vectorization and aggregation functions"
   ]
  },
  {
   "cell_type": "markdown",
   "metadata": {},
   "source": [
    "## Global functions\n",
    "Should receive (df, feature_name) and return a DataFrame with SubjectID as an index and columns for features"
   ]
  },
  {
   "cell_type": "markdown",
   "metadata": {},
   "source": [
    "### Scalar -> Dummies"
   ]
  },
  {
   "cell_type": "code",
   "execution_count": 6,
   "metadata": {
    "collapsed": false
   },
   "outputs": [],
   "source": [
    "def scalar_feature_to_dummies(df, feature_name):\n",
    "    my_slice = df[df.feature_name == feature_name]\n",
    "    my_slice_pivot = pd.pivot_table(my_slice, values = ['feature_value'], index = ['SubjectID'], \n",
    "                                columns = ['feature_name'], aggfunc = lambda x:x)\n",
    "    dum = pd.get_dummies(my_slice_pivot['feature_value'][feature_name])\n",
    "    return dum"
   ]
  },
  {
   "cell_type": "markdown",
   "metadata": {},
   "source": [
    "## Time Series functions\n",
    "Are invoked per SubjectID and with the valid timeframe data only (<92 days). Should receive a DataFrame with 'feature_value', and 'feature_delta' and return a dict from col_suffix (e.g. \"last\", \"mean\", ...) to the value"
   ]
  },
  {
   "cell_type": "markdown",
   "metadata": {},
   "source": [
    "### Timeseries -> Slope, %diff, stats"
   ]
  },
  {
   "cell_type": "code",
   "execution_count": 7,
   "metadata": {
    "collapsed": false,
    "scrolled": true
   },
   "outputs": [],
   "source": [
    "def ts_pct_diff(ts_data):\n",
    "    if len(ts_data) < 2:\n",
    "        return None\n",
    "    \n",
    "    ts_data_sorted = ts_data.sort('feature_delta')\n",
    "    values = ts_data_sorted.feature_value.astype('float')\n",
    "    time_values = ts_data_sorted.feature_delta.astype('float')\n",
    "\n",
    "    time_diff = time_values.iloc[-1] - time_values.iloc[0]\n",
    "    val = ( values.iloc[-1] - values.iloc[0] ) / ( values.iloc[0] * time_diff)\n",
    "    if val == float('inf'):\n",
    "        return None\n",
    "    \n",
    "    return { \"pct_diff\": val }\n",
    "    \n",
    "def ts_stats(ts_data):\n",
    "    if len(ts_data) < 1:\n",
    "        return None\n",
    "    \n",
    "    values = ts_data.feature_value.astype('float')\n",
    "    return { \"mean\": values.mean(), \"std\": values.std(), \"median\": values.median() }\n",
    "    \n",
    "def ts_mean_slope(ts_data):\n",
    "    if len(ts_data) < 2:\n",
    "        return None\n",
    "    \n",
    "    ts_data_sorted = ts_data.sort('feature_delta') \n",
    "    ts_data_sorted.feature_value = ts_data_sorted.feature_value.astype('float')\n",
    "    first, others = ts_data_sorted.iloc[0], ts_data_sorted.iloc[1:]\n",
    "    slopes = [ ( x[1].feature_value - first.feature_value) / ( x[1].feature_delta - first.feature_delta ) for x in others.iterrows() ]\n",
    "    slopes = [ x for x in slopes if x!=float('inf') ]\n",
    "    return { \"mean_slope\": np.mean(slopes) }\n"
   ]
  },
  {
   "cell_type": "markdown",
   "metadata": {},
   "source": [
    "## Timeseries -> last value"
   ]
  },
  {
   "cell_type": "code",
   "execution_count": 8,
   "metadata": {
    "collapsed": false
   },
   "outputs": [],
   "source": [
    "def ts_last_value(ts_data):\n",
    "    if len(ts_data) < 1:\n",
    "        return None\n",
    "    \n",
    "    ts_data_sorted = ts_data.sort('feature_delta') \n",
    "    return { \"last\": ts_data_sorted.feature_value.astype('float').iloc[-1] }"
   ]
  },
  {
   "cell_type": "markdown",
   "metadata": {},
   "source": [
    "## Special Treatment"
   ]
  },
  {
   "cell_type": "code",
   "execution_count": 9,
   "metadata": {
    "collapsed": true
   },
   "outputs": [],
   "source": [
    "def last_boolean(ts_data):\n",
    "    if len(ts_data) < 1:\n",
    "        return None\n",
    "    val_str = str(ts_data.feature_value.iloc[-1]).lower()\n",
    "    if val_str == 'y' or val_str == 'true':\n",
    "        val = 1\n",
    "    else:\n",
    "        val = 0\n",
    "    return { \"last\": val }\n",
    "    "
   ]
  },
  {
   "cell_type": "markdown",
   "metadata": {},
   "source": [
    "# Assign features to functions\n",
    "funcs_to_features arrays define pairs of funcs (can be a list of functions or a single one) and features that should get these functions calculated. Overlapping is allowed.\n",
    "\n",
    "There is a list for time-series functions (as described before) and for global function (like scalar->dummies). Both are inverted to feature_to_funcs maps."
   ]
  },
  {
   "cell_type": "code",
   "execution_count": 18,
   "metadata": {
    "collapsed": false,
    "scrolled": true
   },
   "outputs": [],
   "source": [
    "ts_funcs_to_features = [ \n",
    "    { \n",
    "        \"funcs\": [ ts_stats, ts_mean_slope, ts_pct_diff ],\n",
    "        \"features\": [\n",
    "            'ALSFRS_Total', 'weight', 'Albumin', 'Creatinine',\n",
    "            'bp_diastolic', 'bp_systolic', 'pulse', 'respiratory_rate', 'temperature',\n",
    "        ]\n",
    "    },\n",
    "    {\n",
    "        \"funcs\": ts_last_value,\n",
    "        \"features\": [\n",
    "            'ALSFRS_Total', 'BMI', 'height', 'Age', 'onset_delta', 'Albumin', 'Creatinine',\n",
    "        ]\n",
    "    },\n",
    "    { \n",
    "        \"funcs\": ts_pct_diff,\n",
    "        \"features\": [ \n",
    "            'fvc_percent',\n",
    "        ]\n",
    "    },\n",
    "    {\n",
    "        \"funcs\": last_boolean,\n",
    "        \"features\": [\n",
    "            'family_ALS_hist',\n",
    "        ]\n",
    "    }\n",
    "]\n",
    "\n",
    "global_funcs_to_features = [ \n",
    "    { \n",
    "        \"funcs\": scalar_feature_to_dummies,\n",
    "        \"features\": [ 'Gender', 'Race' ]\n",
    "    }   \n",
    "]\n",
    "\n",
    "def invert_func_to_features(ftf):\n",
    "    res = defaultdict(set)\n",
    "    for ff in ftf:\n",
    "        funcs = ff['funcs']\n",
    "        features = ff['features']\n",
    "        if not type(funcs) is list:\n",
    "            funcs = [funcs] # a single function\n",
    "        for func in funcs: \n",
    "            for feature in features:\n",
    "                res[feature].add(func)\n",
    "    return res\n",
    "    \n",
    "ts_feature_to_funcs = invert_func_to_features(ts_funcs_to_features)\n",
    "global_feature_to_funcs = invert_func_to_features(global_funcs_to_features)\n",
    "\n",
    "all_feature_to_funcs = ts_feature_to_funcs.copy()\n",
    "all_feature_to_funcs.update(global_feature_to_funcs)"
   ]
  },
  {
   "cell_type": "markdown",
   "metadata": {},
   "source": [
    "## Calculate all features"
   ]
  },
  {
   "cell_type": "code",
   "execution_count": 11,
   "metadata": {
    "collapsed": false
   },
   "outputs": [],
   "source": [
    "def to_series(f):\n",
    "    def foo(x):\n",
    "        res = f(x)\n",
    "        if res is None: \n",
    "            return None\n",
    "        else:\n",
    "            return pd.Series(f(x))\n",
    "        \n",
    "    return foo\n",
    "\n",
    "\n",
    "def vectorize(df, ts_feature_to_funcs, global_feature_to_funcs):\n",
    "    vectorized = pd.DataFrame(index=df.SubjectID.unique())\n",
    "    feature_groups = defaultdict(set)\n",
    "    \n",
    "    # Global functions: receive (df,feature), return DataFrame with SubjectID as index and columns for features\n",
    "    for feature, funcs in global_feature_to_funcs.iteritems():\n",
    "        for func in funcs: \n",
    "            res = func(df, feature)\n",
    "            vectorized = pd.merge(vectorized, res, how='left', right_index=True, left_index=True)\n",
    "            for f in res.columns:\n",
    "                feature_groups[feature].add(f)\n",
    "    \n",
    "    \n",
    "    # Time Series functions: receive time-series data, return a dict from feature_suffix (\"mean\", \"median\", \"last\", ...) to value\n",
    "    # Those are being run on a specific SubjectID and within the allowed timeframe.\n",
    "    pointintime_data = df[df.feature_delta < 92]\n",
    "    pointintime_data = pointintime_data.drop_duplicates(subset = ['SubjectID', 'feature_name' ,'feature_delta'], take_last=True)\n",
    "    \n",
    "    for feature, funcs in ts_feature_to_funcs.iteritems():\n",
    "        feature_ts_data = pointintime_data[pointintime_data.feature_name == feature]\n",
    "        for func in funcs: \n",
    "            res = pd.DataFrame(feature_ts_data.groupby('SubjectID').apply(to_series(func)))\n",
    "            res.columns = [ feature + \"_\" + str(col_suffix) for col_suffix in res.columns ]\n",
    "            vectorized = pd.merge(vectorized, res, how='left', right_index=True, left_index=True)  \n",
    "            for f in res.columns:\n",
    "                feature_groups[feature].add(f)\n",
    "\n",
    "    return vectorized, feature_groups"
   ]
  },
  {
   "cell_type": "code",
   "execution_count": 12,
   "metadata": {
    "collapsed": false
   },
   "outputs": [
    {
     "data": {
      "text/html": [
       "<div>\n",
       "<table border=\"1\" class=\"dataframe\">\n",
       "  <thead>\n",
       "    <tr style=\"text-align: right;\">\n",
       "      <th></th>\n",
       "      <th>F</th>\n",
       "      <th>M</th>\n",
       "      <th>Asian</th>\n",
       "      <th>Black</th>\n",
       "      <th>Hispanic</th>\n",
       "      <th>Other</th>\n",
       "      <th>Unknown</th>\n",
       "      <th>White</th>\n",
       "      <th>family_ALS_hist_last</th>\n",
       "      <th>weight_mean_slope</th>\n",
       "      <th>...</th>\n",
       "      <th>ALSFRS_Total_last</th>\n",
       "      <th>ALSFRS_Total_pct_diff</th>\n",
       "      <th>ALSFRS_Total_mean</th>\n",
       "      <th>ALSFRS_Total_median</th>\n",
       "      <th>ALSFRS_Total_std</th>\n",
       "      <th>temperature_mean_slope</th>\n",
       "      <th>temperature_pct_diff</th>\n",
       "      <th>temperature_mean</th>\n",
       "      <th>temperature_median</th>\n",
       "      <th>temperature_std</th>\n",
       "    </tr>\n",
       "  </thead>\n",
       "  <tbody>\n",
       "    <tr>\n",
       "      <th>533</th>\n",
       "      <td>1</td>\n",
       "      <td>0</td>\n",
       "      <td>0</td>\n",
       "      <td>0</td>\n",
       "      <td>0</td>\n",
       "      <td>0</td>\n",
       "      <td>0</td>\n",
       "      <td>1</td>\n",
       "      <td>NaN</td>\n",
       "      <td>0.004337</td>\n",
       "      <td>...</td>\n",
       "      <td>29</td>\n",
       "      <td>-0.000366</td>\n",
       "      <td>28.666667</td>\n",
       "      <td>29</td>\n",
       "      <td>1.527525</td>\n",
       "      <td>0.007123</td>\n",
       "      <td>-0.000092</td>\n",
       "      <td>35.825</td>\n",
       "      <td>35.9</td>\n",
       "      <td>0.236291</td>\n",
       "    </tr>\n",
       "    <tr>\n",
       "      <th>649</th>\n",
       "      <td>1</td>\n",
       "      <td>0</td>\n",
       "      <td>0</td>\n",
       "      <td>0</td>\n",
       "      <td>0</td>\n",
       "      <td>0</td>\n",
       "      <td>0</td>\n",
       "      <td>1</td>\n",
       "      <td>NaN</td>\n",
       "      <td>0.035425</td>\n",
       "      <td>...</td>\n",
       "      <td>36</td>\n",
       "      <td>0.000000</td>\n",
       "      <td>35.666667</td>\n",
       "      <td>36</td>\n",
       "      <td>0.577350</td>\n",
       "      <td>NaN</td>\n",
       "      <td>NaN</td>\n",
       "      <td>NaN</td>\n",
       "      <td>NaN</td>\n",
       "      <td>NaN</td>\n",
       "    </tr>\n",
       "    <tr>\n",
       "      <th>1234</th>\n",
       "      <td>0</td>\n",
       "      <td>1</td>\n",
       "      <td>0</td>\n",
       "      <td>0</td>\n",
       "      <td>0</td>\n",
       "      <td>0</td>\n",
       "      <td>0</td>\n",
       "      <td>1</td>\n",
       "      <td>NaN</td>\n",
       "      <td>0.012698</td>\n",
       "      <td>...</td>\n",
       "      <td>21</td>\n",
       "      <td>0.000000</td>\n",
       "      <td>21.250000</td>\n",
       "      <td>21</td>\n",
       "      <td>2.061553</td>\n",
       "      <td>NaN</td>\n",
       "      <td>NaN</td>\n",
       "      <td>NaN</td>\n",
       "      <td>NaN</td>\n",
       "      <td>NaN</td>\n",
       "    </tr>\n",
       "    <tr>\n",
       "      <th>2492</th>\n",
       "      <td>0</td>\n",
       "      <td>1</td>\n",
       "      <td>0</td>\n",
       "      <td>0</td>\n",
       "      <td>0</td>\n",
       "      <td>0</td>\n",
       "      <td>0</td>\n",
       "      <td>1</td>\n",
       "      <td>NaN</td>\n",
       "      <td>0.000000</td>\n",
       "      <td>...</td>\n",
       "      <td>30</td>\n",
       "      <td>0.000000</td>\n",
       "      <td>30.000000</td>\n",
       "      <td>30</td>\n",
       "      <td>0.000000</td>\n",
       "      <td>-0.017647</td>\n",
       "      <td>-0.000476</td>\n",
       "      <td>36.800</td>\n",
       "      <td>36.8</td>\n",
       "      <td>0.424264</td>\n",
       "    </tr>\n",
       "    <tr>\n",
       "      <th>2956</th>\n",
       "      <td>1</td>\n",
       "      <td>0</td>\n",
       "      <td>0</td>\n",
       "      <td>0</td>\n",
       "      <td>0</td>\n",
       "      <td>0</td>\n",
       "      <td>0</td>\n",
       "      <td>1</td>\n",
       "      <td>NaN</td>\n",
       "      <td>-0.032251</td>\n",
       "      <td>...</td>\n",
       "      <td>32</td>\n",
       "      <td>0.000000</td>\n",
       "      <td>31.333333</td>\n",
       "      <td>32</td>\n",
       "      <td>1.154701</td>\n",
       "      <td>NaN</td>\n",
       "      <td>NaN</td>\n",
       "      <td>NaN</td>\n",
       "      <td>NaN</td>\n",
       "      <td>NaN</td>\n",
       "    </tr>\n",
       "  </tbody>\n",
       "</table>\n",
       "<p>5 rows × 62 columns</p>\n",
       "</div>"
      ],
      "text/plain": [
       "      F  M  Asian  Black  Hispanic  Other  Unknown  White  \\\n",
       "533   1  0      0      0         0      0        0      1   \n",
       "649   1  0      0      0         0      0        0      1   \n",
       "1234  0  1      0      0         0      0        0      1   \n",
       "2492  0  1      0      0         0      0        0      1   \n",
       "2956  1  0      0      0         0      0        0      1   \n",
       "\n",
       "      family_ALS_hist_last  weight_mean_slope       ...         \\\n",
       "533                    NaN           0.004337       ...          \n",
       "649                    NaN           0.035425       ...          \n",
       "1234                   NaN           0.012698       ...          \n",
       "2492                   NaN           0.000000       ...          \n",
       "2956                   NaN          -0.032251       ...          \n",
       "\n",
       "      ALSFRS_Total_last  ALSFRS_Total_pct_diff  ALSFRS_Total_mean  \\\n",
       "533                  29              -0.000366          28.666667   \n",
       "649                  36               0.000000          35.666667   \n",
       "1234                 21               0.000000          21.250000   \n",
       "2492                 30               0.000000          30.000000   \n",
       "2956                 32               0.000000          31.333333   \n",
       "\n",
       "      ALSFRS_Total_median  ALSFRS_Total_std  temperature_mean_slope  \\\n",
       "533                    29          1.527525                0.007123   \n",
       "649                    36          0.577350                     NaN   \n",
       "1234                   21          2.061553                     NaN   \n",
       "2492                   30          0.000000               -0.017647   \n",
       "2956                   32          1.154701                     NaN   \n",
       "\n",
       "      temperature_pct_diff  temperature_mean  temperature_median  \\\n",
       "533              -0.000092            35.825                35.9   \n",
       "649                    NaN               NaN                 NaN   \n",
       "1234                   NaN               NaN                 NaN   \n",
       "2492             -0.000476            36.800                36.8   \n",
       "2956                   NaN               NaN                 NaN   \n",
       "\n",
       "      temperature_std  \n",
       "533          0.236291  \n",
       "649               NaN  \n",
       "1234              NaN  \n",
       "2492         0.424264  \n",
       "2956              NaN  \n",
       "\n",
       "[5 rows x 62 columns]"
      ]
     },
     "execution_count": 12,
     "metadata": {},
     "output_type": "execute_result"
    }
   ],
   "source": [
    "vectorized, feature_groups = vectorize(df, ts_feature_to_funcs, global_feature_to_funcs)\n",
    "vectorized.head()\n"
   ]
  },
  {
   "cell_type": "code",
   "execution_count": null,
   "metadata": {
    "collapsed": false
   },
   "outputs": [],
   "source": []
  },
  {
   "cell_type": "markdown",
   "metadata": {},
   "source": [
    "## Filling empty values with means\n",
    "- NOTE that these have to be the train data means"
   ]
  },
  {
   "cell_type": "code",
   "execution_count": 13,
   "metadata": {
    "collapsed": false
   },
   "outputs": [
    {
     "data": {
      "text/html": [
       "<div>\n",
       "<table border=\"1\" class=\"dataframe\">\n",
       "  <thead>\n",
       "    <tr style=\"text-align: right;\">\n",
       "      <th></th>\n",
       "      <th>F</th>\n",
       "      <th>M</th>\n",
       "      <th>Asian</th>\n",
       "      <th>Black</th>\n",
       "      <th>Hispanic</th>\n",
       "      <th>Other</th>\n",
       "      <th>Unknown</th>\n",
       "      <th>White</th>\n",
       "      <th>family_ALS_hist_last</th>\n",
       "      <th>weight_mean_slope</th>\n",
       "      <th>...</th>\n",
       "      <th>ALSFRS_Total_last</th>\n",
       "      <th>ALSFRS_Total_pct_diff</th>\n",
       "      <th>ALSFRS_Total_mean</th>\n",
       "      <th>ALSFRS_Total_median</th>\n",
       "      <th>ALSFRS_Total_std</th>\n",
       "      <th>temperature_mean_slope</th>\n",
       "      <th>temperature_pct_diff</th>\n",
       "      <th>temperature_mean</th>\n",
       "      <th>temperature_median</th>\n",
       "      <th>temperature_std</th>\n",
       "    </tr>\n",
       "  </thead>\n",
       "  <tbody>\n",
       "    <tr>\n",
       "      <th>533</th>\n",
       "      <td>1</td>\n",
       "      <td>0</td>\n",
       "      <td>0</td>\n",
       "      <td>0</td>\n",
       "      <td>0</td>\n",
       "      <td>0</td>\n",
       "      <td>0</td>\n",
       "      <td>1</td>\n",
       "      <td>0.208791</td>\n",
       "      <td>0.004337</td>\n",
       "      <td>...</td>\n",
       "      <td>29</td>\n",
       "      <td>-0.000366</td>\n",
       "      <td>28.666667</td>\n",
       "      <td>29</td>\n",
       "      <td>1.527525</td>\n",
       "      <td>0.007123</td>\n",
       "      <td>-0.000092</td>\n",
       "      <td>35.825000</td>\n",
       "      <td>35.900000</td>\n",
       "      <td>0.236291</td>\n",
       "    </tr>\n",
       "    <tr>\n",
       "      <th>649</th>\n",
       "      <td>1</td>\n",
       "      <td>0</td>\n",
       "      <td>0</td>\n",
       "      <td>0</td>\n",
       "      <td>0</td>\n",
       "      <td>0</td>\n",
       "      <td>0</td>\n",
       "      <td>1</td>\n",
       "      <td>0.208791</td>\n",
       "      <td>0.035425</td>\n",
       "      <td>...</td>\n",
       "      <td>36</td>\n",
       "      <td>0.000000</td>\n",
       "      <td>35.666667</td>\n",
       "      <td>36</td>\n",
       "      <td>0.577350</td>\n",
       "      <td>-0.000352</td>\n",
       "      <td>0.000062</td>\n",
       "      <td>36.583229</td>\n",
       "      <td>36.575167</td>\n",
       "      <td>0.416010</td>\n",
       "    </tr>\n",
       "    <tr>\n",
       "      <th>1234</th>\n",
       "      <td>0</td>\n",
       "      <td>1</td>\n",
       "      <td>0</td>\n",
       "      <td>0</td>\n",
       "      <td>0</td>\n",
       "      <td>0</td>\n",
       "      <td>0</td>\n",
       "      <td>1</td>\n",
       "      <td>0.208791</td>\n",
       "      <td>0.012698</td>\n",
       "      <td>...</td>\n",
       "      <td>21</td>\n",
       "      <td>0.000000</td>\n",
       "      <td>21.250000</td>\n",
       "      <td>21</td>\n",
       "      <td>2.061553</td>\n",
       "      <td>-0.000352</td>\n",
       "      <td>0.000062</td>\n",
       "      <td>36.583229</td>\n",
       "      <td>36.575167</td>\n",
       "      <td>0.416010</td>\n",
       "    </tr>\n",
       "    <tr>\n",
       "      <th>2492</th>\n",
       "      <td>0</td>\n",
       "      <td>1</td>\n",
       "      <td>0</td>\n",
       "      <td>0</td>\n",
       "      <td>0</td>\n",
       "      <td>0</td>\n",
       "      <td>0</td>\n",
       "      <td>1</td>\n",
       "      <td>0.208791</td>\n",
       "      <td>0.000000</td>\n",
       "      <td>...</td>\n",
       "      <td>30</td>\n",
       "      <td>0.000000</td>\n",
       "      <td>30.000000</td>\n",
       "      <td>30</td>\n",
       "      <td>0.000000</td>\n",
       "      <td>-0.017647</td>\n",
       "      <td>-0.000476</td>\n",
       "      <td>36.800000</td>\n",
       "      <td>36.800000</td>\n",
       "      <td>0.424264</td>\n",
       "    </tr>\n",
       "    <tr>\n",
       "      <th>2956</th>\n",
       "      <td>1</td>\n",
       "      <td>0</td>\n",
       "      <td>0</td>\n",
       "      <td>0</td>\n",
       "      <td>0</td>\n",
       "      <td>0</td>\n",
       "      <td>0</td>\n",
       "      <td>1</td>\n",
       "      <td>0.208791</td>\n",
       "      <td>-0.032251</td>\n",
       "      <td>...</td>\n",
       "      <td>32</td>\n",
       "      <td>0.000000</td>\n",
       "      <td>31.333333</td>\n",
       "      <td>32</td>\n",
       "      <td>1.154701</td>\n",
       "      <td>-0.000352</td>\n",
       "      <td>0.000062</td>\n",
       "      <td>36.583229</td>\n",
       "      <td>36.575167</td>\n",
       "      <td>0.416010</td>\n",
       "    </tr>\n",
       "  </tbody>\n",
       "</table>\n",
       "<p>5 rows × 62 columns</p>\n",
       "</div>"
      ],
      "text/plain": [
       "      F  M  Asian  Black  Hispanic  Other  Unknown  White  \\\n",
       "533   1  0      0      0         0      0        0      1   \n",
       "649   1  0      0      0         0      0        0      1   \n",
       "1234  0  1      0      0         0      0        0      1   \n",
       "2492  0  1      0      0         0      0        0      1   \n",
       "2956  1  0      0      0         0      0        0      1   \n",
       "\n",
       "      family_ALS_hist_last  weight_mean_slope       ...         \\\n",
       "533               0.208791           0.004337       ...          \n",
       "649               0.208791           0.035425       ...          \n",
       "1234              0.208791           0.012698       ...          \n",
       "2492              0.208791           0.000000       ...          \n",
       "2956              0.208791          -0.032251       ...          \n",
       "\n",
       "      ALSFRS_Total_last  ALSFRS_Total_pct_diff  ALSFRS_Total_mean  \\\n",
       "533                  29              -0.000366          28.666667   \n",
       "649                  36               0.000000          35.666667   \n",
       "1234                 21               0.000000          21.250000   \n",
       "2492                 30               0.000000          30.000000   \n",
       "2956                 32               0.000000          31.333333   \n",
       "\n",
       "      ALSFRS_Total_median  ALSFRS_Total_std  temperature_mean_slope  \\\n",
       "533                    29          1.527525                0.007123   \n",
       "649                    36          0.577350               -0.000352   \n",
       "1234                   21          2.061553               -0.000352   \n",
       "2492                   30          0.000000               -0.017647   \n",
       "2956                   32          1.154701               -0.000352   \n",
       "\n",
       "      temperature_pct_diff  temperature_mean  temperature_median  \\\n",
       "533              -0.000092         35.825000           35.900000   \n",
       "649               0.000062         36.583229           36.575167   \n",
       "1234              0.000062         36.583229           36.575167   \n",
       "2492             -0.000476         36.800000           36.800000   \n",
       "2956              0.000062         36.583229           36.575167   \n",
       "\n",
       "      temperature_std  \n",
       "533          0.236291  \n",
       "649          0.416010  \n",
       "1234         0.416010  \n",
       "2492         0.424264  \n",
       "2956         0.416010  \n",
       "\n",
       "[5 rows x 62 columns]"
      ]
     },
     "execution_count": 13,
     "metadata": {},
     "output_type": "execute_result"
    }
   ],
   "source": [
    "train_data_means = vectorized.mean()\n",
    "vectorized = vectorized.fillna(train_data_means)\n",
    "vectorized.head()\n"
   ]
  },
  {
   "cell_type": "markdown",
   "metadata": {},
   "source": [
    "# Calculate ZScore for all columns"
   ]
  },
  {
   "cell_type": "code",
   "execution_count": 14,
   "metadata": {
    "collapsed": true
   },
   "outputs": [],
   "source": [
    "def calc_all_zscore(vectorized):\n",
    "    for col in vectorized.columns:\n",
    "        try:\n",
    "            col_zscore = col + '_zscore'\n",
    "            data = vectorized[col].astype('float')\n",
    "            vectorized[col_zscore] = (data - data.mean())/data.std(ddof=0)\n",
    "        except:\n",
    "            pass\n",
    "            \n"
   ]
  },
  {
   "cell_type": "code",
   "execution_count": null,
   "metadata": {
    "collapsed": false
   },
   "outputs": [],
   "source": []
  },
  {
   "cell_type": "markdown",
   "metadata": {},
   "source": [
    "## Run everything on `test` and `train`"
   ]
  },
  {
   "cell_type": "code",
   "execution_count": 17,
   "metadata": {
    "collapsed": false
   },
   "outputs": [
    {
     "name": "stdout",
     "output_type": "stream",
     "text": [
      "train (1777, 124)\n",
      "test (600, 124)\n"
     ]
    }
   ],
   "source": [
    "train_vectorized, train_feature_groups = vectorize(df, ts_feature_to_funcs, global_feature_to_funcs)\n",
    "train_data_means = train_vectorized.mean()\n",
    "\n",
    "for t in [\"train\", \"test\"]:\n",
    "    df = pd.read_csv('../' + t + '_data.csv', sep = '|', error_bad_lines=False, index_col=False, dtype='unicode')\n",
    "    df.loc[:,'feature_delta'] = df.feature_delta.apply(parse_feature_delta)\n",
    "    df = df[df.feature_delta < 92]\n",
    "\n",
    "    vectorized, feature_groups = vectorize(df, ts_feature_to_funcs, global_feature_to_funcs)\n",
    "    vectorized = vectorized.fillna(train_data_means)\n",
    "    calc_all_zscore(vectorized)\n",
    "  \n",
    "    vectorized.index.name='SubjectID'\n",
    "    print t, vectorized.shape\n",
    "    vectorized.to_csv('../' + t + '_data_vectorized.csv' ,sep='|')\n",
    "    \n",
    "\n",
    "pickle.dump( feature_groups, open('../feature_groups.pickle', 'wb') )"
   ]
  },
  {
   "cell_type": "code",
   "execution_count": null,
   "metadata": {
    "collapsed": false
   },
   "outputs": [],
   "source": []
  },
  {
   "cell_type": "code",
   "execution_count": null,
   "metadata": {
    "collapsed": false
   },
   "outputs": [],
   "source": []
  },
  {
   "cell_type": "code",
   "execution_count": null,
   "metadata": {
    "collapsed": false
   },
   "outputs": [],
   "source": []
  },
  {
   "cell_type": "code",
   "execution_count": null,
   "metadata": {
    "collapsed": false
   },
   "outputs": [],
   "source": []
  },
  {
   "cell_type": "code",
   "execution_count": null,
   "metadata": {
    "collapsed": false
   },
   "outputs": [],
   "source": []
  },
  {
   "cell_type": "code",
   "execution_count": null,
   "metadata": {
    "collapsed": true
   },
   "outputs": [],
   "source": []
  }
 ],
 "metadata": {
  "kernelspec": {
   "display_name": "Python 2",
   "language": "python",
   "name": "python2"
  },
  "language_info": {
   "codemirror_mode": {
    "name": "ipython",
    "version": 2
   },
   "file_extension": ".py",
   "mimetype": "text/x-python",
   "name": "python",
   "nbconvert_exporter": "python",
   "pygments_lexer": "ipython2",
   "version": "2.7.10"
  }
 },
 "nbformat": 4,
 "nbformat_minor": 0
}
