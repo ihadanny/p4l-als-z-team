{
 "cells": [
  {
   "cell_type": "markdown",
   "metadata": {
    "collapsed": true
   },
   "source": [
    "## Builds all our models x-validated\n"
   ]
  },
  {
   "cell_type": "code",
   "execution_count": 1,
   "metadata": {
    "collapsed": false
   },
   "outputs": [],
   "source": [
    "from IPython.display import display\n",
    "\n",
    "import pandas as pd\n",
    "import numpy as np\n",
    "import pickle\n",
    "from sklearn.cluster import KMeans\n",
    "from StringIO import StringIO\n",
    "from sklearn import metrics\n",
    "from sklearn.cross_validation import KFold\n",
    "\n",
    "from vectorizing_funcs import *\n",
    "from modeling_funcs import *\n"
   ]
  },
  {
   "cell_type": "code",
   "execution_count": 2,
   "metadata": {
    "collapsed": false
   },
   "outputs": [
    {
     "name": "stdout",
     "output_type": "stream",
     "text": [
      "df:  (1642927, 6) 2424\n",
      "slope:  (2424, 1) 2424\n"
     ]
    },
    {
     "data": {
      "text/html": [
       "<div>\n",
       "<table border=\"1\" class=\"dataframe\">\n",
       "  <thead>\n",
       "    <tr style=\"text-align: right;\">\n",
       "      <th></th>\n",
       "      <th>SubjectID</th>\n",
       "      <th>form_name</th>\n",
       "      <th>feature_name</th>\n",
       "      <th>feature_value</th>\n",
       "      <th>feature_unit</th>\n",
       "      <th>feature_delta</th>\n",
       "    </tr>\n",
       "  </thead>\n",
       "  <tbody>\n",
       "    <tr>\n",
       "      <th>0</th>\n",
       "      <td>533</td>\n",
       "      <td>Demographic</td>\n",
       "      <td>Gender</td>\n",
       "      <td>F</td>\n",
       "      <td>NaN</td>\n",
       "      <td>0.0</td>\n",
       "    </tr>\n",
       "    <tr>\n",
       "      <th>1</th>\n",
       "      <td>533</td>\n",
       "      <td>Demographic</td>\n",
       "      <td>Age</td>\n",
       "      <td>65</td>\n",
       "      <td>NaN</td>\n",
       "      <td>0.0</td>\n",
       "    </tr>\n",
       "  </tbody>\n",
       "</table>\n",
       "</div>"
      ],
      "text/plain": [
       "  SubjectID    form_name feature_name feature_value feature_unit feature_delta\n",
       "0       533  Demographic       Gender             F          NaN           0.0\n",
       "1       533  Demographic          Age            65          NaN           0.0"
      ]
     },
     "metadata": {},
     "output_type": "display_data"
    },
    {
     "data": {
      "text/html": [
       "<div>\n",
       "<table border=\"1\" class=\"dataframe\">\n",
       "  <thead>\n",
       "    <tr style=\"text-align: right;\">\n",
       "      <th></th>\n",
       "      <th>ALSFRS_slope</th>\n",
       "    </tr>\n",
       "    <tr>\n",
       "      <th>SubjectID</th>\n",
       "      <th></th>\n",
       "    </tr>\n",
       "  </thead>\n",
       "  <tbody>\n",
       "    <tr>\n",
       "      <th>533</th>\n",
       "      <td>-0.965608</td>\n",
       "    </tr>\n",
       "    <tr>\n",
       "      <th>649</th>\n",
       "      <td>-0.921717</td>\n",
       "    </tr>\n",
       "  </tbody>\n",
       "</table>\n",
       "</div>"
      ],
      "text/plain": [
       "           ALSFRS_slope\n",
       "SubjectID              \n",
       "533           -0.965608\n",
       "649           -0.921717"
      ]
     },
     "metadata": {},
     "output_type": "display_data"
    }
   ],
   "source": [
    "df = pd.read_csv('../all_data.csv', sep = '|', error_bad_lines=False, index_col=False, dtype='unicode')\n",
    "slope = pd.read_csv('../all_slope.csv', sep = '|', index_col=\"SubjectID\")\n",
    "slope.index = slope.index.astype(str)\n",
    "\n",
    "print \"df: \", df.shape, df.SubjectID.unique().size\n",
    "print \"slope: \", slope.shape, slope.index.unique().size\n",
    "display(df.head(2))\n",
    "display(slope.head(2))"
   ]
  },
  {
   "cell_type": "code",
   "execution_count": 3,
   "metadata": {
    "collapsed": false
   },
   "outputs": [],
   "source": [
    "clustering_columns = [u'Asian', u'Black', u'Hispanic', u'Other', u'Unknown', u'White',\n",
    "       u'mouth_last', u'mouth_mean_slope',u'hands_last',\n",
    "       u'hands_mean_slope',u'onset_delta_last', u'ALSFRS_Total_last',\n",
    "       u'ALSFRS_Total_mean_slope',u'BMI_last', u'fvc_percent_mean_slope', \n",
    "                     u'respiratory_last', u'respiratory_mean_slope']"
   ]
  },
  {
   "cell_type": "code",
   "execution_count": 4,
   "metadata": {
    "collapsed": true
   },
   "outputs": [],
   "source": [
    "def apply_on_test(test_data, all_feature_metadata, train_data_means, train_data_std, \n",
    "                 clustering_columns, kmeans, best_features_per_cluster, model_per_cluster):\n",
    "    \n",
    "    # Vectorizing\n",
    "    vectorized, _ = vectorize(test_data, all_feature_metadata)\n",
    "    normalized, _ = normalize(vectorized, all_feature_metadata, train_data_means, train_data_std)\n",
    "    \n",
    "    print \"applying on: \", normalized.shape\n",
    "    \n",
    "    # Clustering\n",
    "    \n",
    "    for_clustering = normalized[clustering_columns]\n",
    "    clusters = pd.DataFrame(index = for_clustering.index.astype(str))\n",
    "    clusters['cluster'] = kmeans.predict(for_clustering)\n",
    "    print \"applied cluster cnt: \", np.bincount(clusters.cluster)\n",
    "\n",
    "    X = normalized.join(clusters)\n",
    "    \n",
    "    buf = filter_only_selected_features(test_data.set_index(\"SubjectID\"), clusters, \\\n",
    "                                        best_features_per_cluster)    \n",
    "    s_df = pd.read_csv(StringIO(buf), sep='|', index_col=False, dtype='unicode')\n",
    "    s_vectorized, _ = vectorize(s_df, all_feature_metadata)\n",
    "    s_normalized, _ = normalize(s_vectorized, all_feature_metadata, train_data_means, train_data_std)    \n",
    "    input_for_model = s_normalized.join(clusters)    \n",
    "    \n",
    "    pred = input_for_model.apply(apply_model, args=[model_per_cluster], axis = 1)\n",
    "    return input_for_model, pred\n",
    "    "
   ]
  },
  {
   "cell_type": "code",
   "execution_count": 5,
   "metadata": {
    "collapsed": false
   },
   "outputs": [],
   "source": [
    "def train_it(train_data, my_n_clusters):\n",
    "        global ts_funcs_to_features\n",
    "        # Prepare metadata\n",
    "        ts_funcs_to_features = add_frequent_lab_tests_to_ts_features(train_data, ts_funcs_to_features)\n",
    "        all_feature_metadata = invert_func_to_features(ts_funcs_to_features, \"ts\")\n",
    "        all_feature_metadata.update(invert_func_to_features(dummy_funcs_to_features, \"dummy\"))\n",
    "        all_feature_metadata = learn_to_dummies_model(train_data, all_feature_metadata)\n",
    "        \n",
    "        # Vectorizing\n",
    "        vectorized, all_feature_metadata = vectorize(train_data, all_feature_metadata)\n",
    "        train_data_means = vectorized.mean()\n",
    "        train_data_std = vectorized.std()            \n",
    "        normalized, all_feature_metadata = normalize(vectorized, all_feature_metadata, train_data_means, train_data_std)\n",
    "\n",
    "        print \"train_data: \", normalized.shape\n",
    "        \n",
    "        # Clustering\n",
    "        for_clustering = normalized[clustering_columns]\n",
    "        kmeans = KMeans(init='k-means++', n_clusters=my_n_clusters)\n",
    "        # Note we must convert to str to join with slope later\n",
    "        clusters = pd.DataFrame(index = for_clustering.index.astype(str))\n",
    "        clusters['cluster'] = kmeans.fit_predict(for_clustering)\n",
    "        print \"train cluster cnt: \", np.bincount(clusters.cluster)\n",
    "\n",
    "        X = normalized.join(clusters)\n",
    "        Y = slope.join(clusters)\n",
    "\n",
    "        best_features_per_cluster = get_best_features_per_cluster(X, Y, all_feature_metadata)\n",
    "        print \"best_features_per_cluster: \", best_features_per_cluster \n",
    "        buf = filter_only_selected_features(train_data.set_index(\"SubjectID\"), clusters, \\\n",
    "                                            best_features_per_cluster)\n",
    "\n",
    "        s_df = pd.read_csv(StringIO(buf), sep='|', index_col=False, dtype='unicode')\n",
    "        s_vectorized, _ = vectorize(s_df, all_feature_metadata)\n",
    "        s_normalized, _ = normalize(s_vectorized, all_feature_metadata, train_data_means, train_data_std)    \n",
    "        s_X = s_normalized.join(clusters)\n",
    "        \n",
    "        model_per_cluster = get_model_per_cluster(s_X, Y)\n",
    "        \n",
    "        return all_feature_metadata, train_data_means, train_data_std, \\\n",
    "                     kmeans, best_features_per_cluster, model_per_cluster\n"
   ]
  },
  {
   "cell_type": "code",
   "execution_count": 6,
   "metadata": {
    "collapsed": false,
    "scrolled": true
   },
   "outputs": [],
   "source": [
    "from datetime import datetime\n",
    "\n",
    "def train_and_test(df, slope, my_n_clusters=3):\n",
    "    kf = KFold(df.SubjectID.unique().size, n_folds=3)\n",
    "    fold, test_rmse, train_rmse = 0, 0.0, 0.0\n",
    "\n",
    "    for train, test in kf:\n",
    "        train_data = df[df.SubjectID.isin(df.SubjectID.unique()[train])]\n",
    "        test_data = df[df.SubjectID.isin(df.SubjectID.unique()[test])]\n",
    "        print\n",
    "        print \"*\"*30\n",
    "        print \"fold: %d\" % fold\n",
    "        tick = datetime.now()\n",
    "        \n",
    "        all_feature_metadata, train_data_means, train_data_std, \\\n",
    "                     kmeans, best_features_per_cluster, model_per_cluster = train_it(train_data, my_n_clusters)\n",
    "\n",
    "        input_for_model, pred = apply_on_test(train_data, all_feature_metadata, train_data_means, train_data_std, \n",
    "                     clustering_columns, kmeans, best_features_per_cluster, model_per_cluster)\n",
    "        res = pred.join(slope)\n",
    "        train_rmse += np.sqrt(np.mean((res.prediction - res.ALSFRS_slope) ** 2))\n",
    "\n",
    "        input_for_model, pred = apply_on_test(test_data, all_feature_metadata, train_data_means, train_data_std, \n",
    "                     clustering_columns, kmeans, best_features_per_cluster, model_per_cluster)\n",
    "        res = pred.join(slope)\n",
    "        test_rmse += np.sqrt(np.mean((res.prediction - res.ALSFRS_slope) ** 2))\n",
    "        \n",
    "        input_for_model.to_csv('../x_results/test_%d_input_for_model.csv' % fold,sep='|')\n",
    "        res.to_csv('../x_results/test_%d_prediction.csv' % fold,sep='|')\n",
    "\n",
    "        fold += 1\n",
    "        print \"fold RMS Error train, test: \", train_rmse / fold, test_rmse / fold\n",
    "\n",
    "        tock = datetime.now()   \n",
    "        diff = tock - tick \n",
    "        print \"minutes for fold: \", diff.seconds / 60\n",
    "\n",
    "            \n",
    "    print \"X-validated RMS Error train, test: \", train_rmse / kf.n_folds, test_rmse / kf.n_folds\n",
    "\n"
   ]
  },
  {
   "cell_type": "code",
   "execution_count": null,
   "metadata": {
    "collapsed": false
   },
   "outputs": [
    {
     "name": "stdout",
     "output_type": "stream",
     "text": [
      "************************************************************\n",
      "************************************************************\n",
      "\n"
     ]
    }
   ],
   "source": [
    "for n_clusters in range(2, 4):\n",
    "    print \"*\"*60\n",
    "    print \"*\"*60\n",
    "    train_and_test(df, slope, n_clusters)"
   ]
  },
  {
   "cell_type": "code",
   "execution_count": null,
   "metadata": {
    "collapsed": true
   },
   "outputs": [],
   "source": []
  }
 ],
 "metadata": {
  "kernelspec": {
   "display_name": "Python 2",
   "language": "python",
   "name": "python2"
  },
  "language_info": {
   "codemirror_mode": {
    "name": "ipython",
    "version": 2
   },
   "file_extension": ".py",
   "mimetype": "text/x-python",
   "name": "python",
   "nbconvert_exporter": "python",
   "pygments_lexer": "ipython2",
   "version": "2.7.10"
  }
 },
 "nbformat": 4,
 "nbformat_minor": 0
}
