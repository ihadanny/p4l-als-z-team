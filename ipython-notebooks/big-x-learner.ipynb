{
 "cells": [
  {
   "cell_type": "markdown",
   "metadata": {
    "collapsed": true
   },
   "source": [
    "## Builds all our models x-validated\n"
   ]
  },
  {
   "cell_type": "code",
   "execution_count": 1,
   "metadata": {
    "collapsed": false
   },
   "outputs": [],
   "source": [
    "from IPython.display import display\n",
    "\n",
    "import pandas as pd\n",
    "import numpy as np\n",
    "import pickle, cPickle\n",
    "from sklearn.cluster import KMeans\n",
    "from StringIO import StringIO\n",
    "from sklearn import metrics\n",
    "from sklearn.cross_validation import KFold\n",
    "\n",
    "from vectorizing_funcs import *\n",
    "from modeling_funcs import *\n"
   ]
  },
  {
   "cell_type": "code",
   "execution_count": 2,
   "metadata": {
    "collapsed": false
   },
   "outputs": [
    {
     "name": "stdout",
     "output_type": "stream",
     "text": [
      "df:  (1514606, 6) 2205\n",
      "slope:  (2205, 1) 2205\n"
     ]
    },
    {
     "data": {
      "text/html": [
       "<div>\n",
       "<table border=\"1\" class=\"dataframe\">\n",
       "  <thead>\n",
       "    <tr style=\"text-align: right;\">\n",
       "      <th></th>\n",
       "      <th>SubjectID</th>\n",
       "      <th>form_name</th>\n",
       "      <th>feature_name</th>\n",
       "      <th>feature_value</th>\n",
       "      <th>feature_unit</th>\n",
       "      <th>feature_delta</th>\n",
       "    </tr>\n",
       "  </thead>\n",
       "  <tbody>\n",
       "    <tr>\n",
       "      <th>0</th>\n",
       "      <td>533</td>\n",
       "      <td>Demographic</td>\n",
       "      <td>Gender</td>\n",
       "      <td>F</td>\n",
       "      <td>NaN</td>\n",
       "      <td>0.0</td>\n",
       "    </tr>\n",
       "    <tr>\n",
       "      <th>1</th>\n",
       "      <td>533</td>\n",
       "      <td>Demographic</td>\n",
       "      <td>Age</td>\n",
       "      <td>65</td>\n",
       "      <td>NaN</td>\n",
       "      <td>0.0</td>\n",
       "    </tr>\n",
       "  </tbody>\n",
       "</table>\n",
       "</div>"
      ],
      "text/plain": [
       "  SubjectID    form_name feature_name feature_value feature_unit feature_delta\n",
       "0       533  Demographic       Gender             F          NaN           0.0\n",
       "1       533  Demographic          Age            65          NaN           0.0"
      ]
     },
     "metadata": {},
     "output_type": "display_data"
    },
    {
     "data": {
      "text/html": [
       "<div>\n",
       "<table border=\"1\" class=\"dataframe\">\n",
       "  <thead>\n",
       "    <tr style=\"text-align: right;\">\n",
       "      <th></th>\n",
       "      <th>ALSFRS_slope</th>\n",
       "    </tr>\n",
       "    <tr>\n",
       "      <th>SubjectID</th>\n",
       "      <th></th>\n",
       "    </tr>\n",
       "  </thead>\n",
       "  <tbody>\n",
       "    <tr>\n",
       "      <th>533</th>\n",
       "      <td>-0.965608</td>\n",
       "    </tr>\n",
       "    <tr>\n",
       "      <th>649</th>\n",
       "      <td>-0.921717</td>\n",
       "    </tr>\n",
       "  </tbody>\n",
       "</table>\n",
       "</div>"
      ],
      "text/plain": [
       "           ALSFRS_slope\n",
       "SubjectID              \n",
       "533           -0.965608\n",
       "649           -0.921717"
      ]
     },
     "metadata": {},
     "output_type": "display_data"
    }
   ],
   "source": [
    "df = pd.read_csv('../all_data.csv', sep = '|', error_bad_lines=False, index_col=False, dtype='unicode')\n",
    "slope = pd.read_csv('../all_slope.csv', sep = '|', index_col=\"SubjectID\")\n",
    "slope.index = slope.index.astype(str)\n",
    "\n",
    "print \"df: \", df.shape, df.SubjectID.unique().size\n",
    "print \"slope: \", slope.shape, slope.index.unique().size\n",
    "display(df.head(2))\n",
    "display(slope.head(2))"
   ]
  },
  {
   "cell_type": "code",
   "execution_count": 3,
   "metadata": {
    "collapsed": false,
    "scrolled": true
   },
   "outputs": [],
   "source": [
    "from datetime import datetime\n",
    "\n",
    "def train_and_test(df, slope, my_n_clusters=2):\n",
    "    kf = KFold(df.SubjectID.unique().size, n_folds=3)\n",
    "    fold, test_rmse, train_rmse, fold_test_rmse, fold_train_rmse = 0, 0.0, 0.0, 0.0, 0.0\n",
    "\n",
    "    for train, test in kf:\n",
    "        train_data = df[df.SubjectID.isin(df.SubjectID.unique()[train])]\n",
    "        test_data = df[df.SubjectID.isin(df.SubjectID.unique()[test])]\n",
    "        print\n",
    "        print \"*\"*30\n",
    "        print \"fold: %d\" % fold\n",
    "        tick = datetime.now()\n",
    "        \n",
    "        all_feature_metadata, \\\n",
    "                    train_data_means, train_data_std, train_data_medians, train_data_mads, \\\n",
    "                    bins, forest, best_features_per_cluster, model_per_cluster = train_it(train_data, slope, my_n_clusters)\n",
    "\n",
    "        input_for_model, pred = apply_on_test(train_data, all_feature_metadata, \n",
    "                    train_data_means, train_data_std, train_data_medians, train_data_mads,\n",
    "                    clustering_columns, bins, forest, best_features_per_cluster, model_per_cluster)\n",
    "        res = pred.join(slope)\n",
    "        fold_train_rmse = np.sqrt(np.mean((res.prediction - res.ALSFRS_slope) ** 2))\n",
    "\n",
    "        input_for_model, pred = apply_on_test(test_data, all_feature_metadata, \n",
    "                    train_data_means, train_data_std, train_data_medians, train_data_mads, \n",
    "                    clustering_columns, bins, forest, best_features_per_cluster, model_per_cluster)\n",
    "        res = pred.join(slope)\n",
    "        fold_test_rmse = np.sqrt(np.mean((res.prediction - res.ALSFRS_slope) ** 2))\n",
    "\n",
    "        input_for_model.to_csv('../x_results/test_%d_input_for_model.csv' % fold,sep='|')\n",
    "        res.to_csv('../x_results/test_%d_prediction.csv' % fold,sep='|')\n",
    "\n",
    "        fold += 1\n",
    "        print \"fold RMS Error train, test: \", fold_train_rmse, fold_test_rmse\n",
    "        print 'pearson correlation r = %.2f ' % scipy.stats.pearsonr(res.prediction, res.ALSFRS_slope)[0]\n",
    "        train_rmse += fold_train_rmse\n",
    "        test_rmse += fold_test_rmse\n",
    "\n",
    "        tock = datetime.now()   \n",
    "        diff = tock - tick \n",
    "        print \"minutes for fold: \", diff.seconds / 60\n",
    "\n",
    "            \n",
    "    print \"X-validated RMS Error train, test: \", train_rmse / kf.n_folds, test_rmse / kf.n_folds\n",
    "\n"
   ]
  },
  {
   "cell_type": "code",
   "execution_count": null,
   "metadata": {
    "collapsed": true
   },
   "outputs": [],
   "source": []
  },
  {
   "cell_type": "code",
   "execution_count": null,
   "metadata": {
    "collapsed": false
   },
   "outputs": [
    {
     "name": "stdout",
     "output_type": "stream",
     "text": [
      "************************************************************\n",
      "n_clusters 6\n",
      "************************************************************\n",
      "\n"
     ]
    }
   ],
   "source": [
    "for n_clusters in range(6, 10):\n",
    "    print \"*\"*60\n",
    "    print \"n_clusters\", n_clusters\n",
    "    print \"*\"*60\n",
    "    train_and_test(df, slope, n_clusters)"
   ]
  },
  {
   "cell_type": "code",
   "execution_count": null,
   "metadata": {
    "collapsed": true
   },
   "outputs": [],
   "source": []
  }
 ],
 "metadata": {
  "kernelspec": {
   "display_name": "Python 2",
   "language": "python",
   "name": "python2"
  },
  "language_info": {
   "codemirror_mode": {
    "name": "ipython",
    "version": 2
   },
   "file_extension": ".py",
   "mimetype": "text/x-python",
   "name": "python",
   "nbconvert_exporter": "python",
   "pygments_lexer": "ipython2",
   "version": "2.7.10"
  }
 },
 "nbformat": 4,
 "nbformat_minor": 0
}
