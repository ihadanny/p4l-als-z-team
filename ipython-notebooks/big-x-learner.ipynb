{
 "cells": [
  {
   "cell_type": "markdown",
   "metadata": {
    "collapsed": true
   },
   "source": [
    "## Builds all our models x-validated\n"
   ]
  },
  {
   "cell_type": "code",
   "execution_count": 7,
   "metadata": {
    "collapsed": false
   },
   "outputs": [],
   "source": [
    "from IPython.display import display\n",
    "\n",
    "import pandas as pd\n",
    "import numpy as np\n",
    "import pickle\n",
    "from sklearn.cluster import KMeans\n",
    "from StringIO import StringIO\n",
    "\n",
    "from vectorizing_funcs import *\n",
    "from modeling_funcs import *\n"
   ]
  },
  {
   "cell_type": "code",
   "execution_count": 8,
   "metadata": {
    "collapsed": false
   },
   "outputs": [
    {
     "name": "stdout",
     "output_type": "stream",
     "text": [
      "df:  (1642927, 6) 2424\n",
      "slope:  (2424, 1) 2424\n"
     ]
    },
    {
     "data": {
      "text/html": [
       "<div>\n",
       "<table border=\"1\" class=\"dataframe\">\n",
       "  <thead>\n",
       "    <tr style=\"text-align: right;\">\n",
       "      <th></th>\n",
       "      <th>SubjectID</th>\n",
       "      <th>form_name</th>\n",
       "      <th>feature_name</th>\n",
       "      <th>feature_value</th>\n",
       "      <th>feature_unit</th>\n",
       "      <th>feature_delta</th>\n",
       "    </tr>\n",
       "  </thead>\n",
       "  <tbody>\n",
       "    <tr>\n",
       "      <th>0</th>\n",
       "      <td>533</td>\n",
       "      <td>Demographic</td>\n",
       "      <td>Gender</td>\n",
       "      <td>F</td>\n",
       "      <td>NaN</td>\n",
       "      <td>0.0</td>\n",
       "    </tr>\n",
       "    <tr>\n",
       "      <th>1</th>\n",
       "      <td>533</td>\n",
       "      <td>Demographic</td>\n",
       "      <td>Age</td>\n",
       "      <td>65</td>\n",
       "      <td>NaN</td>\n",
       "      <td>0.0</td>\n",
       "    </tr>\n",
       "  </tbody>\n",
       "</table>\n",
       "</div>"
      ],
      "text/plain": [
       "  SubjectID    form_name feature_name feature_value feature_unit feature_delta\n",
       "0       533  Demographic       Gender             F          NaN           0.0\n",
       "1       533  Demographic          Age            65          NaN           0.0"
      ]
     },
     "metadata": {},
     "output_type": "display_data"
    },
    {
     "data": {
      "text/html": [
       "<div>\n",
       "<table border=\"1\" class=\"dataframe\">\n",
       "  <thead>\n",
       "    <tr style=\"text-align: right;\">\n",
       "      <th></th>\n",
       "      <th>ALSFRS_slope</th>\n",
       "    </tr>\n",
       "    <tr>\n",
       "      <th>SubjectID</th>\n",
       "      <th></th>\n",
       "    </tr>\n",
       "  </thead>\n",
       "  <tbody>\n",
       "    <tr>\n",
       "      <th>533</th>\n",
       "      <td>-0.965608</td>\n",
       "    </tr>\n",
       "    <tr>\n",
       "      <th>649</th>\n",
       "      <td>-0.921717</td>\n",
       "    </tr>\n",
       "  </tbody>\n",
       "</table>\n",
       "</div>"
      ],
      "text/plain": [
       "           ALSFRS_slope\n",
       "SubjectID              \n",
       "533           -0.965608\n",
       "649           -0.921717"
      ]
     },
     "metadata": {},
     "output_type": "display_data"
    }
   ],
   "source": [
    "df = pd.read_csv('../all_data.csv', sep = '|', error_bad_lines=False, index_col=False, dtype='unicode')\n",
    "slope = pd.read_csv('../all_slope.csv', sep = '|', index_col=\"SubjectID\")\n",
    "slope.index = slope.index.astype(str)\n",
    "\n",
    "print \"df: \", df.shape, df.SubjectID.unique().size\n",
    "print \"slope: \", slope.shape, slope.index.unique().size\n",
    "display(df.head(2))\n",
    "display(slope.head(2))"
   ]
  },
  {
   "cell_type": "code",
   "execution_count": 9,
   "metadata": {
    "collapsed": true
   },
   "outputs": [],
   "source": [
    "all_feature_metadata = invert_func_to_features(ts_funcs_to_features, \"ts\")\n",
    "all_feature_metadata.update(invert_func_to_features(dummy_funcs_to_features, \"dummy\"))"
   ]
  },
  {
   "cell_type": "code",
   "execution_count": 10,
   "metadata": {
    "collapsed": true
   },
   "outputs": [],
   "source": [
    "def apply_on_test(test_data, all_feature_metadata, train_data_means, train_data_std, \n",
    "                 clustering_columns, kmeans, best_features_per_cluster, model_per_cluster):\n",
    "    \n",
    "    # Vectorizing\n",
    "    vectorized, _ = vectorize(test_data, all_feature_metadata)\n",
    "    normalized, _ = normalize(vectorized, all_feature_metadata, train_data_means, train_data_std)\n",
    "    \n",
    "    # Clustering\n",
    "    for_clustering = normalized[clustering_columns]\n",
    "    clusters = pd.DataFrame(index = for_clustering.index.astype(str))\n",
    "    clusters['cluster'] = kmeans.predict(for_clustering)\n",
    "    X = normalized.join(clusters)\n",
    "    \n",
    "    buf = filter_only_selected_features(test_data.set_index(\"SubjectID\"), clusters, \\\n",
    "                                        best_features_per_cluster)    \n",
    "    s_df = pd.read_csv(StringIO(buf), sep='|', index_col=False, dtype='unicode')\n",
    "    s_vectorized, _ = vectorize(s_df, all_feature_metadata)\n",
    "    s_normalized, _ = normalize(s_vectorized, all_feature_metadata, train_data_means, train_data_std)    \n",
    "    s_X = s_normalized.join(clusters)    \n",
    "\n",
    "    pred = s_X.apply(apply_model, args=[model_per_cluster], axis = 1)\n",
    "    return pred\n",
    "    "
   ]
  },
  {
   "cell_type": "code",
   "execution_count": 11,
   "metadata": {
    "collapsed": false,
    "scrolled": true
   },
   "outputs": [
    {
     "name": "stdout",
     "output_type": "stream",
     "text": [
      "fold: 0\n",
      "train_data:  (819377, 6) 1212 496835 999482\n",
      "best_features_per_cluster:  {0: ['Age', 'Gender', 'Race', 'family_ALS_hist', 'height', 'weight'], 1: ['Albumin', 'BMI', 'Gender', 'family_ALS_hist', 'height', 'respiratory_rate'], 2: ['Age', 'BMI', 'Gender', 'bp_diastolic', 'family_ALS_hist', 'fvc_percent']}\n",
      "cluster: 0 size: (306L,)\n",
      "Mean square error (0 is perfect): 0.32\n",
      "Explained variance score (1 is perfect): 0.02\n",
      "\n",
      "cluster: 1 size: (437L,)\n",
      "Mean square error (0 is perfect): 0.40\n",
      "Explained variance score (1 is perfect): 0.00\n",
      "\n",
      "cluster: 2 size: (469L,)\n",
      "Mean square error (0 is perfect): 0.45\n",
      "Explained variance score (1 is perfect): 0.01\n",
      "\n",
      "Train root mean square error (0 is perfect): 0.63\n",
      "fold: 1\n",
      "train_data:  (823550, 6) 1212 100256 99728\n",
      "best_features_per_cluster:  {0: ['Age', 'Gender', 'bp_systolic', 'family_ALS_hist', 'fvc_percent', 'height'], 1: ['Age', 'BMI', 'Gender', 'family_ALS_hist', 'height', 'pulse'], 2: ['Age', 'BMI', 'Gender', 'bp_diastolic', 'family_ALS_hist', 'respiratory_rate']}\n",
      "cluster: 0 size: (459L,)\n",
      "Mean square error (0 is perfect): 0.40\n",
      "Explained variance score (1 is perfect): 0.01\n",
      "\n",
      "cluster: 1 size: (384L,)\n",
      "Mean square error (0 is perfect): 0.34\n",
      "Explained variance score (1 is perfect): 0.01\n",
      "\n",
      "cluster: 2 size: (369L,)\n",
      "Mean square error (0 is perfect): 0.37\n",
      "Explained variance score (1 is perfect): 0.03\n",
      "\n",
      "Train root mean square error (0 is perfect): 0.62\n"
     ]
    }
   ],
   "source": [
    "from sklearn.cross_validation import KFold\n",
    "kf = KFold(df.SubjectID.unique().size, n_folds=2)\n",
    "fold = 0\n",
    "for train, test in kf:\n",
    "    train_data = df[df.SubjectID.isin(df.SubjectID.unique()[train])]\n",
    "    test_data = df[df.SubjectID.isin(df.SubjectID.unique()[test])]\n",
    "    print \"fold: %d\" % fold\n",
    "    print \"train_data: \", train_data.shape, train_data.SubjectID.unique().size, \\\n",
    "            train_data.SubjectID.min(), train_data.SubjectID.max()\n",
    "    \n",
    "    # Vectorizing\n",
    "    all_feature_metadata = learn_to_dummies_model(train_data, all_feature_metadata)\n",
    "    vectorized, all_feature_metadata = vectorize(train_data, all_feature_metadata)\n",
    "    train_data_means = vectorized.mean()\n",
    "    train_data_std = vectorized.std()            \n",
    "    normalized, all_feature_metadata = normalize(vectorized, all_feature_metadata, train_data_means, train_data_std)\n",
    "    \n",
    "    # Clustering\n",
    "    for_clustering = normalized[clustering_columns]\n",
    "    kmeans = KMeans(init='k-means++', n_clusters=3)\n",
    "    #Note we must convert to str to join with slope later\n",
    "    clusters = pd.DataFrame(index = for_clustering.index.astype(str))\n",
    "    clusters['cluster'] = kmeans.fit_predict(for_clustering)\n",
    "    X = normalized.join(clusters)\n",
    "    Y = slope.join(clusters)\n",
    "\n",
    "    best_features_per_cluster = get_best_features_per_cluster(X, Y, all_feature_metadata)\n",
    "    print \"best_features_per_cluster: \", best_features_per_cluster \n",
    "    buf = filter_only_selected_features(train_data.set_index(\"SubjectID\"), clusters, \\\n",
    "                                        best_features_per_cluster)\n",
    "    \n",
    "    s_df = pd.read_csv(StringIO(buf), sep='|', index_col=False, dtype='unicode')\n",
    "    s_vectorized, _ = vectorize(s_df, all_feature_metadata)\n",
    "    s_normalized, _ = normalize(s_vectorized, all_feature_metadata, train_data_means, train_data_std)    \n",
    "    s_X = s_normalized.join(clusters)\n",
    "    \n",
    "    model_per_cluster = get_model_per_cluster(s_X, Y)\n",
    "\n",
    "    pred = apply_on_test(train_data, all_feature_metadata, train_data_means, train_data_std, \n",
    "                 clustering_columns, kmeans, best_features_per_cluster, model_per_cluster)\n",
    "    res = pred.join(slope)\n",
    "    print \"Train root mean square error (0 is perfect): %.2f\" % np.sqrt(np.mean(\n",
    "        (res.prediction - res.ALSFRS_slope) ** 2))\n",
    "\n",
    "\n",
    "    fold += 1\n",
    "\n"
   ]
  },
  {
   "cell_type": "code",
   "execution_count": null,
   "metadata": {
    "collapsed": true
   },
   "outputs": [],
   "source": []
  }
 ],
 "metadata": {
  "kernelspec": {
   "display_name": "Python 2",
   "language": "python",
   "name": "python2"
  },
  "language_info": {
   "codemirror_mode": {
    "name": "ipython",
    "version": 2
   },
   "file_extension": ".py",
   "mimetype": "text/x-python",
   "name": "python",
   "nbconvert_exporter": "python",
   "pygments_lexer": "ipython2",
   "version": "2.7.10"
  }
 },
 "nbformat": 4,
 "nbformat_minor": 0
}
