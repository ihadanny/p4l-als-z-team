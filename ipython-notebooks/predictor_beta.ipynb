{
 "cells": [
  {
   "cell_type": "code",
   "execution_count": 17,
   "metadata": {
    "collapsed": true
   },
   "outputs": [],
   "source": [
    "# Used for predicting ALSFRS_slope (see https://www.synapse.org/#!Synapse:syn2873386/wiki/)\n",
    "# Assumed data is vectorized + clustered + 6 features were selected"
   ]
  },
  {
   "cell_type": "code",
   "execution_count": 49,
   "metadata": {
    "collapsed": false
   },
   "outputs": [],
   "source": [
    "import pandas as pd\n",
    "import numpy as np\n",
    "import pickle\n",
    "from sklearn import linear_model"
   ]
  },
  {
   "cell_type": "code",
   "execution_count": 50,
   "metadata": {
    "collapsed": false
   },
   "outputs": [
    {
     "name": "stdout",
     "output_type": "stream",
     "text": [
      "(1777, 3) (1138647, 7) (1777, 2)\n"
     ]
    }
   ],
   "source": [
    "proact_data = pd.read_csv('../train_data.csv', sep = '|', index_col=False)\n",
    "slope = pd.read_csv('../train_slope.csv', sep = '|', index_col=False)\n",
    "clusters = pd.read_csv('../train_kmeans_clusters.csv', sep = '|', index_col=False)\n",
    "vectorized = pd.read_csv('../train_data_vectorized.csv', sep='|', index_col=False)\n",
    "with open(\"best_features_per_cluster.pickle\", \"rb\") as input_file:\n",
    "    best_features_per_cluster = pickle.load(input_file)\n",
    "\n",
    "X = pd.merge(clusters, proact_data, on = \"SubjectID\")\n",
    "Y = pd.merge(clusters, slope, on = \"SubjectID\")\n",
    "\n",
    "print Y.shape, X.shape, clusters.shape"
   ]
  },
  {
   "cell_type": "code",
   "execution_count": null,
   "metadata": {
    "collapsed": false
   },
   "outputs": [],
   "source": []
  },
  {
   "cell_type": "code",
   "execution_count": null,
   "metadata": {
    "collapsed": false
   },
   "outputs": [],
   "source": []
  },
  {
   "cell_type": "code",
   "execution_count": 52,
   "metadata": {
    "collapsed": false
   },
   "outputs": [
    {
     "name": "stdout",
     "output_type": "stream",
     "text": [
      "cluster: 0 size: (1777, 3)\n",
      "Mean square error (0 is perfect): 0.38\n",
      "Explained variance score (1 is perfect): 0.01\n",
      "cluster: 1 size: (1777, 3)\n",
      "Mean square error (0 is perfect): 0.38\n",
      "Explained variance score (1 is perfect): 0.04\n"
     ]
    }
   ],
   "source": [
    "#from vectorizer_beta import * \n",
    "model_per_cluster = {}\n",
    "\n",
    "def vectorize(clusters, seg_X, c):\n",
    "    seg_vectorized_X = clusters[clusters['cluster'] == c]\n",
    "    for feature_name in best_features_per_cluster[c]:\n",
    "        seg_X_feature = func_per_feature[feature_name](seg_X, feature_name)\n",
    "        seg_vectorized_X = pd.merge(seg_vectorized_X, seg_X_feature, left_on = 'SubjectID', right_index = True, how='left')\n",
    "    return seg_vectorized_X\n",
    "\n",
    "clusters_vectorized = pd.merge(clusters, vectorized, on='SubjectID')\n",
    "for c in clusters['cluster'].unique():\n",
    "    X = clusters_vectorized[clusters_vectorized.cluster==c][best_features_per_cluster[c]]\n",
    "    Y_data = Y[Y['cluster'] == c].ALSFRS_slope\n",
    "    regr = linear_model.LinearRegression()\n",
    "    regr.fit(X, Y_data)\n",
    "\n",
    "    print 'cluster: %d size: %s' % (c, Y.shape)\n",
    "    print \"Mean square error (0 is perfect): %.2f\" % np.mean(\n",
    "        (regr.predict(X) - Y_data) ** 2)\n",
    "    print('Explained variance score (1 is perfect): %.2f' % regr.score(X, Y_data))\n",
    "    print \\\"\"\n",
    "    model_per_cluster[c] = {\"train_data_means\": X.mean(), \"model\" : regr}\n",
    "    \n",
    "    "
   ]
  },
  {
   "cell_type": "code",
   "execution_count": 52,
   "metadata": {
    "collapsed": false
   },
   "outputs": [
    {
     "data": {
      "text/html": [
       "<div>\n",
       "<table border=\"1\" class=\"dataframe\">\n",
       "  <thead>\n",
       "    <tr style=\"text-align: right;\">\n",
       "      <th></th>\n",
       "      <th>cluster</th>\n",
       "      <th>features_list</th>\n",
       "      <th>prediction</th>\n",
       "    </tr>\n",
       "    <tr>\n",
       "      <th>SubjectID</th>\n",
       "      <th></th>\n",
       "      <th></th>\n",
       "      <th></th>\n",
       "    </tr>\n",
       "  </thead>\n",
       "  <tbody>\n",
       "    <tr>\n",
       "      <th>750059</th>\n",
       "      <td>1</td>\n",
       "      <td>weight;pulse;respiratory_rate;bp_diastolic;Rac...</td>\n",
       "      <td>-0.672873</td>\n",
       "    </tr>\n",
       "    <tr>\n",
       "      <th>750094</th>\n",
       "      <td>1</td>\n",
       "      <td>weight;pulse;respiratory_rate;bp_diastolic;Rac...</td>\n",
       "      <td>-0.717716</td>\n",
       "    </tr>\n",
       "    <tr>\n",
       "      <th>750148</th>\n",
       "      <td>1</td>\n",
       "      <td>weight;pulse;respiratory_rate;bp_diastolic;Rac...</td>\n",
       "      <td>-0.809597</td>\n",
       "    </tr>\n",
       "    <tr>\n",
       "      <th>750195</th>\n",
       "      <td>1</td>\n",
       "      <td>weight;pulse;respiratory_rate;bp_diastolic;Rac...</td>\n",
       "      <td>-0.785131</td>\n",
       "    </tr>\n",
       "    <tr>\n",
       "      <th>750406</th>\n",
       "      <td>1</td>\n",
       "      <td>weight;pulse;respiratory_rate;bp_diastolic;Rac...</td>\n",
       "      <td>-0.642105</td>\n",
       "    </tr>\n",
       "  </tbody>\n",
       "</table>\n",
       "</div>"
      ],
      "text/plain": [
       "           cluster                                      features_list  \\\n",
       "SubjectID                                                               \n",
       "750059           1  weight;pulse;respiratory_rate;bp_diastolic;Rac...   \n",
       "750094           1  weight;pulse;respiratory_rate;bp_diastolic;Rac...   \n",
       "750148           1  weight;pulse;respiratory_rate;bp_diastolic;Rac...   \n",
       "750195           1  weight;pulse;respiratory_rate;bp_diastolic;Rac...   \n",
       "750406           1  weight;pulse;respiratory_rate;bp_diastolic;Rac...   \n",
       "\n",
       "           prediction  \n",
       "SubjectID              \n",
       "750059      -0.672873  \n",
       "750094      -0.717716  \n",
       "750148      -0.809597  \n",
       "750195      -0.785131  \n",
       "750406      -0.642105  "
      ]
     },
     "execution_count": 52,
     "metadata": {},
     "output_type": "execute_result"
    }
   ],
   "source": [
    "def calc(x):\n",
    "    c = x['cluster']\n",
    "    model = model_per_cluster[c]['model']\n",
    "    pred = float(model.predict(x))\n",
    "    return pd.Series({'SubjectID': int(x['SubjectID']), 'prediction':pred, 'cluster': int(c), 'features_list': \";\".join(best_features_per_cluster[c])})\n",
    "\n",
    "for t in ['train', 'test']:\n",
    "    proact_data = pd.read_csv('../' + t + '_data.csv', sep = '|', index_col=False)\n",
    "    clusters = pd.read_csv('../' + t + '_kmeans_clusters.csv', sep = '|', index_col=False)\n",
    "    X = pd.merge(clusters, proact_data, on = \"SubjectID\")\n",
    "    final = None\n",
    "    for c in clusters['cluster'].unique():\n",
    "        seg_X = X[X['cluster'] == c]\n",
    "        seg_vectorized_X = vectorize(clusters, seg_X, c)\n",
    "        train_data_means = model_per_cluster[c]['train_data_means']\n",
    "        seg_vectorized_X = seg_vectorized_X.fillna(train_data_means) \n",
    "        pred_c = seg_vectorized_X.apply(calc, axis = 1)\n",
    "        pred_c = pred_c.set_index('SubjectID')\n",
    "        if final is not None:\n",
    "            final = final.append(pred_c)\n",
    "        else:\n",
    "            final = pred_c\n",
    "    final.to_csv('../' + t + '_prediction.csv',sep='|', columns=['prediction', 'cluster', 'features_list'])\n",
    "final.head()"
   ]
  },
  {
   "cell_type": "code",
   "execution_count": null,
   "metadata": {
    "collapsed": true
   },
   "outputs": [],
   "source": []
  }
 ],
 "metadata": {
  "kernelspec": {
   "display_name": "Python 2",
   "language": "python",
   "name": "python2"
  },
  "language_info": {
   "codemirror_mode": {
    "name": "ipython",
    "version": 2
   },
   "file_extension": ".py",
   "mimetype": "text/x-python",
   "name": "python",
   "nbconvert_exporter": "python",
   "pygments_lexer": "ipython2",
   "version": "2.7.5"
  }
 },
 "nbformat": 4,
 "nbformat_minor": 0
}
