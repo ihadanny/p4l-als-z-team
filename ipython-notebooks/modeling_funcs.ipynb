{
 "cells": [
  {
   "cell_type": "markdown",
   "metadata": {},
   "source": [
    "## Clustering hard-coded columns"
   ]
  },
  {
   "cell_type": "code",
   "execution_count": 1,
   "metadata": {
    "collapsed": true
   },
   "outputs": [],
   "source": [
    "clustering_columns = [u'Asian', u'Black', u'Hispanic', u'Other', u'Unknown', u'White',\n",
    "       u'mouth_last', u'mouth_mean_slope',u'hands_last',\n",
    "       u'hands_mean_slope',u'onset_delta_last', u'ALSFRS_Total_last',\n",
    "       u'ALSFRS_Total_mean_slope',u'BMI_last', u'fvc_percent_mean_slope', \n",
    "                     u'respiratory_last', u'respiratory_mean_slope']"
   ]
  },
  {
   "cell_type": "markdown",
   "metadata": {},
   "source": [
    "## Feature selection\n",
    "We currently rank each feature family by regressing with it alone and comparing the regression score"
   ]
  },
  {
   "cell_type": "code",
   "execution_count": 1,
   "metadata": {
    "collapsed": false,
    "scrolled": false
   },
   "outputs": [],
   "source": [
    "from sklearn import linear_model\n",
    "import operator\n",
    "import time\n",
    "from sklearn.linear_model import LassoCV, LassoLarsCV\n",
    "\n",
    "def get_best_features_per_cluster(X, Y, all_feature_metadata):\n",
    "    best_features_per_cluster = {}\n",
    "    for c in X['cluster'].unique():\n",
    "        seg_X, seg_Y = X[X['cluster'] == c], Y[Y['cluster'] == c].ALSFRS_slope\n",
    "        seg_Y = seg_Y.fillna(seg_Y.mean())\n",
    "\n",
    "        score_per_feature = {}\n",
    "\n",
    "        for feature, fm in all_feature_metadata.iteritems():\n",
    "            regr = linear_model.LinearRegression()\n",
    "            X_feature_fam = seg_X[list(fm[\"derived_features\"])]\n",
    "            regr.fit(X_feature_fam, seg_Y)\n",
    "            score_per_feature[feature] = np.sqrt(np.mean((regr.predict(X_feature_fam) - seg_Y) ** 2))\n",
    "            regr.score(X_feature_fam, seg_Y)\n",
    "        best_features_per_cluster[c] = [k for k,v in sorted(score_per_feature.items(), key=operator.itemgetter(1))[:6]]\n",
    "    return best_features_per_cluster"
   ]
  },
  {
   "cell_type": "code",
   "execution_count": 2,
   "metadata": {
    "collapsed": true
   },
   "outputs": [],
   "source": [
    "def stepwise_best_features_per_cluster(X, Y, all_feature_metadata):\n",
    "    best_features_per_cluster = {}\n",
    "    for c in sorted(X['cluster'].unique()):\n",
    "        seg_X, seg_Y = X[X['cluster'] == c], Y[Y['cluster'] == c].ALSFRS_slope\n",
    "        print \"cluster:\", c, \"with size:\", seg_X.shape, \"with mean target:\", seg_Y.mean(), \"std:\", seg_Y.std()\n",
    "        seg_Y = seg_Y.fillna(seg_Y.mean())\n",
    "        \n",
    "        model = LassoCV(cv=5).fit(seg_X, seg_Y)\n",
    "        print \"best we can do with all features:\", np.sqrt(np.mean((model.predict(seg_X) - seg_Y) ** 2))\n",
    "\n",
    "        selected_fams = set()\n",
    "        selected_derived = set()\n",
    "        for i in range(6):\n",
    "            score_per_family = {}\n",
    "            t1 = time.time()\n",
    "            for family, fm in all_feature_metadata.iteritems():\n",
    "                if family not in selected_fams:                    \n",
    "                    X_feature_fam = seg_X[list(selected_derived) + list(fm[\"derived_features\"])]\n",
    "                    model = LassoCV(cv=5).fit(X_feature_fam, seg_Y)\n",
    "                    score_per_family[family] = np.sqrt(np.mean((model.predict(X_feature_fam) - seg_Y) ** 2))\n",
    "            t_lasso_cv = time.time() - t1\n",
    "            best_fam = sorted(score_per_family.items(), key=operator.itemgetter(1))[0]\n",
    "            print \"adding best family:\", best_fam, \"time:\", t_lasso_cv\n",
    "            selected_fams.add(best_fam[0])\n",
    "            selected_derived.update(all_feature_metadata[best_fam[0]][\"derived_features\"])\n",
    "        best_features_per_cluster[c] = list(selected_fams)                          \n",
    "    return best_features_per_cluster\n"
   ]
  },
  {
   "cell_type": "code",
   "execution_count": 3,
   "metadata": {
    "collapsed": false
   },
   "outputs": [],
   "source": [
    "def filter_only_selected_features(df, clusters, best_features_per_cluster, debug=False): \n",
    "    j = df.join(clusters)\n",
    "    buf, is_first = \"\", True\n",
    "    for c, features in best_features_per_cluster.iteritems():\n",
    "        slice = j[j.cluster == c]\n",
    "        selected = slice[slice.feature_name.isin(features)]\n",
    "        if debug:\n",
    "            print c, slice.shape, \" --> \", selected.shape\n",
    "        buf += selected.to_csv(sep='|', header = is_first, columns=df.columns)\n",
    "        is_first = False\n",
    "    return buf\n"
   ]
  },
  {
   "cell_type": "markdown",
   "metadata": {
    "collapsed": true
   },
   "source": [
    "## Prediction\n",
    "We use simple linear regression"
   ]
  },
  {
   "cell_type": "code",
   "execution_count": 4,
   "metadata": {
    "collapsed": true
   },
   "outputs": [],
   "source": [
    "from sklearn import linear_model\n",
    "from sklearn.linear_model import LassoCV, LassoLarsCV\n",
    "import numpy as np\n",
    "\n",
    "def get_model_per_cluster(X, Y):\n",
    "    model_per_cluster = {}\n",
    "    for c in X.cluster.unique():    \n",
    "        X_cluster = X[X.cluster==c]\n",
    "        Y_cluster = Y[Y.cluster == c].ALSFRS_slope\n",
    "        \n",
    "        regr = LassoCV(cv=5)\n",
    "        regr.fit(X_cluster, Y_cluster)\n",
    "\n",
    "        print 'cluster: %d size: %s' % (c, Y_cluster.shape)\n",
    "        print \"\\t RMS error (0 is perfect): %.2f\" % np.sqrt(np.mean(\n",
    "            (regr.predict(X_cluster) - Y_cluster) ** 2))\n",
    "        print('\\t explained variance score (1 is perfect): %.2f' % regr.score(X_cluster, Y_cluster))\n",
    "        print \"3 sample predictions: \", regr.predict(X_cluster)[:3]\n",
    "        model_per_cluster[c] = {\"cluster_train_data_means\": X_cluster.mean(), \"model\" : regr}\n",
    "    return model_per_cluster\n"
   ]
  },
  {
   "cell_type": "code",
   "execution_count": 5,
   "metadata": {
    "collapsed": true
   },
   "outputs": [],
   "source": [
    "import pandas as pd\n",
    "\n",
    "def apply_model(x, model_per_cluster):\n",
    "    c = x['cluster']\n",
    "    model = model_per_cluster[c]['model']\n",
    "    pred = float(model.predict(x))\n",
    "    return pd.Series({'prediction':pred, 'cluster': int(c)})"
   ]
  },
  {
   "cell_type": "code",
   "execution_count": null,
   "metadata": {
    "collapsed": true
   },
   "outputs": [],
   "source": []
  }
 ],
 "metadata": {
  "kernelspec": {
   "display_name": "Python 2",
   "language": "python",
   "name": "python2"
  },
  "language_info": {
   "codemirror_mode": {
    "name": "ipython",
    "version": 2
   },
   "file_extension": ".py",
   "mimetype": "text/x-python",
   "name": "python",
   "nbconvert_exporter": "python",
   "pygments_lexer": "ipython2",
   "version": "2.7.10"
  }
 },
 "nbformat": 4,
 "nbformat_minor": 0
}
