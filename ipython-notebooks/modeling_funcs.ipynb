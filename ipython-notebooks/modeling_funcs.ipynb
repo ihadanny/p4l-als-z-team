{
 "cells": [
  {
   "cell_type": "markdown",
   "metadata": {},
   "source": [
    "## Clustering hard-coded columns"
   ]
  },
  {
   "cell_type": "code",
   "execution_count": 9,
   "metadata": {
    "collapsed": true
   },
   "outputs": [],
   "source": [
    "clustering_columns = [\n",
    "    'ALSFRS_Total_last',\n",
    "    'ALSFRS_Total_mean_slope',\n",
    "    'weight_mean', \n",
    "    'weight_pct_diff',\n",
    "    'Age_last',\n",
    "    \n",
    "    'onset_delta_last',\n",
    "    'Albumin_last',\n",
    "    'Creatinine_last',\n",
    "    'fvc_percent_pct_diff',\n",
    "    'bp_systolic_mean',\n",
    "        \n",
    "]\n",
    "\n",
    "clustering_columns = [\n",
    "    'ALSFRS_Total_last',\n",
    "    'ALSFRS_Total_mean_slope',\n",
    "    ''\n",
    "]"
   ]
  },
  {
   "cell_type": "markdown",
   "metadata": {},
   "source": [
    "## Feature selection\n",
    "We currently rank each feature family by regressing with it alone and comparing the regression score"
   ]
  },
  {
   "cell_type": "code",
   "execution_count": 13,
   "metadata": {
    "collapsed": false,
    "scrolled": false
   },
   "outputs": [],
   "source": [
    "from sklearn import linear_model\n",
    "\n",
    "def get_best_features_per_cluster(X, Y, all_feature_metadata):\n",
    "    best_features_per_cluster = {}\n",
    "    for c in X['cluster'].unique():\n",
    "        seg_X, seg_Y = X[X['cluster'] == c], Y[Y['cluster'] == c]\n",
    "        seg_Y = seg_Y.fillna(seg_Y.mean())\n",
    "\n",
    "        score_per_feature = {}\n",
    "\n",
    "        for feature, fm in all_feature_metadata.iteritems():\n",
    "            regr = linear_model.LinearRegression()\n",
    "            X_feature_fam = seg_X[list(fm[\"derived_features\"])]\n",
    "            regr.fit(X_feature_fam, seg_Y)\n",
    "            score_per_feature[feature] = regr.score(X_feature_fam, seg_Y)\n",
    "\n",
    "        best_features_per_cluster[c] = sorted(sorted(score_per_feature, key=score_per_feature.get)[:6])\n",
    "    return best_features_per_cluster\n"
   ]
  },
  {
   "cell_type": "code",
   "execution_count": 2,
   "metadata": {
    "collapsed": false
   },
   "outputs": [],
   "source": [
    "def filter_only_selected_features(df, clusters, best_features_per_cluster, debug=False): \n",
    "    j = df.join(clusters)\n",
    "    buf, is_first = \"\", True\n",
    "    for c, features in best_features_per_cluster.iteritems():\n",
    "        slice = j[j.cluster == c]\n",
    "        selected = slice[slice.feature_name.isin(features)]\n",
    "        if debug:\n",
    "            print c, slice.shape, \" --> \", selected.shape\n",
    "        buf += selected.to_csv(sep='|', header = is_first, columns=df.columns)\n",
    "        is_first = False\n",
    "    return buf\n"
   ]
  },
  {
   "cell_type": "markdown",
   "metadata": {
    "collapsed": true
   },
   "source": [
    "## Prediction\n",
    "We use simple linear regression"
   ]
  },
  {
   "cell_type": "code",
   "execution_count": 16,
   "metadata": {
    "collapsed": true
   },
   "outputs": [],
   "source": [
    "from sklearn import linear_model\n",
    "import numpy as np\n",
    "\n",
    "def get_model_per_cluster(X, Y):\n",
    "    model_per_cluster = {}\n",
    "    for c in X.cluster.unique():    \n",
    "        X_cluster = X[X.cluster==c]\n",
    "        Y_cluster = Y[Y.cluster == c].ALSFRS_slope\n",
    "        regr = linear_model.LinearRegression()\n",
    "        regr.fit(X_cluster, Y_cluster)\n",
    "\n",
    "        print 'cluster: %d size: %s' % (c, Y_cluster.shape)\n",
    "        print \"Mean square error (0 is perfect): %.2f\" % np.mean(\n",
    "            (regr.predict(X_cluster) - Y_cluster) ** 2)\n",
    "        print('Explained variance score (1 is perfect): %.2f' % regr.score(X_cluster, Y_cluster))\n",
    "        print \"\"\n",
    "        model_per_cluster[c] = {\"train_data_means\": X_cluster.mean(), \"model\" : regr}\n",
    "    return model_per_cluster"
   ]
  },
  {
   "cell_type": "code",
   "execution_count": 3,
   "metadata": {
    "collapsed": true
   },
   "outputs": [],
   "source": [
    "import pandas as pd\n",
    "\n",
    "def apply_model(x, model_per_cluster):\n",
    "    c = x['cluster']\n",
    "    model = model_per_cluster[c]['model']\n",
    "    pred = float(model.predict(x))\n",
    "    return pd.Series({'prediction':pred, 'cluster': int(c)})"
   ]
  },
  {
   "cell_type": "code",
   "execution_count": null,
   "metadata": {
    "collapsed": true
   },
   "outputs": [],
   "source": []
  }
 ],
 "metadata": {
  "kernelspec": {
   "display_name": "Python 2",
   "language": "python",
   "name": "python2"
  },
  "language_info": {
   "codemirror_mode": {
    "name": "ipython",
    "version": 2
   },
   "file_extension": ".py",
   "mimetype": "text/x-python",
   "name": "python",
   "nbconvert_exporter": "python",
   "pygments_lexer": "ipython2",
   "version": "2.7.10"
  }
 },
 "nbformat": 4,
 "nbformat_minor": 0
}
