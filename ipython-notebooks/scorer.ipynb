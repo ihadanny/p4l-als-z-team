{
 "cells": [
  {
   "cell_type": "code",
   "execution_count": 10,
   "metadata": {
    "collapsed": true
   },
   "outputs": [],
   "source": [
    "# Used by organizers to calculate score"
   ]
  },
  {
   "cell_type": "code",
   "execution_count": 11,
   "metadata": {
    "collapsed": false
   },
   "outputs": [],
   "source": [
    "import pandas as pd\n",
    "import numpy as np"
   ]
  },
  {
   "cell_type": "code",
   "execution_count": 16,
   "metadata": {
    "collapsed": false
   },
   "outputs": [
    {
     "name": "stdout",
     "output_type": "stream",
     "text": [
      "('train_prediction', 'train_slope') (1777, 3) (1777, 1) (1777, 4)\n",
      "../train_prediction.csv mean square error: 0.38, size: (1777, 4)\n",
      "('test_prediction', 'test_slope') (600, 3) (600, 1) (600, 4)\n",
      "../test_prediction.csv mean square error: 0.42, size: (600, 4)\n",
      "('test_prediction_team_guy_zinman_raz_alon', 'test_slope') (600, 1) (600, 1) (600, 2)\n",
      "../test_prediction_team_guy_zinman_raz_alon.csv mean square error: 0.61, size: (600, 2)\n",
      "('test_prediction_team_yanai', 'test_slope') (544, 3) (600, 1) (544, 4)\n",
      "../test_prediction_team_yanai.csv mean square error: 0.41, size: (544, 4)\n",
      "('test_prediction_team_zach', 'test_slope') (600, 3) (600, 1) (600, 4)\n",
      "../test_prediction_team_zach.csv mean square error: 0.39, size: (600, 4)\n"
     ]
    }
   ],
   "source": [
    "for t in [('train_prediction', 'train_slope'), \n",
    "          ('test_prediction', 'test_slope'), \n",
    "          ('test_prediction_team_guy_zinman_raz_alon', 'test_slope'), \n",
    "          ('test_prediction_team_yanai', 'test_slope'), \n",
    "          ('test_prediction_team_zach', 'test_slope'), \n",
    "         ]: \n",
    "    f = '../' + t[0] + \".csv\"\n",
    "    pred = pd.read_csv(f, sep = '|', index_col='SubjectID')\n",
    "    actual = pd.read_csv('../' + t[1] + '.csv', sep = '|', index_col='SubjectID')\n",
    "    j = pd.merge(pred, actual, left_index=True, right_index=True)\n",
    "    print t, pred.shape, actual.shape, j.shape\n",
    "    # The mean square error\n",
    "    print f + \" mean square error: %.2f, size: %s\" % (np.mean((j['prediction'] - j['ALSFRS_slope']) ** 2), j.shape)  "
   ]
  },
  {
   "cell_type": "code",
   "execution_count": null,
   "metadata": {
    "collapsed": true
   },
   "outputs": [],
   "source": []
  }
 ],
 "metadata": {
  "kernelspec": {
   "display_name": "Python 2",
   "language": "python",
   "name": "python2"
  },
  "language_info": {
   "codemirror_mode": {
    "name": "ipython",
    "version": 2
   },
   "file_extension": ".py",
   "mimetype": "text/x-python",
   "name": "python",
   "nbconvert_exporter": "python",
   "pygments_lexer": "ipython2",
   "version": "2.7.10"
  }
 },
 "nbformat": 4,
 "nbformat_minor": 0
}
