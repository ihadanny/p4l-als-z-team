{
 "cells": [
  {
   "cell_type": "code",
   "execution_count": 1,
   "metadata": {
    "collapsed": true
   },
   "outputs": [],
   "source": [
    "# Used by organizers to calculate score"
   ]
  },
  {
   "cell_type": "code",
   "execution_count": 2,
   "metadata": {
    "collapsed": false
   },
   "outputs": [],
   "source": [
    "import pandas as pd\n",
    "import numpy as np"
   ]
  },
  {
   "cell_type": "code",
   "execution_count": 22,
   "metadata": {
    "collapsed": false
   },
   "outputs": [
    {
     "name": "stdout",
     "output_type": "stream",
     "text": [
      "../test_prediction_team_zach.csv mean square error: 0.39, size: 1800\n"
     ]
    }
   ],
   "source": [
    "for t in ['test']: # <-- you can run this only if you have the test_slope.csv :)\n",
    "#for t in ['train']:\n",
    "    f = '../' + t + '_prediction_team_zach.csv'\n",
    "    pred = pd.read_csv(f, sep = '|', index_col='SubjectID')\n",
    "    actual = pd.read_csv('../' + t + '_slope.csv', sep = '|', index_col='SubjectID')\n",
    "    # The mean square error\n",
    "    print f + \" mean square error: %.2f, size: %d\" % (np.mean((pred['prediction'] - actual['ALSFRS_slope']) ** 2), pred.size)  "
   ]
  },
  {
   "cell_type": "code",
   "execution_count": 24,
   "metadata": {
    "collapsed": false
   },
   "outputs": [
    {
     "data": {
      "text/plain": [
       "0.62449979983983983"
      ]
     },
     "execution_count": 24,
     "metadata": {},
     "output_type": "execute_result"
    }
   ],
   "source": [
    "np.sqrt(0.39)\n"
   ]
  },
  {
   "cell_type": "code",
   "execution_count": null,
   "metadata": {
    "collapsed": true
   },
   "outputs": [],
   "source": []
  }
 ],
 "metadata": {
  "kernelspec": {
   "display_name": "Python 2",
   "language": "python",
   "name": "python2"
  },
  "language_info": {
   "codemirror_mode": {
    "name": "ipython",
    "version": 2
   },
   "file_extension": ".py",
   "mimetype": "text/x-python",
   "name": "python",
   "nbconvert_exporter": "python",
   "pygments_lexer": "ipython2",
   "version": "2.7.10"
  }
 },
 "nbformat": 4,
 "nbformat_minor": 0
}
