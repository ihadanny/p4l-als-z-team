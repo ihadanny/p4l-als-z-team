{
 "cells": [
  {
   "cell_type": "code",
   "execution_count": 1,
   "metadata": {
    "collapsed": true
   },
   "outputs": [],
   "source": [
    "# Used by organizers to calculate score"
   ]
  },
  {
   "cell_type": "code",
   "execution_count": 2,
   "metadata": {
    "collapsed": false
   },
   "outputs": [],
   "source": [
    "import pandas as pd\n",
    "import numpy as np"
   ]
  },
  {
   "cell_type": "code",
   "execution_count": 14,
   "metadata": {
    "collapsed": false
   },
   "outputs": [
    {
     "name": "stdout",
     "output_type": "stream",
     "text": [
      "('all_prediction', 'all_slope') (2424, 2) (2424, 1) (2424, 3)\n",
      "('all_prediction', 'all_slope')                SE\n",
      "cluster          \n",
      "0        0.676647\n",
      "1        0.592172\n",
      "2        0.504489\n",
      "3        0.432616\n",
      "4        0.359700\n",
      "('all_prediction', 'all_slope') root mean square error: 0.525, size: (2424, 4)\n",
      "\n",
      "('test_prediction', 'test_slope') (594, 2) (600, 1) (594, 3)\n",
      "('test_prediction', 'test_slope')                SE\n",
      "cluster          \n",
      "0        0.728053\n",
      "1        0.556511\n",
      "2        0.437456\n",
      "3        0.394936\n",
      "4        0.368292\n",
      "('test_prediction', 'test_slope') root mean square error: 0.510, size: (594, 4)\n",
      "\n"
     ]
    }
   ],
   "source": [
    "for t in [('all_prediction', 'all_slope'), \n",
    "          ('test_prediction', 'test_slope'), \n",
    "         ]: \n",
    "    f = '../' + t[0] + \".csv\"\n",
    "    pred = pd.read_csv(f, sep = '|', index_col='SubjectID')\n",
    "    actual = pd.read_csv('../' + t[1] + '.csv', sep = '|', index_col='SubjectID')\n",
    "    j = pd.merge(pred, actual, left_index=True, right_index=True)\n",
    "    print t, pred.shape, actual.shape, j.shape\n",
    "    # The mean square error\n",
    "    j.loc[:, 'SE'] = (j['prediction'] - j['ALSFRS_slope'])**2\n",
    "    grouped_count = j.loc[:,['cluster', 'SE']].groupby('cluster').mean() \n",
    "    print t, grouped_count.apply(np.sqrt)    \n",
    "    print t, \"root mean square error: %.3f, size: %s\" % (np.sqrt(np.mean(j['SE'])), j.shape)  \n",
    "    print"
   ]
  },
  {
   "cell_type": "code",
   "execution_count": null,
   "metadata": {
    "collapsed": true
   },
   "outputs": [],
   "source": []
  },
  {
   "cell_type": "code",
   "execution_count": null,
   "metadata": {
    "collapsed": true
   },
   "outputs": [],
   "source": []
  }
 ],
 "metadata": {
  "kernelspec": {
   "display_name": "Python 2",
   "language": "python",
   "name": "python2"
  },
  "language_info": {
   "codemirror_mode": {
    "name": "ipython",
    "version": 2
   },
   "file_extension": ".py",
   "mimetype": "text/x-python",
   "name": "python",
   "nbconvert_exporter": "python",
   "pygments_lexer": "ipython2",
   "version": "2.7.10"
  }
 },
 "nbformat": 4,
 "nbformat_minor": 0
}
