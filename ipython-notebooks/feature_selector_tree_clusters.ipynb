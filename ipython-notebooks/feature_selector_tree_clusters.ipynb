{
 "cells": [
  {
   "cell_type": "markdown",
   "metadata": {
    "collapsed": true
   },
   "source": [
    "## Used for selecting the 6 best features per cluster\n",
    "* We're using mean squared error of each variable vs. the ALSFRS_score, and take the best 6. "
   ]
  },
  {
   "cell_type": "code",
   "execution_count": 36,
   "metadata": {
    "collapsed": false
   },
   "outputs": [],
   "source": [
    "%matplotlib inline\n",
    "\n",
    "import pandas as pd\n",
    "import numpy as np\n",
    "import pickle\n",
    "from sklearn import linear_model\n",
    "from IPython.display import display\n",
    "\n",
    "from modeling_funcs import *\n"
   ]
  },
  {
   "cell_type": "code",
   "execution_count": 37,
   "metadata": {
    "collapsed": false
   },
   "outputs": [],
   "source": [
    "vectorized_data = pd.read_csv('../all_data_vectorized.csv', sep='|', index_col=0)\n",
    "slope = pd.read_csv('../all_slope.csv', sep = '|', index_col=0)\n",
    "clusters = pd.read_csv('../all_forest_clusters.csv', sep = '|', index_col=0)\n",
    "all_feature_metadata = pickle.load( open('../all_feature_metadata.pickle', 'rb') )\n",
    "\n",
    "everybody = vectorized_data.join(clusters).join(slope)\n",
    "Y = everybody[['cluster', 'ALSFRS_slope']]\n",
    "X = everybody.drop('ALSFRS_slope', 1)"
   ]
  },
  {
   "cell_type": "code",
   "execution_count": 38,
   "metadata": {
    "collapsed": false,
    "scrolled": false
   },
   "outputs": [
    {
     "name": "stdout",
     "output_type": "stream",
     "text": [
      "cluster: 0 with size: (441, 141) with mean target: -1.11760666604 std: 0.635079772603\n",
      "best we can do with all features: 0.627662185487\n",
      "adding best family: ('mouth', 0.61690387155334869) time: 2.33599996567\n",
      "adding best family: ('ALT(SGPT)', 0.60812512518449813) time: 3.58300018311\n",
      "adding best family: ('temperature', 0.60137593016164126) time: 4.93400001526\n",
      "adding best family: ('Chloride', 0.59622735015227268) time: 6.31300020218\n",
      "adding best family: ('ALSFRS_Total', 0.58979344109041465) time: 7.55599999428\n",
      "adding best family: ('fvc_percent', 0.585182651453658) time: 8.4240000248\n",
      "cluster: 1 with size: (441, 141) with mean target: -0.826188635556 std: 0.566173754429\n",
      "best we can do with all features: 0.565531469759\n",
      "adding best family: ('Creatinine', 0.54878379687796253) time: 2.4470000267\n",
      "adding best family: ('pulse', 0.53682680745901823) time: 3.16300010681\n",
      "adding best family: ('AST(SGOT)', 0.53127171152758468) time: 4.14900016785\n",
      "adding best family: ('temperature', 0.52558911500312466) time: 5.24900007248\n",
      "adding best family: ('White Blood Cell (WBC)', 0.52192610716297194) time: 5.8259999752\n",
      "adding best family: ('Blood Urea Nitrogen (BUN)', 0.51839571215988323) time: 6.64899992943\n",
      "cluster: 2 with size: (441, 141) with mean target: -0.575908357642 std: 0.486331589528\n",
      "best we can do with all features: 0.47552754252\n",
      "adding best family: ('onset_delta', 0.47045847276405128) time: 2.56299996376\n",
      "adding best family: ('respiratory', 0.46601103336914057) time: 2.23099994659\n",
      "adding best family: ('weight', 0.46139698799290119) time: 3.30599999428\n",
      "adding best family: ('fvc_percent', 0.45704671423436349) time: 33.0989999771\n",
      "adding best family: ('Chloride', 0.45290466364835519) time: 38.9900000095\n",
      "adding best family: ('Platelets', 0.45000522690754802) time: 46.0649998188\n",
      "cluster: 3 with size: (441, 141) with mean target: -0.549440956375 std: 0.455578824992\n",
      "best we can do with all features: 0.442355620933\n",
      "adding best family: ('onset_site', 0.4483113388342902) time: 2.46499991417\n",
      "adding best family: ('ALSFRS_Total', 0.44129250266181319) time: 2.68600010872\n",
      "adding best family: ('mouth', 0.4390078087303988) time: 6.27699995041\n",
      "adding best family: ('Creatinine', 0.43352384439564651) time: 10.8800001144\n",
      "adding best family: ('respiratory', 0.43066378284014478) time: 12.3229999542\n",
      "adding best family: ('Potassium', 0.42868471919666212) time: 17.0409998894\n",
      "cluster: 4 with size: (441, 141) with mean target: -0.337604686537 std: 0.374675790966\n",
      "best we can do with all features: 0.363114087919\n",
      "adding best family: ('Creatinine', 0.36964906322625624) time: 2.03500008583\n",
      "adding best family: ('Glucose', 0.36622705297916819) time: 2.86800003052\n",
      "adding best family: ('pulse', 0.36309060189282316) time: 3.77799987793\n",
      "adding best family: ('Alkaline Phosphatase', 0.36004074447505025) time: 4.37699985504\n",
      "adding best family: ('AST(SGOT)', 0.35756106427479234) time: 5.8599998951\n",
      "adding best family: ('Calcium', 0.35475626067022398) time: 7.2539999485\n"
     ]
    },
    {
     "data": {
      "text/plain": [
       "{0: ['temperature',\n",
       "  'mouth',\n",
       "  'ALSFRS_Total',\n",
       "  'Chloride',\n",
       "  'fvc_percent',\n",
       "  'ALT(SGPT)'],\n",
       " 1: ['AST(SGOT)',\n",
       "  'pulse',\n",
       "  'White Blood Cell (WBC)',\n",
       "  'Creatinine',\n",
       "  'Blood Urea Nitrogen (BUN)',\n",
       "  'temperature'],\n",
       " 2: ['respiratory',\n",
       "  'weight',\n",
       "  'Platelets',\n",
       "  'onset_delta',\n",
       "  'Chloride',\n",
       "  'fvc_percent'],\n",
       " 3: ['respiratory',\n",
       "  'Potassium',\n",
       "  'onset_site',\n",
       "  'mouth',\n",
       "  'Creatinine',\n",
       "  'ALSFRS_Total'],\n",
       " 4: ['Alkaline Phosphatase',\n",
       "  'AST(SGOT)',\n",
       "  'pulse',\n",
       "  'Calcium',\n",
       "  'Creatinine',\n",
       "  'Glucose']}"
      ]
     },
     "execution_count": 38,
     "metadata": {},
     "output_type": "execute_result"
    }
   ],
   "source": [
    "best_features_per_cluster = stepwise_best_features_per_cluster(X, Y, all_feature_metadata)\n",
    "best_features_per_cluster"
   ]
  },
  {
   "cell_type": "code",
   "execution_count": 39,
   "metadata": {
    "collapsed": false
   },
   "outputs": [],
   "source": [
    "#backward_best_features_per_cluster(X, Y, all_feature_metadata)"
   ]
  },
  {
   "cell_type": "code",
   "execution_count": 40,
   "metadata": {
    "collapsed": false
   },
   "outputs": [],
   "source": [
    "with open(\"../best_features_per_cluster.pickle\", \"wb\") as output_file:\n",
    "    pickle.dump(best_features_per_cluster, output_file)\n"
   ]
  },
  {
   "cell_type": "markdown",
   "metadata": {},
   "source": [
    "#Apply the selector \n",
    "leave only the best features per cluster"
   ]
  },
  {
   "cell_type": "code",
   "execution_count": 41,
   "metadata": {
    "collapsed": false
   },
   "outputs": [
    {
     "name": "stdout",
     "output_type": "stream",
     "text": [
      "all\n",
      "df (1514606, 5)\n",
      "clusters cluster\n",
      "0    441\n",
      "1    441\n",
      "2    441\n",
      "3    441\n",
      "4    441\n",
      "dtype: int64\n",
      "test\n",
      "df (126664, 5)\n",
      "clusters cluster\n",
      "0    118\n",
      "1    132\n",
      "2    118\n",
      "3    120\n",
      "4    112\n",
      "dtype: int64\n"
     ]
    }
   ],
   "source": [
    "for t in [\"all\", \"test\"]:\n",
    "    print t\n",
    "    df = pd.read_csv('../' + t + '_data.csv', sep = '|', index_col=\"SubjectID\", dtype='unicode')\n",
    "    print \"df\", df.shape\n",
    "    clusters = pd.read_csv('../' + t + '_forest_clusters.csv', sep = '|', index_col=\"SubjectID\")\n",
    "    print \"clusters\", clusters.groupby('cluster').size()\n",
    "    buf = filter_only_selected_features(df, clusters, best_features_per_cluster)\n",
    "    with open('../' + t + '_data_selected.csv','w') as f:\n",
    "        f.write(buf)\n"
   ]
  },
  {
   "cell_type": "code",
   "execution_count": null,
   "metadata": {
    "collapsed": true
   },
   "outputs": [],
   "source": []
  },
  {
   "cell_type": "code",
   "execution_count": null,
   "metadata": {
    "collapsed": true
   },
   "outputs": [],
   "source": []
  }
 ],
 "metadata": {
  "kernelspec": {
   "display_name": "Python 2",
   "language": "python",
   "name": "python2"
  },
  "language_info": {
   "codemirror_mode": {
    "name": "ipython",
    "version": 2
   },
   "file_extension": ".py",
   "mimetype": "text/x-python",
   "name": "python",
   "nbconvert_exporter": "python",
   "pygments_lexer": "ipython2",
   "version": "2.7.10"
  }
 },
 "nbformat": 4,
 "nbformat_minor": 0
}
