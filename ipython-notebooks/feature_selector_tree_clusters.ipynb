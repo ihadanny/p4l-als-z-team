{
 "cells": [
  {
   "cell_type": "markdown",
   "metadata": {
    "collapsed": true
   },
   "source": [
    "## Used for selecting the 6 best features per cluster\n",
    "* We're using mean squared error of each variable vs. the ALSFRS_score, and take the best 6. "
   ]
  },
  {
   "cell_type": "code",
   "execution_count": 1,
   "metadata": {
    "collapsed": false
   },
   "outputs": [],
   "source": [
    "%matplotlib inline\n",
    "\n",
    "import pandas as pd\n",
    "import numpy as np\n",
    "import pickle\n",
    "from sklearn import linear_model\n",
    "from IPython.display import display\n",
    "\n",
    "from modeling_funcs import *\n"
   ]
  },
  {
   "cell_type": "code",
   "execution_count": 2,
   "metadata": {
    "collapsed": false
   },
   "outputs": [],
   "source": [
    "vectorized_data = pd.read_csv('../all_data_vectorized.csv', sep='|', index_col=0)\n",
    "slope = pd.read_csv('../all_slope.csv', sep = '|', index_col=0)\n",
    "clusters = pd.read_csv('../all_forest_clusters.csv', sep = '|', index_col=0)\n",
    "all_feature_metadata = pickle.load( open('../all_feature_metadata.pickle', 'rb') )\n",
    "\n",
    "everybody = vectorized_data.join(clusters).join(slope)\n",
    "Y = everybody[['cluster', 'ALSFRS_slope']]\n",
    "X = everybody.drop('ALSFRS_slope', 1)"
   ]
  },
  {
   "cell_type": "code",
   "execution_count": 3,
   "metadata": {
    "collapsed": false,
    "scrolled": false
   },
   "outputs": [
    {
     "name": "stdout",
     "output_type": "stream",
     "text": [
      "cluster: 0 with size: (485, 158) with mean target: -1.18070155828 std: 0.720756033302\n",
      "best we can do with all features: 0.711720444097\n",
      "adding best family: ('ALSFRS_Total', 0.70906776290651918) time: 2.35199999809\n",
      "adding best family: ('ALT(SGPT)', 0.70092659717413774) time: 2.92100000381\n",
      "adding best family: ('Race', 0.69398396683221886) time: 4.21399998665\n",
      "adding best family: ('pulse', 0.68816489466541197) time: 5.2349998951\n",
      "adding best family: ('Calcium', 0.6812285457848406) time: 6.15000009537\n",
      "adding best family: ('CK', 0.67664695433303557) time: 6.87999987602\n",
      "cluster: 1 with size: (485, 158) with mean target: -0.905632242827 std: 0.625175960311\n",
      "best we can do with all features: 0.617457285233\n",
      "adding best family: ('weight', 0.61656582907120572) time: 2.44799995422\n",
      "adding best family: ('mouth', 0.61156629829467957) time: 17.0390000343\n",
      "adding best family: ('CK', 0.60503318539450224) time: 25.6459999084\n",
      "adding best family: ('Creatinine', 0.5997195865562357) time: 34.9859998226\n",
      "adding best family: ('Albumin', 0.59545854991026181) time: 47.4900000095\n",
      "adding best family: ('Platelets', 0.59217224284182268) time: 54.3900001049\n",
      "cluster: 2 with size: (484, 158) with mean target: -0.675151810754 std: 0.526283523586\n",
      "best we can do with all features: 0.525739561142\n",
      "adding best family: ('pulse', 0.52268530565291738) time: 2.47100019455\n",
      "adding best family: ('Alkaline Phosphatase', 0.52055318502976056) time: 3.24399995804\n",
      "adding best family: ('Blood Urea Nitrogen (BUN)', 0.51624761074719006) time: 5.06200003624\n",
      "adding best family: ('Potassium', 0.51274752236105792) time: 6.09599995613\n",
      "adding best family: ('ALT(SGPT)', 0.50897860529903027) time: 7.05900001526\n",
      "adding best family: ('Red Blood Cells (RBC)', 0.50448854515142372) time: 8.22500014305\n",
      "cluster: 3 with size: (485, 158) with mean target: -0.523875105669 std: 0.473391975974\n",
      "best we can do with all features: 0.461727380376\n",
      "adding best family: ('ALSFRS_Total', 0.4595876927750297) time: 2.76399993896\n",
      "adding best family: ('respiratory', 0.45314385949409697) time: 5.14699983597\n",
      "adding best family: ('bp_diastolic', 0.44639815412643086) time: 7.79399991035\n",
      "adding best family: ('weight', 0.44085449246911368) time: 9.79699993134\n",
      "adding best family: ('Bilirubin (Total)', 0.43651234763870289) time: 24.253000021\n",
      "adding best family: ('Albumin', 0.43261541273512744) time: 22.8239998817\n",
      "cluster: 4 with size: (485, 158) with mean target: -0.368452511576 std: 0.386316159861\n",
      "best we can do with all features: 0.376591975675\n",
      "adding best family: ('Creatinine', 0.37676320859846113) time: 2.26600003242\n",
      "adding best family: ('Absolute Basophil Count', 0.37307163451944475) time: 2.45200014114\n",
      "adding best family: ('Hematocrit', 0.3680708369522146) time: 3.51999998093\n",
      "adding best family: ('mouth', 0.36338226623643471) time: 6.37399983406\n",
      "adding best family: ('Sodium', 0.36201175487932696) time: 10.8559999466\n",
      "adding best family: ('onset_delta', 0.35970055021403169) time: 13.3529999256\n"
     ]
    },
    {
     "name": "stderr",
     "output_type": "stream",
     "text": [
      "C:\\Anaconda\\lib\\site-packages\\sklearn\\linear_model\\coordinate_descent.py:444: ConvergenceWarning: Objective did not converge. You might want to increase the number of iterations\n",
      "  ConvergenceWarning)\n"
     ]
    },
    {
     "data": {
      "text/plain": [
       "{0: ['CK', 'pulse', 'Calcium', 'Race', 'ALSFRS_Total', 'ALT(SGPT)'],\n",
       " 1: ['CK', 'weight', 'Platelets', 'mouth', 'Creatinine', 'Albumin'],\n",
       " 2: ['Alkaline Phosphatase',\n",
       "  'Potassium',\n",
       "  'pulse',\n",
       "  'Red Blood Cells (RBC)',\n",
       "  'Blood Urea Nitrogen (BUN)',\n",
       "  'ALT(SGPT)'],\n",
       " 3: ['respiratory',\n",
       "  'weight',\n",
       "  'bp_diastolic',\n",
       "  'Bilirubin (Total)',\n",
       "  'Albumin',\n",
       "  'ALSFRS_Total'],\n",
       " 4: ['Hematocrit',\n",
       "  'Sodium',\n",
       "  'mouth',\n",
       "  'onset_delta',\n",
       "  'Absolute Basophil Count',\n",
       "  'Creatinine']}"
      ]
     },
     "execution_count": 3,
     "metadata": {},
     "output_type": "execute_result"
    }
   ],
   "source": [
    "best_features_per_cluster = stepwise_best_features_per_cluster(X, Y, all_feature_metadata)\n",
    "best_features_per_cluster"
   ]
  },
  {
   "cell_type": "code",
   "execution_count": 6,
   "metadata": {
    "collapsed": false
   },
   "outputs": [],
   "source": [
    "with open(\"../best_features_per_cluster.pickle\", \"wb\") as output_file:\n",
    "    pickle.dump(best_features_per_cluster, output_file)\n"
   ]
  },
  {
   "cell_type": "markdown",
   "metadata": {},
   "source": [
    "#Apply the selector \n",
    "leave only the best features per cluster"
   ]
  },
  {
   "cell_type": "code",
   "execution_count": 7,
   "metadata": {
    "collapsed": false
   },
   "outputs": [
    {
     "name": "stdout",
     "output_type": "stream",
     "text": [
      "all\n",
      "df (1642927, 5)\n",
      "clusters cluster\n",
      "0    485\n",
      "1    485\n",
      "2    484\n",
      "3    485\n",
      "4    485\n",
      "dtype: int64\n",
      "test\n",
      "df (126664, 5)\n",
      "clusters cluster\n",
      "0    109\n",
      "1    128\n",
      "2    122\n",
      "3    119\n",
      "4    122\n",
      "dtype: int64\n"
     ]
    }
   ],
   "source": [
    "for t in [\"all\", \"test\"]:\n",
    "    print t\n",
    "    df = pd.read_csv('../' + t + '_data.csv', sep = '|', index_col=\"SubjectID\", dtype='unicode')\n",
    "    print \"df\", df.shape\n",
    "    clusters = pd.read_csv('../' + t + '_forest_clusters.csv', sep = '|', index_col=\"SubjectID\")\n",
    "    print \"clusters\", clusters.groupby('cluster').size()\n",
    "    buf = filter_only_selected_features(df, clusters, best_features_per_cluster)\n",
    "    with open('../' + t + '_data_selected.csv','w') as f:\n",
    "        f.write(buf)\n"
   ]
  },
  {
   "cell_type": "code",
   "execution_count": null,
   "metadata": {
    "collapsed": true
   },
   "outputs": [],
   "source": []
  },
  {
   "cell_type": "code",
   "execution_count": null,
   "metadata": {
    "collapsed": true
   },
   "outputs": [],
   "source": []
  }
 ],
 "metadata": {
  "kernelspec": {
   "display_name": "Python 2",
   "language": "python",
   "name": "python2"
  },
  "language_info": {
   "codemirror_mode": {
    "name": "ipython",
    "version": 2
   },
   "file_extension": ".py",
   "mimetype": "text/x-python",
   "name": "python",
   "nbconvert_exporter": "python",
   "pygments_lexer": "ipython2",
   "version": "2.7.10"
  }
 },
 "nbformat": 4,
 "nbformat_minor": 0
}
