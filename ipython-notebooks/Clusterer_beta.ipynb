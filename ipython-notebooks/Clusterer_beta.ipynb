{
 "cells": [
  {
   "cell_type": "code",
   "execution_count": 7,
   "metadata": {
    "collapsed": true
   },
   "outputs": [],
   "source": [
    "## Used to create clusters of the vectorized data. Currently using good old k-means\n",
    "## to visualize, we projected the data on 2d using PCA\n",
    "## (taken from http://scikit-learn.org/stable/auto_examples/cluster/plot_kmeans_digits.html)\n",
    "## as the PCA decomposition showed dominance of Gender and Race, we took them out of the game before clustering "
   ]
  },
  {
   "cell_type": "code",
   "execution_count": 12,
   "metadata": {
    "collapsed": false
   },
   "outputs": [],
   "source": [
    "%matplotlib inline\n",
    "\n",
    "import pandas as pd\n",
    "import numpy as np\n",
    "from time import time\n",
    "import numpy as np\n",
    "import matplotlib.pyplot as plt\n",
    "\n",
    "from sklearn import metrics\n",
    "from sklearn.cluster import KMeans\n",
    "from sklearn.datasets import load_digits\n",
    "from sklearn.decomposition import PCA\n",
    "from sklearn.preprocessing import scale\n",
    "\n",
    "from sklearn.externals import joblib\n"
   ]
  },
  {
   "cell_type": "code",
   "execution_count": 13,
   "metadata": {
    "collapsed": false
   },
   "outputs": [
    {
     "data": {
      "image/png": "[encoded data removed]",
      "text/plain": [
       "<matplotlib.figure.Figure at 0x1ae8d9e8>"
      ]
     },
     "metadata": {},
     "output_type": "display_data"
    }
   ],
   "source": [
    "\n",
    "###############################################################################\n",
    "# Visualize results on PCA-reduced data\n",
    "def visualize_kmeans(kmeans, data, resolution = 100):\n",
    "    reduced_data = PCA(n_components=2).fit_transform(data)\n",
    "    kmeans.fit(reduced_data)\n",
    "\n",
    "    # Plot the decision boundary. For that, we will assign a color to each\n",
    "    x_min, x_max = reduced_data[:, 0].min(), reduced_data[:, 0].max()\n",
    "    y_min, y_max = reduced_data[:, 1].min(), reduced_data[:, 1].max()\n",
    "    \n",
    "    xx, yy = np.meshgrid(np.linspace(x_min, x_max, resolution), np.linspace(y_min, y_max, resolution))\n",
    "\n",
    "    # Obtain labels for each point in mesh. Use last trained model.\n",
    "    Z = kmeans.predict(np.c_[xx.ravel(), yy.ravel()])\n",
    "\n",
    "    # Put the result into a color plot\n",
    "    Z = Z.reshape(xx.shape)\n",
    "    plt.figure(1)\n",
    "    plt.clf()\n",
    "    plt.imshow(Z, interpolation='nearest',\n",
    "               extent=(xx.min(), xx.max(), yy.min(), yy.max()),\n",
    "               cmap=plt.cm.Paired,\n",
    "               aspect='auto', origin='lower')\n",
    "\n",
    "    plt.plot(reduced_data[:, 0], reduced_data[:, 1], 'k.', markersize=2)\n",
    "    # Plot the centroids as a white X\n",
    "    centroids = kmeans.cluster_centers_\n",
    "    plt.scatter(centroids[:, 0], centroids[:, 1],\n",
    "                marker='x', s=169, linewidths=3,\n",
    "                color='y', zorder=10)\n",
    "    plt.title('K-means clustering on the digits dataset (PCA-reduced data)\\n'\n",
    "              'Centroids are marked with white cross')\n",
    "    plt.xlim(x_min, x_max)\n",
    "    plt.ylim(y_min, y_max)\n",
    "    plt.xticks(())\n",
    "    plt.yticks(())\n",
    "    plt.show()\n",
    "\n",
    "digits = load_digits()\n",
    "dig_data = scale(digits.data)\n",
    "\n",
    "n_samples, n_features = dig_data.shape\n",
    "n_digits = len(np.unique(digits.target))\n",
    "\n",
    "visualize_kmeans(KMeans(init='k-means++', n_clusters=10, n_init=10), dig_data)\n"
   ]
  },
  {
   "cell_type": "code",
   "execution_count": 14,
   "metadata": {
    "collapsed": false
   },
   "outputs": [
    {
     "data": {
      "text/html": [
       "<div>\n",
       "<table border=\"1\" class=\"dataframe\">\n",
       "  <thead>\n",
       "    <tr style=\"text-align: right;\">\n",
       "      <th></th>\n",
       "      <th>mean_bp_diastolic::bp_diastolic</th>\n",
       "      <th>mean_bp_systolic::bp_systolic</th>\n",
       "      <th>mean_pulse::pulse</th>\n",
       "      <th>mean_respiratory_rate::respiratory_rate</th>\n",
       "      <th>mean_temperature::temperature</th>\n",
       "      <th>mean_weight::weight</th>\n",
       "      <th>F::Gender</th>\n",
       "      <th>Asian::Race</th>\n",
       "      <th>Black::Race</th>\n",
       "      <th>Hispanic::Race</th>\n",
       "      <th>Other::Race</th>\n",
       "      <th>White::Race</th>\n",
       "      <th>std_bp_diastolic::bp_diastolic</th>\n",
       "      <th>std_bp_systolic::bp_systolic</th>\n",
       "      <th>std_pulse::pulse</th>\n",
       "      <th>std_respiratory_rate::respiratory_rate</th>\n",
       "      <th>std_temperature::temperature</th>\n",
       "      <th>std_weight::weight</th>\n",
       "    </tr>\n",
       "    <tr>\n",
       "      <th>SubjectID</th>\n",
       "      <th></th>\n",
       "      <th></th>\n",
       "      <th></th>\n",
       "      <th></th>\n",
       "      <th></th>\n",
       "      <th></th>\n",
       "      <th></th>\n",
       "      <th></th>\n",
       "      <th></th>\n",
       "      <th></th>\n",
       "      <th></th>\n",
       "      <th></th>\n",
       "      <th></th>\n",
       "      <th></th>\n",
       "      <th></th>\n",
       "      <th></th>\n",
       "      <th></th>\n",
       "      <th></th>\n",
       "    </tr>\n",
       "  </thead>\n",
       "  <tbody>\n",
       "    <tr>\n",
       "      <th>100256</th>\n",
       "      <td>-0.516411</td>\n",
       "      <td>-0.340148</td>\n",
       "      <td>0.440030</td>\n",
       "      <td>0.009804</td>\n",
       "      <td>0.037261</td>\n",
       "      <td>-0.141928</td>\n",
       "      <td>0</td>\n",
       "      <td>0</td>\n",
       "      <td>0</td>\n",
       "      <td>0</td>\n",
       "      <td>0</td>\n",
       "      <td>1</td>\n",
       "      <td>0.492568</td>\n",
       "      <td>0.528434</td>\n",
       "      <td>0.379330</td>\n",
       "      <td>0.019608</td>\n",
       "      <td>0.055500</td>\n",
       "      <td>0.113586</td>\n",
       "    </tr>\n",
       "    <tr>\n",
       "      <th>100626</th>\n",
       "      <td>-0.136655</td>\n",
       "      <td>-0.347385</td>\n",
       "      <td>0.007043</td>\n",
       "      <td>0.064004</td>\n",
       "      <td>-0.000283</td>\n",
       "      <td>0.011066</td>\n",
       "      <td>0</td>\n",
       "      <td>0</td>\n",
       "      <td>0</td>\n",
       "      <td>0</td>\n",
       "      <td>0</td>\n",
       "      <td>1</td>\n",
       "      <td>0.235316</td>\n",
       "      <td>0.357543</td>\n",
       "      <td>0.055346</td>\n",
       "      <td>0.038608</td>\n",
       "      <td>0.027814</td>\n",
       "      <td>0.018459</td>\n",
       "    </tr>\n",
       "    <tr>\n",
       "      <th>100806</th>\n",
       "      <td>0.436971</td>\n",
       "      <td>0.236458</td>\n",
       "      <td>-0.292272</td>\n",
       "      <td>0.005522</td>\n",
       "      <td>-0.000283</td>\n",
       "      <td>0.043708</td>\n",
       "      <td>0</td>\n",
       "      <td>0</td>\n",
       "      <td>0</td>\n",
       "      <td>0</td>\n",
       "      <td>0</td>\n",
       "      <td>1</td>\n",
       "      <td>0.408401</td>\n",
       "      <td>0.317265</td>\n",
       "      <td>0.146847</td>\n",
       "      <td>0.100462</td>\n",
       "      <td>0.027814</td>\n",
       "      <td>0.008393</td>\n",
       "    </tr>\n",
       "  </tbody>\n",
       "</table>\n",
       "</div>"
      ],
      "text/plain": [
       "           mean_bp_diastolic::bp_diastolic  mean_bp_systolic::bp_systolic  \\\n",
       "SubjectID                                                                   \n",
       "100256                           -0.516411                      -0.340148   \n",
       "100626                           -0.136655                      -0.347385   \n",
       "100806                            0.436971                       0.236458   \n",
       "\n",
       "           mean_pulse::pulse  mean_respiratory_rate::respiratory_rate  \\\n",
       "SubjectID                                                               \n",
       "100256              0.440030                                 0.009804   \n",
       "100626              0.007043                                 0.064004   \n",
       "100806             -0.292272                                 0.005522   \n",
       "\n",
       "           mean_temperature::temperature  mean_weight::weight  F::Gender  \\\n",
       "SubjectID                                                                  \n",
       "100256                          0.037261            -0.141928          0   \n",
       "100626                         -0.000283             0.011066          0   \n",
       "100806                         -0.000283             0.043708          0   \n",
       "\n",
       "           Asian::Race  Black::Race  Hispanic::Race  Other::Race  White::Race  \\\n",
       "SubjectID                                                                       \n",
       "100256               0            0               0            0            1   \n",
       "100626               0            0               0            0            1   \n",
       "100806               0            0               0            0            1   \n",
       "\n",
       "           std_bp_diastolic::bp_diastolic  std_bp_systolic::bp_systolic  \\\n",
       "SubjectID                                                                 \n",
       "100256                           0.492568                      0.528434   \n",
       "100626                           0.235316                      0.357543   \n",
       "100806                           0.408401                      0.317265   \n",
       "\n",
       "           std_pulse::pulse  std_respiratory_rate::respiratory_rate  \\\n",
       "SubjectID                                                             \n",
       "100256             0.379330                                0.019608   \n",
       "100626             0.055346                                0.038608   \n",
       "100806             0.146847                                0.100462   \n",
       "\n",
       "           std_temperature::temperature  std_weight::weight  \n",
       "SubjectID                                                    \n",
       "100256                         0.055500            0.113586  \n",
       "100626                         0.027814            0.018459  \n",
       "100806                         0.027814            0.008393  "
      ]
     },
     "execution_count": 14,
     "metadata": {},
     "output_type": "execute_result"
    }
   ],
   "source": [
    "proact_train = pd.read_csv('../train_data_vectorized.csv', sep = '|', error_bad_lines=False, index_col='SubjectID', dtype='float')\n",
    "proact_train.head(3)\n"
   ]
  },
  {
   "cell_type": "code",
   "execution_count": 15,
   "metadata": {
    "collapsed": false
   },
   "outputs": [
    {
     "data": {
      "image/png": "[encoded data removed]",
      "text/plain": [
       "<matplotlib.figure.Figure at 0x18cf2d30>"
      ]
     },
     "metadata": {},
     "output_type": "display_data"
    },
    {
     "data": {
      "text/plain": [
       "[(-0.0015659004870534465, 'Hispanic::Race'),\n",
       " (-0.0014121289857724813, 'Asian::Race'),\n",
       " (-0.0010524250568712324, 'Other::Race'),\n",
       " (-0.0005267333268232032, 'F::Gender'),\n",
       " (-0.00016819391379333283, 'mean_pulse::pulse'),\n",
       " (-0.00016016038278987468, 'mean_weight::weight'),\n",
       " (-0.0001546005359570864, 'std_pulse::pulse'),\n",
       " (-0.00010260733792076425, 'std_weight::weight'),\n",
       " (0.00036530165459011785, 'mean_bp_systolic::bp_systolic'),\n",
       " (0.00042451484325122267, 'std_bp_systolic::bp_systolic'),\n",
       " (0.00046314523273829937, 'mean_bp_diastolic::bp_diastolic'),\n",
       " (0.00046359562688264797, 'White::Race'),\n",
       " (0.00053003483349436757, 'std_bp_diastolic::bp_diastolic'),\n",
       " (0.00058829901231088086, 'mean_respiratory_rate::respiratory_rate'),\n",
       " (0.0006157716113444927, 'std_respiratory_rate::respiratory_rate'),\n",
       " (0.00065343092202973141, 'mean_temperature::temperature'),\n",
       " (0.00078186526193359609, 'std_temperature::temperature'),\n",
       " (0.0091409916979936275, 'Black::Race')]"
      ]
     },
     "execution_count": 15,
     "metadata": {},
     "output_type": "execute_result"
    }
   ],
   "source": [
    "kmeans = KMeans(init='k-means++', n_clusters=2)\n",
    "visualize_kmeans(kmeans, proact_train)\n",
    "kmeans.fit(proact_train)\n",
    "sorted([(metrics.adjusted_mutual_info_score(proact_train[col], kmeans.labels_), col) for col in proact_train.columns])"
   ]
  },
  {
   "cell_type": "code",
   "execution_count": 17,
   "metadata": {
    "collapsed": false
   },
   "outputs": [
    {
     "data": {
      "image/png": "[encoded data removed]",
      "text/plain": [
       "<matplotlib.figure.Figure at 0x1b944978>"
      ]
     },
     "metadata": {},
     "output_type": "display_data"
    },
    {
     "data": {
      "text/plain": [
       "[(-0.0013713854412359745, 'Asian::Race'),\n",
       " (-0.00087925652551783045, 'F::Gender'),\n",
       " (-0.00041290572438076238, 'Other::Race'),\n",
       " (8.517408006594081e-05, 'Hispanic::Race'),\n",
       " (0.00044091812519241389, 'White::Race'),\n",
       " (0.0015957291201695479, 'std_respiratory_rate::respiratory_rate'),\n",
       " (0.0016925107395479525, 'mean_respiratory_rate::respiratory_rate'),\n",
       " (0.0025488745161013587, 'std_weight::weight'),\n",
       " (0.0026520575996558326, 'mean_pulse::pulse'),\n",
       " (0.00267991495232153, 'mean_weight::weight'),\n",
       " (0.0026812280783012864, 'std_pulse::pulse'),\n",
       " (0.0058926198697277499, 'mean_bp_diastolic::bp_diastolic'),\n",
       " (0.0059471706549664759, 'mean_bp_systolic::bp_systolic'),\n",
       " (0.0065816033717487534, 'std_bp_systolic::bp_systolic'),\n",
       " (0.0070062181862953982, 'Black::Race'),\n",
       " (0.007509126485072069, 'std_bp_diastolic::bp_diastolic'),\n",
       " (0.016847608069167668, 'mean_temperature::temperature'),\n",
       " (0.01802075987781282, 'std_temperature::temperature')]"
      ]
     },
     "execution_count": 17,
     "metadata": {},
     "output_type": "execute_result"
    }
   ],
   "source": [
    "proact_train_no_dominants = proact_train.drop(['F::Gender', 'White::Race'], 1)\n",
    "kmeans = KMeans(init='k-means++', n_clusters=3)\n",
    "visualize_kmeans(kmeans, proact_train_no_dominants)\n",
    "kmeans.fit(proact_train_no_dominants)\n",
    "sorted([(metrics.adjusted_mutual_info_score(proact_train[col], kmeans.labels_), col) for col in proact_train.columns])"
   ]
  },
  {
   "cell_type": "code",
   "execution_count": 19,
   "metadata": {
    "collapsed": false
   },
   "outputs": [],
   "source": [
    "for t in ['train', 'test']:\n",
    "    cur_data = pd.read_csv('../' + t + '_data_vectorized.csv', sep = '|', error_bad_lines=False, index_col='SubjectID')\n",
    "    data_no_dominants = cur_data.drop(['F::Gender', 'White::Race'], 1)\n",
    "    res = pd.DataFrame(index = data_no_dominants.index)\n",
    "    res['cluster'] = kmeans.predict(data_no_dominants)\n",
    "    res.to_csv('../' + t + '_kmeans_clusters.csv',sep='|')"
   ]
  },
  {
   "cell_type": "code",
   "execution_count": null,
   "metadata": {
    "collapsed": true
   },
   "outputs": [],
   "source": []
  }
 ],
 "metadata": {
  "kernelspec": {
   "display_name": "Python 2",
   "language": "python",
   "name": "python2"
  },
  "language_info": {
   "codemirror_mode": {
    "name": "ipython",
    "version": 2
   },
   "file_extension": ".py",
   "mimetype": "text/x-python",
   "name": "python",
   "nbconvert_exporter": "python",
   "pygments_lexer": "ipython2",
   "version": "2.7.10"
  }
 },
 "nbformat": 4,
 "nbformat_minor": 0
}
