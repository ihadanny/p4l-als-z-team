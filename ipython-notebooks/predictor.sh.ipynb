{
 "cells": [
  {
   "cell_type": "markdown",
   "metadata": {
    "collapsed": false
   },
   "source": [
    "## Run predictor.sh\n",
    "Read the challenge standard selected features and emit a prediction"
   ]
  },
  {
   "cell_type": "code",
   "execution_count": 6,
   "metadata": {
    "collapsed": false
   },
   "outputs": [
    {
     "name": "stdout",
     "output_type": "stream",
     "text": [
      "           confidence  prediction\n",
      "SubjectID                        \n",
      "19871             0.5   -0.972196\n"
     ]
    }
   ],
   "source": [
    "import pickle\n",
    "import pandas as pd\n",
    "import sys\n",
    "from os import listdir\n",
    "from os.path import isfile, join\n",
    "from StringIO import StringIO\n",
    "from vectorizing_funcs import *\n",
    "\n",
    "if \"IPython\" not in sys.argv[0]:\n",
    "    models_folder, input_file, output_file= sys.argv[1], sys.argv[2], sys.argv[3]\n",
    "else:\n",
    "    models_folder, input_file, output_file= \"../\", \"../selected_19871.txt\", \"../predicted_19871.txt\"\n",
    "\n",
    "all_feature_metadata = pickle.load( open(models_folder + '/all_feature_metadata.pickle', 'rb') )\n",
    "train_data_means = pickle.load( open(models_folder + '/all_data_means.pickle', 'rb') )\n",
    "train_data_std = pickle.load( open(models_folder + '/all_data_std.pickle', 'rb') )\n",
    "model_per_cluster = pickle.load( open(models_folder + '/model_per_cluster.pickle', 'rb') )\n",
    "\n",
    "def calc(x):\n",
    "    c = x['cluster']\n",
    "    model = model_per_cluster[c]['model']\n",
    "    pred = float(model.predict(x))\n",
    "    return pd.Series({'prediction':pred, 'confidence': 0.5})\n",
    "    \n",
    "with open(input_file, 'r') as f:\n",
    "    content = f.readlines()\n",
    "    c = int(content[0].split(\":\")[1])\n",
    "    s = \"\".join(content[1:])\n",
    "    df = pd.read_csv(StringIO(s), sep='|', index_col=False, dtype=\"unicode\",\n",
    "                    names =[\"SubjectID\",\"form_name\",\"feature_name\",\"feature_value\",\"feature_unit\",\"feature_delta\"])\n",
    "    vectorized, _ = vectorize(df, all_feature_metadata)\n",
    "    normalized, _ = normalize(vectorized, all_feature_metadata, train_data_means, train_data_std)\n",
    "    normalized.loc[:, \"cluster\"] = c\n",
    "    pred = normalized.apply(calc, axis=1)\n",
    "    print pred\n",
    "    pred.to_csv(output_file ,sep='|', header=False, index=False, \n",
    "                columns=[\"prediction\", \"confidence\"])\n"
   ]
  },
  {
   "cell_type": "code",
   "execution_count": null,
   "metadata": {
    "collapsed": true
   },
   "outputs": [],
   "source": []
  }
 ],
 "metadata": {
  "kernelspec": {
   "display_name": "Python 2",
   "language": "python",
   "name": "python2"
  },
  "language_info": {
   "codemirror_mode": {
    "name": "ipython",
    "version": 2
   },
   "file_extension": ".py",
   "mimetype": "text/x-python",
   "name": "python",
   "nbconvert_exporter": "python",
   "pygments_lexer": "ipython2",
   "version": "2.7.10"
  }
 },
 "nbformat": 4,
 "nbformat_minor": 0
}
