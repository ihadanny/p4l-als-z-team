{
 "cells": [
  {
   "cell_type": "code",
   "execution_count": 2,
   "metadata": {
    "collapsed": true
   },
   "outputs": [],
   "source": [
    "import pandas as pd\n",
    "import numpy as np\n",
    "from IPython.display import display\n"
   ]
  },
  {
   "cell_type": "code",
   "execution_count": 19,
   "metadata": {
    "collapsed": false
   },
   "outputs": [
    {
     "name": "stdout",
     "output_type": "stream",
     "text": [
      "(3103974, 6) (2424, 2) (2227, 1)\n",
      "(2205, 2) (1514606, 7) 2205\n"
     ]
    },
    {
     "data": {
      "text/html": [
       "<div>\n",
       "<table border=\"1\" class=\"dataframe\">\n",
       "  <thead>\n",
       "    <tr style=\"text-align: right;\">\n",
       "      <th></th>\n",
       "      <th>SubjectID</th>\n",
       "      <th>form_name</th>\n",
       "      <th>feature_name</th>\n",
       "      <th>feature_value</th>\n",
       "      <th>feature_unit</th>\n",
       "      <th>feature_delta</th>\n",
       "      <th>ALSFRS_slope</th>\n",
       "    </tr>\n",
       "  </thead>\n",
       "  <tbody>\n",
       "    <tr>\n",
       "      <th>0</th>\n",
       "      <td>533</td>\n",
       "      <td>Demographic</td>\n",
       "      <td>Gender</td>\n",
       "      <td>F</td>\n",
       "      <td>NaN</td>\n",
       "      <td>0</td>\n",
       "      <td>-0.965608</td>\n",
       "    </tr>\n",
       "    <tr>\n",
       "      <th>1</th>\n",
       "      <td>533</td>\n",
       "      <td>Demographic</td>\n",
       "      <td>Age</td>\n",
       "      <td>65</td>\n",
       "      <td>NaN</td>\n",
       "      <td>0</td>\n",
       "      <td>-0.965608</td>\n",
       "    </tr>\n",
       "    <tr>\n",
       "      <th>2</th>\n",
       "      <td>533</td>\n",
       "      <td>Demographic</td>\n",
       "      <td>Race</td>\n",
       "      <td>White</td>\n",
       "      <td>NaN</td>\n",
       "      <td>0</td>\n",
       "      <td>-0.965608</td>\n",
       "    </tr>\n",
       "    <tr>\n",
       "      <th>3</th>\n",
       "      <td>533</td>\n",
       "      <td>ALSHX</td>\n",
       "      <td>onset_delta</td>\n",
       "      <td>-1023</td>\n",
       "      <td>NaN</td>\n",
       "      <td>0</td>\n",
       "      <td>-0.965608</td>\n",
       "    </tr>\n",
       "    <tr>\n",
       "      <th>4</th>\n",
       "      <td>533</td>\n",
       "      <td>ALSHX</td>\n",
       "      <td>diag_delta</td>\n",
       "      <td>-44</td>\n",
       "      <td>NaN</td>\n",
       "      <td>0</td>\n",
       "      <td>-0.965608</td>\n",
       "    </tr>\n",
       "  </tbody>\n",
       "</table>\n",
       "</div>"
      ],
      "text/plain": [
       "   SubjectID    form_name feature_name feature_value feature_unit  \\\n",
       "0        533  Demographic       Gender             F          NaN   \n",
       "1        533  Demographic          Age            65          NaN   \n",
       "2        533  Demographic         Race         White          NaN   \n",
       "3        533        ALSHX  onset_delta         -1023          NaN   \n",
       "4        533        ALSHX   diag_delta           -44          NaN   \n",
       "\n",
       "  feature_delta  ALSFRS_slope  \n",
       "0             0     -0.965608  \n",
       "1             0     -0.965608  \n",
       "2             0     -0.965608  \n",
       "3             0     -0.965608  \n",
       "4             0     -0.965608  "
      ]
     },
     "execution_count": 19,
     "metadata": {},
     "output_type": "execute_result"
    }
   ],
   "source": [
    "df = pd.read_csv('../../all_forms_PROACT.txt', sep = '|')\n",
    "slope = pd.read_csv('../../ALSFRS_slope_PROACT.txt', sep = '|')\n",
    "slope = slope.dropna()\n",
    "\n",
    "max_date = df[df.feature_name == 'ALSFRS_Total'][['feature_delta', 'SubjectID']]\n",
    "max_date.loc[:, 'max_delta'] = max_date.feature_delta.astype(int)\n",
    "max_date = max_date.groupby('SubjectID').max()\n",
    "max_date = max_date[max_date.feature_delta >= 365][['max_delta']]\n",
    "\n",
    "print df.shape, slope.shape, max_date.shape\n",
    "slope_legal = pd.merge(slope, max_date, left_on=\"SubjectID\", right_index=True)\n",
    "slope_legal = slope_legal.drop('max_delta', 1)\n",
    "data_with_slope = pd.merge(df, slope_legal, on=\"SubjectID\")\n",
    "print slope_legal.shape, data_with_slope.shape, data_with_slope.SubjectID.unique().size\n",
    "data_with_slope.head()"
   ]
  },
  {
   "cell_type": "code",
   "execution_count": 20,
   "metadata": {
    "collapsed": false
   },
   "outputs": [],
   "source": [
    "data = data_with_slope.drop(['ALSFRS_slope'], 1)\n",
    "data.to_csv('../all_data.csv',sep='|')\n",
    "slope_legal.to_csv('../all_slope.csv',sep='|')"
   ]
  },
  {
   "cell_type": "code",
   "execution_count": null,
   "metadata": {
    "collapsed": true
   },
   "outputs": [],
   "source": []
  }
 ],
 "metadata": {
  "kernelspec": {
   "display_name": "Python 2",
   "language": "python",
   "name": "python2"
  },
  "language_info": {
   "codemirror_mode": {
    "name": "ipython",
    "version": 2
   },
   "file_extension": ".py",
   "mimetype": "text/x-python",
   "name": "python",
   "nbconvert_exporter": "python",
   "pygments_lexer": "ipython2",
   "version": "2.7.10"
  }
 },
 "nbformat": 4,
 "nbformat_minor": 0
}
