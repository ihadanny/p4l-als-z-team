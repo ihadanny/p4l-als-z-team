{
 "cells": [
  {
   "cell_type": "code",
   "execution_count": 1,
   "metadata": {
    "collapsed": true
   },
   "outputs": [],
   "source": [
    "import pandas as pd\n",
    "import numpy as np\n",
    "import pickle, cPickle\n",
    "from datetime import datetime\n",
    "\n",
    "from vectorizing_funcs import *\n",
    "from modeling_funcs import *\n"
   ]
  },
  {
   "cell_type": "code",
   "execution_count": null,
   "metadata": {
    "collapsed": false
   },
   "outputs": [],
   "source": [
    "df = pd.read_csv('../all_data.csv', sep = '|', error_bad_lines=False, index_col=False, dtype='unicode')\n",
    "slope = pd.read_csv('../all_slope.csv', sep = '|', index_col=\"SubjectID\")\n",
    "slope.index = slope.index.astype(str)\n",
    "\n",
    "print \"*\"*30\n",
    "tick = datetime.now()\n",
    "\n",
    "all_feature_metadata, train_data_means, train_data_std, train_data_medians, train_data_mads, \\\n",
    "             bins, forest, best_features_per_cluster, model_per_cluster = train_it(df, slope, 4)\n",
    "clustering_model = {\"model\": forest, \"bins\": bins}\n",
    "\n",
    "tock = datetime.now()   \n",
    "diff = tock - tick \n",
    "print \"minutes we learned: \", diff.seconds / 60\n",
    "\n",
    "pickle.dump( all_feature_metadata, open('../all_feature_metadata.pickle', 'wb') )\n",
    "pickle.dump( train_data_means, open('../all_data_means.pickle', 'wb') )\n",
    "pickle.dump( train_data_std, open('../all_data_std.pickle', 'wb') )\n",
    "pickle.dump( train_data_medians, open('../all_data_medians.pickle', 'wb') )\n",
    "pickle.dump( train_data_mads, open('../all_data_mads.pickle', 'wb') )\n",
    "pickle.dump( clustering_model, open('../forest_clustering_model.pickle', 'wb') )\n",
    "pickle.dump( best_features_per_cluster, open(\"../best_features_per_cluster.pickle\", \"wb\"))\n",
    "pickle.dump( model_per_cluster, open(\"../model_per_cluster.pickle\", \"wb\"))\n",
    "\n",
    "print \"pickled all models\"\n",
    "print \"*\"*30\n"
   ]
  },
  {
   "cell_type": "code",
   "execution_count": null,
   "metadata": {
    "collapsed": true
   },
   "outputs": [],
   "source": []
  }
 ],
 "metadata": {
  "kernelspec": {
   "display_name": "Python 2",
   "language": "python",
   "name": "python2"
  },
  "language_info": {
   "codemirror_mode": {
    "name": "ipython",
    "version": 2
   },
   "file_extension": ".py",
   "mimetype": "text/x-python",
   "name": "python",
   "nbconvert_exporter": "python",
   "pygments_lexer": "ipython2",
   "version": "2.7.10"
  }
 },
 "nbformat": 4,
 "nbformat_minor": 0
}
