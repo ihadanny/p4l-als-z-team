{
 "cells": [
  {
   "cell_type": "markdown",
   "metadata": {
    "collapsed": true
   },
   "source": [
    "## Grow a decision tree, each node is a \"cluster\" \n"
   ]
  },
  {
   "cell_type": "code",
   "execution_count": 1,
   "metadata": {
    "collapsed": false
   },
   "outputs": [],
   "source": [
    "%matplotlib inline\n",
    "\n",
    "import pandas as pd\n",
    "import numpy as np\n",
    "from time import time\n",
    "import numpy as np\n",
    "import matplotlib.pyplot as plt\n",
    "import pickle\n",
    "from sklearn import metrics\n",
    "from sklearn import cross_validation, grid_search\n",
    "from sklearn.cross_validation import cross_val_score \n",
    "from modeling_funcs import *\n",
    "from IPython.display import display\n",
    "import seaborn as sns\n",
    "\n",
    "sns.set(color_codes=True)\n",
    "plt.rcParams['figure.figsize'] = (10.0, 10.0)\n"
   ]
  },
  {
   "cell_type": "code",
   "execution_count": 2,
   "metadata": {
    "collapsed": false
   },
   "outputs": [],
   "source": [
    "vectorized_data = pd.read_csv('../all_data_vectorized.csv', sep='|', index_col=0)\n",
    "slope = pd.read_csv('../all_slope.csv', sep = '|', index_col=0)\n",
    "all_feature_metadata = pickle.load( open('../all_feature_metadata.pickle', 'rb') )\n",
    "\n",
    "everybody = vectorized_data.join(slope)\n"
   ]
  },
  {
   "cell_type": "code",
   "execution_count": 3,
   "metadata": {
    "collapsed": false
   },
   "outputs": [
    {
     "data": {
      "text/plain": [
       "array([-4.3452381 , -1.5534566 , -1.20701058, -0.96577907, -0.77991453,\n",
       "       -0.6207483 , -0.48158194, -0.34825588, -0.2172619 ,  0.        ])"
      ]
     },
     "execution_count": 3,
     "metadata": {},
     "output_type": "execute_result"
    }
   ],
   "source": [
    "q = np.percentile(everybody.ALSFRS_slope, range(0,100,10))\n",
    "q\n"
   ]
  },
  {
   "cell_type": "code",
   "execution_count": 4,
   "metadata": {
    "collapsed": false
   },
   "outputs": [
    {
     "data": {
      "text/html": [
       "<div>\n",
       "<table border=\"1\" class=\"dataframe\">\n",
       "  <thead>\n",
       "    <tr style=\"text-align: right;\">\n",
       "      <th></th>\n",
       "      <th>ALSFRS_slope</th>\n",
       "      <th>ALSFRS_bin</th>\n",
       "    </tr>\n",
       "  </thead>\n",
       "  <tbody>\n",
       "    <tr>\n",
       "      <th>count</th>\n",
       "      <td>2424.000000</td>\n",
       "      <td>2424.000000</td>\n",
       "    </tr>\n",
       "    <tr>\n",
       "      <th>mean</th>\n",
       "      <td>-0.730786</td>\n",
       "      <td>5.503713</td>\n",
       "    </tr>\n",
       "    <tr>\n",
       "      <th>std</th>\n",
       "      <td>0.627481</td>\n",
       "      <td>2.876174</td>\n",
       "    </tr>\n",
       "    <tr>\n",
       "      <th>min</th>\n",
       "      <td>-4.345238</td>\n",
       "      <td>1.000000</td>\n",
       "    </tr>\n",
       "    <tr>\n",
       "      <th>25%</th>\n",
       "      <td>-1.086310</td>\n",
       "      <td>3.000000</td>\n",
       "    </tr>\n",
       "    <tr>\n",
       "      <th>50%</th>\n",
       "      <td>-0.620748</td>\n",
       "      <td>6.000000</td>\n",
       "    </tr>\n",
       "    <tr>\n",
       "      <th>75%</th>\n",
       "      <td>-0.274234</td>\n",
       "      <td>8.000000</td>\n",
       "    </tr>\n",
       "    <tr>\n",
       "      <th>max</th>\n",
       "      <td>1.207011</td>\n",
       "      <td>10.000000</td>\n",
       "    </tr>\n",
       "  </tbody>\n",
       "</table>\n",
       "</div>"
      ],
      "text/plain": [
       "       ALSFRS_slope   ALSFRS_bin\n",
       "count   2424.000000  2424.000000\n",
       "mean      -0.730786     5.503713\n",
       "std        0.627481     2.876174\n",
       "min       -4.345238     1.000000\n",
       "25%       -1.086310     3.000000\n",
       "50%       -0.620748     6.000000\n",
       "75%       -0.274234     8.000000\n",
       "max        1.207011    10.000000"
      ]
     },
     "metadata": {},
     "output_type": "display_data"
    }
   ],
   "source": [
    "everybody.loc[:, 'ALSFRS_bin'] = np.digitize(everybody.ALSFRS_slope, q)\n",
    "display(everybody[['ALSFRS_slope','ALSFRS_bin']].describe())"
   ]
  },
  {
   "cell_type": "code",
   "execution_count": 5,
   "metadata": {
    "collapsed": false
   },
   "outputs": [
    {
     "data": {
      "image/png": "[encoded data removed]",
      "text/plain": [
       "<matplotlib.figure.Figure at 0x420c390>"
      ]
     },
     "metadata": {},
     "output_type": "display_data"
    }
   ],
   "source": [
    "sns.distplot(everybody.ALSFRS_slope, rug=True, kde=False);"
   ]
  },
  {
   "cell_type": "code",
   "execution_count": 39,
   "metadata": {
    "collapsed": false
   },
   "outputs": [
    {
     "name": "stdout",
     "output_type": "stream",
     "text": [
      "-0.35434734201\n"
     ]
    }
   ],
   "source": [
    "from sklearn import tree\n",
    "\n",
    "X = everybody.drop(['ALSFRS_slope','ALSFRS_bin'], 1)\n",
    "y = everybody.ALSFRS_slope\n",
    "\n",
    "clf = grid_search.GridSearchCV(tree.DecisionTreeRegressor(min_samples_split = 275), \n",
    "                               {'min_samples_leaf': range(10,150,10)})\n",
    "print cross_val_score(clf, X, y, scoring=\"mean_squared_error\").mean()"
   ]
  },
  {
   "cell_type": "code",
   "execution_count": 40,
   "metadata": {
    "collapsed": false
   },
   "outputs": [
    {
     "name": "stdout",
     "output_type": "stream",
     "text": [
      "DecisionTreeRegressor(criterion='mse', max_depth=None, max_features=None,\n",
      "           max_leaf_nodes=None, min_samples_leaf=60, min_samples_split=275,\n",
      "           min_weight_fraction_leaf=0.0, random_state=None,\n",
      "           splitter='best')\n",
      "train 0.32395715704\n",
      "test 0.356564942818 0.356564942818\n"
     ]
    },
    {
     "data": {
      "text/html": [
       "<div>\n",
       "<table border=\"1\" class=\"dataframe\">\n",
       "  <thead>\n",
       "    <tr style=\"text-align: right;\">\n",
       "      <th></th>\n",
       "      <th>prediction</th>\n",
       "      <th>actual</th>\n",
       "      <th>SE</th>\n",
       "    </tr>\n",
       "    <tr>\n",
       "      <th>SubjectID</th>\n",
       "      <th></th>\n",
       "      <th></th>\n",
       "      <th></th>\n",
       "    </tr>\n",
       "  </thead>\n",
       "  <tbody>\n",
       "    <tr>\n",
       "      <th>468194</th>\n",
       "      <td>-0.618905</td>\n",
       "      <td>-0.618644</td>\n",
       "      <td>6.834310e-08</td>\n",
       "    </tr>\n",
       "    <tr>\n",
       "      <th>409379</th>\n",
       "      <td>-0.771234</td>\n",
       "      <td>-0.774242</td>\n",
       "      <td>9.052567e-06</td>\n",
       "    </tr>\n",
       "    <tr>\n",
       "      <th>630294</th>\n",
       "      <td>-0.824607</td>\n",
       "      <td>-0.827664</td>\n",
       "      <td>9.348323e-06</td>\n",
       "    </tr>\n",
       "  </tbody>\n",
       "</table>\n",
       "</div>"
      ],
      "text/plain": [
       "           prediction    actual            SE\n",
       "SubjectID                                    \n",
       "468194      -0.618905 -0.618644  6.834310e-08\n",
       "409379      -0.771234 -0.774242  9.052567e-06\n",
       "630294      -0.824607 -0.827664  9.348323e-06"
      ]
     },
     "metadata": {},
     "output_type": "display_data"
    },
    {
     "data": {
      "text/html": [
       "<div>\n",
       "<table border=\"1\" class=\"dataframe\">\n",
       "  <thead>\n",
       "    <tr style=\"text-align: right;\">\n",
       "      <th></th>\n",
       "      <th>prediction</th>\n",
       "      <th>actual</th>\n",
       "      <th>SE</th>\n",
       "    </tr>\n",
       "    <tr>\n",
       "      <th>SubjectID</th>\n",
       "      <th></th>\n",
       "      <th></th>\n",
       "      <th></th>\n",
       "    </tr>\n",
       "  </thead>\n",
       "  <tbody>\n",
       "    <tr>\n",
       "      <th>657460</th>\n",
       "      <td>-0.618905</td>\n",
       "      <td>-2.172619</td>\n",
       "      <td>2.414026</td>\n",
       "    </tr>\n",
       "    <tr>\n",
       "      <th>450923</th>\n",
       "      <td>-0.336986</td>\n",
       "      <td>-1.931217</td>\n",
       "      <td>2.541571</td>\n",
       "    </tr>\n",
       "    <tr>\n",
       "      <th>264864</th>\n",
       "      <td>-0.903134</td>\n",
       "      <td>-2.508591</td>\n",
       "      <td>2.577491</td>\n",
       "    </tr>\n",
       "    <tr>\n",
       "      <th>582155</th>\n",
       "      <td>-0.771234</td>\n",
       "      <td>-2.460172</td>\n",
       "      <td>2.852511</td>\n",
       "    </tr>\n",
       "    <tr>\n",
       "      <th>221689</th>\n",
       "      <td>-0.824607</td>\n",
       "      <td>-2.547209</td>\n",
       "      <td>2.967356</td>\n",
       "    </tr>\n",
       "    <tr>\n",
       "      <th>880451</th>\n",
       "      <td>-0.771234</td>\n",
       "      <td>-2.516487</td>\n",
       "      <td>3.045909</td>\n",
       "    </tr>\n",
       "    <tr>\n",
       "      <th>364548</th>\n",
       "      <td>-1.046493</td>\n",
       "      <td>-2.804374</td>\n",
       "      <td>3.090144</td>\n",
       "    </tr>\n",
       "    <tr>\n",
       "      <th>491548</th>\n",
       "      <td>-0.771234</td>\n",
       "      <td>-2.607143</td>\n",
       "      <td>3.370563</td>\n",
       "    </tr>\n",
       "    <tr>\n",
       "      <th>15154</th>\n",
       "      <td>-0.618905</td>\n",
       "      <td>-2.628601</td>\n",
       "      <td>4.038875</td>\n",
       "    </tr>\n",
       "    <tr>\n",
       "      <th>596259</th>\n",
       "      <td>-0.824607</td>\n",
       "      <td>1.207011</td>\n",
       "      <td>4.127470</td>\n",
       "    </tr>\n",
       "    <tr>\n",
       "      <th>414305</th>\n",
       "      <td>-0.903134</td>\n",
       "      <td>-3.030013</td>\n",
       "      <td>4.523611</td>\n",
       "    </tr>\n",
       "    <tr>\n",
       "      <th>809464</th>\n",
       "      <td>-1.168859</td>\n",
       "      <td>1.086310</td>\n",
       "      <td>5.085787</td>\n",
       "    </tr>\n",
       "    <tr>\n",
       "      <th>549126</th>\n",
       "      <td>-1.168859</td>\n",
       "      <td>-3.621032</td>\n",
       "      <td>6.013149</td>\n",
       "    </tr>\n",
       "    <tr>\n",
       "      <th>505515</th>\n",
       "      <td>-0.903134</td>\n",
       "      <td>-3.553349</td>\n",
       "      <td>7.023637</td>\n",
       "    </tr>\n",
       "    <tr>\n",
       "      <th>605404</th>\n",
       "      <td>-0.505393</td>\n",
       "      <td>-3.517574</td>\n",
       "      <td>9.073232</td>\n",
       "    </tr>\n",
       "  </tbody>\n",
       "</table>\n",
       "</div>"
      ],
      "text/plain": [
       "           prediction    actual        SE\n",
       "SubjectID                                \n",
       "657460      -0.618905 -2.172619  2.414026\n",
       "450923      -0.336986 -1.931217  2.541571\n",
       "264864      -0.903134 -2.508591  2.577491\n",
       "582155      -0.771234 -2.460172  2.852511\n",
       "221689      -0.824607 -2.547209  2.967356\n",
       "880451      -0.771234 -2.516487  3.045909\n",
       "364548      -1.046493 -2.804374  3.090144\n",
       "491548      -0.771234 -2.607143  3.370563\n",
       "15154       -0.618905 -2.628601  4.038875\n",
       "596259      -0.824607  1.207011  4.127470\n",
       "414305      -0.903134 -3.030013  4.523611\n",
       "809464      -1.168859  1.086310  5.085787\n",
       "549126      -1.168859 -3.621032  6.013149\n",
       "505515      -0.903134 -3.553349  7.023637\n",
       "605404      -0.505393 -3.517574  9.073232"
      ]
     },
     "metadata": {},
     "output_type": "display_data"
    },
    {
     "data": {
      "image/png": "[encoded data removed]",
      "text/plain": [
       "<matplotlib.figure.Figure at 0x21483048>"
      ]
     },
     "metadata": {},
     "output_type": "display_data"
    }
   ],
   "source": [
    "from sklearn.metrics import mean_squared_error\n",
    "from sklearn.cross_validation import train_test_split\n",
    "\n",
    "def pred_vs_actual(clf, X, y):\n",
    "    X_train, X_test, y_train, y_test = train_test_split(\n",
    "        X, y, test_size=0.33, random_state=0)\n",
    "\n",
    "    clf.fit(X_train, y_train)\n",
    "    print clf.best_estimator_\n",
    "    print \"train\", mean_squared_error(y_train, clf.predict(X_train))    \n",
    "    res = X_test.apply(lambda s: pd.Series({'prediction': clf.predict(s)[0]}) , axis=1)\n",
    "    res.loc[:, 'actual'] = y_test\n",
    "    res.loc[:, 'SE'] = res.apply(lambda s: (s['prediction'] - s['actual'])**2 , axis=1)\n",
    "    print \"test\", mean_squared_error(res.actual, res.prediction), np.mean(res.SE)\n",
    "    display(res.sort(['SE']).head(3))\n",
    "    display(res.sort(['SE']).tail(15))\n",
    "    return res\n",
    "    \n",
    "res = pred_vs_actual(clf, X, y)\n",
    "sns.distplot(res.SE, rug=True);"
   ]
  },
  {
   "cell_type": "code",
   "execution_count": 41,
   "metadata": {
    "collapsed": false
   },
   "outputs": [],
   "source": [
    "from sklearn.externals.six import StringIO\n",
    "with open(\"../tree.dot\", 'w') as f:\n",
    "    f = tree.export_graphviz(clf.best_estimator_, feature_names = X.columns, out_file=f)"
   ]
  },
  {
   "cell_type": "code",
   "execution_count": 42,
   "metadata": {
    "collapsed": false
   },
   "outputs": [
    {
     "data": {
      "text/html": [
       "<div>\n",
       "<table border=\"1\" class=\"dataframe\">\n",
       "  <thead>\n",
       "    <tr style=\"text-align: right;\">\n",
       "      <th></th>\n",
       "      <th>prediction</th>\n",
       "      <th>actual</th>\n",
       "      <th>SE</th>\n",
       "    </tr>\n",
       "  </thead>\n",
       "  <tbody>\n",
       "    <tr>\n",
       "      <th>count</th>\n",
       "      <td>800.000000</td>\n",
       "      <td>800.000000</td>\n",
       "      <td>8.000000e+02</td>\n",
       "    </tr>\n",
       "    <tr>\n",
       "      <th>mean</th>\n",
       "      <td>-0.736184</td>\n",
       "      <td>-0.728582</td>\n",
       "      <td>3.565649e-01</td>\n",
       "    </tr>\n",
       "    <tr>\n",
       "      <th>std</th>\n",
       "      <td>0.270615</td>\n",
       "      <td>0.616815</td>\n",
       "      <td>7.008660e-01</td>\n",
       "    </tr>\n",
       "    <tr>\n",
       "      <th>min</th>\n",
       "      <td>-1.168859</td>\n",
       "      <td>-3.621032</td>\n",
       "      <td>6.834310e-08</td>\n",
       "    </tr>\n",
       "    <tr>\n",
       "      <th>25%</th>\n",
       "      <td>-0.903134</td>\n",
       "      <td>-1.075346</td>\n",
       "      <td>3.087267e-02</td>\n",
       "    </tr>\n",
       "    <tr>\n",
       "      <th>50%</th>\n",
       "      <td>-0.771234</td>\n",
       "      <td>-0.620748</td>\n",
       "      <td>1.468713e-01</td>\n",
       "    </tr>\n",
       "    <tr>\n",
       "      <th>75%</th>\n",
       "      <td>-0.505393</td>\n",
       "      <td>-0.297231</td>\n",
       "      <td>3.815519e-01</td>\n",
       "    </tr>\n",
       "    <tr>\n",
       "      <th>max</th>\n",
       "      <td>-0.336986</td>\n",
       "      <td>1.207011</td>\n",
       "      <td>9.073232e+00</td>\n",
       "    </tr>\n",
       "  </tbody>\n",
       "</table>\n",
       "</div>"
      ],
      "text/plain": [
       "       prediction      actual            SE\n",
       "count  800.000000  800.000000  8.000000e+02\n",
       "mean    -0.736184   -0.728582  3.565649e-01\n",
       "std      0.270615    0.616815  7.008660e-01\n",
       "min     -1.168859   -3.621032  6.834310e-08\n",
       "25%     -0.903134   -1.075346  3.087267e-02\n",
       "50%     -0.771234   -0.620748  1.468713e-01\n",
       "75%     -0.505393   -0.297231  3.815519e-01\n",
       "max     -0.336986    1.207011  9.073232e+00"
      ]
     },
     "execution_count": 42,
     "metadata": {},
     "output_type": "execute_result"
    }
   ],
   "source": [
    "res.describe()"
   ]
  },
  {
   "cell_type": "code",
   "execution_count": 67,
   "metadata": {
    "collapsed": false
   },
   "outputs": [
    {
     "name": "stdout",
     "output_type": "stream",
     "text": [
      "-341.856344087\n"
     ]
    }
   ],
   "source": [
    "clf = linear_model.LinearRegression()\n",
    "print cross_val_score(clf, X, y, scoring=\"mean_squared_error\").mean()"
   ]
  },
  {
   "cell_type": "code",
   "execution_count": 152,
   "metadata": {
    "collapsed": false
   },
   "outputs": [
    {
     "name": "stdout",
     "output_type": "stream",
     "text": [
      "-7.23204438624\n"
     ]
    }
   ],
   "source": [
    "clf = grid_search.GridSearchCV(linear_model.Ridge(), {'alpha': np.arange(45,145,0.1)})\n",
    "print cross_val_score(clf, X, y, scoring=\"mean_squared_error\").mean()"
   ]
  },
  {
   "cell_type": "code",
   "execution_count": 153,
   "metadata": {
    "collapsed": false
   },
   "outputs": [
    {
     "name": "stdout",
     "output_type": "stream",
     "text": [
      "Ridge(alpha=144.90000000000143, copy_X=True, fit_intercept=True,\n",
      "   max_iter=None, normalize=False, solver='auto', tol=0.001)\n",
      "6.99119801951 6.99119801951\n"
     ]
    },
    {
     "data": {
      "text/html": [
       "<div>\n",
       "<table border=\"1\" class=\"dataframe\">\n",
       "  <thead>\n",
       "    <tr style=\"text-align: right;\">\n",
       "      <th></th>\n",
       "      <th>prediction</th>\n",
       "      <th>actual</th>\n",
       "      <th>SE</th>\n",
       "    </tr>\n",
       "    <tr>\n",
       "      <th>SubjectID</th>\n",
       "      <th></th>\n",
       "      <th></th>\n",
       "      <th></th>\n",
       "    </tr>\n",
       "  </thead>\n",
       "  <tbody>\n",
       "    <tr>\n",
       "      <th>847031</th>\n",
       "      <td>4.327855</td>\n",
       "      <td>5</td>\n",
       "      <td>0.451779</td>\n",
       "    </tr>\n",
       "    <tr>\n",
       "      <th>305292</th>\n",
       "      <td>4.796552</td>\n",
       "      <td>1</td>\n",
       "      <td>14.413807</td>\n",
       "    </tr>\n",
       "    <tr>\n",
       "      <th>812988</th>\n",
       "      <td>5.906458</td>\n",
       "      <td>7</td>\n",
       "      <td>1.195834</td>\n",
       "    </tr>\n",
       "    <tr>\n",
       "      <th>572577</th>\n",
       "      <td>5.149582</td>\n",
       "      <td>4</td>\n",
       "      <td>1.321539</td>\n",
       "    </tr>\n",
       "    <tr>\n",
       "      <th>820318</th>\n",
       "      <td>4.440890</td>\n",
       "      <td>8</td>\n",
       "      <td>12.667266</td>\n",
       "    </tr>\n",
       "  </tbody>\n",
       "</table>\n",
       "</div>"
      ],
      "text/plain": [
       "           prediction  actual         SE\n",
       "SubjectID                               \n",
       "847031       4.327855       5   0.451779\n",
       "305292       4.796552       1  14.413807\n",
       "812988       5.906458       7   1.195834\n",
       "572577       5.149582       4   1.321539\n",
       "820318       4.440890       8  12.667266"
      ]
     },
     "metadata": {},
     "output_type": "display_data"
    }
   ],
   "source": [
    "\n",
    "\n",
    "display(pred_vs_actual(clf, X, y).head())\n"
   ]
  },
  {
   "cell_type": "code",
   "execution_count": 157,
   "metadata": {
    "collapsed": false
   },
   "outputs": [
    {
     "name": "stdout",
     "output_type": "stream",
     "text": [
      "-6.88881627372\n",
      "Lasso(alpha=0.11, copy_X=True, fit_intercept=True, max_iter=1000,\n",
      "   normalize=False, positive=False, precompute=False, random_state=None,\n",
      "   selection='cyclic', tol=0.0001, warm_start=False)\n",
      "6.70766903819 6.70766903819\n"
     ]
    },
    {
     "data": {
      "text/html": [
       "<div>\n",
       "<table border=\"1\" class=\"dataframe\">\n",
       "  <thead>\n",
       "    <tr style=\"text-align: right;\">\n",
       "      <th></th>\n",
       "      <th>prediction</th>\n",
       "      <th>actual</th>\n",
       "      <th>SE</th>\n",
       "    </tr>\n",
       "    <tr>\n",
       "      <th>SubjectID</th>\n",
       "      <th></th>\n",
       "      <th></th>\n",
       "      <th></th>\n",
       "    </tr>\n",
       "  </thead>\n",
       "  <tbody>\n",
       "    <tr>\n",
       "      <th>847031</th>\n",
       "      <td>5.326242</td>\n",
       "      <td>5</td>\n",
       "      <td>0.106434</td>\n",
       "    </tr>\n",
       "    <tr>\n",
       "      <th>305292</th>\n",
       "      <td>4.484236</td>\n",
       "      <td>1</td>\n",
       "      <td>12.139900</td>\n",
       "    </tr>\n",
       "    <tr>\n",
       "      <th>812988</th>\n",
       "      <td>5.191848</td>\n",
       "      <td>7</td>\n",
       "      <td>3.269414</td>\n",
       "    </tr>\n",
       "    <tr>\n",
       "      <th>572577</th>\n",
       "      <td>4.809914</td>\n",
       "      <td>4</td>\n",
       "      <td>0.655960</td>\n",
       "    </tr>\n",
       "    <tr>\n",
       "      <th>820318</th>\n",
       "      <td>4.974577</td>\n",
       "      <td>8</td>\n",
       "      <td>9.153187</td>\n",
       "    </tr>\n",
       "  </tbody>\n",
       "</table>\n",
       "</div>"
      ],
      "text/plain": [
       "           prediction  actual         SE\n",
       "SubjectID                               \n",
       "847031       5.326242       5   0.106434\n",
       "305292       4.484236       1  12.139900\n",
       "812988       5.191848       7   3.269414\n",
       "572577       4.809914       4   0.655960\n",
       "820318       4.974577       8   9.153187"
      ]
     },
     "metadata": {},
     "output_type": "display_data"
    }
   ],
   "source": [
    "clf = grid_search.GridSearchCV(linear_model.Lasso(), {'alpha': np.arange(0.01,0.21,0.01)})\n",
    "print cross_val_score(clf, X, y, scoring=\"mean_squared_error\").mean()\n",
    "display(pred_vs_actual(clf, X, y).head())"
   ]
  },
  {
   "cell_type": "code",
   "execution_count": 158,
   "metadata": {
    "collapsed": false
   },
   "outputs": [
    {
     "name": "stdout",
     "output_type": "stream",
     "text": [
      "[('onset_delta_last', -0.911575190658793), ('fvc_percent_last', 0.2807824622926659), ('ALSFRS_Total_last', 0.19434092696047364), ('mouth_last', 0.15730415417187979), ('weight_pct_diff', 0.11496315505224347), ('Phosphorus_mean', -0.10002903182742638), ('Calcium_last', -0.083478178206893336), ('Hemoglobin_last', -0.051136514254172108), ('fvc_percent_pct_diff', 0.046058848489727813), ('bp_diastolic_last', -0.043585555808449188), ('Phosphorus_last', -0.029619148570506695), ('AST(SGOT)_pct_diff', -0.024803026822630008), ('fvc_percent_mean_slope', 0.021705860369413636), ('pulse_mean', -0.017809097337575467), ('White Blood Cell (WBC)_pct_diff', -0.012260306855154829), ('bp_diastolic_mean', -0.0035967370763351075)]\n"
     ]
    }
   ],
   "source": [
    "print [(X.columns[i[0]], i[1]) for i in sorted(enumerate(clf.best_estimator_.coef_), key=lambda x:-abs(x[1])) if i[1] <> 0]\n"
   ]
  },
  {
   "cell_type": "code",
   "execution_count": 159,
   "metadata": {
    "collapsed": false
   },
   "outputs": [
    {
     "name": "stdout",
     "output_type": "stream",
     "text": [
      "-11.6904436445\n",
      "RandomForestClassifier(bootstrap=True, class_weight=None, criterion='gini',\n",
      "            max_depth=None, max_features='auto', max_leaf_nodes=None,\n",
      "            min_samples_leaf=1, min_samples_split=5,\n",
      "            min_weight_fraction_leaf=0.0, n_estimators=1000, n_jobs=1,\n",
      "            oob_score=False, random_state=0, verbose=0, warm_start=False)\n",
      "12.55 12.55\n"
     ]
    },
    {
     "data": {
      "text/html": [
       "<div>\n",
       "<table border=\"1\" class=\"dataframe\">\n",
       "  <thead>\n",
       "    <tr style=\"text-align: right;\">\n",
       "      <th></th>\n",
       "      <th>prediction</th>\n",
       "      <th>actual</th>\n",
       "      <th>SE</th>\n",
       "    </tr>\n",
       "    <tr>\n",
       "      <th>SubjectID</th>\n",
       "      <th></th>\n",
       "      <th></th>\n",
       "      <th></th>\n",
       "    </tr>\n",
       "  </thead>\n",
       "  <tbody>\n",
       "    <tr>\n",
       "      <th>847031</th>\n",
       "      <td>2</td>\n",
       "      <td>5</td>\n",
       "      <td>9</td>\n",
       "    </tr>\n",
       "    <tr>\n",
       "      <th>305292</th>\n",
       "      <td>1</td>\n",
       "      <td>1</td>\n",
       "      <td>0</td>\n",
       "    </tr>\n",
       "    <tr>\n",
       "      <th>812988</th>\n",
       "      <td>9</td>\n",
       "      <td>7</td>\n",
       "      <td>4</td>\n",
       "    </tr>\n",
       "    <tr>\n",
       "      <th>572577</th>\n",
       "      <td>2</td>\n",
       "      <td>4</td>\n",
       "      <td>4</td>\n",
       "    </tr>\n",
       "    <tr>\n",
       "      <th>820318</th>\n",
       "      <td>1</td>\n",
       "      <td>8</td>\n",
       "      <td>49</td>\n",
       "    </tr>\n",
       "  </tbody>\n",
       "</table>\n",
       "</div>"
      ],
      "text/plain": [
       "           prediction  actual  SE\n",
       "SubjectID                        \n",
       "847031              2       5   9\n",
       "305292              1       1   0\n",
       "812988              9       7   4\n",
       "572577              2       4   4\n",
       "820318              1       8  49"
      ]
     },
     "metadata": {},
     "output_type": "display_data"
    }
   ],
   "source": [
    "from sklearn.ensemble import RandomForestClassifier\n",
    "clf = grid_search.GridSearchCV(RandomForestClassifier(random_state=0), \n",
    "                               {'min_samples_split': range(5,15,5), 'n_estimators': [1000]})\n",
    "print cross_val_score(clf, X, y, scoring=\"mean_squared_error\").mean()\n",
    "display(pred_vs_actual(clf, X, y).head())"
   ]
  },
  {
   "cell_type": "code",
   "execution_count": 164,
   "metadata": {
    "collapsed": false
   },
   "outputs": [
    {
     "name": "stdout",
     "output_type": "stream",
     "text": [
      "[('onset_delta_last', 0.022739190364377295), ('fvc_percent_pct_diff', 0.011844801172644165), ('ALSFRS_Total_pct_diff', 0.010718834380266459), ('fvc_percent_last', 0.010400872759118881), ('fvc_percent_mean_slope', 0.010146552101413391), ('ALSFRS_Total_mean', 0.010035887348447401), ('fvc_percent_mean', 0.0095109401550515643), ('weight_pct_diff', 0.0093626516166490058), ('ALSFRS_Total_mean_slope', 0.0092946769707839601), ('weight_mean', 0.0088976556934942611), ('Creatinine_mean', 0.008889751192627417), ('weight_mean_slope', 0.0088755814510963343), ('pulse_mean', 0.0087045721235431087), ('Blood Urea Nitrogen (BUN)_mean', 0.0086828306547351245), ('Potassium_mean', 0.0086634665589981567), ('ALT(SGPT)_mean', 0.0085933497848572644), ('pulse_pct_diff', 0.0084522714748249995), ('AST(SGOT)_mean', 0.0084424409121377515), ('Chloride_mean', 0.0084379588074674963), ('weight_last', 0.0084226118377464243), ('Bilirubin (Total)_mean', 0.0083247928836789123), ('Age_last', 0.0083089971618382635), ('bp_diastolic_mean_slope', 0.0082878870915137574), ('Platelets_mean', 0.0082681338964575597), ('pulse_mean_slope', 0.0082064971904276616), ('bp_systolic_mean_slope', 0.0081808432765533793), ('Platelets_last', 0.0081713790030419394), ('ALT(SGPT)_last', 0.0081477577791285588), ('Glucose_mean', 0.0081304848808208211), ('Hematocrit_mean', 0.0081045378754028858), ('bp_diastolic_mean', 0.0081002263622552226), ('ALSFRS_Total_last', 0.0080292446673830443), ('Calcium_mean', 0.0080044604625606267), ('Blood Urea Nitrogen (BUN)_last', 0.0079152900504535963), ('Glucose_last', 0.00790770009228727), ('Phosphorus_mean', 0.0078940745160532427), ('Alkaline Phosphatase_mean', 0.0078246635080992111), ('bp_systolic_mean', 0.0077674503775253491), ('CK_mean', 0.0077266931964913403), ('Hemoglobin_mean', 0.007667161956924325), ('respiratory_rate_mean_slope', 0.0076636029432024869), ('Alkaline Phosphatase_last', 0.0076479255060405002), ('Sodium_pct_diff', 0.0075749608814701603), ('Creatinine_last', 0.0075737070187159123), ('Potassium_mean_slope', 0.007568245494583078), ('bp_diastolic_pct_diff', 0.0075368526795748722), ('bp_systolic_pct_diff', 0.0074457494449088101), ('AST(SGOT)_last', 0.0074425183030763752), ('Blood Urea Nitrogen (BUN)_mean_slope', 0.0074245139050630182), ('Sodium_mean', 0.0074168634460866894), ('ALT(SGPT)_mean_slope', 0.0073654117155395197), ('Bicarbonate_mean', 0.0073595329741568969), ('Blood Urea Nitrogen (BUN)_pct_diff', 0.0073364148162093938), ('White Blood Cell (WBC)_mean', 0.0073110742840770153), ('CK_last', 0.0073004912198432661), ('Hematocrit_last', 0.0073002218577420119), ('ALT(SGPT)_pct_diff', 0.0072805174842166462), ('Protein_mean', 0.0072086218945573337), ('Chloride_pct_diff', 0.0072083160233968263), ('Phosphorus_last', 0.0072080362046155182), ('AST(SGOT)_pct_diff', 0.0072045875130863392), ('Sodium_mean_slope', 0.0071322624953259559), ('White Blood Cell (WBC)_last', 0.007117489203601053), ('Total Cholesterol_last', 0.0070761680563332513), ('Total Cholesterol_mean', 0.0070456733672229106), ('AST(SGOT)_mean_slope', 0.0070224420062887849), ('Bilirubin (Total)_pct_diff', 0.007017991405397269), ('Bilirubin (Total)_last', 0.0069620639607007959), ('Creatinine_mean_slope', 0.0069538086680050746), ('Chloride_mean_slope', 0.0069093262787019655), ('Bicarbonate_mean_slope', 0.0068667992880975205), ('hands_mean', 0.0068656879699107278), ('Albumin_mean', 0.0068048341711293382), ('Calcium_last', 0.0067450512743264975), ('White Blood Cell (WBC)_pct_diff', 0.0067347576163856214), ('Bilirubin (Total)_mean_slope', 0.006706351982663194), ('Hemoglobin_last', 0.0067048135520010807), ('Potassium_pct_diff', 0.0067004649303706336), ('respiratory_rate_mean', 0.0066570603389295036), ('Glucose_mean_slope', 0.0066402048594745126), ('Hemoglobin_mean_slope', 0.0065497836556115798), ('mouth_mean', 0.0065351949727175543), ('Bicarbonate_pct_diff', 0.0065172113535226957), ('Hematocrit_mean_slope', 0.0064733140227778777), ('Hematocrit_pct_diff', 0.006469297547312701), ('pulse_last', 0.006466722506608037), ('respiratory_rate_pct_diff', 0.0064160528577519799), ('White Blood Cell (WBC)_mean_slope', 0.0064111592133137421), ('Gamma-glutamyltransferase_mean', 0.0063973108990860285), ('bp_systolic_last', 0.0063553332021311299), ('Potassium_last', 0.0063545067633239303), ('Chloride_last', 0.0063406277655978184), ('Platelets_pct_diff', 0.0063211094829344755), ('Creatinine_pct_diff', 0.0062465957981925474), ('Platelets_mean_slope', 0.0062122911222693943), ('Glucose_pct_diff', 0.0061781433202197592), ('Phosphorus_mean_slope', 0.0060942009275184563), ('bp_diastolic_last', 0.0060521870841372385), ('hands_mean_slope', 0.0060506580721335227), ('BMI_last', 0.006043348938887509), ('Hemoglobin_pct_diff', 0.0060282719654677491), ('Gamma-glutamyltransferase_last', 0.005949028010979413), ('Albumin_mean_slope', 0.0058940685842315196), ('Albumin_pct_diff', 0.0058532086139333308), ('Phosphorus_pct_diff', 0.0058316846003270738), ('Alkaline Phosphatase_pct_diff', 0.0057803744166703436), ('Red Blood Cells (RBC)_pct_diff', 0.0057686529781831803), ('Calcium_pct_diff', 0.0057660999505017557), ('Protein_pct_diff', 0.0057283790523018144), ('Protein_mean_slope', 0.0055968813223231002), ('Calcium_mean_slope', 0.0055847823945196148), ('Sodium_last', 0.0055632449803360191), ('Gamma-glutamyltransferase_pct_diff', 0.0055357265542056991), ('Alkaline Phosphatase_mean_slope', 0.0055335603436067029), ('CK_pct_diff', 0.0055152023500582899), ('Total Cholesterol_mean_slope', 0.0054753741882794475), ('Protein_last', 0.0054532510237675124), ('mouth_mean_slope', 0.005452522868219037), ('Total Cholesterol_pct_diff', 0.005421004318572422), ('Absolute Basophil Count_mean', 0.0053755601239593807), ('Absolute Basophil Count_mean_slope', 0.0053662667039164223), ('hands_pct_diff', 0.0053496531502297689), ('CK_mean_slope', 0.0053138420745621577), ('Urine Ph_mean_slope', 0.005273790629745507), ('Urine Ph_mean', 0.0052682268381669776), ('Bicarbonate_last', 0.0052459821097961996), ('Red Blood Cells (RBC)_mean', 0.005187793128705427), ('Albumin_last', 0.0051384906561442682), ('Red Blood Cells (RBC)_last', 0.0051359967511467155), ('mouth_pct_diff', 0.0050110232651008335), ('mouth_last', 0.0049457765484693245), ('Gamma-glutamyltransferase_mean_slope', 0.004940515015854751), ('hands_last', 0.0046304542265580631), ('Absolute Basophil Count_pct_diff', 0.0045658371921348494), ('Absolute Basophil Count_last', 0.004249148600830247), ('respiratory_rate_last', 0.003963350621754483), ('Urine Ph_pct_diff', 0.0038636549676064856), ('temperature_pct_diff', 0.0034478053332428981), ('temperature_mean', 0.0031028920928650732), ('respiratory_mean', 0.0030616494633635733), ('temperature_mean_slope', 0.0030340021246862822), ('respiratory_mean_slope', 0.0029058231943065544), ('Urine Ph_last', 0.0027868969122694749), ('temperature_last', 0.0026549147183149843), ('respiratory_pct_diff', 0.0022785903730655542), ('if_use_Riluzole_last', 0.0018170633376447551), ('respiratory_last', 0.0014190621041821185), ('F', 0.00091565641419661878), ('M', 0.00089739846957706689), ('family_ALS_hist_last', 0.00087763010524886432), ('Red Blood Cells (RBC)_mean_slope', 0.00083821829564851191), ('White', 0.00036260534169454928), ('Unknown', 0.00022904954841839229), ('Asian', 6.9642246543700909e-05), ('Black', 6.8911768054776319e-05), ('Hispanic', 3.8210166083597438e-05), ('Other', 2.5656739172926988e-05)]\n"
     ]
    }
   ],
   "source": [
    "clf.best_estimator_.feature_importances_\n",
    "\n",
    "print [(X.columns[i[0]], i[1]) for i in sorted(enumerate(clf.best_estimator_.feature_importances_), key=lambda x:-abs(x[1]))]\n"
   ]
  },
  {
   "cell_type": "code",
   "execution_count": 71,
   "metadata": {
    "collapsed": false
   },
   "outputs": [
    {
     "name": "stdout",
     "output_type": "stream",
     "text": [
      "-11.8807056495\n"
     ]
    }
   ],
   "source": [
    "from sklearn.ensemble import ExtraTreesClassifier\n",
    "clf = ExtraTreesClassifier(n_estimators=1000, min_samples_split=10, random_state=0)\n",
    "print cross_val_score(clf, X, y, scoring=\"mean_squared_error\").mean()"
   ]
  },
  {
   "cell_type": "code",
   "execution_count": 72,
   "metadata": {
    "collapsed": false
   },
   "outputs": [
    {
     "name": "stdout",
     "output_type": "stream",
     "text": [
      "-10.7809140213\n"
     ]
    }
   ],
   "source": [
    "from sklearn.ensemble import AdaBoostClassifier\n",
    "clf = AdaBoostClassifier(n_estimators=1000)\n",
    "print cross_val_score(clf, X, y, scoring=\"mean_squared_error\").mean()"
   ]
  },
  {
   "cell_type": "code",
   "execution_count": 73,
   "metadata": {
    "collapsed": false
   },
   "outputs": [
    {
     "name": "stdout",
     "output_type": "stream",
     "text": [
      "-12.6643632148\n"
     ]
    }
   ],
   "source": [
    "from sklearn import svm\n",
    "clf = svm.SVC(C = 1, gamma = 0.01, kernel = 'rbf')\n",
    "print cross_val_score(clf, X, y, scoring=\"mean_squared_error\").mean()"
   ]
  },
  {
   "cell_type": "code",
   "execution_count": 74,
   "metadata": {
    "collapsed": false
   },
   "outputs": [
    {
     "name": "stdout",
     "output_type": "stream",
     "text": [
      "-12.6643632148\n"
     ]
    }
   ],
   "source": [
    "from sklearn.ensemble import BaggingClassifier\n",
    "bagging = BaggingClassifier(svm.LinearSVC(), max_samples=0.5, max_features=0.5)\n",
    "print cross_val_score(clf, X, y, scoring=\"mean_squared_error\").mean()"
   ]
  },
  {
   "cell_type": "code",
   "execution_count": 79,
   "metadata": {
    "collapsed": false
   },
   "outputs": [
    {
     "name": "stdout",
     "output_type": "stream",
     "text": [
      "-12.9286952961\n"
     ]
    }
   ],
   "source": [
    "from sklearn.neighbors import KNeighborsClassifier\n",
    "bagging = BaggingClassifier(KNeighborsClassifier(), max_samples=0.5, max_features=0.5)\n",
    "print cross_val_score(clf, X, y, scoring=\"mean_squared_error\").mean()"
   ]
  },
  {
   "cell_type": "code",
   "execution_count": 76,
   "metadata": {
    "collapsed": false
   },
   "outputs": [
    {
     "name": "stdout",
     "output_type": "stream",
     "text": [
      "-12.9286952961\n"
     ]
    }
   ],
   "source": [
    "from sklearn import grid_search\n",
    "parameters = [\n",
    "  {'C': [1, 10, 100, 1000], 'gamma': [0.1, 0.01, 0.001], 'kernel': ['rbf']},\n",
    " ]\n",
    "svr = svm.SVC()\n",
    "clf = grid_search.GridSearchCV(svr, parameters)\n",
    "print cross_val_score(clf, X, y, scoring=\"mean_squared_error\").mean()"
   ]
  },
  {
   "cell_type": "markdown",
   "metadata": {},
   "source": [
    "## Pickle the clustering model"
   ]
  },
  {
   "cell_type": "code",
   "execution_count": 77,
   "metadata": {
    "collapsed": false
   },
   "outputs": [],
   "source": [
    "clustering_model = {\"model\": clf}\n",
    "pickle.dump( clustering_model, open('../tree_model.pickle', 'wb') )\n"
   ]
  },
  {
   "cell_type": "code",
   "execution_count": 78,
   "metadata": {
    "collapsed": false
   },
   "outputs": [
    {
     "ename": "AttributeError",
     "evalue": "'module' object has no attribute 'predict'",
     "output_type": "error",
     "traceback": [
      "\u001b[1;31m---------------------------------------------------------------------------\u001b[0m",
      "\u001b[1;31mAttributeError\u001b[0m                            Traceback (most recent call last)",
      "\u001b[1;32m<ipython-input-78-d147e6d91e23>\u001b[0m in \u001b[0;36m<module>\u001b[1;34m()\u001b[0m\n\u001b[0;32m      4\u001b[0m     \u001b[0mcur_data\u001b[0m \u001b[1;33m=\u001b[0m \u001b[0mcur_data\u001b[0m\u001b[1;33m[\u001b[0m\u001b[0mclustering_columns\u001b[0m\u001b[1;33m]\u001b[0m\u001b[1;33m\u001b[0m\u001b[0m\n\u001b[0;32m      5\u001b[0m     \u001b[0mres\u001b[0m \u001b[1;33m=\u001b[0m \u001b[0mpd\u001b[0m\u001b[1;33m.\u001b[0m\u001b[0mDataFrame\u001b[0m\u001b[1;33m(\u001b[0m\u001b[0mindex\u001b[0m \u001b[1;33m=\u001b[0m \u001b[0mcur_data\u001b[0m\u001b[1;33m.\u001b[0m\u001b[0mindex\u001b[0m\u001b[1;33m.\u001b[0m\u001b[0mastype\u001b[0m\u001b[1;33m(\u001b[0m\u001b[0mstr\u001b[0m\u001b[1;33m)\u001b[0m\u001b[1;33m)\u001b[0m \u001b[1;31m# SubjectID is always str for later joins\u001b[0m\u001b[1;33m\u001b[0m\u001b[0m\n\u001b[1;32m----> 6\u001b[1;33m     \u001b[0mres\u001b[0m\u001b[1;33m[\u001b[0m\u001b[1;34m'cluster'\u001b[0m\u001b[1;33m]\u001b[0m \u001b[1;33m=\u001b[0m \u001b[0mtree\u001b[0m\u001b[1;33m.\u001b[0m\u001b[0mpredict\u001b[0m\u001b[1;33m(\u001b[0m\u001b[0mcur_data\u001b[0m\u001b[1;33m)\u001b[0m\u001b[1;33m\u001b[0m\u001b[0m\n\u001b[0m\u001b[0;32m      7\u001b[0m     \u001b[1;32mprint\u001b[0m \u001b[0mnp\u001b[0m\u001b[1;33m.\u001b[0m\u001b[0mbincount\u001b[0m\u001b[1;33m(\u001b[0m\u001b[0mres\u001b[0m\u001b[1;33m.\u001b[0m\u001b[0mcluster\u001b[0m\u001b[1;33m)\u001b[0m\u001b[1;33m\u001b[0m\u001b[0m\n\u001b[0;32m      8\u001b[0m     \u001b[1;32mprint\u001b[0m \u001b[0mt\u001b[0m\u001b[1;33m,\u001b[0m \u001b[0mres\u001b[0m\u001b[1;33m.\u001b[0m\u001b[0mshape\u001b[0m\u001b[1;33m\u001b[0m\u001b[0m\n",
      "\u001b[1;31mAttributeError\u001b[0m: 'module' object has no attribute 'predict'"
     ]
    }
   ],
   "source": [
    "\n",
    "for t in ['all', 'test']:\n",
    "    cur_data = pd.read_csv('../' + t + '_data_vectorized.csv', sep = '|', error_bad_lines=False, index_col=\"SubjectID\")\n",
    "    cur_data = cur_data[clustering_columns]\n",
    "    res = pd.DataFrame(index = cur_data.index.astype(str)) # SubjectID is always str for later joins\n",
    "    res['cluster'] = tree.predict(cur_data)\n",
    "    print np.bincount(res.cluster)\n",
    "    print t, res.shape\n",
    "    res.to_csv('../' + t + '_tree_clusters.csv',sep='|')"
   ]
  },
  {
   "cell_type": "code",
   "execution_count": null,
   "metadata": {
    "collapsed": false
   },
   "outputs": [],
   "source": [
    "res.head()"
   ]
  },
  {
   "cell_type": "code",
   "execution_count": null,
   "metadata": {
    "collapsed": true
   },
   "outputs": [],
   "source": []
  }
 ],
 "metadata": {
  "kernelspec": {
   "display_name": "Python 2",
   "language": "python",
   "name": "python2"
  },
  "language_info": {
   "codemirror_mode": {
    "name": "ipython",
    "version": 2
   },
   "file_extension": ".py",
   "mimetype": "text/x-python",
   "name": "python",
   "nbconvert_exporter": "python",
   "pygments_lexer": "ipython2",
   "version": "2.7.10"
  }
 },
 "nbformat": 4,
 "nbformat_minor": 0
}
