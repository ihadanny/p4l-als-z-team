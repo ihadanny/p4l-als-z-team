{
 "cells": [
  {
   "cell_type": "markdown",
   "metadata": {
    "collapsed": true
   },
   "source": [
    "## The best we can do with trees\n",
    "This is the upper boundary of what we can achieve with trees, using all features\n"
   ]
  },
  {
   "cell_type": "code",
   "execution_count": 1,
   "metadata": {
    "collapsed": false
   },
   "outputs": [],
   "source": [
    "%matplotlib inline\n",
    "\n",
    "import pandas as pd\n",
    "import numpy as np\n",
    "from time import time\n",
    "import numpy as np\n",
    "import matplotlib.pyplot as plt\n",
    "import pickle\n",
    "from sklearn import metrics\n",
    "from sklearn import cross_validation, grid_search\n",
    "from sklearn.cross_validation import cross_val_score \n",
    "from modeling_funcs import *\n",
    "from IPython.display import display\n",
    "import seaborn as sns\n",
    "\n",
    "sns.set(color_codes=True)\n",
    "plt.rcParams['figure.figsize'] = (10.0, 10.0)\n"
   ]
  },
  {
   "cell_type": "code",
   "execution_count": 2,
   "metadata": {
    "collapsed": false
   },
   "outputs": [],
   "source": [
    "vectorized_data = pd.read_csv('../all_data_vectorized.csv', sep='|', index_col=0)\n",
    "slope = pd.read_csv('../all_slope.csv', sep = '|', index_col=0)\n",
    "all_feature_metadata = pickle.load( open('../all_feature_metadata.pickle', 'rb') )\n",
    "\n",
    "everybody = vectorized_data.join(slope)\n"
   ]
  },
  {
   "cell_type": "code",
   "execution_count": 3,
   "metadata": {
    "collapsed": false
   },
   "outputs": [
    {
     "data": {
      "text/html": [
       "<div>\n",
       "<table border=\"1\" class=\"dataframe\">\n",
       "  <thead>\n",
       "    <tr style=\"text-align: right;\">\n",
       "      <th></th>\n",
       "      <th>ALSFRS_slope</th>\n",
       "      <th>ALSFRS_bin</th>\n",
       "    </tr>\n",
       "  </thead>\n",
       "  <tbody>\n",
       "    <tr>\n",
       "      <th>count</th>\n",
       "      <td>2205.000000</td>\n",
       "      <td>2205.000000</td>\n",
       "    </tr>\n",
       "    <tr>\n",
       "      <th>mean</th>\n",
       "      <td>-0.681350</td>\n",
       "      <td>5.514739</td>\n",
       "    </tr>\n",
       "    <tr>\n",
       "      <th>std</th>\n",
       "      <td>0.576905</td>\n",
       "      <td>2.891157</td>\n",
       "    </tr>\n",
       "    <tr>\n",
       "      <th>min</th>\n",
       "      <td>-3.624784</td>\n",
       "      <td>1.000000</td>\n",
       "    </tr>\n",
       "    <tr>\n",
       "      <th>25%</th>\n",
       "      <td>-1.010520</td>\n",
       "      <td>3.000000</td>\n",
       "    </tr>\n",
       "    <tr>\n",
       "      <th>50%</th>\n",
       "      <td>-0.586817</td>\n",
       "      <td>6.000000</td>\n",
       "    </tr>\n",
       "    <tr>\n",
       "      <th>75%</th>\n",
       "      <td>-0.244311</td>\n",
       "      <td>8.000000</td>\n",
       "    </tr>\n",
       "    <tr>\n",
       "      <th>max</th>\n",
       "      <td>1.207011</td>\n",
       "      <td>10.000000</td>\n",
       "    </tr>\n",
       "  </tbody>\n",
       "</table>\n",
       "</div>"
      ],
      "text/plain": [
       "       ALSFRS_slope   ALSFRS_bin\n",
       "count   2205.000000  2205.000000\n",
       "mean      -0.681350     5.514739\n",
       "std        0.576905     2.891157\n",
       "min       -3.624784     1.000000\n",
       "25%       -1.010520     3.000000\n",
       "50%       -0.586817     6.000000\n",
       "75%       -0.244311     8.000000\n",
       "max        1.207011    10.000000"
      ]
     },
     "metadata": {},
     "output_type": "display_data"
    }
   ],
   "source": [
    "q = np.percentile(everybody.ALSFRS_slope, range(0,100,10))\n",
    "everybody.loc[:, 'ALSFRS_bin'] = np.digitize(everybody.ALSFRS_slope, q)\n",
    "display(everybody[['ALSFRS_slope','ALSFRS_bin']].describe())"
   ]
  },
  {
   "cell_type": "code",
   "execution_count": 4,
   "metadata": {
    "collapsed": false
   },
   "outputs": [
    {
     "data": {
      "image/png": "[encoded data removed]",
      "text/plain": [
       "<matplotlib.figure.Figure at 0x41b1c50>"
      ]
     },
     "metadata": {},
     "output_type": "display_data"
    }
   ],
   "source": [
    "sns.distplot(everybody.ALSFRS_slope, rug=True, kde=False);"
   ]
  },
  {
   "cell_type": "code",
   "execution_count": 5,
   "metadata": {
    "collapsed": false
   },
   "outputs": [
    {
     "name": "stdout",
     "output_type": "stream",
     "text": [
      "0.545806529513\n"
     ]
    }
   ],
   "source": [
    "from sklearn import tree\n",
    "\n",
    "X = everybody.drop(['ALSFRS_slope','ALSFRS_bin'], 1)\n",
    "y = everybody.ALSFRS_slope\n",
    "\n",
    "clf = grid_search.GridSearchCV(tree.DecisionTreeRegressor(), \n",
    "                               {'min_samples_split':range(250,270,5), 'min_samples_leaf': range(50,70,5)})\n",
    "print np.sqrt(-1.0 * cross_val_score(clf, X, y, scoring=\"mean_squared_error\").mean())"
   ]
  },
  {
   "cell_type": "code",
   "execution_count": 6,
   "metadata": {
    "collapsed": false
   },
   "outputs": [
    {
     "name": "stdout",
     "output_type": "stream",
     "text": [
      "DecisionTreeRegressor(criterion='mse', max_depth=None, max_features=None,\n",
      "           max_leaf_nodes=None, min_samples_leaf=65, min_samples_split=255,\n",
      "           min_weight_fraction_leaf=0.0, random_state=None,\n",
      "           splitter='best')\n",
      "train mse 0.515895949819\n",
      "test mse 0.534127627148\n"
     ]
    },
    {
     "data": {
      "text/html": [
       "<div>\n",
       "<table border=\"1\" class=\"dataframe\">\n",
       "  <thead>\n",
       "    <tr style=\"text-align: right;\">\n",
       "      <th></th>\n",
       "      <th>prediction</th>\n",
       "      <th>actual</th>\n",
       "      <th>SE</th>\n",
       "    </tr>\n",
       "    <tr>\n",
       "      <th>SubjectID</th>\n",
       "      <th></th>\n",
       "      <th></th>\n",
       "      <th></th>\n",
       "    </tr>\n",
       "  </thead>\n",
       "  <tbody>\n",
       "    <tr>\n",
       "      <th>800811</th>\n",
       "      <td>-0.626243</td>\n",
       "      <td>-0.625857</td>\n",
       "      <td>1.488501e-07</td>\n",
       "    </tr>\n",
       "    <tr>\n",
       "      <th>525703</th>\n",
       "      <td>-0.626243</td>\n",
       "      <td>-0.625857</td>\n",
       "      <td>1.488501e-07</td>\n",
       "    </tr>\n",
       "    <tr>\n",
       "      <th>739842</th>\n",
       "      <td>-0.216474</td>\n",
       "      <td>-0.217262</td>\n",
       "      <td>6.213498e-07</td>\n",
       "    </tr>\n",
       "  </tbody>\n",
       "</table>\n",
       "</div>"
      ],
      "text/plain": [
       "           prediction    actual            SE\n",
       "SubjectID                                    \n",
       "800811      -0.626243 -0.625857  1.488501e-07\n",
       "525703      -0.626243 -0.625857  1.488501e-07\n",
       "739842      -0.216474 -0.217262  6.213498e-07"
      ]
     },
     "metadata": {},
     "output_type": "display_data"
    },
    {
     "data": {
      "text/html": [
       "<div>\n",
       "<table border=\"1\" class=\"dataframe\">\n",
       "  <thead>\n",
       "    <tr style=\"text-align: right;\">\n",
       "      <th></th>\n",
       "      <th>prediction</th>\n",
       "      <th>actual</th>\n",
       "      <th>SE</th>\n",
       "    </tr>\n",
       "    <tr>\n",
       "      <th>SubjectID</th>\n",
       "      <th></th>\n",
       "      <th></th>\n",
       "      <th></th>\n",
       "    </tr>\n",
       "  </thead>\n",
       "  <tbody>\n",
       "    <tr>\n",
       "      <th>322744</th>\n",
       "      <td>-0.960783</td>\n",
       "      <td>-2.358844</td>\n",
       "      <td>1.954575</td>\n",
       "    </tr>\n",
       "    <tr>\n",
       "      <th>399319</th>\n",
       "      <td>-0.626243</td>\n",
       "      <td>-2.041387</td>\n",
       "      <td>2.002632</td>\n",
       "    </tr>\n",
       "    <tr>\n",
       "      <th>694387</th>\n",
       "      <td>-0.898467</td>\n",
       "      <td>-2.389881</td>\n",
       "      <td>2.224316</td>\n",
       "    </tr>\n",
       "    <tr>\n",
       "      <th>461999</th>\n",
       "      <td>-0.898467</td>\n",
       "      <td>-2.393443</td>\n",
       "      <td>2.234953</td>\n",
       "    </tr>\n",
       "    <tr>\n",
       "      <th>450923</th>\n",
       "      <td>-0.421035</td>\n",
       "      <td>-1.931217</td>\n",
       "      <td>2.280649</td>\n",
       "    </tr>\n",
       "    <tr>\n",
       "      <th>190942</th>\n",
       "      <td>-0.898467</td>\n",
       "      <td>-2.414021</td>\n",
       "      <td>2.296905</td>\n",
       "    </tr>\n",
       "    <tr>\n",
       "      <th>740118</th>\n",
       "      <td>-0.216474</td>\n",
       "      <td>-1.769697</td>\n",
       "      <td>2.412503</td>\n",
       "    </tr>\n",
       "    <tr>\n",
       "      <th>15154</th>\n",
       "      <td>-0.626243</td>\n",
       "      <td>-2.628601</td>\n",
       "      <td>4.009436</td>\n",
       "    </tr>\n",
       "    <tr>\n",
       "      <th>128776</th>\n",
       "      <td>-0.960783</td>\n",
       "      <td>-3.101307</td>\n",
       "      <td>4.581846</td>\n",
       "    </tr>\n",
       "    <tr>\n",
       "      <th>59268</th>\n",
       "      <td>-0.898467</td>\n",
       "      <td>-3.213836</td>\n",
       "      <td>5.360937</td>\n",
       "    </tr>\n",
       "  </tbody>\n",
       "</table>\n",
       "</div>"
      ],
      "text/plain": [
       "           prediction    actual        SE\n",
       "SubjectID                                \n",
       "322744      -0.960783 -2.358844  1.954575\n",
       "399319      -0.626243 -2.041387  2.002632\n",
       "694387      -0.898467 -2.389881  2.224316\n",
       "461999      -0.898467 -2.393443  2.234953\n",
       "450923      -0.421035 -1.931217  2.280649\n",
       "190942      -0.898467 -2.414021  2.296905\n",
       "740118      -0.216474 -1.769697  2.412503\n",
       "15154       -0.626243 -2.628601  4.009436\n",
       "128776      -0.960783 -3.101307  4.581846\n",
       "59268       -0.898467 -3.213836  5.360937"
      ]
     },
     "metadata": {},
     "output_type": "display_data"
    },
    {
     "name": "stdout",
     "output_type": "stream",
     "text": [
      "\n"
     ]
    },
    {
     "data": {
      "image/png": "[encoded data removed]",
      "text/plain": [
       "<matplotlib.figure.Figure at 0x24f527b8>"
      ]
     },
     "metadata": {},
     "output_type": "display_data"
    }
   ],
   "source": [
    "from sklearn.metrics import mean_squared_error\n",
    "from sklearn.cross_validation import train_test_split\n",
    "\n",
    "def pred_vs_actual(clf, X, y):\n",
    "    X_train, X_test, y_train, y_test = train_test_split(\n",
    "        X, y, test_size=0.33, random_state=0)\n",
    "\n",
    "    clf.fit(X_train, y_train)\n",
    "    print clf.best_estimator_\n",
    "    print \"train mse\", np.sqrt(mean_squared_error(y_train, clf.predict(X_train)))    \n",
    "    res = X_test.apply(lambda s: pd.Series({'prediction': clf.predict(s)[0]}) , axis=1)\n",
    "    res.loc[:, 'actual'] = y_test\n",
    "    res.loc[:, 'SE'] = res.apply(lambda s: (s['prediction'] - s['actual'])**2 , axis=1)\n",
    "    print \"test mse\", np.sqrt(mean_squared_error(res.actual, res.prediction))\n",
    "    display(res.sort(['SE']).head(3))\n",
    "    display(res.sort(['SE']).tail(10))\n",
    "    sns.distplot(res.prediction);\n",
    "    sns.distplot(res.actual, rug=True);\n",
    "    return res\n",
    "    \n",
    "res = pred_vs_actual(clf, X, y)\n",
    "print"
   ]
  },
  {
   "cell_type": "code",
   "execution_count": 7,
   "metadata": {
    "collapsed": false
   },
   "outputs": [],
   "source": [
    "from sklearn.externals.six import StringIO\n",
    "with open(\"../tree.dot\", 'w') as f:\n",
    "    f = tree.export_graphviz(clf.best_estimator_, feature_names = X.columns, out_file=f)"
   ]
  },
  {
   "cell_type": "code",
   "execution_count": 8,
   "metadata": {
    "collapsed": false
   },
   "outputs": [
    {
     "name": "stdout",
     "output_type": "stream",
     "text": [
      "0.527615607857\n"
     ]
    }
   ],
   "source": [
    "from sklearn.ensemble import RandomForestRegressor\n",
    "clf = grid_search.GridSearchCV(RandomForestRegressor(min_samples_leaf=60, min_samples_split=260, random_state=0), \n",
    "                               {'min_samples_leaf': range(60,61,10), 'n_estimators': [1000]})\n",
    "print np.sqrt(-1.0 * cross_val_score(clf, X, y, scoring=\"mean_squared_error\").mean())"
   ]
  },
  {
   "cell_type": "code",
   "execution_count": 9,
   "metadata": {
    "collapsed": false
   },
   "outputs": [
    {
     "name": "stdout",
     "output_type": "stream",
     "text": [
      "RandomForestRegressor(bootstrap=True, criterion='mse', max_depth=None,\n",
      "           max_features='auto', max_leaf_nodes=None, min_samples_leaf=60,\n",
      "           min_samples_split=260, min_weight_fraction_leaf=0.0,\n",
      "           n_estimators=1000, n_jobs=1, oob_score=False, random_state=0,\n",
      "           verbose=0, warm_start=False)\n",
      "train mse 0.509046662396\n",
      "test mse 0.525642566847\n"
     ]
    },
    {
     "data": {
      "text/html": [
       "<div>\n",
       "<table border=\"1\" class=\"dataframe\">\n",
       "  <thead>\n",
       "    <tr style=\"text-align: right;\">\n",
       "      <th></th>\n",
       "      <th>prediction</th>\n",
       "      <th>actual</th>\n",
       "      <th>SE</th>\n",
       "    </tr>\n",
       "    <tr>\n",
       "      <th>SubjectID</th>\n",
       "      <th></th>\n",
       "      <th></th>\n",
       "      <th></th>\n",
       "    </tr>\n",
       "  </thead>\n",
       "  <tbody>\n",
       "    <tr>\n",
       "      <th>816562</th>\n",
       "      <td>-0.752247</td>\n",
       "      <td>-0.752356</td>\n",
       "      <td>1.182935e-08</td>\n",
       "    </tr>\n",
       "    <tr>\n",
       "      <th>184838</th>\n",
       "      <td>-0.625586</td>\n",
       "      <td>-0.626225</td>\n",
       "      <td>4.088576e-07</td>\n",
       "    </tr>\n",
       "    <tr>\n",
       "      <th>952141</th>\n",
       "      <td>-0.662781</td>\n",
       "      <td>-0.663636</td>\n",
       "      <td>7.313501e-07</td>\n",
       "    </tr>\n",
       "  </tbody>\n",
       "</table>\n",
       "</div>"
      ],
      "text/plain": [
       "           prediction    actual            SE\n",
       "SubjectID                                    \n",
       "816562      -0.752247 -0.752356  1.182935e-08\n",
       "184838      -0.625586 -0.626225  4.088576e-07\n",
       "952141      -0.662781 -0.663636  7.313501e-07"
      ]
     },
     "metadata": {},
     "output_type": "display_data"
    },
    {
     "data": {
      "text/html": [
       "<div>\n",
       "<table border=\"1\" class=\"dataframe\">\n",
       "  <thead>\n",
       "    <tr style=\"text-align: right;\">\n",
       "      <th></th>\n",
       "      <th>prediction</th>\n",
       "      <th>actual</th>\n",
       "      <th>SE</th>\n",
       "    </tr>\n",
       "    <tr>\n",
       "      <th>SubjectID</th>\n",
       "      <th></th>\n",
       "      <th></th>\n",
       "      <th></th>\n",
       "    </tr>\n",
       "  </thead>\n",
       "  <tbody>\n",
       "    <tr>\n",
       "      <th>461999</th>\n",
       "      <td>-0.958217</td>\n",
       "      <td>-2.393443</td>\n",
       "      <td>2.059872</td>\n",
       "    </tr>\n",
       "    <tr>\n",
       "      <th>399319</th>\n",
       "      <td>-0.568465</td>\n",
       "      <td>-2.041387</td>\n",
       "      <td>2.169498</td>\n",
       "    </tr>\n",
       "    <tr>\n",
       "      <th>694387</th>\n",
       "      <td>-0.886014</td>\n",
       "      <td>-2.389881</td>\n",
       "      <td>2.261617</td>\n",
       "    </tr>\n",
       "    <tr>\n",
       "      <th>877199</th>\n",
       "      <td>-0.643871</td>\n",
       "      <td>0.869048</td>\n",
       "      <td>2.288921</td>\n",
       "    </tr>\n",
       "    <tr>\n",
       "      <th>450923</th>\n",
       "      <td>-0.417906</td>\n",
       "      <td>-1.931217</td>\n",
       "      <td>2.290111</td>\n",
       "    </tr>\n",
       "    <tr>\n",
       "      <th>903962</th>\n",
       "      <td>-0.923878</td>\n",
       "      <td>-2.581488</td>\n",
       "      <td>2.747673</td>\n",
       "    </tr>\n",
       "    <tr>\n",
       "      <th>190942</th>\n",
       "      <td>-0.750791</td>\n",
       "      <td>-2.414021</td>\n",
       "      <td>2.766334</td>\n",
       "    </tr>\n",
       "    <tr>\n",
       "      <th>15154</th>\n",
       "      <td>-0.521805</td>\n",
       "      <td>-2.628601</td>\n",
       "      <td>4.438591</td>\n",
       "    </tr>\n",
       "    <tr>\n",
       "      <th>128776</th>\n",
       "      <td>-0.989339</td>\n",
       "      <td>-3.101307</td>\n",
       "      <td>4.460411</td>\n",
       "    </tr>\n",
       "    <tr>\n",
       "      <th>59268</th>\n",
       "      <td>-0.995444</td>\n",
       "      <td>-3.213836</td>\n",
       "      <td>4.921264</td>\n",
       "    </tr>\n",
       "  </tbody>\n",
       "</table>\n",
       "</div>"
      ],
      "text/plain": [
       "           prediction    actual        SE\n",
       "SubjectID                                \n",
       "461999      -0.958217 -2.393443  2.059872\n",
       "399319      -0.568465 -2.041387  2.169498\n",
       "694387      -0.886014 -2.389881  2.261617\n",
       "877199      -0.643871  0.869048  2.288921\n",
       "450923      -0.417906 -1.931217  2.290111\n",
       "903962      -0.923878 -2.581488  2.747673\n",
       "190942      -0.750791 -2.414021  2.766334\n",
       "15154       -0.521805 -2.628601  4.438591\n",
       "128776      -0.989339 -3.101307  4.460411\n",
       "59268       -0.995444 -3.213836  4.921264"
      ]
     },
     "metadata": {},
     "output_type": "display_data"
    },
    {
     "name": "stdout",
     "output_type": "stream",
     "text": [
      "\n"
     ]
    },
    {
     "data": {
      "image/png": "[encoded data removed]",
      "text/plain": [
       "<matplotlib.figure.Figure at 0x24f526d8>"
      ]
     },
     "metadata": {},
     "output_type": "display_data"
    }
   ],
   "source": [
    "res = pred_vs_actual(clf, X, y)\n",
    "print"
   ]
  },
  {
   "cell_type": "code",
   "execution_count": 10,
   "metadata": {
    "collapsed": false
   },
   "outputs": [
    {
     "name": "stdout",
     "output_type": "stream",
     "text": [
      "Feature ranking:\n",
      "1. feature onset_delta_last (0.665037)\n",
      "2. feature fvc_percent_pct_diff (0.057820)\n",
      "3. feature ALSFRS_Total_mean (0.034607)\n",
      "4. feature ALSFRS_Total_last (0.030564)\n",
      "5. feature mouth_mean (0.029657)\n",
      "6. feature ALSFRS_Total_pct_diff (0.028019)\n",
      "7. feature fvc_percent_last (0.024433)\n",
      "8. feature mouth_pct_diff (0.022390)\n",
      "9. feature hands_mean (0.017306)\n",
      "10. feature weight_pct_diff (0.009882)\n"
     ]
    },
    {
     "data": {
      "image/png": "[encoded data removed]",
      "text/plain": [
       "<matplotlib.figure.Figure at 0x22d47f60>"
      ]
     },
     "metadata": {},
     "output_type": "display_data"
    }
   ],
   "source": [
    "forest = clf.best_estimator_\n",
    "importances = forest.feature_importances_\n",
    "std = np.std([tree.feature_importances_ for tree in forest.estimators_],\n",
    "             axis=0)\n",
    "indices = np.argsort(importances)[::-1][:10]\n",
    "\n",
    "# Print the feature ranking\n",
    "print(\"Feature ranking:\")\n",
    "\n",
    "for f in range(10):\n",
    "    print(\"%d. feature %s (%f)\" % (f + 1, X.columns[indices[f]], importances[indices[f]]))\n",
    "\n",
    "# Plot the feature importances of the forest\n",
    "plt.figure()\n",
    "plt.title(\"Feature importances\")\n",
    "plt.bar(range(10), importances[indices],\n",
    "       color=\"r\", yerr=std[indices], align=\"center\")\n",
    "plt.xticks(range(10), X.columns[indices], rotation='vertical')\n",
    "plt.xlim([-1, 10])\n",
    "plt.show()"
   ]
  },
  {
   "cell_type": "code",
   "execution_count": 11,
   "metadata": {
    "collapsed": false
   },
   "outputs": [
    {
     "name": "stdout",
     "output_type": "stream",
     "text": [
      "[-0.8994772  -0.7784268  -0.62433356 -0.46857498]\n"
     ]
    }
   ],
   "source": [
    "quart = 100 / 5\n",
    "q = np.percentile(forest.predict(X), range(quart,100,quart))\n",
    "print q"
   ]
  },
  {
   "cell_type": "code",
   "execution_count": 12,
   "metadata": {
    "collapsed": true
   },
   "outputs": [],
   "source": [
    "clustering_model = {\"model\": forest, \"bins\": q}\n",
    "pickle.dump( clustering_model, open('../forest_clustering_model.pickle', 'wb') )\n"
   ]
  },
  {
   "cell_type": "code",
   "execution_count": 13,
   "metadata": {
    "collapsed": false
   },
   "outputs": [
    {
     "name": "stdout",
     "output_type": "stream",
     "text": [
      "[441 441 441 441 441]\n",
      "all (2205, 1)\n",
      "[118 132 118 120 112]\n",
      "test (600, 1)\n"
     ]
    }
   ],
   "source": [
    "\n",
    "for t in ['all', 'test']:\n",
    "    cur_data = pd.read_csv('../' + t + '_data_vectorized.csv', sep = '|', error_bad_lines=False, index_col=\"SubjectID\")\n",
    "    res = pd.DataFrame(index = cur_data.index.astype(str)) # SubjectID is always str for later joins\n",
    "    res['cluster'] = np.digitize(forest.predict(cur_data), q)\n",
    "    print np.bincount(res.cluster)\n",
    "    print t, res.shape\n",
    "    res.to_csv('../' + t + '_forest_clusters.csv',sep='|')"
   ]
  },
  {
   "cell_type": "code",
   "execution_count": null,
   "metadata": {
    "collapsed": true
   },
   "outputs": [],
   "source": []
  }
 ],
 "metadata": {
  "kernelspec": {
   "display_name": "Python 2",
   "language": "python",
   "name": "python2"
  },
  "language_info": {
   "codemirror_mode": {
    "name": "ipython",
    "version": 2
   },
   "file_extension": ".py",
   "mimetype": "text/x-python",
   "name": "python",
   "nbconvert_exporter": "python",
   "pygments_lexer": "ipython2",
   "version": "2.7.10"
  }
 },
 "nbformat": 4,
 "nbformat_minor": 0
}
