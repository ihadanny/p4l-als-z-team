{
 "cells": [
  {
   "cell_type": "code",
   "execution_count": 15,
   "metadata": {
    "collapsed": true
   },
   "outputs": [],
   "source": [
    "# Used by organizers to calculate score"
   ]
  },
  {
   "cell_type": "code",
   "execution_count": 16,
   "metadata": {
    "collapsed": false
   },
   "outputs": [],
   "source": [
    "import pandas as pd\n",
    "import numpy as np"
   ]
  },
  {
   "cell_type": "code",
   "execution_count": 18,
   "metadata": {
    "collapsed": false
   },
   "outputs": [
    {
     "name": "stdout",
     "output_type": "stream",
     "text": [
      "('all_prediction', 'all_slope') (2205, 2) (2205, 1) (2205, 3)\n",
      "('all_prediction', 'all_slope')                SE\n",
      "cluster          \n",
      "0        0.585183\n",
      "1        0.518397\n",
      "2        0.450008\n",
      "3        0.428686\n",
      "4        0.354866\n",
      "('all_prediction', 'all_slope') root mean square error: 0.474, size: (2205, 4)\n",
      "\n",
      "('test_prediction', 'test_slope') (591, 2) (600, 1) (591, 3)\n",
      "('test_prediction', 'test_slope')                SE\n",
      "cluster          \n",
      "0        0.675119\n",
      "1        0.615979\n",
      "2        0.567486\n",
      "3        0.415209\n",
      "4        0.368787\n",
      "('test_prediction', 'test_slope') root mean square error: 0.544, size: (591, 4)\n",
      "\n"
     ]
    }
   ],
   "source": [
    "for t in [('all_prediction', 'all_slope'), \n",
    "          ('test_prediction', 'test_slope'), \n",
    "         ]: \n",
    "    f = '../' + t[0] + \".csv\"\n",
    "    pred = pd.read_csv(f, sep = '|', index_col='SubjectID')\n",
    "    actual = pd.read_csv('../' + t[1] + '.csv', sep = '|', index_col='SubjectID')\n",
    "    j = pd.merge(pred, actual, left_index=True, right_index=True)\n",
    "    print t, pred.shape, actual.shape, j.shape\n",
    "    # The mean square error\n",
    "    j.loc[:, 'SE'] = (j['prediction'] - j['ALSFRS_slope'])**2\n",
    "    grouped_count = j.loc[:,['cluster', 'SE']].groupby('cluster').mean() \n",
    "    print t, grouped_count.apply(np.sqrt)    \n",
    "    print t, \"root mean square error: %.3f, size: %s\" % (np.sqrt(np.mean(j['SE'])), j.shape)  \n",
    "    print"
   ]
  },
  {
   "cell_type": "code",
   "execution_count": null,
   "metadata": {
    "collapsed": true
   },
   "outputs": [],
   "source": []
  },
  {
   "cell_type": "code",
   "execution_count": null,
   "metadata": {
    "collapsed": true
   },
   "outputs": [],
   "source": []
  }
 ],
 "metadata": {
  "kernelspec": {
   "display_name": "Python 2",
   "language": "python",
   "name": "python2"
  },
  "language_info": {
   "codemirror_mode": {
    "name": "ipython",
    "version": 2
   },
   "file_extension": ".py",
   "mimetype": "text/x-python",
   "name": "python",
   "nbconvert_exporter": "python",
   "pygments_lexer": "ipython2",
   "version": "2.7.10"
  }
 },
 "nbformat": 4,
 "nbformat_minor": 0
}
