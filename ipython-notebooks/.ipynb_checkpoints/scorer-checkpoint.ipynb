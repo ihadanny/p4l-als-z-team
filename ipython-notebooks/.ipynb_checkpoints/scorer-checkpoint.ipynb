{
 "cells": [
  {
   "cell_type": "code",
   "execution_count": 1,
   "metadata": {
    "collapsed": true
   },
   "outputs": [],
   "source": [
    "# Used by organizers to calculate score"
   ]
  },
  {
   "cell_type": "code",
   "execution_count": 2,
   "metadata": {
    "collapsed": false
   },
   "outputs": [],
   "source": [
    "import pandas as pd\n",
    "import numpy as np"
   ]
  },
  {
   "cell_type": "code",
   "execution_count": 5,
   "metadata": {
    "collapsed": false
   },
   "outputs": [
    {
     "name": "stdout",
     "output_type": "stream",
     "text": [
      "('all_prediction', 'all_slope') (2424, 2) (2424, 1) (2424, 3)\n",
      "../all_prediction.csv mean square error: 0.307, size: (2424, 3)\n",
      "\n",
      "('test_prediction', 'test_slope') (600, 2) (600, 1) (600, 3)\n",
      "../test_prediction.csv mean square error: 0.311, size: (600, 3)\n",
      "\n"
     ]
    }
   ],
   "source": [
    "for t in [('all_prediction', 'all_slope'), \n",
    "          ('test_prediction', 'test_slope'), \n",
    "         ]: \n",
    "    f = '../' + t[0] + \".csv\"\n",
    "    pred = pd.read_csv(f, sep = '|', index_col='SubjectID')\n",
    "    actual = pd.read_csv('../' + t[1] + '.csv', sep = '|', index_col='SubjectID')\n",
    "    j = pd.merge(pred, actual, left_index=True, right_index=True)\n",
    "    print t, pred.shape, actual.shape, j.shape\n",
    "    # The mean square error\n",
    "    print f + \" mean square error: %.3f, size: %s\" % (np.mean((j['prediction'] - j['ALSFRS_slope']) ** 2), j.shape)  \n",
    "    print"
   ]
  },
  {
   "cell_type": "code",
   "execution_count": null,
   "metadata": {
    "collapsed": true
   },
   "outputs": [],
   "source": []
  },
  {
   "cell_type": "code",
   "execution_count": null,
   "metadata": {
    "collapsed": true
   },
   "outputs": [],
   "source": []
  }
 ],
 "metadata": {
  "kernelspec": {
   "display_name": "Python 2",
   "language": "python",
   "name": "python2"
  },
  "language_info": {
   "codemirror_mode": {
    "name": "ipython",
    "version": 2
   },
   "file_extension": ".py",
   "mimetype": "text/x-python",
   "name": "python",
   "nbconvert_exporter": "python",
   "pygments_lexer": "ipython2",
   "version": "2.7.10"
  }
 },
 "nbformat": 4,
 "nbformat_minor": 0
}
