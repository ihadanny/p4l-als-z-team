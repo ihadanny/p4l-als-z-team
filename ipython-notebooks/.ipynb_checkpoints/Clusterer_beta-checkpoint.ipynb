{
 "cells": [
  {
   "cell_type": "markdown",
   "metadata": {
    "collapsed": true
   },
   "source": [
    "## Used to create clusters of the vectorized data. \n",
    "* currently using good old k-means\n",
    "* to visualize, we projected the data on 2d using PCA\n",
    "* inspired by http://scikit-learn.org/stable/auto_examples/cluster/plot_kmeans_digits.html)\n"
   ]
  },
  {
   "cell_type": "code",
   "execution_count": 1,
   "metadata": {
    "collapsed": false
   },
   "outputs": [],
   "source": [
    "%matplotlib inline\n",
    "\n",
    "import pandas as pd\n",
    "import numpy as np\n",
    "from time import time\n",
    "import numpy as np\n",
    "import matplotlib.pyplot as plt\n",
    "import pickle\n",
    "\n",
    "from sklearn import metrics\n",
    "from sklearn.cluster import KMeans\n",
    "from sklearn.decomposition import PCA\n",
    "from sklearn.preprocessing import scale\n",
    "\n",
    "from sklearn.externals import joblib\n",
    "from modeling_funcs import *\n",
    "\n",
    "\n",
    "plt.rcParams['figure.figsize'] = (15.0, 15.0)\n"
   ]
  },
  {
   "cell_type": "markdown",
   "metadata": {},
   "source": [
    "## Visualize results on PCA-reduced data"
   ]
  },
  {
   "cell_type": "code",
   "execution_count": 2,
   "metadata": {
    "collapsed": false
   },
   "outputs": [],
   "source": [
    "\n",
    "def visualize_kmeans(kmeans, data, resolution = 100):\n",
    "    pca = PCA(n_components=2)\n",
    "    reduced_data = pca.fit_transform(data)\n",
    "\n",
    "    # Plot the decision boundary. For that, we will assign a color to each\n",
    "    x_min, x_max = reduced_data[:, 0].min(), reduced_data[:, 0].max()\n",
    "    y_min, y_max = reduced_data[:, 1].min(), reduced_data[:, 1].max()\n",
    "    \n",
    "    plt.scatter(reduced_data[:, 0], reduced_data[:, 1], c=kmeans.labels_, s=10, edgecolor='none', cmap='Paired')\n",
    "    # Plot the centroids as Xs\n",
    "    centroids = pca.transform(kmeans.cluster_centers_)\n",
    "    plt.scatter(centroids[:, 0], centroids[:, 1],\n",
    "                marker='x', s=169, linewidths=3,\n",
    "                c=range(len(centroids)), zorder=10, cmap='Paired')\n",
    "    plt.title('K-means clustering on the digits dataset (PCA-reduced data)\\n'\n",
    "              'Centroids are marked with crosses')\n",
    "    plt.xlim(x_min, x_max)\n",
    "    plt.ylim(y_min, y_max)\n",
    "    plt.xticks(())\n",
    "    plt.yticks(())\n",
    "    plt.figure(figsize=(40,40))\n",
    "    plt.show()\n",
    "\n"
   ]
  },
  {
   "cell_type": "code",
   "execution_count": 3,
   "metadata": {
    "collapsed": false
   },
   "outputs": [
    {
     "data": {
      "text/html": [
       "<div>\n",
       "<table border=\"1\" class=\"dataframe\">\n",
       "  <thead>\n",
       "    <tr style=\"text-align: right;\">\n",
       "      <th></th>\n",
       "      <th>Asian</th>\n",
       "      <th>Black</th>\n",
       "      <th>Hispanic</th>\n",
       "      <th>Other</th>\n",
       "      <th>Unknown</th>\n",
       "      <th>White</th>\n",
       "      <th>mouth_last</th>\n",
       "      <th>mouth_mean_slope</th>\n",
       "      <th>hands_last</th>\n",
       "      <th>hands_mean_slope</th>\n",
       "      <th>onset_delta_last</th>\n",
       "      <th>ALSFRS_Total_last</th>\n",
       "      <th>ALSFRS_Total_mean_slope</th>\n",
       "      <th>BMI_last</th>\n",
       "      <th>fvc_percent_mean_slope</th>\n",
       "      <th>respiratory_last</th>\n",
       "      <th>respiratory_mean_slope</th>\n",
       "    </tr>\n",
       "    <tr>\n",
       "      <th>SubjectID</th>\n",
       "      <th></th>\n",
       "      <th></th>\n",
       "      <th></th>\n",
       "      <th></th>\n",
       "      <th></th>\n",
       "      <th></th>\n",
       "      <th></th>\n",
       "      <th></th>\n",
       "      <th></th>\n",
       "      <th></th>\n",
       "      <th></th>\n",
       "      <th></th>\n",
       "      <th></th>\n",
       "      <th></th>\n",
       "      <th></th>\n",
       "      <th></th>\n",
       "      <th></th>\n",
       "    </tr>\n",
       "  </thead>\n",
       "  <tbody>\n",
       "    <tr>\n",
       "      <th>533</th>\n",
       "      <td>-0.093464</td>\n",
       "      <td>-0.113794</td>\n",
       "      <td>-0.064349</td>\n",
       "      <td>-0.061034</td>\n",
       "      <td>-0.139054</td>\n",
       "      <td>0.225154</td>\n",
       "      <td>-3.024057</td>\n",
       "      <td>-0.313588</td>\n",
       "      <td>1.083807</td>\n",
       "      <td>0.155725</td>\n",
       "      <td>-0.811018</td>\n",
       "      <td>-0.111955</td>\n",
       "      <td>-1.565921</td>\n",
       "      <td>0.000000</td>\n",
       "      <td>-1.328998</td>\n",
       "      <td>-1.241384</td>\n",
       "      <td>0.056652</td>\n",
       "    </tr>\n",
       "    <tr>\n",
       "      <th>649</th>\n",
       "      <td>-0.093464</td>\n",
       "      <td>-0.113794</td>\n",
       "      <td>-0.064349</td>\n",
       "      <td>-0.061034</td>\n",
       "      <td>-0.139054</td>\n",
       "      <td>0.225154</td>\n",
       "      <td>-0.501320</td>\n",
       "      <td>0.950139</td>\n",
       "      <td>0.638636</td>\n",
       "      <td>-1.247972</td>\n",
       "      <td>0.834530</td>\n",
       "      <td>1.070400</td>\n",
       "      <td>0.017806</td>\n",
       "      <td>0.947770</td>\n",
       "      <td>-0.139699</td>\n",
       "      <td>0.566232</td>\n",
       "      <td>0.056652</td>\n",
       "    </tr>\n",
       "    <tr>\n",
       "      <th>1234</th>\n",
       "      <td>-0.093464</td>\n",
       "      <td>-0.113794</td>\n",
       "      <td>-0.064349</td>\n",
       "      <td>-0.061034</td>\n",
       "      <td>-0.139054</td>\n",
       "      <td>0.225154</td>\n",
       "      <td>-0.501320</td>\n",
       "      <td>-0.726623</td>\n",
       "      <td>-2.032390</td>\n",
       "      <td>0.155725</td>\n",
       "      <td>-1.192245</td>\n",
       "      <td>-1.463217</td>\n",
       "      <td>-0.274090</td>\n",
       "      <td>1.167644</td>\n",
       "      <td>2.472957</td>\n",
       "      <td>0.566232</td>\n",
       "      <td>0.056652</td>\n",
       "    </tr>\n",
       "    <tr>\n",
       "      <th>2492</th>\n",
       "      <td>-0.093464</td>\n",
       "      <td>-0.113794</td>\n",
       "      <td>-0.064349</td>\n",
       "      <td>-0.061034</td>\n",
       "      <td>-0.139054</td>\n",
       "      <td>0.225154</td>\n",
       "      <td>0.760049</td>\n",
       "      <td>0.085344</td>\n",
       "      <td>0.193465</td>\n",
       "      <td>0.155725</td>\n",
       "      <td>0.776622</td>\n",
       "      <td>0.056953</td>\n",
       "      <td>0.233231</td>\n",
       "      <td>0.915559</td>\n",
       "      <td>-0.478919</td>\n",
       "      <td>-1.241384</td>\n",
       "      <td>0.056652</td>\n",
       "    </tr>\n",
       "    <tr>\n",
       "      <th>2956</th>\n",
       "      <td>-0.093464</td>\n",
       "      <td>-0.113794</td>\n",
       "      <td>-0.064349</td>\n",
       "      <td>-0.061034</td>\n",
       "      <td>-0.139054</td>\n",
       "      <td>0.225154</td>\n",
       "      <td>0.760049</td>\n",
       "      <td>0.085344</td>\n",
       "      <td>1.083807</td>\n",
       "      <td>-0.479715</td>\n",
       "      <td>-2.608574</td>\n",
       "      <td>0.394769</td>\n",
       "      <td>-0.259169</td>\n",
       "      <td>0.000000</td>\n",
       "      <td>0.981667</td>\n",
       "      <td>0.566232</td>\n",
       "      <td>0.056652</td>\n",
       "    </tr>\n",
       "  </tbody>\n",
       "</table>\n",
       "</div>"
      ],
      "text/plain": [
       "              Asian     Black  Hispanic     Other   Unknown     White  \\\n",
       "SubjectID                                                               \n",
       "533       -0.093464 -0.113794 -0.064349 -0.061034 -0.139054  0.225154   \n",
       "649       -0.093464 -0.113794 -0.064349 -0.061034 -0.139054  0.225154   \n",
       "1234      -0.093464 -0.113794 -0.064349 -0.061034 -0.139054  0.225154   \n",
       "2492      -0.093464 -0.113794 -0.064349 -0.061034 -0.139054  0.225154   \n",
       "2956      -0.093464 -0.113794 -0.064349 -0.061034 -0.139054  0.225154   \n",
       "\n",
       "           mouth_last  mouth_mean_slope  hands_last  hands_mean_slope  \\\n",
       "SubjectID                                                               \n",
       "533         -3.024057         -0.313588    1.083807          0.155725   \n",
       "649         -0.501320          0.950139    0.638636         -1.247972   \n",
       "1234        -0.501320         -0.726623   -2.032390          0.155725   \n",
       "2492         0.760049          0.085344    0.193465          0.155725   \n",
       "2956         0.760049          0.085344    1.083807         -0.479715   \n",
       "\n",
       "           onset_delta_last  ALSFRS_Total_last  ALSFRS_Total_mean_slope  \\\n",
       "SubjectID                                                                 \n",
       "533               -0.811018          -0.111955                -1.565921   \n",
       "649                0.834530           1.070400                 0.017806   \n",
       "1234              -1.192245          -1.463217                -0.274090   \n",
       "2492               0.776622           0.056953                 0.233231   \n",
       "2956              -2.608574           0.394769                -0.259169   \n",
       "\n",
       "           BMI_last  fvc_percent_mean_slope  respiratory_last  \\\n",
       "SubjectID                                                       \n",
       "533        0.000000               -1.328998         -1.241384   \n",
       "649        0.947770               -0.139699          0.566232   \n",
       "1234       1.167644                2.472957          0.566232   \n",
       "2492       0.915559               -0.478919         -1.241384   \n",
       "2956       0.000000                0.981667          0.566232   \n",
       "\n",
       "           respiratory_mean_slope  \n",
       "SubjectID                          \n",
       "533                      0.056652  \n",
       "649                      0.056652  \n",
       "1234                     0.056652  \n",
       "2492                     0.056652  \n",
       "2956                     0.056652  "
      ]
     },
     "execution_count": 3,
     "metadata": {},
     "output_type": "execute_result"
    }
   ],
   "source": [
    "proact_train = pd.read_csv('../all_data_vectorized.csv', sep = '|', index_col = 'SubjectID', dtype='float')\n",
    "proact_train = proact_train[clustering_columns]\n",
    "proact_train.head()"
   ]
  },
  {
   "cell_type": "code",
   "execution_count": 4,
   "metadata": {
    "collapsed": false
   },
   "outputs": [
    {
     "data": {
      "image/png": "[encoded data removed]",
      "text/plain": [
       "<matplotlib.figure.Figure at 0x18a64208>"
      ]
     },
     "metadata": {},
     "output_type": "display_data"
    },
    {
     "data": {
      "text/plain": [
       "<matplotlib.figure.Figure at 0x18d5c6a0>"
      ]
     },
     "metadata": {},
     "output_type": "display_data"
    },
    {
     "name": "stdout",
     "output_type": "stream",
     "text": [
      "[(-0.0038592903790585502, 'BMI_last'), (0.000563038232404962, 'fvc_percent_mean_slope'), (0.00096056987400411863, 'onset_delta_last'), (0.0092314730543189647, 'ALSFRS_Total_mean_slope'), (0.013514564850027373, 'mouth_mean_slope'), (0.01369440312987987, 'Other'), (0.014717543459044729, 'hands_mean_slope'), (0.015293880273442131, 'Hispanic'), (0.020102026509942951, 'respiratory_mean_slope'), (0.033229391442201946, 'Asian'), (0.048083201849237707, 'mouth_last'), (0.050095707493601954, 'Black'), (0.076511826016191373, 'Unknown'), (0.096371492308971476, 'respiratory_last'), (0.10350387339135178, 'hands_last'), (0.11648541031705004, 'ALSFRS_Total_last'), (0.24106387515641886, 'White')]\n",
      "Cluster cnt:  [ 775  117 1532]\n"
     ]
    }
   ],
   "source": [
    "kmeans = KMeans(init='k-means++', n_clusters=3)\n",
    "kmeans.fit(proact_train)\n",
    "visualize_kmeans(kmeans, proact_train)\n",
    "print sorted([(metrics.adjusted_mutual_info_score(proact_train[col], kmeans.labels_), col) for col in proact_train.columns])\n",
    "print \"Cluster cnt: \", np.bincount(kmeans.labels_)"
   ]
  },
  {
   "cell_type": "markdown",
   "metadata": {},
   "source": [
    "## Pickle the clustering model"
   ]
  },
  {
   "cell_type": "code",
   "execution_count": 5,
   "metadata": {
    "collapsed": false
   },
   "outputs": [],
   "source": [
    "clustering_model = {\"columns\": clustering_columns, \"model\": kmeans}\n",
    "pickle.dump( clustering_model, open('../clustering_model.pickle', 'wb') )\n"
   ]
  },
  {
   "cell_type": "code",
   "execution_count": 6,
   "metadata": {
    "collapsed": false
   },
   "outputs": [
    {
     "name": "stdout",
     "output_type": "stream",
     "text": [
      "[ 775  117 1532]\n",
      "all (2424, 1)\n",
      "[193  31 376]\n",
      "test (600, 1)\n"
     ]
    }
   ],
   "source": [
    "\n",
    "for t in ['all', 'test']:\n",
    "    cur_data = pd.read_csv('../' + t + '_data_vectorized.csv', sep = '|', error_bad_lines=False, index_col=\"SubjectID\")\n",
    "    cur_data = cur_data[clustering_columns]\n",
    "    res = pd.DataFrame(index = cur_data.index.astype(str)) # SubjectID is always str for later joins\n",
    "    res['cluster'] = kmeans.predict(cur_data)\n",
    "    print np.bincount(res.cluster)\n",
    "    print t, res.shape\n",
    "    res.to_csv('../' + t + '_kmeans_clusters.csv',sep='|')"
   ]
  },
  {
   "cell_type": "code",
   "execution_count": 7,
   "metadata": {
    "collapsed": false
   },
   "outputs": [
    {
     "data": {
      "text/html": [
       "<div>\n",
       "<table border=\"1\" class=\"dataframe\">\n",
       "  <thead>\n",
       "    <tr style=\"text-align: right;\">\n",
       "      <th></th>\n",
       "      <th>cluster</th>\n",
       "    </tr>\n",
       "    <tr>\n",
       "      <th>SubjectID</th>\n",
       "      <th></th>\n",
       "    </tr>\n",
       "  </thead>\n",
       "  <tbody>\n",
       "    <tr>\n",
       "      <th>750059</th>\n",
       "      <td>2</td>\n",
       "    </tr>\n",
       "    <tr>\n",
       "      <th>750094</th>\n",
       "      <td>2</td>\n",
       "    </tr>\n",
       "    <tr>\n",
       "      <th>750148</th>\n",
       "      <td>2</td>\n",
       "    </tr>\n",
       "    <tr>\n",
       "      <th>750195</th>\n",
       "      <td>2</td>\n",
       "    </tr>\n",
       "    <tr>\n",
       "      <th>750406</th>\n",
       "      <td>2</td>\n",
       "    </tr>\n",
       "  </tbody>\n",
       "</table>\n",
       "</div>"
      ],
      "text/plain": [
       "           cluster\n",
       "SubjectID         \n",
       "750059           2\n",
       "750094           2\n",
       "750148           2\n",
       "750195           2\n",
       "750406           2"
      ]
     },
     "execution_count": 7,
     "metadata": {},
     "output_type": "execute_result"
    }
   ],
   "source": [
    "res.head()"
   ]
  },
  {
   "cell_type": "code",
   "execution_count": null,
   "metadata": {
    "collapsed": true
   },
   "outputs": [],
   "source": []
  }
 ],
 "metadata": {
  "kernelspec": {
   "display_name": "Python 2",
   "language": "python",
   "name": "python2"
  },
  "language_info": {
   "codemirror_mode": {
    "name": "ipython",
    "version": 2
   },
   "file_extension": ".py",
   "mimetype": "text/x-python",
   "name": "python",
   "nbconvert_exporter": "python",
   "pygments_lexer": "ipython2",
   "version": "2.7.10"
  }
 },
 "nbformat": 4,
 "nbformat_minor": 0
}
