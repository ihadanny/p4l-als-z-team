{
 "cells": [
  {
   "cell_type": "markdown",
   "metadata": {
    "collapsed": true
   },
   "source": [
    "## Builds all our models x-validated\n"
   ]
  },
  {
   "cell_type": "code",
   "execution_count": 6,
   "metadata": {
    "collapsed": false
   },
   "outputs": [],
   "source": [
    "from IPython.display import display\n",
    "\n",
    "import pandas as pd\n",
    "import numpy as np\n",
    "import pickle\n",
    "from sklearn.cluster import KMeans\n",
    "from StringIO import StringIO\n",
    "from sklearn import metrics\n",
    "\n",
    "from vectorizing_funcs import *\n",
    "from modeling_funcs import *\n"
   ]
  },
  {
   "cell_type": "code",
   "execution_count": 7,
   "metadata": {
    "collapsed": false
   },
   "outputs": [
    {
     "name": "stdout",
     "output_type": "stream",
     "text": [
      "df:  (1642927, 6) 2424\n",
      "slope:  (2424, 1) 2424\n"
     ]
    },
    {
     "data": {
      "text/html": [
       "<div>\n",
       "<table border=\"1\" class=\"dataframe\">\n",
       "  <thead>\n",
       "    <tr style=\"text-align: right;\">\n",
       "      <th></th>\n",
       "      <th>SubjectID</th>\n",
       "      <th>form_name</th>\n",
       "      <th>feature_name</th>\n",
       "      <th>feature_value</th>\n",
       "      <th>feature_unit</th>\n",
       "      <th>feature_delta</th>\n",
       "    </tr>\n",
       "  </thead>\n",
       "  <tbody>\n",
       "    <tr>\n",
       "      <th>0</th>\n",
       "      <td>533</td>\n",
       "      <td>Demographic</td>\n",
       "      <td>Gender</td>\n",
       "      <td>F</td>\n",
       "      <td>NaN</td>\n",
       "      <td>0.0</td>\n",
       "    </tr>\n",
       "    <tr>\n",
       "      <th>1</th>\n",
       "      <td>533</td>\n",
       "      <td>Demographic</td>\n",
       "      <td>Age</td>\n",
       "      <td>65</td>\n",
       "      <td>NaN</td>\n",
       "      <td>0.0</td>\n",
       "    </tr>\n",
       "  </tbody>\n",
       "</table>\n",
       "</div>"
      ],
      "text/plain": [
       "  SubjectID    form_name feature_name feature_value feature_unit feature_delta\n",
       "0       533  Demographic       Gender             F          NaN           0.0\n",
       "1       533  Demographic          Age            65          NaN           0.0"
      ]
     },
     "metadata": {},
     "output_type": "display_data"
    },
    {
     "data": {
      "text/html": [
       "<div>\n",
       "<table border=\"1\" class=\"dataframe\">\n",
       "  <thead>\n",
       "    <tr style=\"text-align: right;\">\n",
       "      <th></th>\n",
       "      <th>ALSFRS_slope</th>\n",
       "    </tr>\n",
       "    <tr>\n",
       "      <th>SubjectID</th>\n",
       "      <th></th>\n",
       "    </tr>\n",
       "  </thead>\n",
       "  <tbody>\n",
       "    <tr>\n",
       "      <th>533</th>\n",
       "      <td>-0.965608</td>\n",
       "    </tr>\n",
       "    <tr>\n",
       "      <th>649</th>\n",
       "      <td>-0.921717</td>\n",
       "    </tr>\n",
       "  </tbody>\n",
       "</table>\n",
       "</div>"
      ],
      "text/plain": [
       "           ALSFRS_slope\n",
       "SubjectID              \n",
       "533           -0.965608\n",
       "649           -0.921717"
      ]
     },
     "metadata": {},
     "output_type": "display_data"
    }
   ],
   "source": [
    "df = pd.read_csv('../all_data.csv', sep = '|', error_bad_lines=False, index_col=False, dtype='unicode')\n",
    "slope = pd.read_csv('../all_slope.csv', sep = '|', index_col=\"SubjectID\")\n",
    "slope.index = slope.index.astype(str)\n",
    "\n",
    "print \"df: \", df.shape, df.SubjectID.unique().size\n",
    "print \"slope: \", slope.shape, slope.index.unique().size\n",
    "display(df.head(2))\n",
    "display(slope.head(2))"
   ]
  },
  {
   "cell_type": "code",
   "execution_count": 8,
   "metadata": {
    "collapsed": true
   },
   "outputs": [],
   "source": [
    "all_feature_metadata = invert_func_to_features(ts_funcs_to_features, \"ts\")\n",
    "all_feature_metadata.update(invert_func_to_features(dummy_funcs_to_features, \"dummy\"))"
   ]
  },
  {
   "cell_type": "code",
   "execution_count": 9,
   "metadata": {
    "collapsed": true
   },
   "outputs": [],
   "source": [
    "def apply_on_test(test_data, all_feature_metadata, train_data_means, train_data_std, \n",
    "                 clustering_columns, kmeans, best_features_per_cluster, model_per_cluster):\n",
    "    \n",
    "    # Vectorizing\n",
    "    vectorized, _ = vectorize(test_data, all_feature_metadata)\n",
    "    normalized, _ = normalize(vectorized, all_feature_metadata, train_data_means, train_data_std)\n",
    "    \n",
    "    # Clustering\n",
    "    for_clustering = normalized[clustering_columns]\n",
    "    clusters = pd.DataFrame(index = for_clustering.index.astype(str))\n",
    "    clusters['cluster'] = kmeans.predict(for_clustering)\n",
    "    print sorted([(metrics.adjusted_mutual_info_score(for_clustering[col], kmeans.labels_), col) \\\n",
    "                  for col in for_clustering.columns])[-5:]\n",
    "\n",
    "    X = normalized.join(clusters)\n",
    "    \n",
    "    buf = filter_only_selected_features(test_data.set_index(\"SubjectID\"), clusters, \\\n",
    "                                        best_features_per_cluster)    \n",
    "    s_df = pd.read_csv(StringIO(buf), sep='|', index_col=False, dtype='unicode')\n",
    "    s_vectorized, _ = vectorize(s_df, all_feature_metadata)\n",
    "    s_normalized, _ = normalize(s_vectorized, all_feature_metadata, train_data_means, train_data_std)    \n",
    "    s_X = s_normalized.join(clusters)    \n",
    "\n",
    "    pred = s_X.apply(apply_model, args=[model_per_cluster], axis = 1)\n",
    "    return pred\n",
    "    "
   ]
  },
  {
   "cell_type": "code",
   "execution_count": 10,
   "metadata": {
    "collapsed": false,
    "scrolled": true
   },
   "outputs": [
    {
     "name": "stdout",
     "output_type": "stream",
     "text": [
      "fold: 0\n",
      "train_data:  (819377, 6) 1212 496835 999482\n",
      "[(-0.0014835768196526402, 'family_ALS_hist_last'), (-0.0013302522215587797, 'bp_systolic_pct_diff'), (-0.00079670466900564154, 'Albumin_pct_diff'), (-0.0007120963070863113, 'weight_mean_slope'), (-0.00062955340654440701, 'Hispanic'), (-0.00059299419413581258, 'pulse_pct_diff'), (-0.00050797223663625495, 'Other'), (-0.00026364906647803865, 'Creatinine_mean_slope'), (-0.00018832878007630941, 'pulse_mean_slope'), (5.2328079158173903e-05, 'weight_pct_diff'), (0.00010021105448683779, 'bp_systolic_mean_slope'), (0.00017118852854769117, 'bp_diastolic_mean_slope'), (0.00037326922657056875, 'fvc_percent_mean_slope'), (0.00047721861423314802, 'fvc_percent_std'), (0.00055517629089476487, 'fvc_percent_pct_diff'), (0.00056530858245989232, 'Unknown'), (0.00060134899130415902, 'onset_delta_last'), (0.00074902435255601448, 'fvc_percent_median'), (0.00074902435255603367, 'fvc_percent_mean'), (0.00085640056266703742, 'BMI_last'), (0.0012477391985584523, 'weight_std'), (0.0012773741525260443, 'Creatinine_pct_diff'), (0.001433164095959972, 'Black'), (0.0015621600480504184, 'Age_last'), (0.0016000320838724139, 'bp_diastolic_pct_diff'), (0.0021135510116255195, 'respiratory_rate_median'), (0.0022149019824299265, 'respiratory_rate_mean_slope'), (0.0022265355621382881, 'respiratory_rate_pct_diff'), (0.002249669408616733, 'Albumin_mean_slope'), (0.00247203297911514, 'temperature_median'), (0.0024873996921622862, 'bp_diastolic_std'), (0.0028257807936525065, 'bp_systolic_std'), (0.0028711627321949418, 'temperature_pct_diff'), (0.0029852501690442431, 'temperature_mean_slope'), (0.0032709732381368426, 'White'), (0.00395847684395138, 'respiratory_rate_mean'), (0.0040804496366809596, 'bp_systolic_mean'), (0.0042248772607088236, 'respiratory_rate_std'), (0.0044701650033016592, 'ALSFRS_Total_mean_slope'), (0.0045971868859129563, 'temperature_mean'), (0.0046442731202372012, 'Albumin_std'), (0.0048118193672234567, 'weight_mean'), (0.0048236165349834622, 'pulse_std'), (0.0048753203848107421, 'pulse_median'), (0.0053686309782567986, 'bp_diastolic_median'), (0.0059811200705646109, 'pulse_mean'), (0.0081561070412726477, 'bp_diastolic_mean'), (0.0082133835820358807, 'bp_systolic_median'), (0.0086315591818704861, 'Asian'), (0.00919744413712471, 'temperature_std'), (0.009700367557627371, 'ALSFRS_Total_pct_diff'), (0.012422562524725858, 'Albumin_mean'), (0.012535285651359942, 'hands_mean_slope'), (0.012890478673413659, 'Creatinine_std'), (0.015506406384651845, 'Albumin_median'), (0.016047752529760217, 'Albumin_last'), (0.016540971651370258, 'weight_median'), (0.017295904081450462, 'mouth_mean_slope'), (0.017868204586419668, 'hands_std'), (0.022095470637594362, 'mouth_pct_diff'), (0.022213274931297617, 'respiratory_mean_slope'), (0.022852240767803456, 'Creatinine_mean'), (0.025483579634840655, 'ALSFRS_Total_std'), (0.027003698191222572, 'respiratory_pct_diff'), (0.0292130450234976, 'hands_pct_diff'), (0.033663893317028334, 'mouth_std'), (0.033860728303976378, 'Creatinine_median'), (0.036432697738013047, 'Creatinine_last'), (0.036914351314107301, 'mouth_mean'), (0.044839261425216992, 'respiratory_std'), (0.045086312787923286, 'hands_mean'), (0.051806653357580779, 'mouth_median'), (0.054053786280216863, 'ALSFRS_Total_mean'), (0.064581069094903687, 'respiratory_mean'), (0.064605980390745985, 'mouth_last'), (0.065201408345315764, 'respiratory_last'), (0.067236842759215876, 'hands_median'), (0.068123068504302345, 'respiratory_median'), (0.082509797453561878, 'ALSFRS_Total_median'), (0.08763566386887954, 'hands_last'), (0.11281540008498178, 'ALSFRS_Total_last'), (0.33197921966693422, 'M'), (0.33197922003415742, 'F')]\n",
      "best_features_per_cluster:  {0: ['Age', 'Albumin', 'Gender', 'Race', 'bp_systolic', 'family_ALS_hist'], 1: ['Age', 'BMI', 'Race', 'bp_diastolic', 'family_ALS_hist', 'respiratory_rate'], 2: ['Age', 'BMI', 'Gender', 'bp_diastolic', 'bp_systolic', 'family_ALS_hist']}\n",
      "cluster: 0 size: (371L,)\n",
      "Mean square error (0 is perfect): 0.35\n",
      "Explained variance score (1 is perfect): 0.04\n",
      "\n",
      "cluster: 1 size: (557L,)\n",
      "Mean square error (0 is perfect): 0.39\n",
      "Explained variance score (1 is perfect): 0.02\n",
      "\n",
      "cluster: 2 size: (284L,)\n",
      "Mean square error (0 is perfect): 0.48\n",
      "Explained variance score (1 is perfect): -0.01\n",
      "\n"
     ]
    },
    {
     "name": "stderr",
     "output_type": "stream",
     "text": [
      "C:\\Anaconda\\lib\\site-packages\\pandas\\core\\indexing.py:415: SettingWithCopyWarning: \n",
      "A value is trying to be set on a copy of a slice from a DataFrame.\n",
      "Try using .loc[row_indexer,col_indexer] = value instead\n",
      "\n",
      "See the the caveats in the documentation: http://pandas.pydata.org/pandas-docs/stable/indexing.html#indexing-view-versus-copy\n",
      "  self.obj[item] = s\n"
     ]
    },
    {
     "ename": "ValueError",
     "evalue": "Incorrect number of features. Got 2 features, expected 83",
     "output_type": "error",
     "traceback": [
      "\u001b[1;31m---------------------------------------------------------------------------\u001b[0m",
      "\u001b[1;31mValueError\u001b[0m                                Traceback (most recent call last)",
      "\u001b[1;32m<ipython-input-10-435880dcf7f4>\u001b[0m in \u001b[0;36m<module>\u001b[1;34m()\u001b[0m\n\u001b[0;32m     39\u001b[0m \u001b[1;33m\u001b[0m\u001b[0m\n\u001b[0;32m     40\u001b[0m     pred = apply_on_test(train_data, all_feature_metadata, train_data_means, train_data_std, \n\u001b[1;32m---> 41\u001b[1;33m                  clustering_columns, kmeans, best_features_per_cluster, model_per_cluster)\n\u001b[0m\u001b[0;32m     42\u001b[0m     \u001b[0mres\u001b[0m \u001b[1;33m=\u001b[0m \u001b[0mpred\u001b[0m\u001b[1;33m.\u001b[0m\u001b[0mjoin\u001b[0m\u001b[1;33m(\u001b[0m\u001b[0mslope\u001b[0m\u001b[1;33m)\u001b[0m\u001b[1;33m\u001b[0m\u001b[0m\n\u001b[0;32m     43\u001b[0m     print \"Train root mean square error (0 is perfect): %.2f\" % np.sqrt(np.mean(\n",
      "\u001b[1;32m<ipython-input-9-95661adf67dd>\u001b[0m in \u001b[0;36mapply_on_test\u001b[1;34m(test_data, all_feature_metadata, train_data_means, train_data_std, clustering_columns, kmeans, best_features_per_cluster, model_per_cluster)\u001b[0m\n\u001b[0;32m      9\u001b[0m     \u001b[0mfor_clustering\u001b[0m \u001b[1;33m=\u001b[0m \u001b[0mnormalized\u001b[0m\u001b[1;33m[\u001b[0m\u001b[0mclustering_columns\u001b[0m\u001b[1;33m]\u001b[0m\u001b[1;33m\u001b[0m\u001b[0m\n\u001b[0;32m     10\u001b[0m     \u001b[0mclusters\u001b[0m \u001b[1;33m=\u001b[0m \u001b[0mpd\u001b[0m\u001b[1;33m.\u001b[0m\u001b[0mDataFrame\u001b[0m\u001b[1;33m(\u001b[0m\u001b[0mindex\u001b[0m \u001b[1;33m=\u001b[0m \u001b[0mfor_clustering\u001b[0m\u001b[1;33m.\u001b[0m\u001b[0mindex\u001b[0m\u001b[1;33m.\u001b[0m\u001b[0mastype\u001b[0m\u001b[1;33m(\u001b[0m\u001b[0mstr\u001b[0m\u001b[1;33m)\u001b[0m\u001b[1;33m)\u001b[0m\u001b[1;33m\u001b[0m\u001b[0m\n\u001b[1;32m---> 11\u001b[1;33m     \u001b[0mclusters\u001b[0m\u001b[1;33m[\u001b[0m\u001b[1;34m'cluster'\u001b[0m\u001b[1;33m]\u001b[0m \u001b[1;33m=\u001b[0m \u001b[0mkmeans\u001b[0m\u001b[1;33m.\u001b[0m\u001b[0mpredict\u001b[0m\u001b[1;33m(\u001b[0m\u001b[0mfor_clustering\u001b[0m\u001b[1;33m)\u001b[0m\u001b[1;33m\u001b[0m\u001b[0m\n\u001b[0m\u001b[0;32m     12\u001b[0m     \u001b[0mX\u001b[0m \u001b[1;33m=\u001b[0m \u001b[0mnormalized\u001b[0m\u001b[1;33m.\u001b[0m\u001b[0mjoin\u001b[0m\u001b[1;33m(\u001b[0m\u001b[0mclusters\u001b[0m\u001b[1;33m)\u001b[0m\u001b[1;33m\u001b[0m\u001b[0m\n\u001b[0;32m     13\u001b[0m \u001b[1;33m\u001b[0m\u001b[0m\n",
      "\u001b[1;32mC:\\Anaconda\\lib\\site-packages\\sklearn\\cluster\\k_means_.pyc\u001b[0m in \u001b[0;36mpredict\u001b[1;34m(self, X)\u001b[0m\n\u001b[0;32m    860\u001b[0m         \u001b[0mcheck_is_fitted\u001b[0m\u001b[1;33m(\u001b[0m\u001b[0mself\u001b[0m\u001b[1;33m,\u001b[0m \u001b[1;34m'cluster_centers_'\u001b[0m\u001b[1;33m)\u001b[0m\u001b[1;33m\u001b[0m\u001b[0m\n\u001b[0;32m    861\u001b[0m \u001b[1;33m\u001b[0m\u001b[0m\n\u001b[1;32m--> 862\u001b[1;33m         \u001b[0mX\u001b[0m \u001b[1;33m=\u001b[0m \u001b[0mself\u001b[0m\u001b[1;33m.\u001b[0m\u001b[0m_check_test_data\u001b[0m\u001b[1;33m(\u001b[0m\u001b[0mX\u001b[0m\u001b[1;33m)\u001b[0m\u001b[1;33m\u001b[0m\u001b[0m\n\u001b[0m\u001b[0;32m    863\u001b[0m         \u001b[0mx_squared_norms\u001b[0m \u001b[1;33m=\u001b[0m \u001b[0mrow_norms\u001b[0m\u001b[1;33m(\u001b[0m\u001b[0mX\u001b[0m\u001b[1;33m,\u001b[0m \u001b[0msquared\u001b[0m\u001b[1;33m=\u001b[0m\u001b[0mTrue\u001b[0m\u001b[1;33m)\u001b[0m\u001b[1;33m\u001b[0m\u001b[0m\n\u001b[0;32m    864\u001b[0m         \u001b[1;32mreturn\u001b[0m \u001b[0m_labels_inertia\u001b[0m\u001b[1;33m(\u001b[0m\u001b[0mX\u001b[0m\u001b[1;33m,\u001b[0m \u001b[0mx_squared_norms\u001b[0m\u001b[1;33m,\u001b[0m \u001b[0mself\u001b[0m\u001b[1;33m.\u001b[0m\u001b[0mcluster_centers_\u001b[0m\u001b[1;33m)\u001b[0m\u001b[1;33m[\u001b[0m\u001b[1;36m0\u001b[0m\u001b[1;33m]\u001b[0m\u001b[1;33m\u001b[0m\u001b[0m\n",
      "\u001b[1;32mC:\\Anaconda\\lib\\site-packages\\sklearn\\cluster\\k_means_.pyc\u001b[0m in \u001b[0;36m_check_test_data\u001b[1;34m(self, X)\u001b[0m\n\u001b[0;32m    766\u001b[0m             raise ValueError(\"Incorrect number of features. \"\n\u001b[0;32m    767\u001b[0m                              \"Got %d features, expected %d\" % (\n\u001b[1;32m--> 768\u001b[1;33m                                  n_features, expected_n_features))\n\u001b[0m\u001b[0;32m    769\u001b[0m         \u001b[1;32mif\u001b[0m \u001b[0mX\u001b[0m\u001b[1;33m.\u001b[0m\u001b[0mdtype\u001b[0m\u001b[1;33m.\u001b[0m\u001b[0mkind\u001b[0m \u001b[1;33m!=\u001b[0m \u001b[1;34m'f'\u001b[0m\u001b[1;33m:\u001b[0m\u001b[1;33m\u001b[0m\u001b[0m\n\u001b[0;32m    770\u001b[0m             warnings.warn(\"Got data type %s, converted to float \"\n",
      "\u001b[1;31mValueError\u001b[0m: Incorrect number of features. Got 2 features, expected 83"
     ]
    }
   ],
   "source": [
    "from sklearn.cross_validation import KFold\n",
    "kf = KFold(df.SubjectID.unique().size, n_folds=2)\n",
    "fold = 0\n",
    "for train, test in kf:\n",
    "    train_data = df[df.SubjectID.isin(df.SubjectID.unique()[train])]\n",
    "    test_data = df[df.SubjectID.isin(df.SubjectID.unique()[test])]\n",
    "    print \"fold: %d\" % fold\n",
    "    print \"train_data: \", train_data.shape, train_data.SubjectID.unique().size, \\\n",
    "            train_data.SubjectID.min(), train_data.SubjectID.max()\n",
    "    \n",
    "    # Vectorizing\n",
    "    all_feature_metadata = learn_to_dummies_model(train_data, all_feature_metadata)\n",
    "    vectorized, all_feature_metadata = vectorize(train_data, all_feature_metadata)\n",
    "    train_data_means = vectorized.mean()\n",
    "    train_data_std = vectorized.std()            \n",
    "    normalized, all_feature_metadata = normalize(vectorized, all_feature_metadata, train_data_means, train_data_std)\n",
    "    \n",
    "    # Clustering\n",
    "    for_clustering = normalized[clustering_columns]\n",
    "    kmeans = KMeans(init='k-means++', n_clusters=3)\n",
    "    #Note we must convert to str to join with slope later\n",
    "    clusters = pd.DataFrame(index = for_clustering.index.astype(str))\n",
    "    clusters['cluster'] = kmeans.fit_predict(for_clustering)\n",
    "    print sorted([(metrics.adjusted_mutual_info_score(for_clustering[col], kmeans.labels_), col) \\\n",
    "                  for col in for_clustering.columns])[-5:]\n",
    "\n",
    "    X = normalized.join(clusters)\n",
    "    Y = slope.join(clusters)\n",
    "\n",
    "    best_features_per_cluster = get_best_features_per_cluster(X, Y, all_feature_metadata)\n",
    "    print \"best_features_per_cluster: \", best_features_per_cluster \n",
    "    buf = filter_only_selected_features(train_data.set_index(\"SubjectID\"), clusters, \\\n",
    "                                        best_features_per_cluster)\n",
    "    \n",
    "    s_df = pd.read_csv(StringIO(buf), sep='|', index_col=False, dtype='unicode')\n",
    "    s_vectorized, _ = vectorize(s_df, all_feature_metadata)\n",
    "    s_normalized, _ = normalize(s_vectorized, all_feature_metadata, train_data_means, train_data_std)    \n",
    "    s_X = s_normalized.join(clusters)\n",
    "    \n",
    "    model_per_cluster = get_model_per_cluster(s_X, Y)\n",
    "\n",
    "    pred = apply_on_test(train_data, all_feature_metadata, train_data_means, train_data_std, \n",
    "                 clustering_columns, kmeans, best_features_per_cluster, model_per_cluster)\n",
    "    res = pred.join(slope)\n",
    "    print \"Train root mean square error (0 is perfect): %.2f\" % np.sqrt(np.mean(\n",
    "        (res.prediction - res.ALSFRS_slope) ** 2))\n",
    "\n",
    "\n",
    "    fold += 1\n",
    "\n"
   ]
  },
  {
   "cell_type": "code",
   "execution_count": null,
   "metadata": {
    "collapsed": true
   },
   "outputs": [],
   "source": []
  }
 ],
 "metadata": {
  "kernelspec": {
   "display_name": "Python 2",
   "language": "python",
   "name": "python2"
  },
  "language_info": {
   "codemirror_mode": {
    "name": "ipython",
    "version": 2
   },
   "file_extension": ".py",
   "mimetype": "text/x-python",
   "name": "python",
   "nbconvert_exporter": "python",
   "pygments_lexer": "ipython2",
   "version": "2.7.10"
  }
 },
 "nbformat": 4,
 "nbformat_minor": 0
}
