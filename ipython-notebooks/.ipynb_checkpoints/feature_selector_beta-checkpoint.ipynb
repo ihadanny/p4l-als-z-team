{
 "cells": [
  {
   "cell_type": "markdown",
   "metadata": {
    "collapsed": true
   },
   "source": [
    "## Used for selecting the 6 best features per cluster\n",
    "* We're using mean squared error of each variable vs. the ALSFRS_score, and take the best 6. "
   ]
  },
  {
   "cell_type": "code",
   "execution_count": 1,
   "metadata": {
    "collapsed": false
   },
   "outputs": [],
   "source": [
    "%matplotlib inline\n",
    "\n",
    "import pandas as pd\n",
    "import numpy as np\n",
    "import pickle\n",
    "from sklearn import linear_model\n",
    "from IPython.display import display\n",
    "\n",
    "from modeling_funcs import *\n"
   ]
  },
  {
   "cell_type": "code",
   "execution_count": 2,
   "metadata": {
    "collapsed": false
   },
   "outputs": [],
   "source": [
    "vectorized_data = pd.read_csv('../all_data_vectorized.csv', sep='|', index_col=0)\n",
    "slope = pd.read_csv('../all_slope.csv', sep = '|', index_col=0)\n",
    "clusters = pd.read_csv('../all_kmeans_clusters.csv', sep = '|', index_col=0)\n",
    "all_feature_metadata = pickle.load( open('../all_feature_metadata.pickle', 'rb') )\n",
    "\n",
    "everybody = vectorized_data.join(clusters).join(slope)\n",
    "Y = everybody[['cluster', 'ALSFRS_slope']]\n",
    "X = everybody.drop('ALSFRS_slope', 1)"
   ]
  },
  {
   "cell_type": "code",
   "execution_count": 3,
   "metadata": {
    "collapsed": false,
    "scrolled": false
   },
   "outputs": [
    {
     "name": "stdout",
     "output_type": "stream",
     "text": [
      "cluster: 0 with size: (117, 158) with mean target: -0.697205035287 std: 0.660612177823\n",
      "best we can do with all features: 0.555327050318\n",
      "adding best family: ('onset_delta', 0.62512853422243631) time: 3.03100013733\n",
      "adding best family: ('mouth', 0.59810196756524525) time: 2.39600014687\n",
      "adding best family: ('temperature', 0.5771318026338802) time: 3.96799993515\n",
      "adding best family: ('Chloride', 0.54444928752485933) time: 4.99599981308\n",
      "adding best family: ('Calcium', 0.49680874469759373) time: 6.03100013733\n",
      "adding best family: ('respiratory', 0.47465043888465508) time: 10.2400000095\n",
      "cluster: 1 with size: (775, 158) with mean target: -0.800570287545 std: 0.616876201143\n",
      "best we can do with all features: 0.568806915328\n",
      "adding best family: ('onset_delta', 0.57479382281856084) time: 3.6819999218\n",
      "adding best family: ('fvc_percent', 0.56948369924023079) time: 3.10399985313\n",
      "adding best family: ('Bicarbonate', 0.56538957510223065) time: 3.99799990654\n",
      "adding best family: ('Glucose', 0.56209833877684579) time: 4.34800004959\n",
      "adding best family: ('ALSFRS_Total', 0.5581842733016289) time: 5.00099992752\n",
      "adding best family: ('Calcium', 0.55533386714752664) time: 5.54499983788\n",
      "cluster: 2 with size: (1532, 158) with mean target: -0.698047847474 std: 0.627743430745\n",
      "best we can do with all features: 0.545878374048\n",
      "adding best family: ('onset_delta', 0.5929837277835498) time: 5.48000001907\n",
      "adding best family: ('ALSFRS_Total', 0.57320184136747332) time: 3.46900010109\n",
      "adding best family: ('fvc_percent', 0.56148420056657722) time: 4.59499979019\n",
      "adding best family: ('weight', 0.5574402071604776) time: 6.13499999046\n",
      "adding best family: ('Creatinine', 0.55471689821677694) time: 10.5270001888\n",
      "adding best family: ('respiratory', 0.5526614964598342) time: 12.0039999485\n"
     ]
    },
    {
     "name": "stderr",
     "output_type": "stream",
     "text": [
      "C:\\Anaconda\\lib\\site-packages\\sklearn\\linear_model\\coordinate_descent.py:444: ConvergenceWarning: Objective did not converge. You might want to increase the number of iterations\n",
      "  ConvergenceWarning)\n"
     ]
    },
    {
     "data": {
      "text/plain": [
       "{0: ['respiratory',\n",
       "  'temperature',\n",
       "  'Calcium',\n",
       "  'mouth',\n",
       "  'onset_delta',\n",
       "  'Chloride'],\n",
       " 1: ['Bicarbonate',\n",
       "  'Calcium',\n",
       "  'fvc_percent',\n",
       "  'onset_delta',\n",
       "  'ALSFRS_Total',\n",
       "  'Glucose'],\n",
       " 2: ['respiratory',\n",
       "  'weight',\n",
       "  'ALSFRS_Total',\n",
       "  'onset_delta',\n",
       "  'Creatinine',\n",
       "  'fvc_percent']}"
      ]
     },
     "execution_count": 3,
     "metadata": {},
     "output_type": "execute_result"
    }
   ],
   "source": [
    "best_features_per_cluster = stepwise_best_features_per_cluster(X, Y, all_feature_metadata)\n",
    "best_features_per_cluster"
   ]
  },
  {
   "cell_type": "code",
   "execution_count": 4,
   "metadata": {
    "collapsed": false
   },
   "outputs": [],
   "source": [
    "with open(\"../best_features_per_cluster.pickle\", \"wb\") as output_file:\n",
    "    pickle.dump(best_features_per_cluster, output_file)\n"
   ]
  },
  {
   "cell_type": "markdown",
   "metadata": {},
   "source": [
    "#Apply the selector \n",
    "leave only the best features per cluster"
   ]
  },
  {
   "cell_type": "code",
   "execution_count": 5,
   "metadata": {
    "collapsed": false
   },
   "outputs": [
    {
     "name": "stdout",
     "output_type": "stream",
     "text": [
      "all\n",
      "df (1642927, 5)\n",
      "clusters cluster\n",
      "0     117\n",
      "1     775\n",
      "2    1532\n",
      "dtype: int64\n",
      "test\n",
      "df (126664, 5)\n",
      "clusters cluster\n",
      "0     31\n",
      "1    193\n",
      "2    376\n",
      "dtype: int64\n"
     ]
    }
   ],
   "source": [
    "for t in [\"all\", \"test\"]:\n",
    "    print t\n",
    "    df = pd.read_csv('../' + t + '_data.csv', sep = '|', index_col=\"SubjectID\", dtype='unicode')\n",
    "    print \"df\", df.shape\n",
    "    clusters = pd.read_csv('../' + t + '_kmeans_clusters.csv', sep = '|', index_col=\"SubjectID\")\n",
    "    print \"clusters\", clusters.groupby('cluster').size()\n",
    "    buf = filter_only_selected_features(df, clusters, best_features_per_cluster)\n",
    "    with open('../' + t + '_data_selected.csv','w') as f:\n",
    "        f.write(buf)\n"
   ]
  },
  {
   "cell_type": "code",
   "execution_count": null,
   "metadata": {
    "collapsed": true
   },
   "outputs": [],
   "source": []
  }
 ],
 "metadata": {
  "kernelspec": {
   "display_name": "Python 2",
   "language": "python",
   "name": "python2"
  },
  "language_info": {
   "codemirror_mode": {
    "name": "ipython",
    "version": 2
   },
   "file_extension": ".py",
   "mimetype": "text/x-python",
   "name": "python",
   "nbconvert_exporter": "python",
   "pygments_lexer": "ipython2",
   "version": "2.7.10"
  }
 },
 "nbformat": 4,
 "nbformat_minor": 0
}
