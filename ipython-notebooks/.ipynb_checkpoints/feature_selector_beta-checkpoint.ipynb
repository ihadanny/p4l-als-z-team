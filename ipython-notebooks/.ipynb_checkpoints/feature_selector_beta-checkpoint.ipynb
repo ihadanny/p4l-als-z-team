{
 "cells": [
  {
   "cell_type": "code",
   "execution_count": null,
   "metadata": {
    "collapsed": true
   },
   "outputs": [],
   "source": [
    "# Used for selecting the 6 best features per cluster. \n",
    "# Assumes data is vectorized + clustered.\n",
    "# We're using simple f_regression score of each variable vs. the ALSFRS_score, and take the best 6. "
   ]
  },
  {
   "cell_type": "code",
   "execution_count": 75,
   "metadata": {
    "collapsed": false
   },
   "outputs": [],
   "source": [
    "%matplotlib inline\n",
    "\n",
    "import pandas as pd\n",
    "import numpy as np\n",
    "from sklearn.feature_selection import SelectKBest\n",
    "from sklearn.feature_selection import f_regression\n"
   ]
  },
  {
   "cell_type": "code",
   "execution_count": 90,
   "metadata": {
    "collapsed": false
   },
   "outputs": [
    {
     "data": {
      "text/html": [
       "<div style=\"max-height:1000px;max-width:1500px;overflow:auto;\">\n",
       "<table border=\"1\" class=\"dataframe\">\n",
       "  <thead>\n",
       "    <tr style=\"text-align: right;\">\n",
       "      <th></th>\n",
       "      <th>bp_diastolic</th>\n",
       "      <th>bp_systolic</th>\n",
       "      <th>height</th>\n",
       "      <th>pulse</th>\n",
       "      <th>respiratory_rate</th>\n",
       "      <th>temperature</th>\n",
       "      <th>weight</th>\n",
       "      <th>F</th>\n",
       "      <th>Asian</th>\n",
       "      <th>Black</th>\n",
       "      <th>Hispanic</th>\n",
       "      <th>Other</th>\n",
       "      <th>White</th>\n",
       "      <th>ALSFRS_slope</th>\n",
       "    </tr>\n",
       "    <tr>\n",
       "      <th>cluster</th>\n",
       "      <th></th>\n",
       "      <th></th>\n",
       "      <th></th>\n",
       "      <th></th>\n",
       "      <th></th>\n",
       "      <th></th>\n",
       "      <th></th>\n",
       "      <th></th>\n",
       "      <th></th>\n",
       "      <th></th>\n",
       "      <th></th>\n",
       "      <th></th>\n",
       "      <th></th>\n",
       "      <th></th>\n",
       "    </tr>\n",
       "  </thead>\n",
       "  <tbody>\n",
       "    <tr>\n",
       "      <th>0</th>\n",
       "      <td>0.021828</td>\n",
       "      <td>0.033884</td>\n",
       "      <td>0.000267</td>\n",
       "      <td>0.014863</td>\n",
       "      <td>0.003425</td>\n",
       "      <td>-0.000153</td>\n",
       "      <td>-0.002826</td>\n",
       "      <td>0.355047</td>\n",
       "      <td>0.009306</td>\n",
       "      <td>0.015748</td>\n",
       "      <td>0.005011</td>\n",
       "      <td>0.002147</td>\n",
       "      <td>0.950608</td>\n",
       "      <td>-0.724901</td>\n",
       "    </tr>\n",
       "    <tr>\n",
       "      <th>1</th>\n",
       "      <td>-0.114042</td>\n",
       "      <td>-0.255303</td>\n",
       "      <td>0.000186</td>\n",
       "      <td>0.003287</td>\n",
       "      <td>0.003497</td>\n",
       "      <td>-0.000077</td>\n",
       "      <td>-0.004754</td>\n",
       "      <td>0.391781</td>\n",
       "      <td>0.002740</td>\n",
       "      <td>0.010959</td>\n",
       "      <td>0.002740</td>\n",
       "      <td>0.000000</td>\n",
       "      <td>0.958904</td>\n",
       "      <td>-0.764811</td>\n",
       "    </tr>\n",
       "    <tr>\n",
       "      <th>2</th>\n",
       "      <td>-0.062423</td>\n",
       "      <td>-1.828897</td>\n",
       "      <td>0.000150</td>\n",
       "      <td>-0.479034</td>\n",
       "      <td>0.091067</td>\n",
       "      <td>0.000267</td>\n",
       "      <td>0.016666</td>\n",
       "      <td>0.400000</td>\n",
       "      <td>0.000000</td>\n",
       "      <td>0.100000</td>\n",
       "      <td>0.000000</td>\n",
       "      <td>0.000000</td>\n",
       "      <td>0.900000</td>\n",
       "      <td>-0.829612</td>\n",
       "    </tr>\n",
       "  </tbody>\n",
       "</table>\n",
       "</div>"
      ],
      "text/plain": [
       "         bp_diastolic  bp_systolic    height     pulse  respiratory_rate  \\\n",
       "cluster                                                                    \n",
       "0            0.021828     0.033884  0.000267  0.014863          0.003425   \n",
       "1           -0.114042    -0.255303  0.000186  0.003287          0.003497   \n",
       "2           -0.062423    -1.828897  0.000150 -0.479034          0.091067   \n",
       "\n",
       "         temperature    weight         F     Asian     Black  Hispanic  \\\n",
       "cluster                                                                  \n",
       "0          -0.000153 -0.002826  0.355047  0.009306  0.015748  0.005011   \n",
       "1          -0.000077 -0.004754  0.391781  0.002740  0.010959  0.002740   \n",
       "2           0.000267  0.016666  0.400000  0.000000  0.100000  0.000000   \n",
       "\n",
       "            Other     White  ALSFRS_slope  \n",
       "cluster                                    \n",
       "0        0.002147  0.950608     -0.724901  \n",
       "1        0.000000  0.958904     -0.764811  \n",
       "2        0.000000  0.900000     -0.829612  "
      ]
     },
     "execution_count": 90,
     "metadata": {},
     "output_type": "execute_result"
    }
   ],
   "source": [
    "proact_data = pd.read_csv('../train_data_vectorized.csv', sep = '|', index_col='SubjectID')\n",
    "slope = pd.read_csv('../train_slope.csv', sep = '|', index_col='SubjectID')\n",
    "clusters = pd.read_csv('../train_kmeans_clusters.csv', sep = '|', index_col='SubjectID')\n",
    "X = pd.merge(proact_data, clusters, left_index = True, right_index = True)\n",
    "Y = pd.merge(X, slope, left_index = True, right_index = True)\n",
    "\n",
    "Y.groupby('cluster').mean()"
   ]
  },
  {
   "cell_type": "code",
   "execution_count": 98,
   "metadata": {
    "collapsed": false
   },
   "outputs": [
    {
     "name": "stdout",
     "output_type": "stream",
     "text": [
      "1 (365, 14) (365, 15)\n",
      "Index([u'height', u'respiratory_rate', u'temperature', u'F', u'Asian',\n",
      "       u'White'],\n",
      "      dtype='object')\n",
      "0 (1397, 14) (1397, 15)\n",
      "Index([u'bp_diastolic', u'pulse', u'respiratory_rate', u'F', u'Asian',\n",
      "       u'Black'],\n",
      "      dtype='object')\n",
      "2 (10, 14) (10, 15)\n",
      "Index([u'bp_systolic', u'height', u'weight', u'F', u'Black', u'White'], dtype='object')\n"
     ]
    }
   ],
   "source": [
    "selector_per_cluster = {}\n",
    "for c in clusters['cluster'].unique():\n",
    "    seg_X, seg_Y = X[X['cluster'] == c], Y[Y['cluster'] == c]\n",
    "    print c, seg_X.shape, seg_Y.shape\n",
    "    selector = SelectKBest(f_regression, k=6)\n",
    "    X_new = selector.fit_transform(seg_X, seg_Y['ALSFRS_slope'])\n",
    "    print seg_X.columns[selector.get_support()]\n",
    "    selector_per_cluster[c] = selector"
   ]
  },
  {
   "cell_type": "code",
   "execution_count": 141,
   "metadata": {
    "collapsed": false
   },
   "outputs": [],
   "source": [
    "def calc(x):\n",
    "    selector = selector_per_cluster[x['cluster']]\n",
    "    d = {\"feature_ \" + str(i): v for i, v in enumerate(selector.transform(x)[0])}\n",
    "    d['features'] = ';'.join(cur_X.columns[selector.get_support()])\n",
    "    d['cluster'] = int(x['cluster'])\n",
    "    return pd.Series(d)\n",
    "\n",
    "for t in ['train', 'test']:\n",
    "    cur_data = pd.read_csv('../' + t + '_data_vectorized.csv', sep = '|', index_col='SubjectID')\n",
    "    cur_clusters = pd.read_csv('../' + t + '_kmeans_clusters.csv', sep = '|', index_col='SubjectID')\n",
    "    cur_X = pd.merge(cur_data, cur_clusters, left_index = True, right_index = True)\n",
    "    res = cur_X.apply(calc, axis = 1)\n",
    "    res.to_csv('../' + t + '_selected_features.csv',sep='|')\n",
    "    "
   ]
  },
  {
   "cell_type": "code",
   "execution_count": 94,
   "metadata": {
    "collapsed": false
   },
   "outputs": [
    {
     "name": "stdout",
     "output_type": "stream",
     "text": [
      "(1772, 15) [ 1.]\n",
      "(1397, 15) [ 0.]\n",
      "(1000, 15) [ 0.]\n"
     ]
    }
   ],
   "source": [
    "# Whoa! unexpected behavior. \n",
    "# http://stackoverflow.com/questions/31762453/after-slicing-or-filtering-a-pandas-dataframe-f-regression-behaves-not-as-expec\n",
    "seg = Y\n",
    "print seg.shape, f_regression(seg['ALSFRS_slope'], seg['ALSFRS_slope'])[1]\n",
    "seg = Y[Y['cluster'] == 0]\n",
    "print seg.shape, f_regression(seg['ALSFRS_slope'], seg['ALSFRS_slope'])[1]\n",
    "seg = Y[:1000]\n",
    "print seg.shape, f_regression(seg['ALSFRS_slope'], seg['ALSFRS_slope'])[1]"
   ]
  },
  {
   "cell_type": "code",
   "execution_count": null,
   "metadata": {
    "collapsed": true
   },
   "outputs": [],
   "source": []
  }
 ],
 "metadata": {
  "kernelspec": {
   "display_name": "Python 2",
   "language": "python",
   "name": "python2"
  },
  "language_info": {
   "codemirror_mode": {
    "name": "ipython",
    "version": 2
   },
   "file_extension": ".py",
   "mimetype": "text/x-python",
   "name": "python",
   "nbconvert_exporter": "python",
   "pygments_lexer": "ipython2",
   "version": "2.7.8"
  }
 },
 "nbformat": 4,
 "nbformat_minor": 0
}
