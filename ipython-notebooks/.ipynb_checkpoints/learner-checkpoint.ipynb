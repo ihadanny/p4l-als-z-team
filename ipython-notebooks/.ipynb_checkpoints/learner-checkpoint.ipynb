{
 "cells": [
  {
   "cell_type": "code",
   "execution_count": 1,
   "metadata": {
    "collapsed": true
   },
   "outputs": [],
   "source": [
    "import pandas as pd\n",
    "import numpy as np\n",
    "import pickle, cPickle\n",
    "from datetime import datetime\n",
    "\n",
    "from vectorizing_funcs import *\n",
    "from modeling_funcs import *\n"
   ]
  },
  {
   "cell_type": "code",
   "execution_count": 3,
   "metadata": {
    "collapsed": false
   },
   "outputs": [
    {
     "name": "stdout",
     "output_type": "stream",
     "text": [
      "******************************\n",
      "train_data:  (2205, 140) (2205, 1)\n",
      "train cluster cnt:  [551 551 551 552]\n",
      "cluster: 0 with size: (551, 141) with mean target: -1.08004207156 std: 0.637444940978\n",
      "best we can do with all features: 0.604905199409\n",
      "using model: RandomForestRegressor(bootstrap=True, criterion='mse', max_depth=None,\n",
      "           max_features='auto', max_leaf_nodes=None, min_samples_leaf=60,\n",
      "           min_samples_split=2, min_weight_fraction_leaf=0.0,\n",
      "           n_estimators=1000, n_jobs=1, oob_score=False, random_state=0,\n",
      "           verbose=0, warm_start=False)\n",
      "adding best family: ('fvc_percent', 0.62199999872057021) time: 19.5770001411\n",
      "adding best family: ('AST(SGOT)', 0.61710766098295478) time: 27.9140000343\n",
      "adding best family: ('Blood Urea Nitrogen (BUN)', 0.61386606987147962) time: 33.3440001011\n",
      "adding best family: ('Calcium', 0.61162470048024253) time: 38.5959999561\n",
      "adding best family: ('Creatinine', 0.61036679223959822) time: 42.1509997845\n",
      "adding best family: ('White Blood Cell (WBC)', 0.6091487216757282) time: 46.6849999428\n",
      "cluster: 1 with size: (551, 141) with mean target: -0.726690534855 std: 0.531000503048\n",
      "best we can do with all features: 0.493047216778\n",
      "using model: RandomForestRegressor(bootstrap=True, criterion='mse', max_depth=None,\n",
      "           max_features='auto', max_leaf_nodes=None, min_samples_leaf=60,\n",
      "           min_samples_split=2, min_weight_fraction_leaf=0.0,\n",
      "           n_estimators=1000, n_jobs=1, oob_score=False, random_state=0,\n",
      "           verbose=0, warm_start=False)\n",
      "adding best family: ('onset_delta', 0.51025024481826753) time: 19.228000164\n",
      "adding best family: ('AST(SGOT)', 0.50282558918364961) time: 21.631000042\n",
      "adding best family: ('fvc_percent', 0.50007747642829248) time: 26.7119998932\n",
      "adding best family: ('Blood Urea Nitrogen (BUN)', 0.49841685235908584) time: 34.0160000324\n",
      "adding best family: ('Glucose', 0.49736611128545299) time: 38.4779999256\n",
      "adding best family: ('Chloride', 0.4966870161000142) time: 42.756000042\n",
      "cluster: 2 with size: (551, 141) with mean target: -0.583072330983 std: 0.46119537843\n",
      "best we can do with all features: 0.437212322802\n",
      "using model: RandomForestRegressor(bootstrap=True, criterion='mse', max_depth=None,\n",
      "           max_features='auto', max_leaf_nodes=None, min_samples_leaf=60,\n",
      "           min_samples_split=2, min_weight_fraction_leaf=0.0,\n",
      "           n_estimators=1000, n_jobs=1, oob_score=False, random_state=0,\n",
      "           verbose=0, warm_start=False)\n",
      "adding best family: ('bp_systolic', 0.45027212320186555) time: 19.3130002022\n",
      "adding best family: ('Creatinine', 0.44666530764766549) time: 26.1900000572\n",
      "adding best family: ('Hemoglobin', 0.4443200393803049) time: 31.5090000629\n",
      "adding best family: ('onset_delta', 0.44263719298930199) time: 37.2999999523\n",
      "adding best family: ('Albumin', 0.44156864911732818) time: 38.6430001259\n",
      "adding best family: ('Potassium', 0.44075877462982627) time: 54.9110000134\n",
      "cluster: 3 with size: (552, 141) with mean target: -0.336220872722 std: 0.376714165663\n",
      "best we can do with all features: 0.353826716319\n",
      "using model: RandomForestRegressor(bootstrap=True, criterion='mse', max_depth=None,\n",
      "           max_features='auto', max_leaf_nodes=None, min_samples_leaf=60,\n",
      "           min_samples_split=2, min_weight_fraction_leaf=0.0,\n",
      "           n_estimators=1000, n_jobs=1, oob_score=False, random_state=0,\n",
      "           verbose=0, warm_start=False)\n",
      "adding best family: ('Hemoglobin', 0.36715564711728937) time: 20.1400001049\n",
      "adding best family: ('respiratory_rate', 0.3639353269672741) time: 25.7130000591\n",
      "adding best family: ('ALT(SGPT)', 0.36130542056980081) time: 30.2650001049\n",
      "adding best family: ('Sodium', 0.35934563840785977) time: 35.3550000191\n",
      "adding best family: ('pulse', 0.35816175505844061) time: 40.378000021\n",
      "adding best family: ('Creatinine', 0.35715817750002093) time: 44.3580000401\n",
      "best_features_per_cluster:  {0: ['AST(SGOT)', 'White Blood Cell (WBC)', 'Calcium', 'Blood Urea Nitrogen (BUN)', 'Creatinine', 'fvc_percent'], 1: ['AST(SGOT)', 'Blood Urea Nitrogen (BUN)', 'onset_delta', 'Chloride', 'fvc_percent', 'Glucose'], 2: ['bp_systolic', 'Hemoglobin', 'Potassium', 'onset_delta', 'Creatinine', 'Albumin'], 3: ['Sodium', 'Hemoglobin', 'respiratory_rate', 'pulse', 'Creatinine', 'ALT(SGPT)']}\n",
      "cluster: 2 size: (551L,)\n",
      "\t RMS error (0 is perfect): 0.46\n",
      "\t coefficient of determination R^2 = -0.00 \n",
      "\t pearson correlation r = 0.00 \n",
      "3 sample predictions:  [-0.58307233 -0.58307233 -0.58307233]\n",
      "cluster: 1 size: (551L,)\n",
      "\t RMS error (0 is perfect): 0.52\n",
      "\t coefficient of determination R^2 = 0.06 \n",
      "\t pearson correlation r = 0.25 \n",
      "3 sample predictions:  [-0.66672449 -0.59046111 -0.70636845]\n",
      "cluster: 3 size: (552L,)\n",
      "\t RMS error (0 is perfect): 0.38\n",
      "\t coefficient of determination R^2 = 0.01 \n",
      "\t pearson correlation r = 0.08 \n",
      "3 sample predictions:  [-0.33773757 -0.3243832  -0.34644662]\n",
      "cluster: 0 size: (551L,)\n",
      "\t RMS error (0 is perfect): 0.64\n",
      "\t coefficient of determination R^2 = -0.00 \n",
      "\t pearson correlation r = 0.00 \n",
      "3 sample predictions:  [-1.08004207 -1.08004207 -1.08004207]\n",
      "minutes we learned:  18\n",
      "pickled all models\n",
      "******************************\n"
     ]
    }
   ],
   "source": [
    "df = pd.read_csv('../all_data.csv', sep = '|', error_bad_lines=False, index_col=False, dtype='unicode')\n",
    "slope = pd.read_csv('../all_slope.csv', sep = '|', index_col=\"SubjectID\")\n",
    "slope.index = slope.index.astype(str)\n",
    "\n",
    "print \"*\"*30\n",
    "tick = datetime.now()\n",
    "\n",
    "all_feature_metadata, train_data_means, train_data_std, train_data_medians, train_data_mads, \\\n",
    "             bins, forest, best_features_per_cluster, model_per_cluster = train_it(df, slope, 4)\n",
    "clustering_model = {\"model\": forest, \"bins\": bins}\n",
    "\n",
    "tock = datetime.now()   \n",
    "diff = tock - tick \n",
    "print \"minutes we learned: \", diff.seconds / 60\n",
    "\n",
    "pickle.dump( all_feature_metadata, open('../all_feature_metadata.pickle', 'wb') )\n",
    "pickle.dump( train_data_means, open('../all_data_means.pickle', 'wb') )\n",
    "pickle.dump( train_data_std, open('../all_data_std.pickle', 'wb') )\n",
    "pickle.dump( train_data_medians, open('../all_data_medians.pickle', 'wb') )\n",
    "pickle.dump( train_data_mads, open('../all_data_mads.pickle', 'wb') )\n",
    "pickle.dump( clustering_model, open('../forest_clustering_model.pickle', 'wb') )\n",
    "pickle.dump( best_features_per_cluster, open(\"../best_features_per_cluster.pickle\", \"wb\"))\n",
    "pickle.dump( model_per_cluster, open(\"../model_per_cluster.pickle\", \"wb\"))\n",
    "\n",
    "print \"pickled all models\"\n",
    "print \"*\"*30\n"
   ]
  },
  {
   "cell_type": "code",
   "execution_count": null,
   "metadata": {
    "collapsed": true
   },
   "outputs": [],
   "source": []
  }
 ],
 "metadata": {
  "kernelspec": {
   "display_name": "Python 2",
   "language": "python",
   "name": "python2"
  },
  "language_info": {
   "codemirror_mode": {
    "name": "ipython",
    "version": 2
   },
   "file_extension": ".py",
   "mimetype": "text/x-python",
   "name": "python",
   "nbconvert_exporter": "python",
   "pygments_lexer": "ipython2",
   "version": "2.7.10"
  }
 },
 "nbformat": 4,
 "nbformat_minor": 0
}
