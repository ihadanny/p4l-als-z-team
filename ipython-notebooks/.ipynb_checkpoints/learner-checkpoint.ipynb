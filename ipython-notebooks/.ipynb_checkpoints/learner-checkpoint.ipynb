{
 "cells": [
  {
   "cell_type": "code",
   "execution_count": 3,
   "metadata": {
    "collapsed": true
   },
   "outputs": [],
   "source": [
    "import pandas as pd\n",
    "import numpy as np\n",
    "import pickle, cPickle\n",
    "from datetime import datetime\n",
    "\n",
    "from vectorizing_funcs import *\n",
    "from modeling_funcs import *\n"
   ]
  },
  {
   "cell_type": "code",
   "execution_count": 4,
   "metadata": {
    "collapsed": false
   },
   "outputs": [
    {
     "name": "stdout",
     "output_type": "stream",
     "text": [
      "******************************\n",
      "train_data:  (2205, 140) (2205, 1)\n",
      "train cluster cnt:  [441 441 441 441 441]\n",
      "cluster: 0 with size: (441, 141) with mean target: -1.137842504 std: 0.636828051656\n",
      "best we can do with all features: 0.628478518327\n",
      "adding best family: ('mouth', 0.62027428483982328) time: 1.70000004768\n",
      "adding best family: ('ALT(SGPT)', 0.6091178147815729) time: 2.41400003433\n",
      "adding best family: ('ALSFRS_Total', 0.60048950341085494) time: 3.4470000267\n",
      "adding best family: ('AST(SGOT)', 0.59556752357393694) time: 4.46499991417\n",
      "adding best family: ('temperature', 0.59067132687562851) time: 6.97500014305\n",
      "adding best family: ('respiratory', 0.58675834752786971) time: 7.6099998951\n",
      "cluster: 1 with size: (441, 141) with mean target: -0.812904894778 std: 0.556958359629\n",
      "best we can do with all features: 0.525298288836\n",
      "adding best family: ('Creatinine', 0.5437855435740504) time: 1.63400006294\n",
      "adding best family: ('pulse', 0.53442983235801278) time: 2.03900003433\n",
      "adding best family: ('Sodium', 0.52664107592906673) time: 2.632999897\n",
      "adding best family: ('temperature', 0.52030701680671354) time: 3.2009999752\n",
      "adding best family: ('fvc_percent', 0.51533563410909433) time: 3.75500011444\n",
      "adding best family: ('CK', 0.50990638754696627) time: 4.77900004387\n",
      "cluster: 2 with size: (441, 141) with mean target: -0.642349123814 std: 0.499178638499\n",
      "best we can do with all features: 0.481844642966\n",
      "adding best family: ('onset_delta', 0.48901519611606153) time: 1.6130001545\n",
      "adding best family: ('ALSFRS_Total', 0.48440423056474313) time: 1.49799990654\n",
      "adding best family: ('respiratory', 0.47769136058511696) time: 2.74199986458\n",
      "adding best family: ('Creatinine', 0.47472793697001159) time: 3.57999992371\n",
      "adding best family: ('Alkaline Phosphatase', 0.47083034407193386) time: 4.14100003242\n",
      "adding best family: ('weight', 0.46803348455370547) time: 4.83000016212\n",
      "cluster: 3 with size: (441, 141) with mean target: -0.500921335073 std: 0.420924192396\n",
      "best we can do with all features: 0.416981245654\n",
      "adding best family: ('Creatinine', 0.41485709393367809) time: 1.867000103\n",
      "adding best family: ('respiratory_rate', 0.41096791247024367) time: 2.27600002289\n",
      "adding best family: ('CK', 0.40361242681210208) time: 2.96700000763\n",
      "adding best family: ('weight', 0.39917970032963324) time: 4.0150001049\n",
      "adding best family: ('bp_diastolic', 0.39520313388012557) time: 22.9739999771\n",
      "adding best family: ('Protein', 0.39137280167157495) time: 28.0729999542\n",
      "cluster: 4 with size: (441, 141) with mean target: -0.312731444488 std: 0.358422040956\n",
      "best we can do with all features: 0.328819508929\n",
      "adding best family: ('Creatinine', 0.35065695400103497) time: 1.6139998436\n",
      "adding best family: ('pulse', 0.34647097741469096) time: 2.03999996185\n",
      "adding best family: ('Phosphorus', 0.34400807268183209) time: 2.60599994659\n",
      "adding best family: ('Glucose', 0.34066477716482885) time: 3.21099996567\n",
      "adding best family: ('respiratory', 0.33708098296726663) time: 3.53699994087\n",
      "adding best family: ('temperature', 0.33342344345909947) time: 4.24899983406\n",
      "best_features_per_cluster:  {0: ['respiratory', 'temperature', 'mouth', 'ALT(SGPT)', 'ALSFRS_Total', 'AST(SGOT)'], 1: ['CK', 'temperature', 'Sodium', 'pulse', 'Creatinine', 'fvc_percent'], 2: ['respiratory', 'weight', 'Alkaline Phosphatase', 'onset_delta', 'Creatinine', 'ALSFRS_Total'], 3: ['CK', 'weight', 'respiratory_rate', 'bp_diastolic', 'Protein', 'Creatinine'], 4: ['respiratory', 'temperature', 'pulse', 'Creatinine', 'Phosphorus', 'Glucose']}\n"
     ]
    },
    {
     "ename": "NameError",
     "evalue": "global name 'StringIO' is not defined",
     "output_type": "error",
     "traceback": [
      "\u001b[1;31m---------------------------------------------------------------------------\u001b[0m",
      "\u001b[1;31mNameError\u001b[0m                                 Traceback (most recent call last)",
      "\u001b[1;32m<ipython-input-4-95a994f36304>\u001b[0m in \u001b[0;36m<module>\u001b[1;34m()\u001b[0m\n\u001b[0;32m      6\u001b[0m \u001b[0mtick\u001b[0m \u001b[1;33m=\u001b[0m \u001b[0mdatetime\u001b[0m\u001b[1;33m.\u001b[0m\u001b[0mnow\u001b[0m\u001b[1;33m(\u001b[0m\u001b[1;33m)\u001b[0m\u001b[1;33m\u001b[0m\u001b[0m\n\u001b[0;32m      7\u001b[0m \u001b[1;33m\u001b[0m\u001b[0m\n\u001b[1;32m----> 8\u001b[1;33m \u001b[0mall_feature_metadata\u001b[0m\u001b[1;33m,\u001b[0m \u001b[0mtrain_data_means\u001b[0m\u001b[1;33m,\u001b[0m \u001b[0mtrain_data_std\u001b[0m\u001b[1;33m,\u001b[0m              \u001b[0mbins\u001b[0m\u001b[1;33m,\u001b[0m \u001b[0mforest\u001b[0m\u001b[1;33m,\u001b[0m \u001b[0mbest_features_per_cluster\u001b[0m\u001b[1;33m,\u001b[0m \u001b[0mmodel_per_cluster\u001b[0m \u001b[1;33m=\u001b[0m \u001b[0mtrain_it\u001b[0m\u001b[1;33m(\u001b[0m\u001b[0mdf\u001b[0m\u001b[1;33m,\u001b[0m \u001b[0mslope\u001b[0m\u001b[1;33m,\u001b[0m \u001b[1;36m5\u001b[0m\u001b[1;33m)\u001b[0m\u001b[1;33m\u001b[0m\u001b[0m\n\u001b[0m\u001b[0;32m      9\u001b[0m \u001b[0mclustering_model\u001b[0m \u001b[1;33m=\u001b[0m \u001b[1;33m{\u001b[0m\u001b[1;34m\"model\"\u001b[0m\u001b[1;33m:\u001b[0m \u001b[0mforest\u001b[0m\u001b[1;33m,\u001b[0m \u001b[1;34m\"bins\"\u001b[0m\u001b[1;33m:\u001b[0m \u001b[0mbins\u001b[0m\u001b[1;33m}\u001b[0m\u001b[1;33m\u001b[0m\u001b[0m\n\u001b[0;32m     10\u001b[0m \u001b[1;33m\u001b[0m\u001b[0m\n",
      "\u001b[1;32mc:\\src\\p4l-als-z-team\\ipython-notebooks\\modeling_funcs.py\u001b[0m in \u001b[0;36mtrain_it\u001b[1;34m(train_data, slope, my_n_clusters)\u001b[0m\n\u001b[0;32m    214\u001b[0m         \u001b[1;32mprint\u001b[0m \u001b[1;34m\"best_features_per_cluster: \"\u001b[0m\u001b[1;33m,\u001b[0m \u001b[0mbest_features_per_cluster\u001b[0m\u001b[1;33m\u001b[0m\u001b[0m\n\u001b[0;32m    215\u001b[0m         \u001b[0mbuf\u001b[0m \u001b[1;33m=\u001b[0m \u001b[0mfilter_only_selected_features\u001b[0m\u001b[1;33m(\u001b[0m\u001b[0mtrain_data\u001b[0m\u001b[1;33m.\u001b[0m\u001b[0mset_index\u001b[0m\u001b[1;33m(\u001b[0m\u001b[1;34m\"SubjectID\"\u001b[0m\u001b[1;33m)\u001b[0m\u001b[1;33m,\u001b[0m \u001b[0mclusters\u001b[0m\u001b[1;33m,\u001b[0m                                             \u001b[0mbest_features_per_cluster\u001b[0m\u001b[1;33m)\u001b[0m\u001b[1;33m\u001b[0m\u001b[0m\n\u001b[1;32m--> 216\u001b[1;33m \u001b[1;33m\u001b[0m\u001b[0m\n\u001b[0m\u001b[0;32m    217\u001b[0m         \u001b[0ms_df\u001b[0m \u001b[1;33m=\u001b[0m \u001b[0mpd\u001b[0m\u001b[1;33m.\u001b[0m\u001b[0mread_csv\u001b[0m\u001b[1;33m(\u001b[0m\u001b[0mStringIO\u001b[0m\u001b[1;33m(\u001b[0m\u001b[0mbuf\u001b[0m\u001b[1;33m)\u001b[0m\u001b[1;33m,\u001b[0m \u001b[0msep\u001b[0m\u001b[1;33m=\u001b[0m\u001b[1;34m'|'\u001b[0m\u001b[1;33m,\u001b[0m \u001b[0mindex_col\u001b[0m\u001b[1;33m=\u001b[0m\u001b[0mFalse\u001b[0m\u001b[1;33m,\u001b[0m \u001b[0mdtype\u001b[0m\u001b[1;33m=\u001b[0m\u001b[1;34m'unicode'\u001b[0m\u001b[1;33m)\u001b[0m\u001b[1;33m\u001b[0m\u001b[0m\n\u001b[0;32m    218\u001b[0m         \u001b[0ms_vectorized\u001b[0m\u001b[1;33m,\u001b[0m \u001b[0m_\u001b[0m \u001b[1;33m=\u001b[0m \u001b[0mvectorize\u001b[0m\u001b[1;33m(\u001b[0m\u001b[0ms_df\u001b[0m\u001b[1;33m,\u001b[0m \u001b[0mall_feature_metadata\u001b[0m\u001b[1;33m)\u001b[0m\u001b[1;33m\u001b[0m\u001b[0m\n",
      "\u001b[1;31mNameError\u001b[0m: global name 'StringIO' is not defined"
     ]
    }
   ],
   "source": [
    "df = pd.read_csv('../all_data.csv', sep = '|', error_bad_lines=False, index_col=False, dtype='unicode')\n",
    "slope = pd.read_csv('../all_slope.csv', sep = '|', index_col=\"SubjectID\")\n",
    "slope.index = slope.index.astype(str)\n",
    "\n",
    "print \"*\"*30\n",
    "tick = datetime.now()\n",
    "\n",
    "all_feature_metadata, train_data_means, train_data_std, train_data_medians, train_data_mads, \\\n",
    "             bins, forest, best_features_per_cluster, model_per_cluster = train_it(df, slope, 5)\n",
    "clustering_model = {\"model\": forest, \"bins\": bins}\n",
    "\n",
    "tock = datetime.now()   \n",
    "diff = tock - tick \n",
    "print \"minutes we learned: \", diff.seconds / 60\n",
    "\n",
    "pickle.dump( all_feature_metadata, open('../all_feature_metadata.pickle', 'wb') )\n",
    "pickle.dump( train_data_means, open('../all_data_means.pickle', 'wb') )\n",
    "pickle.dump( train_data_std, open('../all_data_std.pickle', 'wb') )\n",
    "pickle.dump( train_data_medians, open('../all_data_medians.pickle', 'wb') )\n",
    "pickle.dump( train_data_mads, open('../all_data_mads.pickle', 'wb') )\n",
    "pickle.dump( clustering_model, open('../forest_clustering_model.pickle', 'wb') )\n",
    "pickle.dump( best_features_per_cluster, open(\"../best_features_per_cluster.pickle\", \"wb\"))\n",
    "pickle.dump( model_per_cluster, open(\"../model_per_cluster.pickle\", \"wb\"))\n",
    "\n",
    "print \"pickled all models\"\n",
    "print \"*\"*30\n"
   ]
  },
  {
   "cell_type": "code",
   "execution_count": null,
   "metadata": {
    "collapsed": true
   },
   "outputs": [],
   "source": []
  }
 ],
 "metadata": {
  "kernelspec": {
   "display_name": "Python 2",
   "language": "python",
   "name": "python2"
  },
  "language_info": {
   "codemirror_mode": {
    "name": "ipython",
    "version": 2
   },
   "file_extension": ".py",
   "mimetype": "text/x-python",
   "name": "python",
   "nbconvert_exporter": "python",
   "pygments_lexer": "ipython2",
   "version": "2.7.10"
  }
 },
 "nbformat": 4,
 "nbformat_minor": 0
}
