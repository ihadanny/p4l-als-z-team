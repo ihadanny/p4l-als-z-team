{
 "cells": [
  {
   "cell_type": "code",
   "execution_count": 1,
   "metadata": {
    "collapsed": true
   },
   "outputs": [],
   "source": [
    "import pandas as pd\n",
    "import numpy as np\n",
    "import pickle, cPickle\n",
    "from datetime import datetime\n",
    "\n",
    "from vectorizing_funcs import *\n",
    "from modeling_funcs import *\n"
   ]
  },
  {
   "cell_type": "code",
   "execution_count": 2,
   "metadata": {
    "collapsed": false
   },
   "outputs": [
    {
     "name": "stdout",
     "output_type": "stream",
     "text": [
      "******************************\n"
     ]
    },
    {
     "ename": "NameError",
     "evalue": "global name 'slope' is not defined",
     "output_type": "error",
     "traceback": [
      "\u001b[1;31m---------------------------------------------------------------------------\u001b[0m",
      "\u001b[1;31mNameError\u001b[0m                                 Traceback (most recent call last)",
      "\u001b[1;32m<ipython-input-2-bbc2cb56a916>\u001b[0m in \u001b[0;36m<module>\u001b[1;34m()\u001b[0m\n\u001b[0;32m      3\u001b[0m \u001b[0mtick\u001b[0m \u001b[1;33m=\u001b[0m \u001b[0mdatetime\u001b[0m\u001b[1;33m.\u001b[0m\u001b[0mnow\u001b[0m\u001b[1;33m(\u001b[0m\u001b[1;33m)\u001b[0m\u001b[1;33m\u001b[0m\u001b[0m\n\u001b[0;32m      4\u001b[0m \u001b[1;33m\u001b[0m\u001b[0m\n\u001b[1;32m----> 5\u001b[1;33m \u001b[0mall_feature_metadata\u001b[0m\u001b[1;33m,\u001b[0m \u001b[0mtrain_data_means\u001b[0m\u001b[1;33m,\u001b[0m \u001b[0mtrain_data_std\u001b[0m\u001b[1;33m,\u001b[0m              \u001b[0mbins\u001b[0m\u001b[1;33m,\u001b[0m \u001b[0mforest\u001b[0m\u001b[1;33m,\u001b[0m \u001b[0mbest_features_per_cluster\u001b[0m\u001b[1;33m,\u001b[0m \u001b[0mmodel_per_cluster\u001b[0m \u001b[1;33m=\u001b[0m \u001b[0mtrain_it\u001b[0m\u001b[1;33m(\u001b[0m\u001b[0mdf\u001b[0m\u001b[1;33m,\u001b[0m \u001b[1;36m5\u001b[0m\u001b[1;33m)\u001b[0m\u001b[1;33m\u001b[0m\u001b[0m\n\u001b[0m\u001b[0;32m      6\u001b[0m \u001b[0mclustering_model\u001b[0m \u001b[1;33m=\u001b[0m \u001b[1;33m{\u001b[0m\u001b[1;34m\"model\"\u001b[0m\u001b[1;33m:\u001b[0m \u001b[0mforest\u001b[0m\u001b[1;33m,\u001b[0m \u001b[1;34m\"bins\"\u001b[0m\u001b[1;33m:\u001b[0m \u001b[0mbins\u001b[0m\u001b[1;33m}\u001b[0m\u001b[1;33m\u001b[0m\u001b[0m\n\u001b[0;32m      7\u001b[0m \u001b[1;33m\u001b[0m\u001b[0m\n",
      "\u001b[1;32mc:\\src\\p4l-als-z-team\\ipython-notebooks\\modeling_funcs.py\u001b[0m in \u001b[0;36mtrain_it\u001b[1;34m(train_data, my_n_clusters)\u001b[0m\n\u001b[0;32m    186\u001b[0m         \u001b[0mnormalized\u001b[0m\u001b[1;33m,\u001b[0m \u001b[0mall_feature_metadata\u001b[0m \u001b[1;33m=\u001b[0m \u001b[0mnormalize\u001b[0m\u001b[1;33m(\u001b[0m\u001b[0mvectorized\u001b[0m\u001b[1;33m,\u001b[0m \u001b[0mall_feature_metadata\u001b[0m\u001b[1;33m,\u001b[0m \u001b[0mtrain_data_means\u001b[0m\u001b[1;33m,\u001b[0m \u001b[0mtrain_data_std\u001b[0m\u001b[1;33m)\u001b[0m\u001b[1;33m\u001b[0m\u001b[0m\n\u001b[0;32m    187\u001b[0m \u001b[1;33m\u001b[0m\u001b[0m\n\u001b[1;32m--> 188\u001b[1;33m         \u001b[0meverybody\u001b[0m \u001b[1;33m=\u001b[0m \u001b[0mnormalized\u001b[0m\u001b[1;33m.\u001b[0m\u001b[0mjoin\u001b[0m\u001b[1;33m(\u001b[0m\u001b[0mslope\u001b[0m\u001b[1;33m)\u001b[0m\u001b[1;33m\u001b[0m\u001b[0m\n\u001b[0m\u001b[0;32m    189\u001b[0m         \u001b[0mX\u001b[0m \u001b[1;33m=\u001b[0m \u001b[0meverybody\u001b[0m\u001b[1;33m.\u001b[0m\u001b[0mdrop\u001b[0m\u001b[1;33m(\u001b[0m\u001b[1;33m[\u001b[0m\u001b[1;34m'ALSFRS_slope'\u001b[0m\u001b[1;33m]\u001b[0m\u001b[1;33m,\u001b[0m \u001b[1;36m1\u001b[0m\u001b[1;33m)\u001b[0m\u001b[1;33m\u001b[0m\u001b[0m\n\u001b[0;32m    190\u001b[0m         \u001b[0mY\u001b[0m \u001b[1;33m=\u001b[0m \u001b[0meverybody\u001b[0m\u001b[1;33m[\u001b[0m\u001b[1;33m[\u001b[0m\u001b[1;34m'ALSFRS_slope'\u001b[0m\u001b[1;33m]\u001b[0m\u001b[1;33m]\u001b[0m\u001b[1;33m\u001b[0m\u001b[0m\n",
      "\u001b[1;31mNameError\u001b[0m: global name 'slope' is not defined"
     ]
    }
   ],
   "source": [
    "df = pd.read_csv('../all_data.csv', sep = '|', error_bad_lines=False, index_col=False, dtype='unicode')\n",
    "slope = pd.read_csv('../all_slope.csv', sep = '|', index_col=\"SubjectID\")\n",
    "slope.index = slope.index.astype(str)\n",
    "\n",
    "print \"*\"*30\n",
    "tick = datetime.now()\n",
    "\n",
    "all_feature_metadata, train_data_means, train_data_std, \\\n",
    "             bins, forest, best_features_per_cluster, model_per_cluster = train_it(df, slope, 5)\n",
    "clustering_model = {\"model\": forest, \"bins\": bins}\n",
    "\n",
    "tock = datetime.now()   \n",
    "diff = tock - tick \n",
    "print \"minutes we learned: \", diff.seconds / 60\n",
    "\n",
    "pickle.dump( all_feature_metadata, open('../all_feature_metadata.pickle', 'wb') )\n",
    "pickle.dump( train_data_means, open('../all_data_means.pickle', 'wb') )\n",
    "pickle.dump( train_data_std, open('../all_data_std.pickle', 'wb') )\n",
    "pickle.dump( clustering_model, open('../forest_clustering_model.pickle', 'wb') )\n",
    "pickle.dump( best_features_per_cluster, open(\"../best_features_per_cluster.pickle\", \"wb\"))\n",
    "pickle.dump( model_per_cluster, open(\"../model_per_cluster.pickle\", \"wb\"))\n",
    "\n",
    "print \"pickled all models\"\n",
    "print \"*\"*30\n"
   ]
  },
  {
   "cell_type": "code",
   "execution_count": null,
   "metadata": {
    "collapsed": true
   },
   "outputs": [],
   "source": []
  }
 ],
 "metadata": {
  "kernelspec": {
   "display_name": "Python 2",
   "language": "python",
   "name": "python2"
  },
  "language_info": {
   "codemirror_mode": {
    "name": "ipython",
    "version": 2
   },
   "file_extension": ".py",
   "mimetype": "text/x-python",
   "name": "python",
   "nbconvert_exporter": "python",
   "pygments_lexer": "ipython2",
   "version": "2.7.10"
  }
 },
 "nbformat": 4,
 "nbformat_minor": 0
}
