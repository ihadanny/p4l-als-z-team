{
 "cells": [
  {
   "cell_type": "code",
   "execution_count": 2,
   "metadata": {
    "collapsed": true
   },
   "outputs": [],
   "source": [
    "import pandas as pd\n",
    "import numpy as np\n",
    "import pickle, cPickle\n",
    "from datetime import datetime\n",
    "\n",
    "from vectorizing_funcs import *\n",
    "from modeling_funcs import *\n"
   ]
  },
  {
   "cell_type": "code",
   "execution_count": null,
   "metadata": {
    "collapsed": false
   },
   "outputs": [
    {
     "name": "stdout",
     "output_type": "stream",
     "text": [
      "******************************\n",
      "train_data:  (2382, 130) (2382, 1)\n",
      "train cluster cnt:  [477 476 476 476 477]\n",
      "cluster: 0 with size: (477, 131) with mean target: -1.12849739541 std: 0.646545768581\n",
      "best we can do with all features: 0.616918882287\n",
      "using model: RandomForestRegressor(bootstrap=True, criterion='mse', max_depth=None,\n",
      "           max_features='auto', max_leaf_nodes=None, min_samples_leaf=60,\n",
      "           min_samples_split=2, min_weight_fraction_leaf=0.0,\n",
      "           n_estimators=1000, n_jobs=1, oob_score=False, random_state=0,\n",
      "           verbose=0, warm_start=False)\n",
      "adding best family: ('ALSFRS_Total', 0.63217335999505897) time: 20.9000000954\n",
      "adding best family: ('Blood Urea Nitrogen (BUN)', 0.62734740869986272) time: 25.8729999065\n",
      "adding best family: ('bp_systolic', 0.62407309882070849) time: 29.8509998322\n",
      "adding best family: ('Sodium', 0.62249081960868957) time: 33.0949997902\n",
      "adding best family: ('Creatinine', 0.62123047577428003) time: 35.6159999371\n",
      "adding best family: ('Potassium', 0.62029802176873794) time: 41.2740001678\n",
      "cluster: 1 with size: (476, 131) with mean target: -0.781476653702 std: 0.560380832526\n",
      "best we can do with all features: 0.529796027272\n",
      "using model: RandomForestRegressor(bootstrap=True, criterion='mse', max_depth=None,\n",
      "           max_features='auto', max_leaf_nodes=None, min_samples_leaf=60,\n",
      "           min_samples_split=2, min_weight_fraction_leaf=0.0,\n",
      "           n_estimators=1000, n_jobs=1, oob_score=False, random_state=0,\n",
      "           verbose=0, warm_start=False)\n",
      "adding best family: ('weight', 0.54764354551968342) time: 21.8209998608\n",
      "adding best family: ('onset_delta', 0.541748965742612) time: 27.6779999733\n",
      "adding best family: ('ALT(SGPT)', 0.53788140027473541) time: 26.4900000095\n",
      "adding best family: ('Glucose', 0.5360518418956548) time: 30.1050000191\n",
      "adding best family: ('Alkaline Phosphatase', 0.53472612631642447) time: 33.8090000153\n",
      "adding best family: ('fvc_percent', 0.53377233865630058) time: 36.3220000267\n",
      "cluster: 2 with size: (476, 131) with mean target: -0.703790253575 std: 0.505200895233\n",
      "best we can do with all features: 0.461431602781\n",
      "using model: RandomForestRegressor(bootstrap=True, criterion='mse', max_depth=None,\n",
      "           max_features='auto', max_leaf_nodes=None, min_samples_leaf=60,\n",
      "           min_samples_split=2, min_weight_fraction_leaf=0.0,\n",
      "           n_estimators=1000, n_jobs=1, oob_score=False, random_state=0,\n",
      "           verbose=0, warm_start=False)\n",
      "adding best family: ('onset_delta', 0.47291799201527845) time: 19.5930001736\n",
      "adding best family: ('Creatinine', 0.466243353565929) time: 23.5130000114\n",
      "adding best family: ('hands', 0.46383415371248854) time: 27.2150001526\n",
      "adding best family: ('weight', 0.46229002908155115) time: 29.2189998627\n",
      "adding best family:"
     ]
    }
   ],
   "source": [
    "tr_data = pd.read_csv('../all_data.csv', sep = '|', error_bad_lines=False, index_col=False, dtype='unicode')\n",
    "tr_slope = pd.read_csv('../all_slope.csv', sep = '|', index_col=\"SubjectID\")\n",
    "\n",
    "test_data = pd.read_csv('../all_forms_validate_leader.txt', sep = '|', error_bad_lines=False, index_col=False, dtype='unicode')\n",
    "test_slope = pd.read_csv('../ALSFRS_slope_validate_leader2.txt', sep = '|', index_col=\"SubjectID\")\n",
    "\n",
    "df = pd.concat([tr_data, test_data])\n",
    "slope = pd.concat([tr_slope, test_slope])\n",
    "\n",
    "slope.index = slope.index.astype(str)\n",
    "\n",
    "print \"*\"*30\n",
    "tick = datetime.now()\n",
    "\n",
    "all_feature_metadata, train_data_means, train_data_std, train_data_medians, train_data_mads, \\\n",
    "             bins, forest, best_features_per_cluster, model_per_cluster = train_it(df, slope, 5)\n",
    "clustering_model = {\"model\": forest, \"bins\": bins}\n",
    "\n",
    "tock = datetime.now()   \n",
    "diff = tock - tick \n",
    "print \"minutes we learned: \", diff.seconds / 60\n",
    "\n",
    "pickle.dump( all_feature_metadata, open('../all_feature_metadata.pickle', 'wb') )\n",
    "pickle.dump( train_data_means, open('../all_data_means.pickle', 'wb') )\n",
    "pickle.dump( train_data_std, open('../all_data_std.pickle', 'wb') )\n",
    "pickle.dump( train_data_medians, open('../all_data_medians.pickle', 'wb') )\n",
    "pickle.dump( train_data_mads, open('../all_data_mads.pickle', 'wb') )\n",
    "pickle.dump( clustering_model, open('../forest_clustering_model.pickle', 'wb') )\n",
    "pickle.dump( best_features_per_cluster, open(\"../best_features_per_cluster.pickle\", \"wb\"))\n",
    "pickle.dump( model_per_cluster, open(\"../model_per_cluster.pickle\", \"wb\"))\n",
    "\n",
    "print \"pickled all models\"\n",
    "print \"*\"*30\n"
   ]
  },
  {
   "cell_type": "code",
   "execution_count": null,
   "metadata": {
    "collapsed": true
   },
   "outputs": [],
   "source": []
  }
 ],
 "metadata": {
  "kernelspec": {
   "display_name": "Python 2",
   "language": "python",
   "name": "python2"
  },
  "language_info": {
   "codemirror_mode": {
    "name": "ipython",
    "version": 2
   },
   "file_extension": ".py",
   "mimetype": "text/x-python",
   "name": "python",
   "nbconvert_exporter": "python",
   "pygments_lexer": "ipython2",
   "version": "2.7.10"
  }
 },
 "nbformat": 4,
 "nbformat_minor": 0
}
