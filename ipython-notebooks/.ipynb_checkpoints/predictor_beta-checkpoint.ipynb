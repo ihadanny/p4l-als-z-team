{
 "cells": [
  {
   "cell_type": "markdown",
   "metadata": {
    "collapsed": true
   },
   "source": [
    "# Used for predicting ALSFRS_slope\n",
    "see https://www.synapse.org/#!Synapse:syn2873386/wiki/ .\n",
    "We assumed data is vectorized + clustered + 6 features were selected"
   ]
  },
  {
   "cell_type": "code",
   "execution_count": 63,
   "metadata": {
    "collapsed": false
   },
   "outputs": [],
   "source": [
    "import pandas as pd\n",
    "import numpy as np\n",
    "import pickle\n",
    "from sklearn import linear_model\n",
    "from vectorizing_funcs import *"
   ]
  },
  {
   "cell_type": "markdown",
   "metadata": {},
   "source": [
    "## Revectorize the selected data\n",
    "We now reload the metadata and the 6 attributes selected per cluster"
   ]
  },
  {
   "cell_type": "code",
   "execution_count": 64,
   "metadata": {
    "collapsed": false
   },
   "outputs": [
    {
     "name": "stdout",
     "output_type": "stream",
     "text": [
      "(1777, 62)\n"
     ]
    },
    {
     "data": {
      "text/html": [
       "<div>\n",
       "<table border=\"1\" class=\"dataframe\">\n",
       "  <thead>\n",
       "    <tr style=\"text-align: right;\">\n",
       "      <th></th>\n",
       "      <th>family_ALS_hist_last</th>\n",
       "      <th>weight_mean</th>\n",
       "      <th>weight_median</th>\n",
       "      <th>weight_std</th>\n",
       "      <th>weight_pct_diff</th>\n",
       "      <th>weight_mean_slope</th>\n",
       "      <th>F</th>\n",
       "      <th>M</th>\n",
       "      <th>Age_last</th>\n",
       "      <th>respiratory_rate_mean</th>\n",
       "      <th>...</th>\n",
       "      <th>bp_diastolic_std</th>\n",
       "      <th>bp_diastolic_pct_diff</th>\n",
       "      <th>bp_diastolic_mean_slope</th>\n",
       "      <th>Creatinine_mean</th>\n",
       "      <th>Creatinine_median</th>\n",
       "      <th>Creatinine_std</th>\n",
       "      <th>Creatinine_pct_diff</th>\n",
       "      <th>Creatinine_last</th>\n",
       "      <th>Creatinine_mean_slope</th>\n",
       "      <th>fvc_percent_pct_diff</th>\n",
       "    </tr>\n",
       "    <tr>\n",
       "      <th>SubjectID</th>\n",
       "      <th></th>\n",
       "      <th></th>\n",
       "      <th></th>\n",
       "      <th></th>\n",
       "      <th></th>\n",
       "      <th></th>\n",
       "      <th></th>\n",
       "      <th></th>\n",
       "      <th></th>\n",
       "      <th></th>\n",
       "      <th></th>\n",
       "      <th></th>\n",
       "      <th></th>\n",
       "      <th></th>\n",
       "      <th></th>\n",
       "      <th></th>\n",
       "      <th></th>\n",
       "      <th></th>\n",
       "      <th></th>\n",
       "      <th></th>\n",
       "      <th></th>\n",
       "    </tr>\n",
       "  </thead>\n",
       "  <tbody>\n",
       "    <tr>\n",
       "      <th>649</th>\n",
       "      <td>0</td>\n",
       "      <td>0</td>\n",
       "      <td>0</td>\n",
       "      <td>0</td>\n",
       "      <td>0</td>\n",
       "      <td>0</td>\n",
       "      <td>1.322796</td>\n",
       "      <td>-1.322796</td>\n",
       "      <td>-0.558473</td>\n",
       "      <td>0</td>\n",
       "      <td>...</td>\n",
       "      <td>0</td>\n",
       "      <td>0</td>\n",
       "      <td>0</td>\n",
       "      <td>0</td>\n",
       "      <td>0</td>\n",
       "      <td>0</td>\n",
       "      <td>0</td>\n",
       "      <td>0</td>\n",
       "      <td>0</td>\n",
       "      <td>-0.037980</td>\n",
       "    </tr>\n",
       "    <tr>\n",
       "      <th>2492</th>\n",
       "      <td>0</td>\n",
       "      <td>0</td>\n",
       "      <td>0</td>\n",
       "      <td>0</td>\n",
       "      <td>0</td>\n",
       "      <td>0</td>\n",
       "      <td>-0.755549</td>\n",
       "      <td>0.755549</td>\n",
       "      <td>0.764854</td>\n",
       "      <td>0</td>\n",
       "      <td>...</td>\n",
       "      <td>0</td>\n",
       "      <td>0</td>\n",
       "      <td>0</td>\n",
       "      <td>0</td>\n",
       "      <td>0</td>\n",
       "      <td>0</td>\n",
       "      <td>0</td>\n",
       "      <td>0</td>\n",
       "      <td>0</td>\n",
       "      <td>-0.361454</td>\n",
       "    </tr>\n",
       "    <tr>\n",
       "      <th>3085</th>\n",
       "      <td>0</td>\n",
       "      <td>0</td>\n",
       "      <td>0</td>\n",
       "      <td>0</td>\n",
       "      <td>0</td>\n",
       "      <td>0</td>\n",
       "      <td>-0.755549</td>\n",
       "      <td>0.755549</td>\n",
       "      <td>-1.617135</td>\n",
       "      <td>0</td>\n",
       "      <td>...</td>\n",
       "      <td>0</td>\n",
       "      <td>0</td>\n",
       "      <td>0</td>\n",
       "      <td>0</td>\n",
       "      <td>0</td>\n",
       "      <td>0</td>\n",
       "      <td>0</td>\n",
       "      <td>0</td>\n",
       "      <td>0</td>\n",
       "      <td>0.185905</td>\n",
       "    </tr>\n",
       "    <tr>\n",
       "      <th>3551</th>\n",
       "      <td>0</td>\n",
       "      <td>0</td>\n",
       "      <td>0</td>\n",
       "      <td>0</td>\n",
       "      <td>0</td>\n",
       "      <td>0</td>\n",
       "      <td>-0.755549</td>\n",
       "      <td>0.755549</td>\n",
       "      <td>0.059079</td>\n",
       "      <td>0</td>\n",
       "      <td>...</td>\n",
       "      <td>0</td>\n",
       "      <td>0</td>\n",
       "      <td>0</td>\n",
       "      <td>0</td>\n",
       "      <td>0</td>\n",
       "      <td>0</td>\n",
       "      <td>0</td>\n",
       "      <td>0</td>\n",
       "      <td>0</td>\n",
       "      <td>0.230714</td>\n",
       "    </tr>\n",
       "    <tr>\n",
       "      <th>4390</th>\n",
       "      <td>0</td>\n",
       "      <td>0</td>\n",
       "      <td>0</td>\n",
       "      <td>0</td>\n",
       "      <td>0</td>\n",
       "      <td>0</td>\n",
       "      <td>-0.755549</td>\n",
       "      <td>0.755549</td>\n",
       "      <td>-1.528913</td>\n",
       "      <td>0</td>\n",
       "      <td>...</td>\n",
       "      <td>0</td>\n",
       "      <td>0</td>\n",
       "      <td>0</td>\n",
       "      <td>0</td>\n",
       "      <td>0</td>\n",
       "      <td>0</td>\n",
       "      <td>0</td>\n",
       "      <td>0</td>\n",
       "      <td>0</td>\n",
       "      <td>0.253000</td>\n",
       "    </tr>\n",
       "  </tbody>\n",
       "</table>\n",
       "<p>5 rows × 62 columns</p>\n",
       "</div>"
      ],
      "text/plain": [
       "           family_ALS_hist_last  weight_mean  weight_median  weight_std  \\\n",
       "SubjectID                                                                 \n",
       "649                           0            0              0           0   \n",
       "2492                          0            0              0           0   \n",
       "3085                          0            0              0           0   \n",
       "3551                          0            0              0           0   \n",
       "4390                          0            0              0           0   \n",
       "\n",
       "           weight_pct_diff  weight_mean_slope         F         M  Age_last  \\\n",
       "SubjectID                                                                     \n",
       "649                      0                  0  1.322796 -1.322796 -0.558473   \n",
       "2492                     0                  0 -0.755549  0.755549  0.764854   \n",
       "3085                     0                  0 -0.755549  0.755549 -1.617135   \n",
       "3551                     0                  0 -0.755549  0.755549  0.059079   \n",
       "4390                     0                  0 -0.755549  0.755549 -1.528913   \n",
       "\n",
       "           respiratory_rate_mean          ...           bp_diastolic_std  \\\n",
       "SubjectID                                 ...                              \n",
       "649                            0          ...                          0   \n",
       "2492                           0          ...                          0   \n",
       "3085                           0          ...                          0   \n",
       "3551                           0          ...                          0   \n",
       "4390                           0          ...                          0   \n",
       "\n",
       "           bp_diastolic_pct_diff  bp_diastolic_mean_slope  Creatinine_mean  \\\n",
       "SubjectID                                                                    \n",
       "649                            0                        0                0   \n",
       "2492                           0                        0                0   \n",
       "3085                           0                        0                0   \n",
       "3551                           0                        0                0   \n",
       "4390                           0                        0                0   \n",
       "\n",
       "           Creatinine_median  Creatinine_std  Creatinine_pct_diff  \\\n",
       "SubjectID                                                           \n",
       "649                        0               0                    0   \n",
       "2492                       0               0                    0   \n",
       "3085                       0               0                    0   \n",
       "3551                       0               0                    0   \n",
       "4390                       0               0                    0   \n",
       "\n",
       "           Creatinine_last  Creatinine_mean_slope  fvc_percent_pct_diff  \n",
       "SubjectID                                                                \n",
       "649                      0                      0             -0.037980  \n",
       "2492                     0                      0             -0.361454  \n",
       "3085                     0                      0              0.185905  \n",
       "3551                     0                      0              0.230714  \n",
       "4390                     0                      0              0.253000  \n",
       "\n",
       "[5 rows x 62 columns]"
      ]
     },
     "execution_count": 64,
     "metadata": {},
     "output_type": "execute_result"
    }
   ],
   "source": [
    "all_feature_metadata = pickle.load( open('../all_feature_metadata.pickle', 'rb') )\n",
    "train_data_means = pickle.load( open('../train_data_means.pickle', 'rb') )\n",
    "train_data_std = pickle.load( open('../train_data_std.pickle', 'rb') )\n",
    "best_features_per_cluster = pickle.load( open('../best_features_per_cluster.pickle', 'rb') )\n",
    "\n",
    "\n",
    "df = pd.read_csv('../train_data_selected.csv', sep='|', index_col=False)\n",
    "vectorized, _ = vectorize(df, all_feature_metadata)\n",
    "normalized, _ = normalize(vectorized, all_feature_metadata, train_data_means, train_data_std)\n",
    "print normalized.shape\n",
    "normalized.head()"
   ]
  },
  {
   "cell_type": "code",
   "execution_count": 65,
   "metadata": {
    "collapsed": false
   },
   "outputs": [
    {
     "name": "stdout",
     "output_type": "stream",
     "text": [
      "(1777, 2) (1777, 63) (1777, 1)\n"
     ]
    }
   ],
   "source": [
    "slope = pd.read_csv('../train_slope.csv', sep = '|', index_col=\"SubjectID\")\n",
    "clusters = pd.read_csv('../train_kmeans_clusters.csv', sep = '|', index_col=\"SubjectID\")\n",
    "\n",
    "X = normalized.join(clusters)\n",
    "Y = slope.join(clusters)\n",
    "\n",
    "print Y.shape, X.shape, clusters.shape"
   ]
  },
  {
   "cell_type": "markdown",
   "metadata": {},
   "source": [
    "## Train a prediction model per cluster"
   ]
  },
  {
   "cell_type": "code",
   "execution_count": 66,
   "metadata": {
    "collapsed": false
   },
   "outputs": [
    {
     "name": "stdout",
     "output_type": "stream",
     "text": [
      "cluster: 2 size: (622L,)\n",
      "Mean square error (0 is perfect): 0.40\n",
      "Explained variance score (1 is perfect): 0.01\n",
      "\n",
      "cluster: 0 size: (617L,)\n",
      "Mean square error (0 is perfect): 0.42\n",
      "Explained variance score (1 is perfect): 0.01\n",
      "\n",
      "cluster: 1 size: (538L,)\n",
      "Mean square error (0 is perfect): 0.33\n",
      "Explained variance score (1 is perfect): 0.03\n",
      "\n"
     ]
    }
   ],
   "source": [
    "model_per_cluster = {}\n",
    "\n",
    "for c in clusters.cluster.unique():    \n",
    "    X_cluster = X[X.cluster==c]\n",
    "    Y_cluster = Y[Y.cluster == c].ALSFRS_slope\n",
    "    regr = linear_model.LinearRegression()\n",
    "    regr.fit(X_cluster, Y_cluster)\n",
    "\n",
    "    print 'cluster: %d size: %s' % (c, Y_cluster.shape)\n",
    "    print \"Mean square error (0 is perfect): %.2f\" % np.mean(\n",
    "        (regr.predict(X_cluster) - Y_cluster) ** 2)\n",
    "    print('Explained variance score (1 is perfect): %.2f' % regr.score(X_cluster, Y_cluster))\n",
    "    print \"\"\n",
    "    model_per_cluster[c] = {\"train_data_means\": X_cluster.mean(), \"model\" : regr}\n",
    "    \n",
    "    "
   ]
  },
  {
   "cell_type": "code",
   "execution_count": 67,
   "metadata": {
    "collapsed": true
   },
   "outputs": [],
   "source": [
    "with open(\"../model_per_cluster.pickle\", \"wb\") as output_file:\n",
    "    pickle.dump(model_per_cluster, output_file)\n"
   ]
  },
  {
   "cell_type": "markdown",
   "metadata": {},
   "source": [
    "## Apply the model on both `train` and `test`"
   ]
  },
  {
   "cell_type": "code",
   "execution_count": 68,
   "metadata": {
    "collapsed": false,
    "scrolled": false
   },
   "outputs": [
    {
     "data": {
      "text/html": [
       "<div>\n",
       "<table border=\"1\" class=\"dataframe\">\n",
       "  <thead>\n",
       "    <tr style=\"text-align: right;\">\n",
       "      <th></th>\n",
       "      <th>cluster</th>\n",
       "      <th>features_list</th>\n",
       "      <th>prediction</th>\n",
       "    </tr>\n",
       "    <tr>\n",
       "      <th>SubjectID</th>\n",
       "      <th></th>\n",
       "      <th></th>\n",
       "      <th></th>\n",
       "    </tr>\n",
       "  </thead>\n",
       "  <tbody>\n",
       "    <tr>\n",
       "      <th>750059</th>\n",
       "      <td>0</td>\n",
       "      <td>Age;BMI;Gender;family_ALS_hist;fvc_percent;height</td>\n",
       "      <td>-0.855838</td>\n",
       "    </tr>\n",
       "    <tr>\n",
       "      <th>750195</th>\n",
       "      <td>0</td>\n",
       "      <td>Age;BMI;Gender;family_ALS_hist;fvc_percent;height</td>\n",
       "      <td>-0.756017</td>\n",
       "    </tr>\n",
       "    <tr>\n",
       "      <th>750406</th>\n",
       "      <td>0</td>\n",
       "      <td>Age;BMI;Gender;family_ALS_hist;fvc_percent;height</td>\n",
       "      <td>-0.571112</td>\n",
       "    </tr>\n",
       "    <tr>\n",
       "      <th>755652</th>\n",
       "      <td>0</td>\n",
       "      <td>Age;BMI;Gender;family_ALS_hist;fvc_percent;height</td>\n",
       "      <td>-0.628712</td>\n",
       "    </tr>\n",
       "    <tr>\n",
       "      <th>756895</th>\n",
       "      <td>0</td>\n",
       "      <td>Age;BMI;Gender;family_ALS_hist;fvc_percent;height</td>\n",
       "      <td>-0.728397</td>\n",
       "    </tr>\n",
       "  </tbody>\n",
       "</table>\n",
       "</div>"
      ],
      "text/plain": [
       "           cluster                                      features_list  \\\n",
       "SubjectID                                                               \n",
       "750059           0  Age;BMI;Gender;family_ALS_hist;fvc_percent;height   \n",
       "750195           0  Age;BMI;Gender;family_ALS_hist;fvc_percent;height   \n",
       "750406           0  Age;BMI;Gender;family_ALS_hist;fvc_percent;height   \n",
       "755652           0  Age;BMI;Gender;family_ALS_hist;fvc_percent;height   \n",
       "756895           0  Age;BMI;Gender;family_ALS_hist;fvc_percent;height   \n",
       "\n",
       "           prediction  \n",
       "SubjectID              \n",
       "750059      -0.855838  \n",
       "750195      -0.756017  \n",
       "750406      -0.571112  \n",
       "755652      -0.628712  \n",
       "756895      -0.728397  "
      ]
     },
     "execution_count": 68,
     "metadata": {},
     "output_type": "execute_result"
    }
   ],
   "source": [
    "def calc(x):\n",
    "    c = x['cluster']\n",
    "    model = model_per_cluster[c]['model']\n",
    "    pred = float(model.predict(x))\n",
    "    return pd.Series({'SubjectID': int(x.name), 'prediction':pred, 'cluster': int(c), 'features_list': \";\".join(best_features_per_cluster[c])})\n",
    "\n",
    "for t in ['train', 'test']:\n",
    "    df = pd.read_csv('../' + t + '_data_selected.csv', sep='|', index_col=False)\n",
    "    vectorized, _ = vectorize(df, all_feature_metadata)\n",
    "    normalized, _ = normalize(vectorized, all_feature_metadata, train_data_means, train_data_std)\n",
    "    \n",
    "    clusters = pd.read_csv('../' + t + '_kmeans_clusters.csv', sep = '|', index_col=0)\n",
    "    X = normalized.join(clusters)\n",
    "    pred = X.apply(calc, axis = 1)\n",
    "    pred = pred.set_index('SubjectID')\n",
    "    pred.to_csv('../' + t + '_prediction.csv',sep='|')\n",
    "\n",
    "pred.head()"
   ]
  },
  {
   "cell_type": "code",
   "execution_count": null,
   "metadata": {
    "collapsed": true
   },
   "outputs": [],
   "source": []
  }
 ],
 "metadata": {
  "kernelspec": {
   "display_name": "Python 2",
   "language": "python",
   "name": "python2"
  },
  "language_info": {
   "codemirror_mode": {
    "name": "ipython",
    "version": 2
   },
   "file_extension": ".py",
   "mimetype": "text/x-python",
   "name": "python",
   "nbconvert_exporter": "python",
   "pygments_lexer": "ipython2",
   "version": "2.7.10"
  }
 },
 "nbformat": 4,
 "nbformat_minor": 0
}
