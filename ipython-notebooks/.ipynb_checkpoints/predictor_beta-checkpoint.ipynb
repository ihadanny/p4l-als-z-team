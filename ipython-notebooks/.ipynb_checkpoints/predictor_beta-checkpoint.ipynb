{
 "cells": [
  {
   "cell_type": "code",
   "execution_count": 1,
   "metadata": {
    "collapsed": true
   },
   "outputs": [],
   "source": [
    "# Used for predicting ALSFRS_slope (see https://www.synapse.org/#!Synapse:syn2873386/wiki/)\n",
    "# Assumed data is vectorized + clustered + 6 features were selected"
   ]
  },
  {
   "cell_type": "code",
   "execution_count": 11,
   "metadata": {
    "collapsed": false
   },
   "outputs": [],
   "source": [
    "import pandas as pd\n",
    "import numpy as np\n",
    "from sklearn import linear_model"
   ]
  },
  {
   "cell_type": "code",
   "execution_count": 12,
   "metadata": {
    "collapsed": false
   },
   "outputs": [
    {
     "data": {
      "text/html": [
       "<div>\n",
       "<table border=\"1\" class=\"dataframe\">\n",
       "  <thead>\n",
       "    <tr style=\"text-align: right;\">\n",
       "      <th></th>\n",
       "      <th>cluster</th>\n",
       "      <th>feature_ 0</th>\n",
       "      <th>feature_ 1</th>\n",
       "      <th>feature_ 2</th>\n",
       "      <th>feature_ 3</th>\n",
       "      <th>feature_ 4</th>\n",
       "      <th>feature_ 5</th>\n",
       "      <th>ALSFRS_slope</th>\n",
       "    </tr>\n",
       "  </thead>\n",
       "  <tbody>\n",
       "    <tr>\n",
       "      <th>count</th>\n",
       "      <td>1638.000000</td>\n",
       "      <td>1638.000000</td>\n",
       "      <td>1638.000000</td>\n",
       "      <td>1638.000000</td>\n",
       "      <td>1638.000000</td>\n",
       "      <td>1638.000000</td>\n",
       "      <td>1638.000000</td>\n",
       "      <td>1638.000000</td>\n",
       "    </tr>\n",
       "    <tr>\n",
       "      <th>mean</th>\n",
       "      <td>0.278388</td>\n",
       "      <td>-0.102838</td>\n",
       "      <td>0.105069</td>\n",
       "      <td>0.021381</td>\n",
       "      <td>0.360806</td>\n",
       "      <td>0.007937</td>\n",
       "      <td>0.695360</td>\n",
       "      <td>-0.727138</td>\n",
       "    </tr>\n",
       "    <tr>\n",
       "      <th>std</th>\n",
       "      <td>0.456444</td>\n",
       "      <td>0.455591</td>\n",
       "      <td>0.328320</td>\n",
       "      <td>0.297436</td>\n",
       "      <td>0.480381</td>\n",
       "      <td>0.088760</td>\n",
       "      <td>0.460395</td>\n",
       "      <td>0.630951</td>\n",
       "    </tr>\n",
       "    <tr>\n",
       "      <th>min</th>\n",
       "      <td>0.000000</td>\n",
       "      <td>-2.799735</td>\n",
       "      <td>-0.485507</td>\n",
       "      <td>-1.733494</td>\n",
       "      <td>0.000000</td>\n",
       "      <td>0.000000</td>\n",
       "      <td>0.000000</td>\n",
       "      <td>-4.055556</td>\n",
       "    </tr>\n",
       "    <tr>\n",
       "      <th>25%</th>\n",
       "      <td>0.000000</td>\n",
       "      <td>-0.269485</td>\n",
       "      <td>-0.042585</td>\n",
       "      <td>-0.073100</td>\n",
       "      <td>0.000000</td>\n",
       "      <td>0.000000</td>\n",
       "      <td>0.000000</td>\n",
       "      <td>-1.086310</td>\n",
       "    </tr>\n",
       "    <tr>\n",
       "      <th>50%</th>\n",
       "      <td>0.000000</td>\n",
       "      <td>-0.014956</td>\n",
       "      <td>0.000250</td>\n",
       "      <td>0.010061</td>\n",
       "      <td>0.000000</td>\n",
       "      <td>0.000000</td>\n",
       "      <td>1.000000</td>\n",
       "      <td>-0.620748</td>\n",
       "    </tr>\n",
       "    <tr>\n",
       "      <th>75%</th>\n",
       "      <td>1.000000</td>\n",
       "      <td>0.111111</td>\n",
       "      <td>0.179018</td>\n",
       "      <td>0.107143</td>\n",
       "      <td>1.000000</td>\n",
       "      <td>0.000000</td>\n",
       "      <td>1.000000</td>\n",
       "      <td>-0.250859</td>\n",
       "    </tr>\n",
       "    <tr>\n",
       "      <th>max</th>\n",
       "      <td>2.000000</td>\n",
       "      <td>3.027778</td>\n",
       "      <td>5.033516</td>\n",
       "      <td>3.714286</td>\n",
       "      <td>1.000000</td>\n",
       "      <td>1.000000</td>\n",
       "      <td>1.000000</td>\n",
       "      <td>1.207011</td>\n",
       "    </tr>\n",
       "  </tbody>\n",
       "</table>\n",
       "</div>"
      ],
      "text/plain": [
       "           cluster   feature_ 0   feature_ 1   feature_ 2   feature_ 3  \\\n",
       "count  1638.000000  1638.000000  1638.000000  1638.000000  1638.000000   \n",
       "mean      0.278388    -0.102838     0.105069     0.021381     0.360806   \n",
       "std       0.456444     0.455591     0.328320     0.297436     0.480381   \n",
       "min       0.000000    -2.799735    -0.485507    -1.733494     0.000000   \n",
       "25%       0.000000    -0.269485    -0.042585    -0.073100     0.000000   \n",
       "50%       0.000000    -0.014956     0.000250     0.010061     0.000000   \n",
       "75%       1.000000     0.111111     0.179018     0.107143     1.000000   \n",
       "max       2.000000     3.027778     5.033516     3.714286     1.000000   \n",
       "\n",
       "        feature_ 4   feature_ 5  ALSFRS_slope  \n",
       "count  1638.000000  1638.000000   1638.000000  \n",
       "mean      0.007937     0.695360     -0.727138  \n",
       "std       0.088760     0.460395      0.630951  \n",
       "min       0.000000     0.000000     -4.055556  \n",
       "25%       0.000000     0.000000     -1.086310  \n",
       "50%       0.000000     1.000000     -0.620748  \n",
       "75%       0.000000     1.000000     -0.250859  \n",
       "max       1.000000     1.000000      1.207011  "
      ]
     },
     "execution_count": 12,
     "metadata": {},
     "output_type": "execute_result"
    }
   ],
   "source": [
    "X = pd.read_csv('../train_selected_features.csv', sep = '|', index_col='SubjectID')\n",
    "X = X.drop('features_list', 1)\n",
    "slope = pd.read_csv('../train_slope.csv', sep = '|', index_col='SubjectID')\n",
    "Y = pd.merge(X, slope, left_index = True, right_index = True)\n",
    "\n",
    "Y.describe()"
   ]
  },
  {
   "cell_type": "code",
   "execution_count": 15,
   "metadata": {
    "collapsed": false
   },
   "outputs": [
    {
     "name": "stdout",
     "output_type": "stream",
     "text": [
      "0 (1188, 8)\n",
      "('Coefficients: \\n', array([ 0.        , -0.10106745, -0.01422598, -0.05004244, -0.02166618,\n",
      "        0.05929794, -0.06837234]))\n",
      "Mean square error: 0.41\n",
      "Explained variance score: 0.00\n",
      "1 (444, 8)\n",
      "('Coefficients: \\n', array([  0.00000000e+00,   2.39464697e-02,   6.10497200e+02,\n",
      "         1.33371058e-01,   4.49358127e-02,  -5.62948587e-01,\n",
      "        -9.45728028e-02]))\n",
      "Mean square error: 0.36\n",
      "Explained variance score: 0.02\n",
      "2 (6, 8)\n",
      "('Coefficients: \\n', array([  4.34552786e-11,   7.41210184e+02,   1.15438563e+01,\n",
      "         9.37355322e-01,   6.13154719e-01,  -1.60010563e-01,\n",
      "         1.60010563e-01]))\n",
      "Mean square error: 0.00\n",
      "Explained variance score: 1.00\n",
      "[-1.08630952 -1.00274725 -0.91067864 -0.09907709 -0.73293173 -0.89133089]\n",
      "{0: LinearRegression(copy_X=True, fit_intercept=True, n_jobs=1, normalize=False), 1: LinearRegression(copy_X=True, fit_intercept=True, n_jobs=1, normalize=False), 2: LinearRegression(copy_X=True, fit_intercept=True, n_jobs=1, normalize=False)}\n"
     ]
    }
   ],
   "source": [
    "model_per_cluster = {}\n",
    "for c in Y['cluster'].unique():\n",
    "    seg_X, seg_Y = X[X['cluster'] == c], Y[Y['cluster'] == c]\n",
    "    print c, seg_Y.shape\n",
    "    # Create linear regression object\n",
    "    regr = linear_model.LinearRegression()\n",
    "    # Train the model using the training sets\n",
    "    regr.fit(seg_X, seg_Y['ALSFRS_slope'])\n",
    "\n",
    "    # The coefficients\n",
    "    print('Coefficients: \\n', regr.coef_)\n",
    "    # The mean square error\n",
    "    print \"Mean square error: %.2f\" % np.mean((regr.predict(seg_X) - seg_Y['ALSFRS_slope']) ** 2)\n",
    "    # Explained variance score: 1 is perfect prediction\n",
    "    print('Explained variance score: %.2f' % regr.score(seg_X, seg_Y['ALSFRS_slope']))\n",
    "\n",
    "    model_per_cluster[c] = regr\n",
    "\n",
    "print regr.predict(seg_X)[:6]\n",
    "print model_per_cluster"
   ]
  },
  {
   "cell_type": "code",
   "execution_count": 37,
   "metadata": {
    "collapsed": false
   },
   "outputs": [],
   "source": [
    "def calc(x):\n",
    "    model = model_per_cluster[x['cluster']]\n",
    "    pred = float(model.predict(x.drop('features_list')))\n",
    "    return pred\n",
    "\n",
    "for t in ['train', 'test']:\n",
    "    X = pd.read_csv('../' + t + '_selected_features.csv', sep = '|', index_col='SubjectID')\n",
    "    X.loc[:, 'prediction'] = X.apply(calc, axis = 1)\n",
    "    X.to_csv('../' + t + '_prediction.csv',sep='|', columns=['prediction', 'cluster', 'features_list'])\n"
   ]
  },
  {
   "cell_type": "code",
   "execution_count": null,
   "metadata": {
    "collapsed": true
   },
   "outputs": [],
   "source": []
  }
 ],
 "metadata": {
  "kernelspec": {
   "display_name": "Python 2",
   "language": "python",
   "name": "python2"
  },
  "language_info": {
   "codemirror_mode": {
    "name": "ipython",
    "version": 2
   },
   "file_extension": ".py",
   "mimetype": "text/x-python",
   "name": "python",
   "nbconvert_exporter": "python",
   "pygments_lexer": "ipython2",
   "version": "2.7.10"
  }
 },
 "nbformat": 4,
 "nbformat_minor": 0
}
